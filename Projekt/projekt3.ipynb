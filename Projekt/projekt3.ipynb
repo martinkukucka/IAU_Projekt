{
 "cells": [
  {
   "cell_type": "markdown",
   "metadata": {},
   "source": [
    "# Projekt IAU  \n",
    "## 3. časť - Strojové učenie\n",
    "### Vypracovali: Martin Kukučka, Martin Jankuliak\n",
    "### Číslo datasetu: 80\n",
    "### Podiel práce: 50/50"
   ]
  },
  {
   "cell_type": "code",
   "execution_count": 3,
   "metadata": {},
   "outputs": [],
   "source": [
    "import pandas as pd\n",
    "import numpy as np\n",
    "import matplotlib.pyplot as plt\n",
    "import seaborn as sns\n",
    "import scipy.stats as stats\n",
    "import statsmodels.api as sm\n",
    "import glob\n",
    "import re\n",
    "import datetime\n",
    "from datetime import datetime\n",
    "from numpy.random import seed \n",
    "from numpy.random import randn \n",
    "from numpy import mean\n",
    "from numpy import std\n",
    "from sklearn.impute import SimpleImputer\n",
    "from sklearn.pipeline import Pipeline\n",
    "from numpy import exp\n",
    "from sklearn.preprocessing import PowerTransformer\n",
    "from matplotlib import pyplot\n",
    "\n",
    "from numpy import isnan\n",
    "from pandas import read_csv\n",
    "from sklearn.impute import KNNImputer\n",
    "\n",
    "import category_encoders as ce\n",
    "\n",
    "from numpy import percentile\n",
    "\n",
    "import scipy as sc\n",
    "from pandas import read_csv\n",
    "\n",
    "\n",
    "from sklearn.preprocessing import PowerTransformer\n",
    "\n",
    "\n",
    "\n",
    "\n",
    "\n",
    "\n",
    "from sklearn.metrics import classification_report, confusion_matrix\n",
    "\n",
    "\n",
    "\n",
    "\n",
    "\n",
    "\n",
    "\n",
    "\n",
    "\n",
    "\n",
    "\n",
    "\n",
    "\n",
    "\n",
    "\n",
    "%matplotlib inline\n",
    "import pandas as pd\n",
    "import numpy as np\n",
    "from sklearn.neighbors import KNeighborsClassifier\n",
    "import matplotlib.pyplot as plt\n",
    "from sklearn import metrics\n",
    "import seaborn as sns\n",
    "from sklearn.model_selection import RandomizedSearchCV, GridSearchCV\n",
    "from scipy import stats\n",
    "from sklearn.model_selection import StratifiedKFold\n",
    "import scipy.stats as stats\n",
    "from sklearn.model_selection import RandomizedSearchCV\n",
    "import datetime\n",
    "from sklearn.model_selection import ParameterGrid\n",
    "from sklearn.model_selection import GridSearchCV\n",
    "from datetime import datetime,date\n",
    "from datetime import timedelta\n",
    "from dateutil.relativedelta import relativedelta\n",
    "import json\n",
    "import re\n",
    "from sklearn.feature_selection import SelectKBest\n",
    "from sklearn.feature_selection import chi2\n",
    "import dateutil.parser as parser\n",
    "import statsmodels.api as sm\n",
    "import sqlite3\n",
    "from sklearn.model_selection import cross_val_score\n",
    "from sklearn.metrics import accuracy_score\n",
    "import sklearn\n",
    "from sklearn.feature_selection import SelectFromModel\n",
    "from scipy.stats import uniform, randint\n",
    "from sklearn.model_selection import train_test_split\n",
    "import category_encoders as ce\n",
    "from sklearn import preprocessing\n",
    "from sklearn.pipeline import Pipeline\n",
    "from sklearn.pipeline import make_pipeline\n",
    "from sklearn.base import TransformerMixin,BaseEstimator\n",
    "\n",
    "from sklearn.metrics import classification_report, confusion_matrix\n",
    "from sklearn import tree\n",
    "from sklearn.tree import DecisionTreeClassifier\n",
    "from sklearn.ensemble import RandomForestClassifier\n",
    "from sklearn.datasets import make_classification\n",
    "\n",
    "from sklearn.model_selection import cross_val_score, GridSearchCV, KFold, RandomizedSearchCV, train_test_split\n",
    "\n",
    "from sklearn.metrics import f1_score\n",
    "from sklearn.metrics import fbeta_score\n",
    "\n",
    "import matplotlib.pyplot as plt\n",
    "from sklearn.metrics import ConfusionMatrixDisplay\n",
    "from sklearn.metrics import confusion_matrix\n",
    "from sklearn.datasets import load_iris"
   ]
  },
  {
   "cell_type": "markdown",
   "metadata": {},
   "source": [
    "Funkcia, ktorá nahradí chýbajúce hodnoty v stĺpci column modusom (najviac vyskytovaný element). Funkcia využíva SimpleImputer."
   ]
  },
  {
   "cell_type": "code",
   "execution_count": 4,
   "metadata": {},
   "outputs": [],
   "source": [
    "def get_mode(data_frame, column):\n",
    "    data = data_frame[column].values.reshape(-1, 1)\n",
    "    imp = SimpleImputer(missing_values=np.nan, strategy=\"most_frequent\")\n",
    "    data_frame[column] = imp.fit_transform(data)\n",
    "    return data_frame"
   ]
  },
  {
   "cell_type": "markdown",
   "metadata": {},
   "source": [
    "Funkcia, ktorá nahradí chýbajúce hodnoty v stĺpci column mediánom."
   ]
  },
  {
   "cell_type": "code",
   "execution_count": 5,
   "metadata": {},
   "outputs": [],
   "source": [
    "def get_median(data_frame, column):\n",
    "    median = data_frame[column].median()\n",
    "    data_frame[column].fillna(median, inplace = True)\n",
    "    return data_frame"
   ]
  },
  {
   "cell_type": "markdown",
   "metadata": {},
   "source": [
    "Funkcia, ktorá nahradí chýbajúce hodnoty v stĺpci column priemerom."
   ]
  },
  {
   "cell_type": "code",
   "execution_count": 6,
   "metadata": {},
   "outputs": [],
   "source": [
    "def get_mean(data_frame, column):\n",
    "    mean = data_frame[column].mean()\n",
    "    data_frame[column].fillna(mean, inplace = True)\n",
    "    return data_frame"
   ]
  },
  {
   "cell_type": "markdown",
   "metadata": {},
   "source": [
    "Naplnenie chýbajúcich hodnôt v stĺpci / stĺpcoch modusom."
   ]
  },
  {
   "cell_type": "code",
   "execution_count": 7,
   "metadata": {},
   "outputs": [],
   "source": [
    " def fill_mode(data_frame, columns):\n",
    "    for col in columns:\n",
    "        data_frame = get_mode(data_frame, col)\n",
    "    \n",
    "    return data_frame"
   ]
  },
  {
   "cell_type": "markdown",
   "metadata": {},
   "source": [
    "Naplnenie chýbajúcich hodnôt v stĺpci / stĺpcoch mediánom."
   ]
  },
  {
   "cell_type": "code",
   "execution_count": 8,
   "metadata": {},
   "outputs": [],
   "source": [
    " def fill_median(data_frame, columns):\n",
    "    for col in columns:\n",
    "        data_frame = get_median(data_frame, col)\n",
    "        \n",
    "    return data_frame"
   ]
  },
  {
   "cell_type": "markdown",
   "metadata": {},
   "source": [
    "Naplnenie chýbajúcich hodnôt v stĺpci / stĺpcoch priemerom."
   ]
  },
  {
   "cell_type": "code",
   "execution_count": 9,
   "metadata": {},
   "outputs": [],
   "source": [
    " def fill_mean(data_frame, columns):\n",
    "    for col in columns:\n",
    "        data_frame = get_mean(data_frame, col)\n",
    "        \n",
    "    return data_frame"
   ]
  },
  {
   "cell_type": "markdown",
   "metadata": {},
   "source": [
    "Pomocou tejto funkcie prevádzame adresu na numerickú hodnotu tak, že z danej adresy zistíme ZIP code / PSČ a uložíme ho do pôvodného záznamu"
   ]
  },
  {
   "cell_type": "code",
   "execution_count": 10,
   "metadata": {},
   "outputs": [],
   "source": [
    "def get_zip(data_frame, column):\n",
    "    for i in range(len(data_frame[column])):\n",
    "        zipcode = str(data_frame[column][i])\n",
    "        data_frame.loc[i, column] = zipcode[len(zipcode) - 5:len(zipcode)]\n",
    "    data_frame[column] = data_frame[column].astype('int')\n",
    "    return data_frame"
   ]
  },
  {
   "cell_type": "markdown",
   "metadata": {},
   "source": [
    "Funkcia ráta vek respondentov v záznamoch. Našou analýzou sme zistili, že záznamy sú robené v rokoch 2018 a 2019. Z každého záznamu vezmeme atribút age a ak je hodnota tohto atribútu záporná alebo trojciferná (uvažujeme ako outliery), tak pomocou atribútu date-of-birth vypočítame nový vek. Ak nový vek zostane naďalej záporný alebo trojciferný, tak jednoducho tieto záznamy vymažeme. "
   ]
  },
  {
   "cell_type": "code",
   "execution_count": 11,
   "metadata": {},
   "outputs": [],
   "source": [
    "def calculate_age(data_frame, date_of_birth, age):\n",
    "    for i in range(len(data_frame[date_of_birth])):\n",
    "        curr_age = int(data_frame[age][i])\n",
    "        \n",
    "        if curr_age < 0 or curr_age > 99:\n",
    "            year = data_frame[date_of_birth][i]\n",
    "            year = year[:4]            \n",
    "            new_age = 2019 - int(year)\n",
    "            \n",
    "            if new_age < 0 or new_age > 99:\n",
    "                data_frame = data_frame.drop(i)\n",
    "            else:\n",
    "                data_frame.loc[i, age] = str(new_age)\n",
    "                \n",
    "    data_frame = data_frame.reset_index()\n",
    "    data_frame = data_frame.drop('index', 1)        \n",
    "    return data_frame"
   ]
  },
  {
   "cell_type": "markdown",
   "metadata": {},
   "source": [
    "Funkcia, ktorá zjednotí duplikáty."
   ]
  },
  {
   "cell_type": "code",
   "execution_count": 12,
   "metadata": {},
   "outputs": [],
   "source": [
    "def unify_rows(data_frame):\n",
    "    aggregation_functions = {}\n",
    "    for col in data_frame.columns:\n",
    "        aggregation_functions[col] = \"first\" \n",
    "\n",
    "    return data_frame.groupby(data_frame['name'], as_index=False).aggregate(aggregation_functions)"
   ]
  },
  {
   "cell_type": "markdown",
   "metadata": {},
   "source": [
    "Pomocou tejto funkcie sme nahradzovali formáty hodnôt iba jednou hodnotou. Napr. hodnoty v atribúte pregnant (F, FALSE, f) sme nahradili hodnotou f."
   ]
  },
  {
   "cell_type": "code",
   "execution_count": 13,
   "metadata": {},
   "outputs": [],
   "source": [
    "def cleanse_some_values(data_frame, column, change_from, change_to):\n",
    "    for i in range(len(change_from)):\n",
    "        data_frame.loc[data_frame[column] == change_from[i], column] = change_to"
   ]
  },
  {
   "cell_type": "markdown",
   "metadata": {},
   "source": [
    "V tejto funkcií sme pre každý atribút, kde sme uznali, že by bolo vhodné, zjednotili dáta. Vyuzili sme pipeline-u."
   ]
  },
  {
   "cell_type": "code",
   "execution_count": 14,
   "metadata": {},
   "outputs": [],
   "source": [
    "def unify_values(data_frame):\n",
    "    unify_ppl = Pipeline([\n",
    "                    ('1. step',  cleanse_some_values(data_frame, 'pregnant', [\"F\", \"FALSE\"], \"f\")),\n",
    "                    ('2. step', cleanse_some_values(data_frame, 'pregnant', [\"T\", \"TRUE\"], \"t\")),\n",
    "\n",
    "                    ('3. step', cleanse_some_values(data_frame, 'marital-status', [\" Widowed\", \" Never-married\", \" Divorced\"], \"single\")),\n",
    "                    ('4. step',cleanse_some_values(data_frame, 'marital-status', [\" Married-civ-spouse\", \" Separated\", \" Married-AF-spouse\", \" Married-spouse-absent\"], \"married\")),\n",
    "\n",
    "                    ('5. step', cleanse_some_values(data_frame, 'education', [\" 1st-4th\", \" 5th-6th\", \" 7th-8th\", \" 9th\", \" 10th\", \" 11th\", \" 12th\"], \"Primary school\")),\n",
    "                    ('6. step', cleanse_some_values(data_frame, 'education', [\" Bachelors\", \" Masters\", \" Doctorate\"], \"College\")),\n",
    "                    ('7. step', cleanse_some_values(data_frame, 'education', [\" Assoc-voc\", \" HS-grad\", \" Prof-school\", \" Assoc-acdm\", \" Some-college\"], \"Highschool\")),\n",
    "                    ('8. step', cleanse_some_values(data_frame, 'education', [\" Preschool\"], \"Preschool\")),\n",
    "\n",
    "                    ('9. step', cleanse_some_values(data_frame, 'workclass', [\" Private\"], \"private\")),\n",
    "                    ('10. step', cleanse_some_values(data_frame, 'workclass', [\" Self-emp-not-inc\", \" Self-emp-inc\", \"self-emp-inc\", \"self-emp-not-inc\"], \"self-emp\")),\n",
    "                    ('11. step', cleanse_some_values(data_frame, 'workclass', [\" Never-worked\", \" Without-pay\"], \"not-working\")),\n",
    "                    ('12. step', cleanse_some_values(data_frame, 'workclass', [\" Local-gov\", \"local-gov\", \" State-gov\", \"state-gov\", \" Federal-gov\", \"federal-gov\"], \"government\")),\n",
    "                    ('13. step', cleanse_some_values(data_frame, 'workclass', [\" ?\", \"?\"], np.nan))\n",
    "                    ])\n",
    "    unify_ppl = unify_ppl.fit(data_frame)\n",
    "    data_frame = unify_ppl.transform(data_frame)\n",
    "    return data_frame"
   ]
  },
  {
   "cell_type": "markdown",
   "metadata": {},
   "source": [
    "Funkcia na zjednotenie formátu dátumov vo formáte YEAR-MONTH-DAY"
   ]
  },
  {
   "cell_type": "code",
   "execution_count": 15,
   "metadata": {},
   "outputs": [],
   "source": [
    "def change_date_format(data_frame, column):\n",
    "    for i in range(len(data_frame[column])):\n",
    "        date_format = str(data_frame[column][i])\n",
    "        date_format = date_format.replace('/', '-')\n",
    "        if date_format[2] == '-' and len(date_format) < 10:\n",
    "            temp_year = int(date_format[:2])\n",
    "            if(temp_year <= 20):\n",
    "                if(temp_year < 10):\n",
    "                    year = '200'+str(temp_year)\n",
    "                else:\n",
    "                    year = '20'+str(temp_year)\n",
    "            else:\n",
    "                year = '19'+str(temp_year)\n",
    "            data_frame.loc[i, column] = year+date_format[2:10]\n",
    "        elif date_format[2] == '-' and len(date_format) == 10:\n",
    "            day = date_format[:2]\n",
    "            month = date_format[3:5]\n",
    "            year = date_format[6:10]\n",
    "            data_frame.loc[i, column] = year+'-'+month+'-'+day\n",
    "        else:\n",
    "            data_frame.loc[i, column] = date_format[:10]\n",
    "    return data_frame"
   ]
  },
  {
   "cell_type": "markdown",
   "metadata": {},
   "source": [
    "Funkcia zmaže outliery (v našom zadaní sme sa snažili outliery radšej nahrádzať ako mazať, preto nebolo potrebné túto funkciu použiť)."
   ]
  },
  {
   "cell_type": "code",
   "execution_count": 16,
   "metadata": {},
   "outputs": [],
   "source": [
    "# def remove_outliers(data_frame, column):\n",
    "#     a = data_frame[column]\n",
    "#     lower = a.quantile(0.25) - 1.5 * stats.iqr(a)\n",
    "#     upper = a.quantile(0.75) + 1.5 * stats.iqr(a)\n",
    "    \n",
    "#     outliers = a[(a > upper) | (a < lower)]\n",
    "#     data_frame = data_frame.drop(outliers.index)\n",
    "    \n",
    "#     data_frame = data_frame.reset_index()\n",
    "#     data_frame = data_frame.drop('index', 1)\n",
    "    \n",
    "#     return data_frame"
   ]
  },
  {
   "cell_type": "markdown",
   "metadata": {},
   "source": [
    "Ďalšia funkcia na zmazanie outlierov (Interquartile Range Method)."
   ]
  },
  {
   "cell_type": "code",
   "execution_count": 17,
   "metadata": {},
   "outputs": [],
   "source": [
    "# def remove_outliers_iqr(data_frame, column):\n",
    "#     seed(1)\n",
    "#     data = data_frame[column]\n",
    "#     sns.distplot(data)\n",
    "\n",
    "#     # calculate interquartile range\n",
    "#     q25, q75 = percentile(data, 25), percentile(data, 75)\n",
    "#     iqr = q75 - q25\n",
    "#     print('Percentiles: 25th=%.3f, 75th=%.3f, IQR=%.3f' % (q25, q75, iqr)) \n",
    "\n",
    "#     # calculate the outlier cutoff\n",
    "#     cut_off = iqr * 1.5\n",
    "#     lower, upper = q25 - cut_off, q75 + cut_off\n",
    "#     print('cutoff=', cut_off, 'lower=', lower, 'upper=', upper)\n",
    "\n",
    "#     # identify outliers\n",
    "#     outliers = data[(data > upper) | (data < lower)]\n",
    "#     print('Identified outliers: %d' % len(outliers))\n",
    "\n",
    "#     # remove outliers\n",
    "#     outliers_removed = [x for x in data if x >= lower and x <= upper] \n",
    "#     print('Non-outlier observations: %d' % len(outliers_removed))\n",
    "\n",
    "#     sns.distplot(outliers_removed)\n",
    "    \n",
    "#     data_frame = data_frame.drop(outliers.index)\n",
    "    \n",
    "#     data_frame = data_frame.reset_index()\n",
    "#     data_frame = data_frame.drop('index', 1)\n",
    "\n",
    "#     return data_frame"
   ]
  },
  {
   "cell_type": "markdown",
   "metadata": {},
   "source": [
    "Funkcia slúži na zmenu hodnoty \"t\" atribútu pregnant na \"f\" pre mužov (\" Male\" z atribútu sex)."
   ]
  },
  {
   "cell_type": "code",
   "execution_count": 18,
   "metadata": {},
   "outputs": [],
   "source": [
    "def man_not_pregnant(data_frame, sex, pregnant):\n",
    "    for i in range(len(data_frame[sex])):\n",
    "        if(data_frame[sex][i] == \" Male\") and data_frame[pregnant][i] != \"f\":\n",
    "            data_frame.loc[i, pregnant] = \"f\"\n",
    "    return data_frame"
   ]
  },
  {
   "cell_type": "markdown",
   "metadata": {},
   "source": [
    "Funkcia transformácie numerických dát, aby boli dáta lepšie distribuované. Zvolili sme metódu yeo-johnson, pretože pracuje nielen s pozitívnymi ale aj s negatívnymi hodnotami."
   ]
  },
  {
   "cell_type": "code",
   "execution_count": 19,
   "metadata": {},
   "outputs": [],
   "source": [
    "def transform_data(data_frame, columns):\n",
    "    for col in columns:\n",
    "        data = data_frame[col].values.reshape(-1, 1)\n",
    "        power = PowerTransformer(method='yeo-johnson', standardize=True) \n",
    "        data_frame[col] = power.fit_transform(data)\n",
    "        \n",
    "    return data_frame"
   ]
  },
  {
   "cell_type": "markdown",
   "metadata": {},
   "source": [
    "Funkcia mení kategorické dáta na numerické. Typ udáva akou formou prebieha kódovanie."
   ]
  },
  {
   "cell_type": "code",
   "execution_count": 20,
   "metadata": {},
   "outputs": [],
   "source": [
    "def encoding(data_frame, column, typ):\n",
    "    data = data_frame[column]\n",
    "\n",
    "    if typ == 0:\n",
    "        ce_ordinal = ce.OneHotEncoder(cols=[column])\n",
    "        data_frame[column] = ce_ordinal.fit_transform(data)\n",
    "        \n",
    "    elif typ == 1:\n",
    "        ce_ordinal = ce.OrdinalEncoder(cols=[column])\n",
    "        data_frame[column] = ce_ordinal.fit_transform(data)\n",
    "    \n",
    "    return data_frame"
   ]
  },
  {
   "cell_type": "markdown",
   "metadata": {},
   "source": [
    "Funkcia mení kategorické dáta atribútu pregnant na numerické 0 - not pregnant, 1 - pregnant"
   ]
  },
  {
   "cell_type": "code",
   "execution_count": 21,
   "metadata": {},
   "outputs": [],
   "source": [
    "def encode_pregnant(data_frame):\n",
    "    cleanse_some_values(data_frame, 'pregnant', [\"f\"], 0)\n",
    "    cleanse_some_values(data_frame, 'pregnant', [\"t\"], 1)\n",
    "    data_frame['pregnant'] = data_frame['pregnant'].astype('int')\n",
    "    return data_frame"
   ]
  },
  {
   "cell_type": "markdown",
   "metadata": {},
   "source": [
    "Zakódovanie atribútov obsahujúcich kategorické hodnoty. "
   ]
  },
  {
   "cell_type": "code",
   "execution_count": 22,
   "metadata": {},
   "outputs": [],
   "source": [
    "def encode_objects(data_frame):\n",
    "    data_frame = encoding(data_frame, 'sex', 0)\n",
    "    data_frame = encoding(data_frame, 'race', 1)\n",
    "    data_frame = encoding(data_frame, 'marital-status', 1)\n",
    "    data_frame = encoding(data_frame, 'occupation', 1)\n",
    "    data_frame = encode_pregnant(data_frame)\n",
    "    data_frame = encoding(data_frame, 'relationship', 1)\n",
    "    data_frame = encoding(data_frame, 'education', 1)\n",
    "    data_frame = encoding(data_frame, 'income', 0)\n",
    "    data_frame = encoding(data_frame, 'native-country', 1)\n",
    "    data_frame = encoding(data_frame, 'workclass', 1)\n",
    "    \n",
    "    return data_frame"
   ]
  },
  {
   "cell_type": "markdown",
   "metadata": {},
   "source": [
    "Funkcia na načítanie .csv súborov, ich spojenie podľa atribútov name a address a vyhodenie nepotrebných atribútov"
   ]
  },
  {
   "cell_type": "code",
   "execution_count": 23,
   "metadata": {},
   "outputs": [],
   "source": [
    "def load_data(typ):\n",
    "    if(typ == 0):\n",
    "        df_other = read_csv(\"data/other_train.csv\")\n",
    "        df_personal = read_csv(\"data/personal_train.csv\")\n",
    "    elif(typ == 1):\n",
    "        df_other = read_csv(\"data/other_valid.csv\")\n",
    "        df_personal = read_csv(\"data/personal_valid.csv\")\n",
    "\n",
    "    data_frame1 = pd.merge(df_personal, df_other, on=['name', 'address'])\n",
    "\n",
    "    data_frame = unify_rows(data_frame1)\n",
    "\n",
    "    data_frame = data_frame.drop('Unnamed: 0_x', 1)\n",
    "    data_frame = data_frame.drop('Unnamed: 0_y', 1)\n",
    "\n",
    "    return data_frame"
   ]
  },
  {
   "cell_type": "markdown",
   "metadata": {},
   "source": [
    "Funkia detailnejšie rozďeluje atribút medical-info na ďalšie atribúty (do viacero stĺpcov), ktoré sa potom pretypujú na typ float."
   ]
  },
  {
   "cell_type": "code",
   "execution_count": 24,
   "metadata": {},
   "outputs": [],
   "source": [
    "def split_medical_info(data_frame):\n",
    "    medical_line = data_frame[\"medical_info\"].str.replace(':', ',').str.replace(\"'\", '').str.replace(\"{\", '').str.replace(\"}\", '')\n",
    "    medical_elements = medical_line.str.split(\",\", -1, expand = True)\n",
    "\n",
    "    diabetes_dataset = {}\n",
    "\n",
    "    for index in range(0, medical_elements.shape[1]):\n",
    "        i = medical_elements[0][0]\n",
    "        if(index % 2 == 0):\n",
    "            diabetes_dataset[medical_elements[index][0]] = medical_elements[index + 1]\n",
    "\n",
    "    diabetes_dataset = pd.DataFrame(diabetes_dataset)\n",
    "    data_frame = pd.concat([data_frame, diabetes_dataset.reindex(data_frame.index)], axis = 1)\n",
    "    data_frame = data_frame.drop(columns = ['medical_info'])\n",
    "    \n",
    "    data_frame['mean_glucose'] = data_frame['mean_glucose'].astype(float)\n",
    "    data_frame['std_glucose'] = data_frame['std_glucose'].astype(float)\n",
    "    data_frame['kurtosis_glucose'] = data_frame['kurtosis_glucose'].astype(float)\n",
    "    data_frame['skewness_glucose'] = data_frame['skewness_glucose'].astype(float)\n",
    "    data_frame['mean_oxygen'] = data_frame['mean_oxygen'].astype(float)\n",
    "    data_frame['std_oxygen'] = data_frame['std_oxygen'].astype(float)\n",
    "    data_frame['kurtosis_oxygen'] = data_frame['kurtosis_oxygen'].astype(float)\n",
    "    data_frame['skewness_oxygen'] = data_frame['skewness_oxygen'].astype(float)\n",
    "    \n",
    "    return data_frame"
   ]
  },
  {
   "cell_type": "markdown",
   "metadata": {},
   "source": [
    "Funkcia nahradzuje outliery hodnotami z 5% alebo 95% kvartilu. Použili sme Interquartile Range Method."
   ]
  },
  {
   "cell_type": "code",
   "execution_count": 25,
   "metadata": {},
   "outputs": [],
   "source": [
    "def replace_outliers(data_frame, columns):\n",
    "    \n",
    "    for i in range(len(columns)):\n",
    "#         sns.distplot(data_frame[columns[i]])\n",
    "\n",
    "        # calculate interquartile range\n",
    "        q5, q95 = percentile(data_frame[columns[i]], 5), percentile(data_frame[columns[i]], 95)\n",
    "        iqr = q95 - q5\n",
    "#         print('Percentiles: 5th=%.3f, 95th=%.3f, IQR=%.3f' % (q5, q95, iqr)) \n",
    "\n",
    "        # calculate the outlier cutoff\n",
    "        cut_off = iqr * 1.5\n",
    "        lower, upper = q5 - cut_off, q95 + cut_off\n",
    "#         print('cutoff=', cut_off, 'lower=', lower + cut_off, 'upper=', upper - cut_off)\n",
    "\n",
    "        # identify outliers\n",
    "        outliers = data_frame[columns[i]][(data_frame[columns[i]] > upper) | (data_frame[columns[i]] < lower)]\n",
    "#         print('Identified outliers: %d' % len(outliers))\n",
    "\n",
    "        # data without outliers\n",
    "        outliers_removed = data_frame[columns[i]][(data_frame[columns[i]] <= upper) & (data_frame[columns[i]] >= lower)]\n",
    "#         print('Non-outlier observations: %d' % len(outliers_removed))\n",
    "\n",
    "\n",
    "        for j, value in data_frame.iterrows():\n",
    "                    if value[columns[i]] < lower:\n",
    "                        data_frame.loc[j, columns[i]] = lower\n",
    "                    elif value[columns[i]] > upper:\n",
    "                        data_frame.loc[j, columns[i]] = upper\n",
    "\n",
    "#         sns.distplot(data_frame[columns[i]])\n",
    "    \n",
    "    return data_frame"
   ]
  },
  {
   "cell_type": "markdown",
   "metadata": {},
   "source": [
    "Kedže niektoré dáta nemôžu byť záporné (jedná sa o štandardnú odchýlku), tak záporné hodnoty tohto atribútu zmeníme na kladné."
   ]
  },
  {
   "cell_type": "code",
   "execution_count": 26,
   "metadata": {},
   "outputs": [],
   "source": [
    "def change_to_positive(data_frame, col):\n",
    "    for i in range(len(data_frame[col])):\n",
    "        data = data_frame[col][i]\n",
    "        if data < 0:\n",
    "            data_frame.loc[i, col] = abs(data)\n",
    "    return data_frame"
   ]
  },
  {
   "cell_type": "markdown",
   "metadata": {},
   "source": [
    "Využitie kNN imputácie na doplnenie chýbajúcich hodnôt."
   ]
  },
  {
   "cell_type": "code",
   "execution_count": 27,
   "metadata": {},
   "outputs": [],
   "source": [
    "def knn(data_frame, columns):\n",
    "    # summarize total missing\n",
    "    print(\"Missing: \" + str(data_frame.isnull().sum().sum()))\n",
    "\n",
    "#     temp = [col for col in data_frame.columns if data_frame[col].dtypes != 'O']\n",
    "\n",
    "    temp = columns\n",
    "\n",
    "    # define imputer\n",
    "    imputer = KNNImputer()\n",
    "\n",
    "    # fit on the dataset\n",
    "    imputer.fit(data_frame[temp])\n",
    "\n",
    "    # transform the dataset\n",
    "    data_frame[temp] = imputer.transform(data_frame[temp])\n",
    "    Xtrans = imputer.transform(data_frame[temp])\n",
    "\n",
    "    # summarize total missing\n",
    "    print(\"Missing: \" + str(sum(isnan(Xtrans).flatten())))\n",
    "    \n",
    "    return data_frame"
   ]
  },
  {
   "cell_type": "markdown",
   "metadata": {},
   "source": [
    "Execute funkcia je hlavná funkcia, ktorá spúšťa všetky ostatné."
   ]
  },
  {
   "cell_type": "code",
   "execution_count": 28,
   "metadata": {},
   "outputs": [],
   "source": [
    "def execute():\n",
    "    for i in range(2):\n",
    "        df_merged = load_data(i)\n",
    "        df_merged = split_medical_info(df_merged)\n",
    "        df_merged = unify_values(df_merged)\n",
    "        df_merged = change_date_format(df_merged,'date_of_birth')\n",
    "        df_merged = change_to_positive(df_merged, 'std_glucose')\n",
    "\n",
    "        df_merged = knn(df_merged, ['mean_glucose', 'std_glucose', 'kurtosis_glucose', 'skewness_glucose', \n",
    "                                'mean_oxygen', 'std_oxygen', 'kurtosis_oxygen', 'skewness_oxygen'])\n",
    "        df_merged = fill_median(df_merged, ['education-num', 'fnlwgt', 'hours-per-week'])\n",
    "        df_merged = fill_mode(df_merged, ['class', 'race', 'marital-status', 'occupation', 'pregnant', 'relationship', \n",
    "                                      'education', 'income', 'native-country', 'workclass'])\n",
    "        df_merged = fill_mean(df_merged, ['capital-gain', 'capital-loss'])\n",
    "        df_merged = man_not_pregnant(df_merged, 'sex', 'pregnant')\n",
    "        df_merged = get_zip(df_merged,'address')\n",
    "        df_merged = df_merged.drop('name', 1)\n",
    "        df_merged = calculate_age(df_merged, 'date_of_birth', 'age')\n",
    "        df_merged = df_merged.drop('date_of_birth', 1)\n",
    "        df_merged = encode_objects(df_merged)\n",
    "        df_merged = replace_outliers(df_merged, ['capital-gain', 'capital-loss', 'skewness_oxygen'])\n",
    "    # # V analýze sme zistili, že v atribúte capital-loss sa všetky outliere nahradili rovnakou hodnotou, preto tento atribút \n",
    "    # # nemá žiadnu výpovednú hodnotu a je vhodné ho zmazať (zakomentovať, ak atribút mazať nechceme).\n",
    "        df_merged = df_merged.drop('capital-loss', 1)\n",
    "        df_merged = transform_data(df_merged, ['mean_glucose', 'std_glucose', 'kurtosis_glucose', 'skewness_glucose', \n",
    "                                'mean_oxygen', 'std_oxygen', 'kurtosis_oxygen', 'skewness_oxygen'])\n",
    "    # # Uloženie upravenej dátovej sady do .csv súboru\n",
    "        if i == 0:\n",
    "            df_merged.to_csv(r'data\\train.csv')\n",
    "        elif i == 1:\n",
    "            df_merged.to_csv(r'data\\valid.csv')"
   ]
  },
  {
   "cell_type": "markdown",
   "metadata": {},
   "source": [
    "Spustenie"
   ]
  },
  {
   "cell_type": "code",
   "execution_count": 29,
   "metadata": {
    "scrolled": true
   },
   "outputs": [
    {
     "name": "stdout",
     "output_type": "stream",
     "text": [
      "Missing: 895\n",
      "Missing: 0\n"
     ]
    },
    {
     "name": "stderr",
     "output_type": "stream",
     "text": [
      "c:\\python38\\lib\\site-packages\\category_encoders\\utils.py:21: FutureWarning: is_categorical is deprecated and will be removed in a future version.  Use is_categorical_dtype instead\n",
      "  elif pd.api.types.is_categorical(cols):\n",
      "c:\\python38\\lib\\site-packages\\category_encoders\\utils.py:21: FutureWarning: is_categorical is deprecated and will be removed in a future version.  Use is_categorical_dtype instead\n",
      "  elif pd.api.types.is_categorical(cols):\n",
      "c:\\python38\\lib\\site-packages\\category_encoders\\utils.py:21: FutureWarning: is_categorical is deprecated and will be removed in a future version.  Use is_categorical_dtype instead\n",
      "  elif pd.api.types.is_categorical(cols):\n"
     ]
    },
    {
     "name": "stdout",
     "output_type": "stream",
     "text": [
      "Missing: 305\n",
      "Missing: 0\n"
     ]
    },
    {
     "name": "stderr",
     "output_type": "stream",
     "text": [
      "c:\\python38\\lib\\site-packages\\category_encoders\\utils.py:21: FutureWarning: is_categorical is deprecated and will be removed in a future version.  Use is_categorical_dtype instead\n",
      "  elif pd.api.types.is_categorical(cols):\n",
      "c:\\python38\\lib\\site-packages\\category_encoders\\utils.py:21: FutureWarning: is_categorical is deprecated and will be removed in a future version.  Use is_categorical_dtype instead\n",
      "  elif pd.api.types.is_categorical(cols):\n",
      "c:\\python38\\lib\\site-packages\\category_encoders\\utils.py:21: FutureWarning: is_categorical is deprecated and will be removed in a future version.  Use is_categorical_dtype instead\n",
      "  elif pd.api.types.is_categorical(cols):\n"
     ]
    }
   ],
   "source": [
    "execute()"
   ]
  },
  {
   "cell_type": "markdown",
   "metadata": {},
   "source": [
    "Potrebovali sme upraviť kód tak, aby sme pre trénovací aj validačný dataset vykonali rovnaké operácie. Pôvodná funkcia execute() sa vykonávala iba raz a do jedného .csv súboru sa uložil trénovací aj validačný dataset. Teraz sme túto funkciu upravili spoločne s funkciou load_data(), do ktorej sme pridali parameter, ktorý udáva, o ktorý dataset sa jedná. Funkcia execute sa teraz vykonáva dvakrát. Najprv sa spracuje trénovací dataset, uloží sa a rovnaký proces sa vykoná aj pre validačný dataset."
   ]
  },
  {
   "cell_type": "markdown",
   "metadata": {},
   "source": [
    "Načítanie predspracovaných dát."
   ]
  },
  {
   "cell_type": "code",
   "execution_count": 30,
   "metadata": {},
   "outputs": [],
   "source": [
    "df_train = read_csv(\"data/train.csv\")\n",
    "df_valid = read_csv(\"data/valid.csv\")"
   ]
  },
  {
   "cell_type": "code",
   "execution_count": 31,
   "metadata": {},
   "outputs": [
    {
     "name": "stdout",
     "output_type": "stream",
     "text": [
      "<class 'pandas.core.frame.DataFrame'>\n",
      "RangeIndex: 3931 entries, 0 to 3930\n",
      "Data columns (total 26 columns):\n",
      " #   Column            Non-Null Count  Dtype  \n",
      "---  ------            --------------  -----  \n",
      " 0   Unnamed: 0        3931 non-null   int64  \n",
      " 1   address           3931 non-null   int64  \n",
      " 2   age               3931 non-null   int64  \n",
      " 3   sex               3931 non-null   int64  \n",
      " 4   race              3931 non-null   int64  \n",
      " 5   marital-status    3931 non-null   int64  \n",
      " 6   occupation        3931 non-null   int64  \n",
      " 7   pregnant          3931 non-null   int64  \n",
      " 8   education-num     3931 non-null   float64\n",
      " 9   relationship      3931 non-null   int64  \n",
      " 10  capital-gain      3931 non-null   float64\n",
      " 11  education         3931 non-null   int64  \n",
      " 12  fnlwgt            3931 non-null   float64\n",
      " 13  class             3931 non-null   float64\n",
      " 14  income            3931 non-null   int64  \n",
      " 15  native-country    3931 non-null   int64  \n",
      " 16  hours-per-week    3931 non-null   float64\n",
      " 17  workclass         3931 non-null   int64  \n",
      " 18  mean_glucose      3931 non-null   float64\n",
      " 19  std_glucose       3931 non-null   float64\n",
      " 20  kurtosis_glucose  3931 non-null   float64\n",
      " 21  skewness_glucose  3931 non-null   float64\n",
      " 22  mean_oxygen       3931 non-null   float64\n",
      " 23  std_oxygen        3931 non-null   float64\n",
      " 24  kurtosis_oxygen   3931 non-null   float64\n",
      " 25  skewness_oxygen   3931 non-null   float64\n",
      "dtypes: float64(13), int64(13)\n",
      "memory usage: 798.6 KB\n"
     ]
    }
   ],
   "source": [
    "df_train.info()"
   ]
  },
  {
   "cell_type": "code",
   "execution_count": 32,
   "metadata": {},
   "outputs": [
    {
     "name": "stdout",
     "output_type": "stream",
     "text": [
      "<class 'pandas.core.frame.DataFrame'>\n",
      "RangeIndex: 1311 entries, 0 to 1310\n",
      "Data columns (total 26 columns):\n",
      " #   Column            Non-Null Count  Dtype  \n",
      "---  ------            --------------  -----  \n",
      " 0   Unnamed: 0        1311 non-null   int64  \n",
      " 1   address           1311 non-null   int64  \n",
      " 2   age               1311 non-null   int64  \n",
      " 3   sex               1311 non-null   int64  \n",
      " 4   race              1311 non-null   int64  \n",
      " 5   marital-status    1311 non-null   int64  \n",
      " 6   occupation        1311 non-null   int64  \n",
      " 7   pregnant          1311 non-null   int64  \n",
      " 8   education-num     1311 non-null   float64\n",
      " 9   relationship      1311 non-null   int64  \n",
      " 10  capital-gain      1311 non-null   float64\n",
      " 11  education         1311 non-null   int64  \n",
      " 12  fnlwgt            1311 non-null   float64\n",
      " 13  class             1311 non-null   float64\n",
      " 14  income            1311 non-null   int64  \n",
      " 15  native-country    1311 non-null   int64  \n",
      " 16  hours-per-week    1311 non-null   float64\n",
      " 17  workclass         1311 non-null   int64  \n",
      " 18  mean_glucose      1311 non-null   float64\n",
      " 19  std_glucose       1311 non-null   float64\n",
      " 20  kurtosis_glucose  1311 non-null   float64\n",
      " 21  skewness_glucose  1311 non-null   float64\n",
      " 22  mean_oxygen       1311 non-null   float64\n",
      " 23  std_oxygen        1311 non-null   float64\n",
      " 24  kurtosis_oxygen   1311 non-null   float64\n",
      " 25  skewness_oxygen   1311 non-null   float64\n",
      "dtypes: float64(13), int64(13)\n",
      "memory usage: 266.4 KB\n"
     ]
    }
   ],
   "source": [
    "df_valid.info()"
   ]
  },
  {
   "cell_type": "code",
   "execution_count": 33,
   "metadata": {},
   "outputs": [],
   "source": [
    "def split_df(data_frame, column):\n",
    "    X = data_frame.drop(columns=[column])\n",
    "    y = data_frame[column]\n",
    "    return X,y"
   ]
  },
  {
   "cell_type": "code",
   "execution_count": 34,
   "metadata": {},
   "outputs": [],
   "source": [
    "X_train,y_train = split_df(df_train, \"class\")"
   ]
  },
  {
   "cell_type": "code",
   "execution_count": 35,
   "metadata": {},
   "outputs": [],
   "source": [
    "X_test,y_test = split_df(df_valid, \"class\")"
   ]
  },
  {
   "cell_type": "code",
   "execution_count": 36,
   "metadata": {},
   "outputs": [
    {
     "name": "stdout",
     "output_type": "stream",
     "text": [
      "<class 'pandas.core.frame.DataFrame'>\n",
      "RangeIndex: 3931 entries, 0 to 3930\n",
      "Data columns (total 25 columns):\n",
      " #   Column            Non-Null Count  Dtype  \n",
      "---  ------            --------------  -----  \n",
      " 0   Unnamed: 0        3931 non-null   int64  \n",
      " 1   address           3931 non-null   int64  \n",
      " 2   age               3931 non-null   int64  \n",
      " 3   sex               3931 non-null   int64  \n",
      " 4   race              3931 non-null   int64  \n",
      " 5   marital-status    3931 non-null   int64  \n",
      " 6   occupation        3931 non-null   int64  \n",
      " 7   pregnant          3931 non-null   int64  \n",
      " 8   education-num     3931 non-null   float64\n",
      " 9   relationship      3931 non-null   int64  \n",
      " 10  capital-gain      3931 non-null   float64\n",
      " 11  education         3931 non-null   int64  \n",
      " 12  fnlwgt            3931 non-null   float64\n",
      " 13  income            3931 non-null   int64  \n",
      " 14  native-country    3931 non-null   int64  \n",
      " 15  hours-per-week    3931 non-null   float64\n",
      " 16  workclass         3931 non-null   int64  \n",
      " 17  mean_glucose      3931 non-null   float64\n",
      " 18  std_glucose       3931 non-null   float64\n",
      " 19  kurtosis_glucose  3931 non-null   float64\n",
      " 20  skewness_glucose  3931 non-null   float64\n",
      " 21  mean_oxygen       3931 non-null   float64\n",
      " 22  std_oxygen        3931 non-null   float64\n",
      " 23  kurtosis_oxygen   3931 non-null   float64\n",
      " 24  skewness_oxygen   3931 non-null   float64\n",
      "dtypes: float64(12), int64(13)\n",
      "memory usage: 767.9 KB\n"
     ]
    }
   ],
   "source": [
    "X_train.info()"
   ]
  },
  {
   "cell_type": "markdown",
   "metadata": {},
   "source": [
    "# 2"
   ]
  },
  {
   "cell_type": "code",
   "execution_count": 37,
   "metadata": {},
   "outputs": [],
   "source": [
    "target_names = ['0 - negatívny', '1 - pozitívny']"
   ]
  },
  {
   "cell_type": "markdown",
   "metadata": {},
   "source": [
    "#### mean_glucose"
   ]
  },
  {
   "cell_type": "code",
   "execution_count": 38,
   "metadata": {},
   "outputs": [
    {
     "data": {
      "text/plain": [
       "<AxesSubplot:xlabel='class', ylabel='mean_glucose'>"
      ]
     },
     "execution_count": 38,
     "metadata": {},
     "output_type": "execute_result"
    },
    {
     "data": {
      "image/png": "[encoded data removed]",
      "text/plain": [
       "<Figure size 432x288 with 1 Axes>"
      ]
     },
     "metadata": {
      "needs_background": "light"
     },
     "output_type": "display_data"
    }
   ],
   "source": [
    "sns.boxplot(x = 'class', y = 'mean_glucose', data = df_valid)"
   ]
  },
  {
   "cell_type": "code",
   "execution_count": 39,
   "metadata": {},
   "outputs": [
    {
     "name": "stdout",
     "output_type": "stream",
     "text": [
      "               precision    recall  f1-score   support\n",
      "\n",
      "0 - negatívny      0.930     0.974     0.951       965\n",
      "1 - pozitívny      0.917     0.795     0.851       346\n",
      "\n",
      "     accuracy                          0.927      1311\n",
      "    macro avg      0.923     0.884     0.901      1311\n",
      " weighted avg      0.926     0.927     0.925      1311\n",
      "\n"
     ]
    }
   ],
   "source": [
    "predictions = []\n",
    "\n",
    "for index,row in X_test.iterrows():\n",
    "    if row.mean_glucose < -0.77:\n",
    "        predictions.append(1)\n",
    "    else:\n",
    "        predictions.append(0)\n",
    "        \n",
    "print(classification_report(y_test, predictions, digits = 3, target_names=target_names))"
   ]
  },
  {
   "cell_type": "code",
   "execution_count": 40,
   "metadata": {
    "scrolled": false
   },
   "outputs": [
    {
     "data": {
      "text/plain": [
       "<sklearn.metrics._plot.confusion_matrix.ConfusionMatrixDisplay at 0x24144f0c550>"
      ]
     },
     "execution_count": 40,
     "metadata": {},
     "output_type": "execute_result"
    },
    {
     "data": {
      "image/png": "[encoded data removed]",
      "text/plain": [
       "<Figure size 432x288 with 2 Axes>"
      ]
     },
     "metadata": {
      "needs_background": "light"
     },
     "output_type": "display_data"
    }
   ],
   "source": [
    "ConfusionMatrixDisplay(confusion_matrix(y_test, predictions)).plot()"
   ]
  },
  {
   "cell_type": "markdown",
   "metadata": {},
   "source": [
    "#### skewness_glucose"
   ]
  },
  {
   "cell_type": "code",
   "execution_count": 41,
   "metadata": {},
   "outputs": [
    {
     "data": {
      "text/plain": [
       "<AxesSubplot:xlabel='class', ylabel='skewness_glucose'>"
      ]
     },
     "execution_count": 41,
     "metadata": {},
     "output_type": "execute_result"
    },
    {
     "data": {
      "image/png": "[encoded data removed]",
      "text/plain": [
       "<Figure size 432x288 with 1 Axes>"
      ]
     },
     "metadata": {
      "needs_background": "light"
     },
     "output_type": "display_data"
    }
   ],
   "source": [
    "sns.boxplot(x = 'class', y = 'skewness_glucose', data = df_valid)"
   ]
  },
  {
   "cell_type": "code",
   "execution_count": 42,
   "metadata": {},
   "outputs": [
    {
     "name": "stdout",
     "output_type": "stream",
     "text": [
      "               precision    recall  f1-score   support\n",
      "\n",
      "0 - negatívny      0.927     0.987     0.956       965\n",
      "1 - pozitívny      0.954     0.783     0.860       346\n",
      "\n",
      "     accuracy                          0.933      1311\n",
      "    macro avg      0.941     0.885     0.908      1311\n",
      " weighted avg      0.934     0.933     0.931      1311\n",
      "\n"
     ]
    }
   ],
   "source": [
    "predictions = []\n",
    "\n",
    "for index,row in X_test.iterrows():\n",
    "    if row.skewness_glucose > 0.88:\n",
    "        predictions.append(1)\n",
    "    else:\n",
    "        predictions.append(0)\n",
    "        \n",
    "print(classification_report(y_test, predictions, digits = 3, target_names=target_names))"
   ]
  },
  {
   "cell_type": "code",
   "execution_count": 43,
   "metadata": {
    "scrolled": false
   },
   "outputs": [
    {
     "data": {
      "text/plain": [
       "<sklearn.metrics._plot.confusion_matrix.ConfusionMatrixDisplay at 0x24144d740d0>"
      ]
     },
     "execution_count": 43,
     "metadata": {},
     "output_type": "execute_result"
    },
    {
     "data": {
      "image/png": "[encoded data removed]",
      "text/plain": [
       "<Figure size 432x288 with 2 Axes>"
      ]
     },
     "metadata": {
      "needs_background": "light"
     },
     "output_type": "display_data"
    }
   ],
   "source": [
    "ConfusionMatrixDisplay(confusion_matrix(y_test, predictions)).plot()"
   ]
  },
  {
   "cell_type": "markdown",
   "metadata": {},
   "source": [
    "#### kurtosis_glucose"
   ]
  },
  {
   "cell_type": "code",
   "execution_count": 44,
   "metadata": {},
   "outputs": [
    {
     "data": {
      "text/plain": [
       "<AxesSubplot:xlabel='class', ylabel='kurtosis_glucose'>"
      ]
     },
     "execution_count": 44,
     "metadata": {},
     "output_type": "execute_result"
    },
    {
     "data": {
      "image/png": "[encoded data removed]",
      "text/plain": [
       "<Figure size 432x288 with 1 Axes>"
      ]
     },
     "metadata": {
      "needs_background": "light"
     },
     "output_type": "display_data"
    }
   ],
   "source": [
    "sns.boxplot(x = 'class', y = 'kurtosis_glucose', data = df_valid)"
   ]
  },
  {
   "cell_type": "code",
   "execution_count": 45,
   "metadata": {},
   "outputs": [
    {
     "name": "stdout",
     "output_type": "stream",
     "text": [
      "               precision    recall  f1-score   support\n",
      "\n",
      "0 - negatívny      0.958     0.981     0.969       965\n",
      "1 - pozitívny      0.944     0.879     0.910       346\n",
      "\n",
      "     accuracy                          0.954      1311\n",
      "    macro avg      0.951     0.930     0.940      1311\n",
      " weighted avg      0.954     0.954     0.954      1311\n",
      "\n"
     ]
    }
   ],
   "source": [
    "predictions = []\n",
    "\n",
    "for index,row in X_test.iterrows():\n",
    "    if row.kurtosis_glucose > 0.65:\n",
    "        predictions.append(1)\n",
    "    else:\n",
    "        predictions.append(0)\n",
    "\n",
    "print(classification_report(y_test, predictions, digits = 3, target_names=target_names))"
   ]
  },
  {
   "cell_type": "code",
   "execution_count": 46,
   "metadata": {
    "scrolled": true
   },
   "outputs": [
    {
     "data": {
      "text/plain": [
       "<sklearn.metrics._plot.confusion_matrix.ConfusionMatrixDisplay at 0x24144eb6a90>"
      ]
     },
     "execution_count": 46,
     "metadata": {},
     "output_type": "execute_result"
    },
    {
     "data": {
      "image/png": "[encoded data removed]",
      "text/plain": [
       "<Figure size 432x288 with 2 Axes>"
      ]
     },
     "metadata": {
      "needs_background": "light"
     },
     "output_type": "display_data"
    }
   ],
   "source": [
    "ConfusionMatrixDisplay(confusion_matrix(y_test, predictions)).plot()"
   ]
  },
  {
   "cell_type": "markdown",
   "metadata": {},
   "source": [
    "#### std_glucose, skewness_glucose"
   ]
  },
  {
   "cell_type": "code",
   "execution_count": 47,
   "metadata": {},
   "outputs": [
    {
     "data": {
      "text/plain": [
       "<AxesSubplot:xlabel='std_glucose', ylabel='skewness_glucose'>"
      ]
     },
     "execution_count": 47,
     "metadata": {},
     "output_type": "execute_result"
    },
    {
     "data": {
      "image/png": "[encoded data removed]",
      "text/plain": [
       "<Figure size 432x288 with 1 Axes>"
      ]
     },
     "metadata": {
      "needs_background": "light"
     },
     "output_type": "display_data"
    }
   ],
   "source": [
    "sns.scatterplot(x = 'std_glucose', y = 'skewness_glucose',hue=\"class\", data = df_valid)"
   ]
  },
  {
   "cell_type": "code",
   "execution_count": 48,
   "metadata": {},
   "outputs": [
    {
     "name": "stdout",
     "output_type": "stream",
     "text": [
      "               precision    recall  f1-score   support\n",
      "\n",
      "0 - negatívny      0.879     0.993     0.932       965\n",
      "1 - pozitívny      0.968     0.618     0.755       346\n",
      "\n",
      "     accuracy                          0.894      1311\n",
      "    macro avg      0.924     0.806     0.844      1311\n",
      " weighted avg      0.903     0.894     0.886      1311\n",
      "\n"
     ]
    }
   ],
   "source": [
    "predictions = []\n",
    "\n",
    "for index,row in X_test.iterrows():\n",
    "    if row.std_glucose < 0.2 and row.skewness_glucose > 1.0:\n",
    "        predictions.append(1)\n",
    "    else:\n",
    "        predictions.append(0)\n",
    "        \n",
    "print(classification_report(y_test, predictions, digits = 3, target_names=target_names))"
   ]
  },
  {
   "cell_type": "code",
   "execution_count": 49,
   "metadata": {
    "scrolled": true
   },
   "outputs": [
    {
     "data": {
      "text/plain": [
       "<sklearn.metrics._plot.confusion_matrix.ConfusionMatrixDisplay at 0x24145172f70>"
      ]
     },
     "execution_count": 49,
     "metadata": {},
     "output_type": "execute_result"
    },
    {
     "data": {
      "image/png": "[encoded data removed]",
      "text/plain": [
       "<Figure size 432x288 with 2 Axes>"
      ]
     },
     "metadata": {
      "needs_background": "light"
     },
     "output_type": "display_data"
    }
   ],
   "source": [
    "ConfusionMatrixDisplay(confusion_matrix(y_test, predictions)).plot()"
   ]
  },
  {
   "cell_type": "markdown",
   "metadata": {},
   "source": [
    "#### mean_glucose, skewness_glucose, kurtosis_glucose"
   ]
  },
  {
   "cell_type": "code",
   "execution_count": 50,
   "metadata": {},
   "outputs": [
    {
     "name": "stdout",
     "output_type": "stream",
     "text": [
      "               precision    recall  f1-score   support\n",
      "\n",
      "0 - negatívny      0.921     0.997     0.957       965\n",
      "1 - pozitívny      0.989     0.760     0.859       346\n",
      "\n",
      "     accuracy                          0.934      1311\n",
      "    macro avg      0.955     0.879     0.908      1311\n",
      " weighted avg      0.939     0.934     0.931      1311\n",
      "\n"
     ]
    }
   ],
   "source": [
    "predictions = []\n",
    "\n",
    "for index,row in X_test.iterrows():\n",
    "    if row.mean_glucose < -0.77 and row.skewness_glucose > 0.88 and row.kurtosis_glucose > 0.8:\n",
    "        predictions.append(1)\n",
    "    else:\n",
    "        predictions.append(0)\n",
    "        \n",
    "print(classification_report(y_test, predictions, digits = 3, target_names=target_names))"
   ]
  },
  {
   "cell_type": "code",
   "execution_count": 51,
   "metadata": {
    "scrolled": true
   },
   "outputs": [
    {
     "data": {
      "text/plain": [
       "<sklearn.metrics._plot.confusion_matrix.ConfusionMatrixDisplay at 0x24144fa5430>"
      ]
     },
     "execution_count": 51,
     "metadata": {},
     "output_type": "execute_result"
    },
    {
     "data": {
      "image/png": "[encoded data removed]",
      "text/plain": [
       "<Figure size 432x288 with 2 Axes>"
      ]
     },
     "metadata": {
      "needs_background": "light"
     },
     "output_type": "display_data"
    }
   ],
   "source": [
    "ConfusionMatrixDisplay(confusion_matrix(y_test, predictions)).plot()"
   ]
  },
  {
   "cell_type": "markdown",
   "metadata": {},
   "source": [
    "#### mean_oxygen"
   ]
  },
  {
   "cell_type": "code",
   "execution_count": 52,
   "metadata": {},
   "outputs": [
    {
     "data": {
      "text/plain": [
       "<AxesSubplot:xlabel='class', ylabel='mean_oxygen'>"
      ]
     },
     "execution_count": 52,
     "metadata": {},
     "output_type": "execute_result"
    },
    {
     "data": {
      "image/png": "[encoded data removed]",
      "text/plain": [
       "<Figure size 432x288 with 1 Axes>"
      ]
     },
     "metadata": {
      "needs_background": "light"
     },
     "output_type": "display_data"
    }
   ],
   "source": [
    "sns.boxplot(x = 'class', y = 'mean_oxygen', data = df_valid)"
   ]
  },
  {
   "cell_type": "code",
   "execution_count": 53,
   "metadata": {},
   "outputs": [
    {
     "name": "stdout",
     "output_type": "stream",
     "text": [
      "               precision    recall  f1-score   support\n",
      "\n",
      "0 - negatívny      0.928     0.905     0.916       965\n",
      "1 - pozitívny      0.751     0.803     0.777       346\n",
      "\n",
      "     accuracy                          0.878      1311\n",
      "    macro avg      0.840     0.854     0.846      1311\n",
      " weighted avg      0.881     0.878     0.879      1311\n",
      "\n"
     ]
    }
   ],
   "source": [
    "predictions = []\n",
    "\n",
    "for index,row in X_test.iterrows():\n",
    "    if row.mean_oxygen > 0.7:\n",
    "        predictions.append(1)\n",
    "    else:\n",
    "        predictions.append(0)\n",
    "        \n",
    "print(classification_report(y_test, predictions, digits = 3, target_names=target_names))"
   ]
  },
  {
   "cell_type": "code",
   "execution_count": 54,
   "metadata": {
    "scrolled": false
   },
   "outputs": [
    {
     "data": {
      "text/plain": [
       "<sklearn.metrics._plot.confusion_matrix.ConfusionMatrixDisplay at 0x24145329f40>"
      ]
     },
     "execution_count": 54,
     "metadata": {},
     "output_type": "execute_result"
    },
    {
     "data": {
      "image/png": "[encoded data removed]",
      "text/plain": [
       "<Figure size 432x288 with 2 Axes>"
      ]
     },
     "metadata": {
      "needs_background": "light"
     },
     "output_type": "display_data"
    }
   ],
   "source": [
    "ConfusionMatrixDisplay(confusion_matrix(y_test, predictions)).plot()"
   ]
  },
  {
   "cell_type": "markdown",
   "metadata": {},
   "source": [
    "#### skewness_oxygen"
   ]
  },
  {
   "cell_type": "code",
   "execution_count": 55,
   "metadata": {},
   "outputs": [
    {
     "data": {
      "text/plain": [
       "<AxesSubplot:xlabel='class', ylabel='skewness_oxygen'>"
      ]
     },
     "execution_count": 55,
     "metadata": {},
     "output_type": "execute_result"
    },
    {
     "data": {
      "image/png": "[encoded data removed]",
      "text/plain": [
       "<Figure size 432x288 with 1 Axes>"
      ]
     },
     "metadata": {
      "needs_background": "light"
     },
     "output_type": "display_data"
    }
   ],
   "source": [
    "sns.boxplot(x = 'class', y = 'skewness_oxygen', data = df_valid)"
   ]
  },
  {
   "cell_type": "code",
   "execution_count": 56,
   "metadata": {},
   "outputs": [
    {
     "name": "stdout",
     "output_type": "stream",
     "text": [
      "               precision    recall  f1-score   support\n",
      "\n",
      "0 - negatívny      0.925     0.898     0.912       965\n",
      "1 - pozitívny      0.738     0.798     0.767       346\n",
      "\n",
      "     accuracy                          0.872      1311\n",
      "    macro avg      0.832     0.848     0.839      1311\n",
      " weighted avg      0.876     0.872     0.873      1311\n",
      "\n"
     ]
    }
   ],
   "source": [
    "predictions = []\n",
    "\n",
    "for index,row in X_test.iterrows():\n",
    "    if row.skewness_oxygen < -0.61:\n",
    "        predictions.append(1)\n",
    "    else:\n",
    "        predictions.append(0)\n",
    "        \n",
    "print(classification_report(y_test, predictions, digits = 3, target_names=target_names))"
   ]
  },
  {
   "cell_type": "code",
   "execution_count": 57,
   "metadata": {
    "scrolled": false
   },
   "outputs": [
    {
     "data": {
      "text/plain": [
       "<sklearn.metrics._plot.confusion_matrix.ConfusionMatrixDisplay at 0x24145172910>"
      ]
     },
     "execution_count": 57,
     "metadata": {},
     "output_type": "execute_result"
    },
    {
     "data": {
      "image/png": "[encoded data removed]",
      "text/plain": [
       "<Figure size 432x288 with 2 Axes>"
      ]
     },
     "metadata": {
      "needs_background": "light"
     },
     "output_type": "display_data"
    }
   ],
   "source": [
    "ConfusionMatrixDisplay(confusion_matrix(y_test, predictions)).plot()"
   ]
  },
  {
   "cell_type": "markdown",
   "metadata": {},
   "source": [
    "#### std_oxygen"
   ]
  },
  {
   "cell_type": "code",
   "execution_count": 58,
   "metadata": {},
   "outputs": [
    {
     "data": {
      "text/plain": [
       "<AxesSubplot:xlabel='class', ylabel='std_oxygen'>"
      ]
     },
     "execution_count": 58,
     "metadata": {},
     "output_type": "execute_result"
    },
    {
     "data": {
      "image/png": "[encoded data removed]",
      "text/plain": [
       "<Figure size 432x288 with 1 Axes>"
      ]
     },
     "metadata": {
      "needs_background": "light"
     },
     "output_type": "display_data"
    }
   ],
   "source": [
    "sns.boxplot(x = 'class', y = 'std_oxygen', data = df_valid)"
   ]
  },
  {
   "cell_type": "code",
   "execution_count": 59,
   "metadata": {},
   "outputs": [
    {
     "name": "stdout",
     "output_type": "stream",
     "text": [
      "               precision    recall  f1-score   support\n",
      "\n",
      "0 - negatívny      0.923     0.905     0.914       965\n",
      "1 - pozitívny      0.748     0.789     0.768       346\n",
      "\n",
      "     accuracy                          0.874      1311\n",
      "    macro avg      0.835     0.847     0.841      1311\n",
      " weighted avg      0.877     0.874     0.875      1311\n",
      "\n"
     ]
    }
   ],
   "source": [
    "predictions = []\n",
    "\n",
    "for index,row in X_test.iterrows():\n",
    "    if row.std_oxygen > 0.81:\n",
    "        predictions.append(1)\n",
    "    else:\n",
    "        predictions.append(0)\n",
    "        \n",
    "print(classification_report(y_test, predictions, digits = 3, target_names=target_names))"
   ]
  },
  {
   "cell_type": "code",
   "execution_count": 60,
   "metadata": {
    "scrolled": false
   },
   "outputs": [
    {
     "data": {
      "text/plain": [
       "<sklearn.metrics._plot.confusion_matrix.ConfusionMatrixDisplay at 0x241454d0b50>"
      ]
     },
     "execution_count": 60,
     "metadata": {},
     "output_type": "execute_result"
    },
    {
     "data": {
      "image/png": "[encoded data removed]",
      "text/plain": [
       "<Figure size 432x288 with 2 Axes>"
      ]
     },
     "metadata": {
      "needs_background": "light"
     },
     "output_type": "display_data"
    }
   ],
   "source": [
    "ConfusionMatrixDisplay(confusion_matrix(y_test, predictions)).plot()"
   ]
  },
  {
   "cell_type": "markdown",
   "metadata": {},
   "source": [
    "#### skewness_oxygen, kurtosis_oxygen"
   ]
  },
  {
   "cell_type": "code",
   "execution_count": 61,
   "metadata": {},
   "outputs": [
    {
     "data": {
      "text/plain": [
       "<AxesSubplot:xlabel='skewness_oxygen', ylabel='kurtosis_oxygen'>"
      ]
     },
     "execution_count": 61,
     "metadata": {},
     "output_type": "execute_result"
    },
    {
     "data": {
      "image/png": "[encoded data removed]",
      "text/plain": [
       "<Figure size 432x288 with 1 Axes>"
      ]
     },
     "metadata": {
      "needs_background": "light"
     },
     "output_type": "display_data"
    }
   ],
   "source": [
    "sns.scatterplot(x = 'skewness_oxygen', y = 'kurtosis_oxygen',hue=\"class\", data = df_valid)"
   ]
  },
  {
   "cell_type": "code",
   "execution_count": 62,
   "metadata": {},
   "outputs": [
    {
     "name": "stdout",
     "output_type": "stream",
     "text": [
      "               precision    recall  f1-score   support\n",
      "\n",
      "0 - negatívny      0.924     0.903     0.913       965\n",
      "1 - pozitívny      0.745     0.792     0.768       346\n",
      "\n",
      "     accuracy                          0.873      1311\n",
      "    macro avg      0.834     0.847     0.840      1311\n",
      " weighted avg      0.876     0.873     0.875      1311\n",
      "\n"
     ]
    }
   ],
   "source": [
    "predictions = []\n",
    "\n",
    "for index,row in X_test.iterrows():\n",
    "    if row.skewness_oxygen < -0.61 and row.kurtosis_oxygen < -0.61:\n",
    "        predictions.append(1)\n",
    "    else:\n",
    "        predictions.append(0)\n",
    "        \n",
    "print(classification_report(y_test, predictions, digits = 3, target_names=target_names))"
   ]
  },
  {
   "cell_type": "code",
   "execution_count": 63,
   "metadata": {
    "scrolled": true
   },
   "outputs": [
    {
     "data": {
      "text/plain": [
       "<sklearn.metrics._plot.confusion_matrix.ConfusionMatrixDisplay at 0x24145502070>"
      ]
     },
     "execution_count": 63,
     "metadata": {},
     "output_type": "execute_result"
    },
    {
     "data": {
      "image/png": "[encoded data removed]",
      "text/plain": [
       "<Figure size 432x288 with 2 Axes>"
      ]
     },
     "metadata": {
      "needs_background": "light"
     },
     "output_type": "display_data"
    }
   ],
   "source": [
    "ConfusionMatrixDisplay(confusion_matrix(y_test, predictions)).plot()"
   ]
  },
  {
   "cell_type": "markdown",
   "metadata": {},
   "source": [
    "#### std_oxygen, mean_oxygen"
   ]
  },
  {
   "cell_type": "code",
   "execution_count": 64,
   "metadata": {},
   "outputs": [
    {
     "data": {
      "text/plain": [
       "<AxesSubplot:xlabel='std_oxygen', ylabel='mean_oxygen'>"
      ]
     },
     "execution_count": 64,
     "metadata": {},
     "output_type": "execute_result"
    },
    {
     "data": {
      "image/png": "[encoded data removed]",
      "text/plain": [
       "<Figure size 432x288 with 1 Axes>"
      ]
     },
     "metadata": {
      "needs_background": "light"
     },
     "output_type": "display_data"
    }
   ],
   "source": [
    "sns.scatterplot(x = 'std_oxygen', y = 'mean_oxygen',hue=\"class\", data = df_train )"
   ]
  },
  {
   "cell_type": "code",
   "execution_count": 65,
   "metadata": {},
   "outputs": [
    {
     "name": "stdout",
     "output_type": "stream",
     "text": [
      "               precision    recall  f1-score   support\n",
      "\n",
      "0 - negatívny      0.921     0.908     0.914       965\n",
      "1 - pozitívny      0.753     0.783     0.768       346\n",
      "\n",
      "     accuracy                          0.875      1311\n",
      "    macro avg      0.837     0.846     0.841      1311\n",
      " weighted avg      0.877     0.875     0.876      1311\n",
      "\n"
     ]
    }
   ],
   "source": [
    "predictions = []\n",
    "\n",
    "for index,row in X_test.iterrows():\n",
    "    if row.std_oxygen > 0.81 and row.mean_oxygen > 0.7:\n",
    "        predictions.append(1)\n",
    "    else:\n",
    "        predictions.append(0)\n",
    "        \n",
    "print(classification_report(y_test, predictions, digits = 3, target_names=target_names))"
   ]
  },
  {
   "cell_type": "code",
   "execution_count": 66,
   "metadata": {},
   "outputs": [
    {
     "data": {
      "text/plain": [
       "<sklearn.metrics._plot.confusion_matrix.ConfusionMatrixDisplay at 0x241466def40>"
      ]
     },
     "execution_count": 66,
     "metadata": {},
     "output_type": "execute_result"
    },
    {
     "data": {
      "image/png": "[encoded data removed]",
      "text/plain": [
       "<Figure size 432x288 with 2 Axes>"
      ]
     },
     "metadata": {
      "needs_background": "light"
     },
     "output_type": "display_data"
    }
   ],
   "source": [
    "ConfusionMatrixDisplay(confusion_matrix(y_test, predictions)).plot()"
   ]
  },
  {
   "cell_type": "markdown",
   "metadata": {},
   "source": [
    "#### mean_oxygen, skewness_oxygen, kurtosis_oxygen"
   ]
  },
  {
   "cell_type": "code",
   "execution_count": 67,
   "metadata": {},
   "outputs": [
    {
     "name": "stdout",
     "output_type": "stream",
     "text": [
      "               precision    recall  f1-score   support\n",
      "\n",
      "0 - negatívny      0.924     0.907     0.915       965\n",
      "1 - pozitívny      0.753     0.792     0.772       346\n",
      "\n",
      "     accuracy                          0.876      1311\n",
      "    macro avg      0.838     0.849     0.844      1311\n",
      " weighted avg      0.879     0.876     0.877      1311\n",
      "\n"
     ]
    }
   ],
   "source": [
    "predictions = []\n",
    "\n",
    "for index,row in X_test.iterrows():\n",
    "    if row.mean_oxygen > 0.7 and row.skewness_oxygen < -0.61 and row.kurtosis_oxygen < -0.61:\n",
    "        predictions.append(1)\n",
    "    else:\n",
    "        predictions.append(0)\n",
    "        \n",
    "print(classification_report(y_test, predictions, digits = 3, target_names=target_names))"
   ]
  },
  {
   "cell_type": "code",
   "execution_count": 68,
   "metadata": {
    "scrolled": true
   },
   "outputs": [
    {
     "data": {
      "text/plain": [
       "<sklearn.metrics._plot.confusion_matrix.ConfusionMatrixDisplay at 0x241467d1040>"
      ]
     },
     "execution_count": 68,
     "metadata": {},
     "output_type": "execute_result"
    },
    {
     "data": {
      "image/png": "[encoded data removed]",
      "text/plain": [
       "<Figure size 432x288 with 2 Axes>"
      ]
     },
     "metadata": {
      "needs_background": "light"
     },
     "output_type": "display_data"
    }
   ],
   "source": [
    "ConfusionMatrixDisplay(confusion_matrix(y_test, predictions)).plot()"
   ]
  },
  {
   "cell_type": "markdown",
   "metadata": {},
   "source": [
    "# 3"
   ]
  },
  {
   "cell_type": "code",
   "execution_count": 69,
   "metadata": {},
   "outputs": [
    {
     "name": "stdout",
     "output_type": "stream",
     "text": [
      "               precision    recall  f1-score   support\n",
      "\n",
      "0 - negatívny      0.969     0.954     0.962       965\n",
      "1 - pozitívny      0.878     0.916     0.897       346\n",
      "\n",
      "     accuracy                          0.944      1311\n",
      "    macro avg      0.924     0.935     0.929      1311\n",
      " weighted avg      0.945     0.944     0.945      1311\n",
      "\n"
     ]
    }
   ],
   "source": [
    "clf = tree.DecisionTreeClassifier()\n",
    "clf = clf.fit(X_train, y_train)\n",
    "predictions = clf.predict(X_test)\n",
    "print(classification_report(y_test, predictions, digits = 3, target_names=target_names))"
   ]
  },
  {
   "cell_type": "code",
   "execution_count": 70,
   "metadata": {},
   "outputs": [
    {
     "data": {
      "text/plain": [
       "<sklearn.metrics._plot.confusion_matrix.ConfusionMatrixDisplay at 0x24146828100>"
      ]
     },
     "execution_count": 70,
     "metadata": {},
     "output_type": "execute_result"
    },
    {
     "data": {
      "image/png": "[encoded data removed]",
      "text/plain": [
       "<Figure size 432x288 with 2 Axes>"
      ]
     },
     "metadata": {
      "needs_background": "light"
     },
     "output_type": "display_data"
    }
   ],
   "source": [
    "ConfusionMatrixDisplay(confusion_matrix(y_test, predictions)).plot()"
   ]
  },
  {
   "cell_type": "code",
   "execution_count": 71,
   "metadata": {},
   "outputs": [
    {
     "data": {
      "text/plain": [
       "[Text(222.71435917264105, 211.7178947368421, 'X[19] <= 0.499\\ngini = 0.38\\nsamples = 3931\\nvalue = [2928, 1003]'),\n",
       " Text(155.22742324814985, 200.2736842105263, 'X[2] <= 77.5\\ngini = 0.086\\nsamples = 3025\\nvalue = [2889, 136]'),\n",
       " Text(122.77104966466234, 188.82947368421054, 'X[19] <= -0.12\\ngini = 0.08\\nsamples = 3013\\nvalue = [2888, 125]'),\n",
       " Text(65.2914199814986, 177.38526315789474, 'X[6] <= 12.5\\ngini = 0.021\\nsamples = 2102\\nvalue = [2080, 22]'),\n",
       " Text(34.26202590194264, 165.94105263157894, 'X[19] <= -0.426\\ngini = 0.017\\nsamples = 2048\\nvalue = [2030, 18]'),\n",
       " Text(12.388529139685476, 154.49684210526317, 'X[20] <= -2.952\\ngini = 0.005\\nsamples = 1305\\nvalue = [1302, 3]'),\n",
       " Text(4.95541165587419, 143.05263157894737, 'X[20] <= -3.3\\ngini = 0.278\\nsamples = 6\\nvalue = [5, 1]'),\n",
       " Text(2.477705827937095, 131.60842105263157, 'gini = 0.0\\nsamples = 5\\nvalue = [5, 0]'),\n",
       " Text(7.4331174838112855, 131.60842105263157, 'gini = 0.0\\nsamples = 1\\nvalue = [0, 1]'),\n",
       " Text(19.82164662349676, 143.05263157894737, 'X[14] <= 22.5\\ngini = 0.003\\nsamples = 1299\\nvalue = [1297, 2]'),\n",
       " Text(12.388529139685476, 131.60842105263157, 'X[17] <= 1.349\\ngini = 0.002\\nsamples = 1279\\nvalue = [1278, 1]'),\n",
       " Text(9.91082331174838, 120.16421052631578, 'gini = 0.0\\nsamples = 1055\\nvalue = [1055, 0]'),\n",
       " Text(14.866234967622571, 120.16421052631578, 'X[17] <= 1.35\\ngini = 0.009\\nsamples = 224\\nvalue = [223, 1]'),\n",
       " Text(12.388529139685476, 108.72, 'gini = 0.0\\nsamples = 1\\nvalue = [0, 1]'),\n",
       " Text(17.343940795559668, 108.72, 'gini = 0.0\\nsamples = 223\\nvalue = [223, 0]'),\n",
       " Text(27.25476410730805, 131.60842105263157, 'X[14] <= 24.0\\ngini = 0.095\\nsamples = 20\\nvalue = [19, 1]'),\n",
       " Text(24.77705827937095, 120.16421052631578, 'X[19] <= -0.685\\ngini = 0.444\\nsamples = 3\\nvalue = [2, 1]'),\n",
       " Text(22.299352451433855, 108.72, 'gini = 0.0\\nsamples = 1\\nvalue = [0, 1]'),\n",
       " Text(27.25476410730805, 108.72, 'gini = 0.0\\nsamples = 2\\nvalue = [2, 0]'),\n",
       " Text(29.732469935245142, 120.16421052631578, 'gini = 0.0\\nsamples = 17\\nvalue = [17, 0]'),\n",
       " Text(56.13552266419981, 154.49684210526317, 'X[19] <= -0.426\\ngini = 0.04\\nsamples = 743\\nvalue = [728, 15]'),\n",
       " Text(53.65781683626272, 143.05263157894737, 'gini = 0.0\\nsamples = 1\\nvalue = [0, 1]'),\n",
       " Text(58.613228492136905, 143.05263157894737, 'X[2] <= 61.5\\ngini = 0.037\\nsamples = 742\\nvalue = [728, 14]'),\n",
       " Text(41.96614246068455, 131.60842105263157, 'X[24] <= 0.082\\ngini = 0.022\\nsamples = 639\\nvalue = [632, 7]'),\n",
       " Text(34.687881591119336, 120.16421052631578, 'X[22] <= -0.434\\ngini = 0.068\\nsamples = 169\\nvalue = [163, 6]'),\n",
       " Text(32.210175763182235, 108.72, 'gini = 0.0\\nsamples = 1\\nvalue = [0, 1]'),\n",
       " Text(37.16558741905643, 108.72, 'X[17] <= -0.364\\ngini = 0.058\\nsamples = 168\\nvalue = [163, 5]'),\n",
       " Text(30.042183163737278, 97.27578947368421, 'X[12] <= 226699.5\\ngini = 0.5\\nsamples = 2\\nvalue = [1, 1]'),\n",
       " Text(27.564477335800184, 85.83157894736843, 'gini = 0.0\\nsamples = 1\\nvalue = [1, 0]'),\n",
       " Text(32.51988899167437, 85.83157894736843, 'gini = 0.0\\nsamples = 1\\nvalue = [0, 1]'),\n",
       " Text(44.28899167437557, 97.27578947368421, 'X[18] <= 2.22\\ngini = 0.047\\nsamples = 166\\nvalue = [162, 4]'),\n",
       " Text(37.475300647548565, 85.83157894736843, 'X[10] <= 10785.0\\ngini = 0.037\\nsamples = 160\\nvalue = [157, 3]'),\n",
       " Text(31.281036077705828, 74.38736842105263, 'X[21] <= -0.194\\ngini = 0.026\\nsamples = 154\\nvalue = [152, 2]'),\n",
       " Text(26.325624421831638, 62.943157894736856, 'X[9] <= 4.5\\ngini = 0.245\\nsamples = 7\\nvalue = [6, 1]'),\n",
       " Text(23.84791859389454, 51.49894736842106, 'gini = 0.0\\nsamples = 6\\nvalue = [6, 0]'),\n",
       " Text(28.80333024976873, 51.49894736842106, 'gini = 0.0\\nsamples = 1\\nvalue = [0, 1]'),\n",
       " Text(36.236447733580015, 62.943157894736856, 'X[20] <= -1.461\\ngini = 0.014\\nsamples = 147\\nvalue = [146, 1]'),\n",
       " Text(33.75874190564292, 51.49894736842106, 'X[20] <= -1.491\\ngini = 0.198\\nsamples = 9\\nvalue = [8, 1]'),\n",
       " Text(31.281036077705828, 40.05473684210526, 'gini = 0.0\\nsamples = 8\\nvalue = [8, 0]'),\n",
       " Text(36.236447733580015, 40.05473684210526, 'gini = 0.0\\nsamples = 1\\nvalue = [0, 1]'),\n",
       " Text(38.714153561517115, 51.49894736842106, 'gini = 0.0\\nsamples = 138\\nvalue = [138, 0]'),\n",
       " Text(43.6695652173913, 74.38736842105263, 'X[17] <= -0.006\\ngini = 0.278\\nsamples = 6\\nvalue = [5, 1]'),\n",
       " Text(41.19185938945421, 62.943157894736856, 'gini = 0.0\\nsamples = 1\\nvalue = [0, 1]'),\n",
       " Text(46.147271045328395, 62.943157894736856, 'gini = 0.0\\nsamples = 5\\nvalue = [5, 0]'),\n",
       " Text(51.10268270120259, 85.83157894736843, 'X[2] <= 38.5\\ngini = 0.278\\nsamples = 6\\nvalue = [5, 1]'),\n",
       " Text(48.624976873265496, 74.38736842105263, 'gini = 0.0\\nsamples = 1\\nvalue = [0, 1]'),\n",
       " Text(53.58038852913968, 74.38736842105263, 'gini = 0.0\\nsamples = 5\\nvalue = [5, 0]'),\n",
       " Text(49.24440333024977, 120.16421052631578, 'X[0] <= 3715.0\\ngini = 0.004\\nsamples = 470\\nvalue = [469, 1]'),\n",
       " Text(46.766697502312674, 108.72, 'gini = 0.0\\nsamples = 447\\nvalue = [447, 0]'),\n",
       " Text(51.72210915818686, 108.72, 'X[2] <= 59.5\\ngini = 0.083\\nsamples = 23\\nvalue = [22, 1]'),\n",
       " Text(49.24440333024977, 97.27578947368421, 'gini = 0.0\\nsamples = 22\\nvalue = [22, 0]'),\n",
       " Text(54.199814986123954, 97.27578947368421, 'gini = 0.0\\nsamples = 1\\nvalue = [0, 1]'),\n",
       " Text(75.26031452358926, 131.60842105263157, 'X[16] <= 2.5\\ngini = 0.127\\nsamples = 103\\nvalue = [96, 7]'),\n",
       " Text(66.58834412580943, 120.16421052631578, 'X[1] <= 13527.5\\ngini = 0.064\\nsamples = 91\\nvalue = [88, 3]'),\n",
       " Text(61.63293246993524, 108.72, 'X[8] <= 8.0\\ngini = 0.26\\nsamples = 13\\nvalue = [11, 2]'),\n",
       " Text(59.15522664199815, 97.27578947368421, 'gini = 0.0\\nsamples = 1\\nvalue = [0, 1]'),\n",
       " Text(64.11063829787234, 97.27578947368421, 'X[1] <= 13202.0\\ngini = 0.153\\nsamples = 12\\nvalue = [11, 1]'),\n",
       " Text(61.63293246993524, 85.83157894736843, 'gini = 0.0\\nsamples = 11\\nvalue = [11, 0]'),\n",
       " Text(66.58834412580943, 85.83157894736843, 'gini = 0.0\\nsamples = 1\\nvalue = [0, 1]'),\n",
       " Text(71.54375578168363, 108.72, 'X[20] <= 0.476\\ngini = 0.025\\nsamples = 78\\nvalue = [77, 1]'),\n",
       " Text(69.06604995374653, 97.27578947368421, 'gini = 0.0\\nsamples = 74\\nvalue = [74, 0]'),\n",
       " Text(74.02146160962072, 97.27578947368421, 'X[20] <= 0.534\\ngini = 0.375\\nsamples = 4\\nvalue = [3, 1]'),\n",
       " Text(71.54375578168363, 85.83157894736843, 'gini = 0.0\\nsamples = 1\\nvalue = [0, 1]'),\n",
       " Text(76.49916743755782, 85.83157894736843, 'gini = 0.0\\nsamples = 3\\nvalue = [3, 0]'),\n",
       " Text(83.9322849213691, 120.16421052631578, 'X[12] <= 143121.0\\ngini = 0.444\\nsamples = 12\\nvalue = [8, 4]'),\n",
       " Text(81.454579093432, 108.72, 'X[22] <= -0.337\\ngini = 0.444\\nsamples = 6\\nvalue = [2, 4]'),\n",
       " Text(78.9768732654949, 97.27578947368421, 'gini = 0.0\\nsamples = 2\\nvalue = [2, 0]'),\n",
       " Text(83.9322849213691, 97.27578947368421, 'gini = 0.0\\nsamples = 4\\nvalue = [0, 4]'),\n",
       " Text(86.40999074930619, 108.72, 'gini = 0.0\\nsamples = 6\\nvalue = [6, 0]'),\n",
       " Text(96.32081406105458, 165.94105263157894, 'X[20] <= 0.444\\ngini = 0.137\\nsamples = 54\\nvalue = [50, 4]'),\n",
       " Text(93.84310823311748, 154.49684210526317, 'X[12] <= 51766.0\\ngini = 0.107\\nsamples = 53\\nvalue = [50, 3]'),\n",
       " Text(88.88769657724329, 143.05263157894737, 'X[23] <= 0.372\\ngini = 0.444\\nsamples = 6\\nvalue = [4, 2]'),\n",
       " Text(86.40999074930619, 131.60842105263157, 'gini = 0.0\\nsamples = 3\\nvalue = [3, 0]'),\n",
       " Text(91.36540240518039, 131.60842105263157, 'X[24] <= 0.637\\ngini = 0.444\\nsamples = 3\\nvalue = [1, 2]'),\n",
       " Text(88.88769657724329, 120.16421052631578, 'gini = 0.0\\nsamples = 2\\nvalue = [0, 2]'),\n",
       " Text(93.84310823311748, 120.16421052631578, 'gini = 0.0\\nsamples = 1\\nvalue = [1, 0]'),\n",
       " Text(98.79851988899166, 143.05263157894737, 'X[18] <= 2.213\\ngini = 0.042\\nsamples = 47\\nvalue = [46, 1]'),\n",
       " Text(96.32081406105458, 131.60842105263157, 'gini = 0.0\\nsamples = 43\\nvalue = [43, 0]'),\n",
       " Text(101.27622571692876, 131.60842105263157, 'X[18] <= 2.222\\ngini = 0.375\\nsamples = 4\\nvalue = [3, 1]'),\n",
       " Text(98.79851988899166, 120.16421052631578, 'gini = 0.0\\nsamples = 1\\nvalue = [0, 1]'),\n",
       " Text(103.75393154486586, 120.16421052631578, 'gini = 0.0\\nsamples = 3\\nvalue = [3, 0]'),\n",
       " Text(98.79851988899166, 154.49684210526317, 'gini = 0.0\\nsamples = 1\\nvalue = [0, 1]'),\n",
       " Text(180.25067934782606, 177.38526315789474, 'X[23] <= -0.161\\ngini = 0.201\\nsamples = 911\\nvalue = [808, 103]'),\n",
       " Text(145.60393154486584, 165.94105263157894, 'X[19] <= 0.378\\ngini = 0.45\\nsamples = 170\\nvalue = [112, 58]'),\n",
       " Text(128.60841813135985, 154.49684210526317, 'X[17] <= -0.396\\ngini = 0.403\\nsamples = 150\\nvalue = [108, 42]'),\n",
       " Text(113.66475485661424, 143.05263157894737, 'X[0] <= 3724.5\\ngini = 0.111\\nsamples = 34\\nvalue = [32, 2]'),\n",
       " Text(111.18704902867715, 131.60842105263157, 'X[7] <= 0.5\\ngini = 0.059\\nsamples = 33\\nvalue = [32, 1]'),\n",
       " Text(108.70934320074005, 120.16421052631578, 'gini = 0.0\\nsamples = 32\\nvalue = [32, 0]'),\n",
       " Text(113.66475485661424, 120.16421052631578, 'gini = 0.0\\nsamples = 1\\nvalue = [0, 1]'),\n",
       " Text(116.14246068455134, 131.60842105263157, 'gini = 0.0\\nsamples = 1\\nvalue = [0, 1]'),\n",
       " Text(143.55208140610546, 143.05263157894737, 'X[19] <= 0.123\\ngini = 0.452\\nsamples = 116\\nvalue = [76, 40]'),\n",
       " Text(129.46012950971323, 131.60842105263157, 'X[18] <= 2.221\\ngini = 0.352\\nsamples = 79\\nvalue = [61, 18]'),\n",
       " Text(118.62016651248842, 120.16421052631578, 'X[23] <= -0.224\\ngini = 0.287\\nsamples = 69\\nvalue = [57, 12]'),\n",
       " Text(104.37335800185014, 108.72, 'X[12] <= 147183.5\\ngini = 0.191\\nsamples = 56\\nvalue = [50, 6]'),\n",
       " Text(95.7013876040703, 97.27578947368421, 'X[2] <= 48.0\\ngini = 0.408\\nsamples = 14\\nvalue = [10, 4]'),\n",
       " Text(93.2236817761332, 85.83157894736843, 'gini = 0.0\\nsamples = 7\\nvalue = [7, 0]'),\n",
       " Text(98.17909343200739, 85.83157894736843, 'X[1] <= 29388.0\\ngini = 0.49\\nsamples = 7\\nvalue = [3, 4]'),\n",
       " Text(95.7013876040703, 74.38736842105263, 'gini = 0.0\\nsamples = 3\\nvalue = [3, 0]'),\n",
       " Text(100.65679925994449, 74.38736842105263, 'gini = 0.0\\nsamples = 4\\nvalue = [0, 4]'),\n",
       " Text(113.04532839962997, 97.27578947368421, 'X[19] <= 0.111\\ngini = 0.091\\nsamples = 42\\nvalue = [40, 2]'),\n",
       " Text(108.08991674375578, 85.83157894736843, 'X[10] <= 1732.0\\ngini = 0.05\\nsamples = 39\\nvalue = [38, 1]'),\n",
       " Text(105.61221091581868, 74.38736842105263, 'gini = 0.0\\nsamples = 33\\nvalue = [33, 0]'),\n",
       " Text(110.56762257169287, 74.38736842105263, 'X[15] <= 35.0\\ngini = 0.278\\nsamples = 6\\nvalue = [5, 1]'),\n",
       " Text(108.08991674375578, 62.943157894736856, 'gini = 0.0\\nsamples = 1\\nvalue = [0, 1]'),\n",
       " Text(113.04532839962997, 62.943157894736856, 'gini = 0.0\\nsamples = 5\\nvalue = [5, 0]'),\n",
       " Text(118.00074005550415, 85.83157894736843, 'X[19] <= 0.117\\ngini = 0.444\\nsamples = 3\\nvalue = [2, 1]'),\n",
       " Text(115.52303422756707, 74.38736842105263, 'gini = 0.0\\nsamples = 1\\nvalue = [0, 1]'),\n",
       " Text(120.47844588344125, 74.38736842105263, 'gini = 0.0\\nsamples = 2\\nvalue = [2, 0]'),\n",
       " Text(132.86697502312674, 108.72, 'X[3] <= 0.5\\ngini = 0.497\\nsamples = 13\\nvalue = [7, 6]'),\n",
       " Text(130.38926919518963, 97.27578947368421, 'X[23] <= -0.2\\ngini = 0.42\\nsamples = 10\\nvalue = [7, 3]'),\n",
       " Text(127.91156336725254, 85.83157894736843, 'X[20] <= -0.419\\ngini = 0.48\\nsamples = 5\\nvalue = [2, 3]'),\n",
       " Text(125.43385753931544, 74.38736842105263, 'gini = 0.0\\nsamples = 2\\nvalue = [2, 0]'),\n",
       " Text(130.38926919518963, 74.38736842105263, 'gini = 0.0\\nsamples = 3\\nvalue = [0, 3]'),\n",
       " Text(132.86697502312674, 85.83157894736843, 'gini = 0.0\\nsamples = 5\\nvalue = [5, 0]'),\n",
       " Text(135.34468085106383, 97.27578947368421, 'gini = 0.0\\nsamples = 3\\nvalue = [0, 3]'),\n",
       " Text(140.300092506938, 120.16421052631578, 'X[23] <= -1.101\\ngini = 0.48\\nsamples = 10\\nvalue = [4, 6]'),\n",
       " Text(137.8223866790009, 108.72, 'gini = 0.0\\nsamples = 3\\nvalue = [3, 0]'),\n",
       " Text(142.77779833487511, 108.72, 'X[8] <= 6.5\\ngini = 0.245\\nsamples = 7\\nvalue = [1, 6]'),\n",
       " Text(140.300092506938, 97.27578947368421, 'gini = 0.0\\nsamples = 1\\nvalue = [1, 0]'),\n",
       " Text(145.2555041628122, 97.27578947368421, 'gini = 0.0\\nsamples = 6\\nvalue = [0, 6]'),\n",
       " Text(157.6440333024977, 131.60842105263157, 'X[18] <= -0.383\\ngini = 0.482\\nsamples = 37\\nvalue = [15, 22]'),\n",
       " Text(150.2109158186864, 120.16421052631578, 'X[24] <= -1.407\\ngini = 0.278\\nsamples = 6\\nvalue = [5, 1]'),\n",
       " Text(147.7332099907493, 108.72, 'gini = 0.0\\nsamples = 1\\nvalue = [0, 1]'),\n",
       " Text(152.6886216466235, 108.72, 'gini = 0.0\\nsamples = 5\\nvalue = [5, 0]'),\n",
       " Text(165.07715078630898, 120.16421052631578, 'X[12] <= 140658.0\\ngini = 0.437\\nsamples = 31\\nvalue = [10, 21]'),\n",
       " Text(157.6440333024977, 108.72, 'X[2] <= 54.5\\ngini = 0.42\\nsamples = 10\\nvalue = [7, 3]'),\n",
       " Text(155.16632747456057, 97.27578947368421, 'gini = 0.0\\nsamples = 6\\nvalue = [6, 0]'),\n",
       " Text(160.12173913043478, 97.27578947368421, 'X[21] <= 1.342\\ngini = 0.375\\nsamples = 4\\nvalue = [1, 3]'),\n",
       " Text(157.6440333024977, 85.83157894736843, 'gini = 0.0\\nsamples = 3\\nvalue = [0, 3]'),\n",
       " Text(162.59944495837186, 85.83157894736843, 'gini = 0.0\\nsamples = 1\\nvalue = [1, 0]'),\n",
       " Text(172.51026827012026, 108.72, 'X[19] <= 0.357\\ngini = 0.245\\nsamples = 21\\nvalue = [3, 18]'),\n",
       " Text(170.03256244218315, 97.27578947368421, 'X[2] <= 38.0\\ngini = 0.18\\nsamples = 20\\nvalue = [2, 18]'),\n",
       " Text(167.55485661424606, 85.83157894736843, 'gini = 0.0\\nsamples = 1\\nvalue = [1, 0]'),\n",
       " Text(172.51026827012026, 85.83157894736843, 'X[24] <= -1.905\\ngini = 0.1\\nsamples = 19\\nvalue = [1, 18]'),\n",
       " Text(170.03256244218315, 74.38736842105263, 'X[5] <= 1.5\\ngini = 0.444\\nsamples = 3\\nvalue = [1, 2]'),\n",
       " Text(167.55485661424606, 62.943157894736856, 'gini = 0.0\\nsamples = 1\\nvalue = [1, 0]'),\n",
       " Text(172.51026827012026, 62.943157894736856, 'gini = 0.0\\nsamples = 2\\nvalue = [0, 2]'),\n",
       " Text(174.98797409805735, 74.38736842105263, 'gini = 0.0\\nsamples = 16\\nvalue = [0, 16]'),\n",
       " Text(174.98797409805735, 97.27578947368421, 'gini = 0.0\\nsamples = 1\\nvalue = [1, 0]'),\n",
       " Text(162.59944495837186, 154.49684210526317, 'X[18] <= -0.715\\ngini = 0.32\\nsamples = 20\\nvalue = [4, 16]'),\n",
       " Text(160.12173913043478, 143.05263157894737, 'gini = 0.0\\nsamples = 2\\nvalue = [2, 0]'),\n",
       " Text(165.07715078630898, 143.05263157894737, 'X[24] <= -1.819\\ngini = 0.198\\nsamples = 18\\nvalue = [2, 16]'),\n",
       " Text(162.59944495837186, 131.60842105263157, 'gini = 0.0\\nsamples = 2\\nvalue = [2, 0]'),\n",
       " Text(167.55485661424606, 131.60842105263157, 'gini = 0.0\\nsamples = 16\\nvalue = [0, 16]'),\n",
       " Text(214.89742715078629, 165.94105263157894, 'X[2] <= 70.5\\ngini = 0.114\\nsamples = 741\\nvalue = [696, 45]'),\n",
       " Text(201.59427613320997, 154.49684210526317, 'X[2] <= 47.5\\ngini = 0.099\\nsamples = 727\\nvalue = [689, 38]'),\n",
       " Text(182.42109158186864, 143.05263157894737, 'X[17] <= 0.515\\ngini = 0.02\\nsamples = 297\\nvalue = [294, 3]'),\n",
       " Text(177.46567992599444, 131.60842105263157, 'X[19] <= 0.445\\ngini = 0.007\\nsamples = 283\\nvalue = [282, 1]'),\n",
       " Text(174.98797409805735, 120.16421052631578, 'gini = 0.0\\nsamples = 271\\nvalue = [271, 0]'),\n",
       " Text(179.94338575393152, 120.16421052631578, 'X[12] <= 275261.0\\ngini = 0.153\\nsamples = 12\\nvalue = [11, 1]'),\n",
       " Text(177.46567992599444, 108.72, 'gini = 0.0\\nsamples = 11\\nvalue = [11, 0]'),\n",
       " Text(182.42109158186864, 108.72, 'gini = 0.0\\nsamples = 1\\nvalue = [0, 1]'),\n",
       " Text(187.3765032377428, 131.60842105263157, 'X[6] <= 10.5\\ngini = 0.245\\nsamples = 14\\nvalue = [12, 2]'),\n",
       " Text(184.89879740980572, 120.16421052631578, 'gini = 0.0\\nsamples = 12\\nvalue = [12, 0]'),\n",
       " Text(189.85420906567992, 120.16421052631578, 'gini = 0.0\\nsamples = 2\\nvalue = [0, 2]'),\n",
       " Text(220.76746068455134, 143.05263157894737, 'X[20] <= 0.962\\ngini = 0.15\\nsamples = 430\\nvalue = [395, 35]'),\n",
       " Text(218.28975485661422, 131.60842105263157, 'X[15] <= 22.5\\ngini = 0.146\\nsamples = 429\\nvalue = [395, 34]'),\n",
       " Text(194.8096207215541, 120.16421052631578, 'X[10] <= 1615.5\\ngini = 0.32\\nsamples = 45\\nvalue = [36, 9]'),\n",
       " Text(192.331914893617, 108.72, 'X[8] <= 4.5\\ngini = 0.273\\nsamples = 43\\nvalue = [36, 7]'),\n",
       " Text(189.85420906567992, 97.27578947368421, 'gini = 0.0\\nsamples = 2\\nvalue = [0, 2]'),\n",
       " Text(194.8096207215541, 97.27578947368421, 'X[15] <= 21.0\\ngini = 0.214\\nsamples = 41\\nvalue = [36, 5]'),\n",
       " Text(192.331914893617, 85.83157894736843, 'X[12] <= 429285.5\\ngini = 0.18\\nsamples = 40\\nvalue = [36, 4]'),\n",
       " Text(189.85420906567992, 74.38736842105263, 'X[19] <= 0.358\\ngini = 0.142\\nsamples = 39\\nvalue = [36, 3]'),\n",
       " Text(184.89879740980572, 62.943157894736856, 'X[12] <= 138789.0\\ngini = 0.102\\nsamples = 37\\nvalue = [35, 2]'),\n",
       " Text(182.42109158186864, 51.49894736842106, 'X[12] <= 132262.0\\ngini = 0.245\\nsamples = 14\\nvalue = [12, 2]'),\n",
       " Text(179.94338575393152, 40.05473684210526, 'X[0] <= 1503.5\\ngini = 0.142\\nsamples = 13\\nvalue = [12, 1]'),\n",
       " Text(177.46567992599444, 28.610526315789485, 'X[0] <= 897.5\\ngini = 0.375\\nsamples = 4\\nvalue = [3, 1]'),\n",
       " Text(174.98797409805735, 17.166315789473686, 'gini = 0.0\\nsamples = 3\\nvalue = [3, 0]'),\n",
       " Text(179.94338575393152, 17.166315789473686, 'gini = 0.0\\nsamples = 1\\nvalue = [0, 1]'),\n",
       " Text(182.42109158186864, 28.610526315789485, 'gini = 0.0\\nsamples = 9\\nvalue = [9, 0]'),\n",
       " Text(184.89879740980572, 40.05473684210526, 'gini = 0.0\\nsamples = 1\\nvalue = [0, 1]'),\n",
       " Text(187.3765032377428, 51.49894736842106, 'gini = 0.0\\nsamples = 23\\nvalue = [23, 0]'),\n",
       " Text(194.8096207215541, 62.943157894736856, 'X[8] <= 9.5\\ngini = 0.5\\nsamples = 2\\nvalue = [1, 1]'),\n",
       " Text(192.331914893617, 51.49894736842106, 'gini = 0.0\\nsamples = 1\\nvalue = [1, 0]'),\n",
       " Text(197.2873265494912, 51.49894736842106, 'gini = 0.0\\nsamples = 1\\nvalue = [0, 1]'),\n",
       " Text(194.8096207215541, 74.38736842105263, 'gini = 0.0\\nsamples = 1\\nvalue = [0, 1]'),\n",
       " Text(197.2873265494912, 85.83157894736843, 'gini = 0.0\\nsamples = 1\\nvalue = [0, 1]'),\n",
       " Text(197.2873265494912, 108.72, 'gini = 0.0\\nsamples = 2\\nvalue = [0, 2]'),\n",
       " Text(241.76988899167435, 120.16421052631578, 'X[2] <= 63.5\\ngini = 0.122\\nsamples = 384\\nvalue = [359, 25]'),\n",
       " Text(218.11554116558742, 108.72, 'X[19] <= -0.093\\ngini = 0.096\\nsamples = 335\\nvalue = [318, 17]'),\n",
       " Text(204.7204440333025, 97.27578947368421, 'X[1] <= 78861.0\\ngini = 0.308\\nsamples = 21\\nvalue = [17, 4]'),\n",
       " Text(202.24273820536538, 85.83157894736843, 'X[22] <= 0.302\\ngini = 0.105\\nsamples = 18\\nvalue = [17, 1]'),\n",
       " Text(199.7650323774283, 74.38736842105263, 'gini = 0.0\\nsamples = 17\\nvalue = [17, 0]'),\n",
       " Text(204.7204440333025, 74.38736842105263, 'gini = 0.0\\nsamples = 1\\nvalue = [0, 1]'),\n",
       " Text(207.19814986123959, 85.83157894736843, 'gini = 0.0\\nsamples = 3\\nvalue = [0, 3]'),\n",
       " Text(231.51063829787233, 97.27578947368421, 'X[10] <= 6238.0\\ngini = 0.079\\nsamples = 314\\nvalue = [301, 13]'),\n",
       " Text(217.4186864014801, 85.83157894736843, 'X[1] <= 1520.5\\ngini = 0.064\\nsamples = 302\\nvalue = [292, 10]'),\n",
       " Text(209.67585568917667, 74.38736842105263, 'X[24] <= 1.3\\ngini = 0.5\\nsamples = 2\\nvalue = [1, 1]'),\n",
       " Text(207.19814986123959, 62.943157894736856, 'gini = 0.0\\nsamples = 1\\nvalue = [0, 1]'),\n",
       " Text(212.1535615171138, 62.943157894736856, 'gini = 0.0\\nsamples = 1\\nvalue = [1, 0]'),\n",
       " Text(225.16151711378353, 74.38736842105263, 'X[20] <= 0.812\\ngini = 0.058\\nsamples = 300\\nvalue = [291, 9]'),\n",
       " Text(217.10897317298796, 62.943157894736856, 'X[12] <= 339418.5\\ngini = 0.048\\nsamples = 286\\nvalue = [279, 7]'),\n",
       " Text(208.43700277520813, 51.49894736842106, 'X[21] <= -1.562\\ngini = 0.03\\nsamples = 259\\nvalue = [255, 4]'),\n",
       " Text(203.48159111933393, 40.05473684210526, 'X[21] <= -1.583\\ngini = 0.188\\nsamples = 19\\nvalue = [17, 2]'),\n",
       " Text(201.00388529139684, 28.610526315789485, 'X[24] <= 1.418\\ngini = 0.105\\nsamples = 18\\nvalue = [17, 1]'),\n",
       " Text(198.52617946345975, 17.166315789473686, 'gini = 0.0\\nsamples = 1\\nvalue = [0, 1]'),\n",
       " Text(203.48159111933393, 17.166315789473686, 'gini = 0.0\\nsamples = 17\\nvalue = [17, 0]'),\n",
       " Text(205.95929694727104, 28.610526315789485, 'gini = 0.0\\nsamples = 1\\nvalue = [0, 1]'),\n",
       " Text(213.39241443108233, 40.05473684210526, 'X[22] <= -0.182\\ngini = 0.017\\nsamples = 240\\nvalue = [238, 2]'),\n",
       " Text(210.91470860314521, 28.610526315789485, 'gini = 0.0\\nsamples = 200\\nvalue = [200, 0]'),\n",
       " Text(215.87012025901942, 28.610526315789485, 'X[21] <= -0.47\\ngini = 0.095\\nsamples = 40\\nvalue = [38, 2]'),\n",
       " Text(213.39241443108233, 17.166315789473686, 'gini = 0.0\\nsamples = 2\\nvalue = [0, 2]'),\n",
       " Text(218.3478260869565, 17.166315789473686, 'gini = 0.0\\nsamples = 38\\nvalue = [38, 0]'),\n",
       " Text(225.7809435707678, 51.49894736842106, 'X[12] <= 340491.5\\ngini = 0.198\\nsamples = 27\\nvalue = [24, 3]'),\n",
       " Text(223.3032377428307, 40.05473684210526, 'gini = 0.0\\nsamples = 1\\nvalue = [0, 1]'),\n",
       " Text(228.2586493987049, 40.05473684210526, 'X[19] <= -0.028\\ngini = 0.142\\nsamples = 26\\nvalue = [24, 2]'),\n",
       " Text(225.7809435707678, 28.610526315789485, 'X[9] <= 2.5\\ngini = 0.408\\nsamples = 7\\nvalue = [5, 2]'),\n",
       " Text(223.3032377428307, 17.166315789473686, 'gini = 0.0\\nsamples = 4\\nvalue = [4, 0]'),\n",
       " Text(228.2586493987049, 17.166315789473686, 'X[8] <= 7.0\\ngini = 0.444\\nsamples = 3\\nvalue = [1, 2]'),\n",
       " Text(225.7809435707678, 5.722105263157886, 'gini = 0.0\\nsamples = 1\\nvalue = [1, 0]'),\n",
       " Text(230.736355226642, 5.722105263157886, 'gini = 0.0\\nsamples = 2\\nvalue = [0, 2]'),\n",
       " Text(230.736355226642, 28.610526315789485, 'gini = 0.0\\nsamples = 19\\nvalue = [19, 0]'),\n",
       " Text(233.21406105457908, 62.943157894736856, 'X[6] <= 1.5\\ngini = 0.245\\nsamples = 14\\nvalue = [12, 2]'),\n",
       " Text(230.736355226642, 51.49894736842106, 'gini = 0.0\\nsamples = 2\\nvalue = [0, 2]'),\n",
       " Text(235.69176688251616, 51.49894736842106, 'gini = 0.0\\nsamples = 12\\nvalue = [12, 0]'),\n",
       " Text(245.60259019426456, 85.83157894736843, 'X[8] <= 10.5\\ngini = 0.375\\nsamples = 12\\nvalue = [9, 3]'),\n",
       " Text(240.64717853839036, 74.38736842105263, 'X[23] <= 0.662\\ngini = 0.444\\nsamples = 3\\nvalue = [1, 2]'),\n",
       " Text(238.16947271045328, 62.943157894736856, 'gini = 0.0\\nsamples = 1\\nvalue = [1, 0]'),\n",
       " Text(243.12488436632745, 62.943157894736856, 'gini = 0.0\\nsamples = 2\\nvalue = [0, 2]'),\n",
       " Text(250.55800185013874, 74.38736842105263, 'X[21] <= -1.647\\ngini = 0.198\\nsamples = 9\\nvalue = [8, 1]'),\n",
       " Text(248.08029602220165, 62.943157894736856, 'gini = 0.0\\nsamples = 1\\nvalue = [0, 1]'),\n",
       " Text(253.03570767807585, 62.943157894736856, 'gini = 0.0\\nsamples = 8\\nvalue = [8, 0]'),\n",
       " Text(265.4242368177613, 108.72, 'X[24] <= 0.211\\ngini = 0.273\\nsamples = 49\\nvalue = [41, 8]'),\n",
       " Text(260.46882516188714, 97.27578947368421, 'X[16] <= 1.5\\ngini = 0.5\\nsamples = 8\\nvalue = [4, 4]'),\n",
       " Text(257.99111933395005, 85.83157894736843, 'X[23] <= -0.036\\ngini = 0.32\\nsamples = 5\\nvalue = [1, 4]'),\n",
       " Text(255.51341350601294, 74.38736842105263, 'gini = 0.0\\nsamples = 1\\nvalue = [1, 0]'),\n",
       " Text(260.46882516188714, 74.38736842105263, 'gini = 0.0\\nsamples = 4\\nvalue = [0, 4]'),\n",
       " Text(262.9465309898242, 85.83157894736843, 'gini = 0.0\\nsamples = 3\\nvalue = [3, 0]'),\n",
       " Text(270.3796484736355, 97.27578947368421, 'X[22] <= -0.094\\ngini = 0.176\\nsamples = 41\\nvalue = [37, 4]'),\n",
       " Text(267.9019426456984, 85.83157894736843, 'X[12] <= 31203.5\\ngini = 0.139\\nsamples = 40\\nvalue = [37, 3]'),\n",
       " Text(265.4242368177613, 74.38736842105263, 'gini = 0.0\\nsamples = 1\\nvalue = [0, 1]'),\n",
       " Text(270.3796484736355, 74.38736842105263, 'X[0] <= 3280.5\\ngini = 0.097\\nsamples = 39\\nvalue = [37, 2]'),\n",
       " Text(267.9019426456984, 62.943157894736856, 'gini = 0.0\\nsamples = 28\\nvalue = [28, 0]'),\n",
       " Text(272.8573543015726, 62.943157894736856, 'X[0] <= 3413.0\\ngini = 0.298\\nsamples = 11\\nvalue = [9, 2]'),\n",
       " Text(270.3796484736355, 51.49894736842106, 'X[24] <= 1.525\\ngini = 0.444\\nsamples = 3\\nvalue = [1, 2]'),\n",
       " Text(267.9019426456984, 40.05473684210526, 'gini = 0.0\\nsamples = 2\\nvalue = [0, 2]'),\n",
       " Text(272.8573543015726, 40.05473684210526, 'gini = 0.0\\nsamples = 1\\nvalue = [1, 0]'),\n",
       " Text(275.3350601295097, 51.49894736842106, 'gini = 0.0\\nsamples = 8\\nvalue = [8, 0]'),\n",
       " Text(272.8573543015726, 85.83157894736843, 'gini = 0.0\\nsamples = 1\\nvalue = [0, 1]'),\n",
       " Text(223.24516651248842, 131.60842105263157, 'gini = 0.0\\nsamples = 1\\nvalue = [0, 1]'),\n",
       " Text(228.20057816836263, 154.49684210526317, 'X[0] <= 888.5\\ngini = 0.5\\nsamples = 14\\nvalue = [7, 7]'),\n",
       " Text(225.7228723404255, 143.05263157894737, 'gini = 0.0\\nsamples = 4\\nvalue = [4, 0]'),\n",
       " Text(230.6782839962997, 143.05263157894737, 'X[12] <= 101784.0\\ngini = 0.42\\nsamples = 10\\nvalue = [3, 7]'),\n",
       " Text(228.20057816836263, 131.60842105263157, 'gini = 0.0\\nsamples = 3\\nvalue = [3, 0]'),\n",
       " Text(233.1559898242368, 131.60842105263157, 'gini = 0.0\\nsamples = 7\\nvalue = [0, 7]'),\n",
       " Text(187.68379683163735, 188.82947368421054, 'X[20] <= -1.488\\ngini = 0.153\\nsamples = 12\\nvalue = [1, 11]'),\n",
       " Text(185.20609100370027, 177.38526315789474, 'gini = 0.0\\nsamples = 1\\nvalue = [1, 0]'),\n",
       " Text(190.16150265957447, 177.38526315789474, 'gini = 0.0\\nsamples = 11\\nvalue = [0, 11]'),\n",
       " Text(290.2012950971323, 200.2736842105263, 'X[19] <= 0.619\\ngini = 0.082\\nsamples = 906\\nvalue = [39, 867]'),\n",
       " Text(279.0516188714153, 188.82947368421054, 'X[20] <= 0.558\\ngini = 0.495\\nsamples = 49\\nvalue = [22, 27]'),\n",
       " Text(274.09620721554114, 177.38526315789474, 'X[2] <= 56.5\\ngini = 0.245\\nsamples = 28\\nvalue = [4, 24]'),\n",
       " Text(271.61850138760406, 165.94105263157894, 'X[0] <= 1597.5\\ngini = 0.48\\nsamples = 10\\nvalue = [4, 6]'),\n",
       " Text(269.14079555966697, 154.49684210526317, 'X[18] <= 2.223\\ngini = 0.32\\nsamples = 5\\nvalue = [4, 1]'),\n",
       " Text(266.6630897317299, 143.05263157894737, 'gini = 0.0\\nsamples = 4\\nvalue = [4, 0]'),\n",
       " Text(271.61850138760406, 143.05263157894737, 'gini = 0.0\\nsamples = 1\\nvalue = [0, 1]'),\n",
       " Text(274.09620721554114, 154.49684210526317, 'gini = 0.0\\nsamples = 5\\nvalue = [0, 5]'),\n",
       " Text(276.5739130434782, 165.94105263157894, 'gini = 0.0\\nsamples = 18\\nvalue = [0, 18]'),\n",
       " Text(284.00703052728954, 177.38526315789474, 'X[22] <= 0.473\\ngini = 0.245\\nsamples = 21\\nvalue = [18, 3]'),\n",
       " Text(281.52932469935246, 165.94105263157894, 'gini = 0.0\\nsamples = 17\\nvalue = [17, 0]'),\n",
       " Text(286.48473635522663, 165.94105263157894, 'X[5] <= 1.5\\ngini = 0.375\\nsamples = 4\\nvalue = [1, 3]'),\n",
       " Text(284.00703052728954, 154.49684210526317, 'gini = 0.0\\nsamples = 3\\nvalue = [0, 3]'),\n",
       " Text(288.9624421831637, 154.49684210526317, 'gini = 0.0\\nsamples = 1\\nvalue = [1, 0]'),\n",
       " Text(301.3509713228492, 188.82947368421054, 'X[23] <= 2.16\\ngini = 0.039\\nsamples = 857\\nvalue = [17, 840]'),\n",
       " Text(296.39555966697503, 177.38526315789474, 'X[2] <= 29.5\\ngini = 0.035\\nsamples = 854\\nvalue = [15, 839]'),\n",
       " Text(293.9178538390379, 165.94105263157894, 'gini = 0.0\\nsamples = 1\\nvalue = [1, 0]'),\n",
       " Text(298.8732654949121, 165.94105263157894, 'X[22] <= 1.733\\ngini = 0.032\\nsamples = 853\\nvalue = [14, 839]'),\n",
       " Text(293.9178538390379, 154.49684210526317, 'X[24] <= -1.998\\ngini = 0.028\\nsamples = 847\\nvalue = [12, 835]'),\n",
       " Text(291.4401480111008, 143.05263157894737, 'gini = 0.0\\nsamples = 1\\nvalue = [1, 0]'),\n",
       " Text(296.39555966697503, 143.05263157894737, 'X[22] <= 0.034\\ngini = 0.026\\nsamples = 846\\nvalue = [11, 835]'),\n",
       " Text(277.8127659574468, 131.60842105263157, 'X[19] <= 0.817\\ngini = 0.26\\nsamples = 26\\nvalue = [4, 22]'),\n",
       " Text(272.8573543015726, 120.16421052631578, 'X[21] <= -0.575\\ngini = 0.48\\nsamples = 5\\nvalue = [3, 2]'),\n",
       " Text(270.3796484736355, 108.72, 'gini = 0.0\\nsamples = 2\\nvalue = [0, 2]'),\n",
       " Text(275.3350601295097, 108.72, 'gini = 0.0\\nsamples = 3\\nvalue = [3, 0]'),\n",
       " Text(282.768177613321, 120.16421052631578, 'X[0] <= 3797.0\\ngini = 0.091\\nsamples = 21\\nvalue = [1, 20]'),\n",
       " Text(280.2904717853839, 108.72, 'gini = 0.0\\nsamples = 19\\nvalue = [0, 19]'),\n",
       " Text(285.24588344125806, 108.72, 'X[23] <= 0.369\\ngini = 0.5\\nsamples = 2\\nvalue = [1, 1]'),\n",
       " Text(282.768177613321, 97.27578947368421, 'gini = 0.0\\nsamples = 1\\nvalue = [0, 1]'),\n",
       " Text(287.7235892691952, 97.27578947368421, 'gini = 0.0\\nsamples = 1\\nvalue = [1, 0]'),\n",
       " Text(314.9783533765032, 131.60842105263157, 'X[1] <= 94683.5\\ngini = 0.017\\nsamples = 820\\nvalue = [7, 813]'),\n",
       " Text(302.5898242368177, 120.16421052631578, 'X[20] <= 0.447\\ngini = 0.008\\nsamples = 774\\nvalue = [3, 771]'),\n",
       " Text(295.15670675300646, 108.72, 'X[20] <= 0.442\\ngini = 0.153\\nsamples = 12\\nvalue = [1, 11]'),\n",
       " Text(292.6790009250694, 97.27578947368421, 'gini = 0.0\\nsamples = 11\\nvalue = [0, 11]'),\n",
       " Text(297.63441258094355, 97.27578947368421, 'gini = 0.0\\nsamples = 1\\nvalue = [1, 0]'),\n",
       " Text(310.02294172062903, 108.72, 'X[8] <= 5.5\\ngini = 0.005\\nsamples = 762\\nvalue = [2, 760]'),\n",
       " Text(302.5898242368177, 97.27578947368421, 'X[21] <= 1.734\\ngini = 0.059\\nsamples = 33\\nvalue = [1, 32]'),\n",
       " Text(300.11211840888063, 85.83157894736843, 'gini = 0.0\\nsamples = 30\\nvalue = [0, 30]'),\n",
       " Text(305.06753006475486, 85.83157894736843, 'X[23] <= -1.802\\ngini = 0.444\\nsamples = 3\\nvalue = [1, 2]'),\n",
       " Text(302.5898242368177, 74.38736842105263, 'gini = 0.0\\nsamples = 2\\nvalue = [0, 2]'),\n",
       " Text(307.54523589269195, 74.38736842105263, 'gini = 0.0\\nsamples = 1\\nvalue = [1, 0]'),\n",
       " Text(317.4560592044403, 97.27578947368421, 'X[20] <= 0.884\\ngini = 0.003\\nsamples = 729\\nvalue = [1, 728]'),\n",
       " Text(314.9783533765032, 85.83157894736843, 'X[20] <= 0.881\\ngini = 0.036\\nsamples = 55\\nvalue = [1, 54]'),\n",
       " Text(312.5006475485661, 74.38736842105263, 'gini = 0.0\\nsamples = 54\\nvalue = [0, 54]'),\n",
       " Text(317.4560592044403, 74.38736842105263, 'gini = 0.0\\nsamples = 1\\nvalue = [1, 0]'),\n",
       " Text(319.93376503237744, 85.83157894736843, 'gini = 0.0\\nsamples = 674\\nvalue = [0, 674]'),\n",
       " Text(327.3668825161887, 120.16421052631578, 'X[1] <= 94781.5\\ngini = 0.159\\nsamples = 46\\nvalue = [4, 42]'),\n",
       " Text(324.8891766882516, 108.72, 'gini = 0.0\\nsamples = 2\\nvalue = [2, 0]'),\n",
       " Text(329.8445883441258, 108.72, 'X[2] <= 42.5\\ngini = 0.087\\nsamples = 44\\nvalue = [2, 42]'),\n",
       " Text(327.3668825161887, 97.27578947368421, 'X[15] <= 23.5\\ngini = 0.444\\nsamples = 3\\nvalue = [2, 1]'),\n",
       " Text(324.8891766882516, 85.83157894736843, 'gini = 0.0\\nsamples = 1\\nvalue = [0, 1]'),\n",
       " Text(329.8445883441258, 85.83157894736843, 'gini = 0.0\\nsamples = 2\\nvalue = [2, 0]'),\n",
       " Text(332.32229417206287, 97.27578947368421, 'gini = 0.0\\nsamples = 41\\nvalue = [0, 41]'),\n",
       " Text(303.8286771507863, 154.49684210526317, 'X[24] <= -1.936\\ngini = 0.444\\nsamples = 6\\nvalue = [2, 4]'),\n",
       " Text(301.3509713228492, 143.05263157894737, 'gini = 0.0\\nsamples = 4\\nvalue = [0, 4]'),\n",
       " Text(306.3063829787234, 143.05263157894737, 'gini = 0.0\\nsamples = 2\\nvalue = [2, 0]'),\n",
       " Text(306.3063829787234, 177.38526315789474, 'X[6] <= 6.5\\ngini = 0.444\\nsamples = 3\\nvalue = [2, 1]'),\n",
       " Text(303.8286771507863, 165.94105263157894, 'gini = 0.0\\nsamples = 1\\nvalue = [0, 1]'),\n",
       " Text(308.78408880666046, 165.94105263157894, 'gini = 0.0\\nsamples = 2\\nvalue = [2, 0]')]"
      ]
     },
     "execution_count": 71,
     "metadata": {},
     "output_type": "execute_result"
    },
    {
     "data": {
      "image/png": "[encoded data removed]",
      "text/plain": [
       "<Figure size 432x288 with 1 Axes>"
      ]
     },
     "metadata": {
      "needs_background": "light"
     },
     "output_type": "display_data"
    }
   ],
   "source": [
    "tree.plot_tree(clf) "
   ]
  },
  {
   "cell_type": "code",
   "execution_count": 72,
   "metadata": {
    "scrolled": false
   },
   "outputs": [
    {
     "ename": "ExecutableNotFound",
     "evalue": "failed to execute ['dot', '-Tsvg'], make sure the Graphviz executables are on your systems' PATH",
     "output_type": "error",
     "traceback": [
      "\u001b[1;31m---------------------------------------------------------------------------\u001b[0m",
      "\u001b[1;31mFileNotFoundError\u001b[0m                         Traceback (most recent call last)",
      "\u001b[1;32mc:\\python38\\lib\\site-packages\\graphviz\\backend.py\u001b[0m in \u001b[0;36mrun\u001b[1;34m(cmd, input, capture_output, check, encoding, quiet, **kwargs)\u001b[0m\n\u001b[0;32m    163\u001b[0m     \u001b[1;32mtry\u001b[0m\u001b[1;33m:\u001b[0m\u001b[1;33m\u001b[0m\u001b[1;33m\u001b[0m\u001b[0m\n\u001b[1;32m--> 164\u001b[1;33m         \u001b[0mproc\u001b[0m \u001b[1;33m=\u001b[0m \u001b[0msubprocess\u001b[0m\u001b[1;33m.\u001b[0m\u001b[0mPopen\u001b[0m\u001b[1;33m(\u001b[0m\u001b[0mcmd\u001b[0m\u001b[1;33m,\u001b[0m \u001b[0mstartupinfo\u001b[0m\u001b[1;33m=\u001b[0m\u001b[0mget_startupinfo\u001b[0m\u001b[1;33m(\u001b[0m\u001b[1;33m)\u001b[0m\u001b[1;33m,\u001b[0m \u001b[1;33m**\u001b[0m\u001b[0mkwargs\u001b[0m\u001b[1;33m)\u001b[0m\u001b[1;33m\u001b[0m\u001b[1;33m\u001b[0m\u001b[0m\n\u001b[0m\u001b[0;32m    165\u001b[0m     \u001b[1;32mexcept\u001b[0m \u001b[0mOSError\u001b[0m \u001b[1;32mas\u001b[0m \u001b[0me\u001b[0m\u001b[1;33m:\u001b[0m\u001b[1;33m\u001b[0m\u001b[1;33m\u001b[0m\u001b[0m\n",
      "\u001b[1;32mc:\\python38\\lib\\subprocess.py\u001b[0m in \u001b[0;36m__init__\u001b[1;34m(self, args, bufsize, executable, stdin, stdout, stderr, preexec_fn, close_fds, shell, cwd, env, universal_newlines, startupinfo, creationflags, restore_signals, start_new_session, pass_fds, encoding, errors, text)\u001b[0m\n\u001b[0;32m    853\u001b[0m \u001b[1;33m\u001b[0m\u001b[0m\n\u001b[1;32m--> 854\u001b[1;33m             self._execute_child(args, executable, preexec_fn, close_fds,\n\u001b[0m\u001b[0;32m    855\u001b[0m                                 \u001b[0mpass_fds\u001b[0m\u001b[1;33m,\u001b[0m \u001b[0mcwd\u001b[0m\u001b[1;33m,\u001b[0m \u001b[0menv\u001b[0m\u001b[1;33m,\u001b[0m\u001b[1;33m\u001b[0m\u001b[1;33m\u001b[0m\u001b[0m\n",
      "\u001b[1;32mc:\\python38\\lib\\subprocess.py\u001b[0m in \u001b[0;36m_execute_child\u001b[1;34m(self, args, executable, preexec_fn, close_fds, pass_fds, cwd, env, startupinfo, creationflags, shell, p2cread, p2cwrite, c2pread, c2pwrite, errread, errwrite, unused_restore_signals, unused_start_new_session)\u001b[0m\n\u001b[0;32m   1306\u001b[0m             \u001b[1;32mtry\u001b[0m\u001b[1;33m:\u001b[0m\u001b[1;33m\u001b[0m\u001b[1;33m\u001b[0m\u001b[0m\n\u001b[1;32m-> 1307\u001b[1;33m                 hp, ht, pid, tid = _winapi.CreateProcess(executable, args,\n\u001b[0m\u001b[0;32m   1308\u001b[0m                                          \u001b[1;31m# no special security\u001b[0m\u001b[1;33m\u001b[0m\u001b[1;33m\u001b[0m\u001b[1;33m\u001b[0m\u001b[0m\n",
      "\u001b[1;31mFileNotFoundError\u001b[0m: [WinError 2] The system cannot find the file specified",
      "\nDuring handling of the above exception, another exception occurred:\n",
      "\u001b[1;31mExecutableNotFound\u001b[0m                        Traceback (most recent call last)",
      "\u001b[1;32m<ipython-input-72-854d7171033c>\u001b[0m in \u001b[0;36m<module>\u001b[1;34m\u001b[0m\n\u001b[0;32m     12\u001b[0m                                filled = True))\n\u001b[0;32m     13\u001b[0m \u001b[1;33m\u001b[0m\u001b[0m\n\u001b[1;32m---> 14\u001b[1;33m \u001b[0mdisplay\u001b[0m\u001b[1;33m(\u001b[0m\u001b[0mSVG\u001b[0m\u001b[1;33m(\u001b[0m\u001b[0mgraph\u001b[0m\u001b[1;33m.\u001b[0m\u001b[0mpipe\u001b[0m\u001b[1;33m(\u001b[0m\u001b[0mformat\u001b[0m\u001b[1;33m=\u001b[0m\u001b[1;34m'svg'\u001b[0m\u001b[1;33m)\u001b[0m\u001b[1;33m)\u001b[0m\u001b[1;33m)\u001b[0m\u001b[1;33m\u001b[0m\u001b[1;33m\u001b[0m\u001b[0m\n\u001b[0m\u001b[0;32m     15\u001b[0m \u001b[1;32mfrom\u001b[0m \u001b[0mIPython\u001b[0m\u001b[1;33m.\u001b[0m\u001b[0mdisplay\u001b[0m \u001b[1;32mimport\u001b[0m \u001b[0mHTML\u001b[0m \u001b[1;31m# toto je tu len pre to aby sa mi obrazok zmestil na obrazovku\u001b[0m\u001b[1;33m\u001b[0m\u001b[1;33m\u001b[0m\u001b[0m\n\u001b[0;32m     16\u001b[0m \u001b[0mstyle\u001b[0m \u001b[1;33m=\u001b[0m \u001b[1;34m\"<style>svg{width:60% !important;height:60% !important;}</style>\"\u001b[0m\u001b[1;33m\u001b[0m\u001b[1;33m\u001b[0m\u001b[0m\n",
      "\u001b[1;32mc:\\python38\\lib\\site-packages\\graphviz\\files.py\u001b[0m in \u001b[0;36mpipe\u001b[1;34m(self, format, renderer, formatter, quiet)\u001b[0m\n\u001b[0;32m    134\u001b[0m         \u001b[0mdata\u001b[0m \u001b[1;33m=\u001b[0m \u001b[0mtext_type\u001b[0m\u001b[1;33m(\u001b[0m\u001b[0mself\u001b[0m\u001b[1;33m.\u001b[0m\u001b[0msource\u001b[0m\u001b[1;33m)\u001b[0m\u001b[1;33m.\u001b[0m\u001b[0mencode\u001b[0m\u001b[1;33m(\u001b[0m\u001b[0mself\u001b[0m\u001b[1;33m.\u001b[0m\u001b[0m_encoding\u001b[0m\u001b[1;33m)\u001b[0m\u001b[1;33m\u001b[0m\u001b[1;33m\u001b[0m\u001b[0m\n\u001b[0;32m    135\u001b[0m \u001b[1;33m\u001b[0m\u001b[0m\n\u001b[1;32m--> 136\u001b[1;33m         out = backend.pipe(self._engine, format, data,\n\u001b[0m\u001b[0;32m    137\u001b[0m                            \u001b[0mrenderer\u001b[0m\u001b[1;33m=\u001b[0m\u001b[0mrenderer\u001b[0m\u001b[1;33m,\u001b[0m \u001b[0mformatter\u001b[0m\u001b[1;33m=\u001b[0m\u001b[0mformatter\u001b[0m\u001b[1;33m,\u001b[0m\u001b[1;33m\u001b[0m\u001b[1;33m\u001b[0m\u001b[0m\n\u001b[0;32m    138\u001b[0m                            quiet=quiet)\n",
      "\u001b[1;32mc:\\python38\\lib\\site-packages\\graphviz\\backend.py\u001b[0m in \u001b[0;36mpipe\u001b[1;34m(engine, format, data, renderer, formatter, quiet)\u001b[0m\n\u001b[0;32m    242\u001b[0m     \"\"\"\n\u001b[0;32m    243\u001b[0m     \u001b[0mcmd\u001b[0m\u001b[1;33m,\u001b[0m \u001b[0m_\u001b[0m \u001b[1;33m=\u001b[0m \u001b[0mcommand\u001b[0m\u001b[1;33m(\u001b[0m\u001b[0mengine\u001b[0m\u001b[1;33m,\u001b[0m \u001b[0mformat\u001b[0m\u001b[1;33m,\u001b[0m \u001b[1;32mNone\u001b[0m\u001b[1;33m,\u001b[0m \u001b[0mrenderer\u001b[0m\u001b[1;33m,\u001b[0m \u001b[0mformatter\u001b[0m\u001b[1;33m)\u001b[0m\u001b[1;33m\u001b[0m\u001b[1;33m\u001b[0m\u001b[0m\n\u001b[1;32m--> 244\u001b[1;33m     \u001b[0mout\u001b[0m\u001b[1;33m,\u001b[0m \u001b[0m_\u001b[0m \u001b[1;33m=\u001b[0m \u001b[0mrun\u001b[0m\u001b[1;33m(\u001b[0m\u001b[0mcmd\u001b[0m\u001b[1;33m,\u001b[0m \u001b[0minput\u001b[0m\u001b[1;33m=\u001b[0m\u001b[0mdata\u001b[0m\u001b[1;33m,\u001b[0m \u001b[0mcapture_output\u001b[0m\u001b[1;33m=\u001b[0m\u001b[1;32mTrue\u001b[0m\u001b[1;33m,\u001b[0m \u001b[0mcheck\u001b[0m\u001b[1;33m=\u001b[0m\u001b[1;32mTrue\u001b[0m\u001b[1;33m,\u001b[0m \u001b[0mquiet\u001b[0m\u001b[1;33m=\u001b[0m\u001b[0mquiet\u001b[0m\u001b[1;33m)\u001b[0m\u001b[1;33m\u001b[0m\u001b[1;33m\u001b[0m\u001b[0m\n\u001b[0m\u001b[0;32m    245\u001b[0m     \u001b[1;32mreturn\u001b[0m \u001b[0mout\u001b[0m\u001b[1;33m\u001b[0m\u001b[1;33m\u001b[0m\u001b[0m\n\u001b[0;32m    246\u001b[0m \u001b[1;33m\u001b[0m\u001b[0m\n",
      "\u001b[1;32mc:\\python38\\lib\\site-packages\\graphviz\\backend.py\u001b[0m in \u001b[0;36mrun\u001b[1;34m(cmd, input, capture_output, check, encoding, quiet, **kwargs)\u001b[0m\n\u001b[0;32m    165\u001b[0m     \u001b[1;32mexcept\u001b[0m \u001b[0mOSError\u001b[0m \u001b[1;32mas\u001b[0m \u001b[0me\u001b[0m\u001b[1;33m:\u001b[0m\u001b[1;33m\u001b[0m\u001b[1;33m\u001b[0m\u001b[0m\n\u001b[0;32m    166\u001b[0m         \u001b[1;32mif\u001b[0m \u001b[0me\u001b[0m\u001b[1;33m.\u001b[0m\u001b[0merrno\u001b[0m \u001b[1;33m==\u001b[0m \u001b[0merrno\u001b[0m\u001b[1;33m.\u001b[0m\u001b[0mENOENT\u001b[0m\u001b[1;33m:\u001b[0m\u001b[1;33m\u001b[0m\u001b[1;33m\u001b[0m\u001b[0m\n\u001b[1;32m--> 167\u001b[1;33m             \u001b[1;32mraise\u001b[0m \u001b[0mExecutableNotFound\u001b[0m\u001b[1;33m(\u001b[0m\u001b[0mcmd\u001b[0m\u001b[1;33m)\u001b[0m\u001b[1;33m\u001b[0m\u001b[1;33m\u001b[0m\u001b[0m\n\u001b[0m\u001b[0;32m    168\u001b[0m         \u001b[1;32melse\u001b[0m\u001b[1;33m:\u001b[0m\u001b[1;33m\u001b[0m\u001b[1;33m\u001b[0m\u001b[0m\n\u001b[0;32m    169\u001b[0m             \u001b[1;32mraise\u001b[0m\u001b[1;33m\u001b[0m\u001b[1;33m\u001b[0m\u001b[0m\n",
      "\u001b[1;31mExecutableNotFound\u001b[0m: failed to execute ['dot', '-Tsvg'], make sure the Graphviz executables are on your systems' PATH"
     ]
    }
   ],
   "source": [
    "from sklearn.tree import export_graphviz\n",
    "from graphviz import Source\n",
    "from IPython.display import SVG\n",
    "\n",
    "import os\n",
    "os.environ[\"PATH\"] += os.pathsep + 'C:/Users/matto/miniconda3/Library/bin/graphviz'\n",
    "\n",
    "graph = Source(export_graphviz(clf, \n",
    "                               out_file=None,\n",
    "                               feature_names=X_test.columns,\n",
    "                               class_names=['0', '1'],\n",
    "                               filled = True))\n",
    "\n",
    "display(SVG(graph.pipe(format='svg')))\n",
    "from IPython.display import HTML # toto je tu len pre to aby sa mi obrazok zmestil na obrazovku\n",
    "style = \"<style>svg{width:60% !important;height:60% !important;}</style>\"\n",
    "HTML(style)"
   ]
  },
  {
   "cell_type": "code",
   "execution_count": 73,
   "metadata": {},
   "outputs": [
    {
     "name": "stdout",
     "output_type": "stream",
     "text": [
      "               precision    recall  f1-score   support\n",
      "\n",
      "0 - negatívny      0.972     0.980     0.976       965\n",
      "1 - pozitívny      0.944     0.922     0.933       346\n",
      "\n",
      "     accuracy                          0.965      1311\n",
      "    macro avg      0.958     0.951     0.955      1311\n",
      " weighted avg      0.965     0.965     0.965      1311\n",
      "\n"
     ]
    }
   ],
   "source": [
    "clf = RandomForestClassifier()\n",
    "clf.fit(X_train, y_train)\n",
    "predictions = clf.predict(X_test)\n",
    "print(classification_report(y_test, predictions, digits = 3, target_names=target_names))"
   ]
  },
  {
   "cell_type": "code",
   "execution_count": 74,
   "metadata": {},
   "outputs": [
    {
     "data": {
      "text/plain": [
       "<sklearn.metrics._plot.confusion_matrix.ConfusionMatrixDisplay at 0x24145213fa0>"
      ]
     },
     "execution_count": 74,
     "metadata": {},
     "output_type": "execute_result"
    },
    {
     "data": {
      "image/png": "[encoded data removed]",
      "text/plain": [
       "<Figure size 432x288 with 2 Axes>"
      ]
     },
     "metadata": {
      "needs_background": "light"
     },
     "output_type": "display_data"
    }
   ],
   "source": [
    "ConfusionMatrixDisplay(confusion_matrix(y_test, predictions)).plot()"
   ]
  },
  {
   "cell_type": "markdown",
   "metadata": {},
   "source": [
    "## Hyperparametre"
   ]
  },
  {
   "cell_type": "code",
   "execution_count": 108,
   "metadata": {},
   "outputs": [
    {
     "name": "stdout",
     "output_type": "stream",
     "text": [
      "DecisionTreeClassifier(max_depth=3, min_samples_leaf=3, random_state=0)\n",
      "0.9600631611578254\n",
      "{'criterion': 'gini', 'max_depth': 3, 'min_samples_leaf': 3, 'splitter': 'best'}\n",
      "10\n"
     ]
    }
   ],
   "source": [
    "estimator = DecisionTreeClassifier(random_state=0)\n",
    "parameters = {'max_depth': [1, 2, 3, 4, 5, 6, 7, 8, 9],\n",
    "              'criterion': ['gini', 'entropy'],\n",
    "              'splitter': ['best', 'random'],\n",
    "              'min_samples_leaf': [1, 3] }\n",
    "scoring = ['accuracy', \n",
    "           'precision_micro']\n",
    "\n",
    "clf = GridSearchCV(estimator=estimator, \n",
    "                   param_grid=parameters,\n",
    "                   cv=10,\n",
    "                   scoring=scoring,\n",
    "                   refit='accuracy')\n",
    "search = clf.fit(X_train, y_train)\n",
    "\n",
    "\n",
    "print(search.best_estimator_)\n",
    "print(search.best_score_)\n",
    "print(search.best_params_)\n",
    "print(search.n_splits_)\n",
    "\n",
    "# list(ParameterGrid(parameters))\n",
    "# search.best_estimator_"
   ]
  },
  {
   "cell_type": "code",
   "execution_count": 91,
   "metadata": {},
   "outputs": [
    {
     "name": "stdout",
     "output_type": "stream",
     "text": [
      "RandomForestClassifier(max_depth=9, n_estimators=50)\n",
      "0.962605752961083\n",
      "{'criterion': 'gini', 'max_depth': 9, 'min_samples_leaf': 1, 'n_estimators': 50}\n",
      "10\n"
     ]
    }
   ],
   "source": [
    "estimator = RandomForestClassifier()\n",
    "parameters = {'max_depth': [1, 2, 3, 4, 5, 6, 7, 8, 9],\n",
    "              'n_estimators': [50, 100],\n",
    "              'criterion': ['gini', 'entropy'],\n",
    "              'min_samples_leaf': [1, 3] }\n",
    "scoring = ['accuracy', \n",
    "#            'f1_macro',\n",
    "            'precision_micro']\n",
    "\n",
    "clf = GridSearchCV(estimator=estimator, \n",
    "                   param_grid=parameters,\n",
    "                   cv=10,\n",
    "                   scoring=scoring,\n",
    "                   refit='accuracy')\n",
    "search = clf.fit(X_train, y_train)\n",
    "\n",
    "\n",
    "print(search.best_estimator_)\n",
    "print(search.best_score_)\n",
    "print(search.best_params_)\n",
    "print(search.n_splits_)\n",
    "\n",
    "# list(ParameterGrid(parameters))"
   ]
  },
  {
   "cell_type": "code",
   "execution_count": 93,
   "metadata": {},
   "outputs": [
    {
     "name": "stdout",
     "output_type": "stream",
     "text": [
      "DecisionTreeClassifier(max_depth=7, min_samples_leaf=3, random_state=0)\n",
      "0.9562457214450861\n",
      "{'splitter': 'best', 'min_samples_leaf': 3, 'max_depth': 7, 'criterion': 'gini'}\n",
      "10\n"
     ]
    },
    {
     "data": {
      "text/plain": [
       "DecisionTreeClassifier(max_depth=7, min_samples_leaf=3, random_state=0)"
      ]
     },
     "execution_count": 93,
     "metadata": {},
     "output_type": "execute_result"
    }
   ],
   "source": [
    "estimator = DecisionTreeClassifier(random_state=0)\n",
    "parameters = {'max_depth': [1, 2, 3, 4, 5, 6, 7, 8, 9],\n",
    "              'criterion': ['gini', 'entropy'],\n",
    "              'splitter': ['best', 'random'],\n",
    "              'min_samples_leaf': [1, 3] }\n",
    "scoring = ['accuracy', \n",
    "           'precision_micro']\n",
    "\n",
    "clf = RandomizedSearchCV(estimator=estimator, \n",
    "                   param_distributions=parameters,\n",
    "                   cv=10,\n",
    "                   scoring=scoring,\n",
    "                   refit='accuracy')\n",
    "search = clf.fit(X_train, y_train)\n",
    "\n",
    "\n",
    "print(search.best_estimator_)\n",
    "print(search.best_score_)\n",
    "print(search.best_params_)\n",
    "print(search.n_splits_)\n",
    "\n",
    "# list(ParameterGrid(parameters))\n",
    "search.best_estimator_"
   ]
  },
  {
   "cell_type": "code",
   "execution_count": 95,
   "metadata": {},
   "outputs": [
    {
     "name": "stdout",
     "output_type": "stream",
     "text": [
      "RandomForestClassifier(max_depth=9, n_estimators=50)\n",
      "0.96311530463311\n",
      "{'n_estimators': 50, 'min_samples_leaf': 1, 'max_depth': 9, 'criterion': 'gini'}\n",
      "10\n"
     ]
    },
    {
     "data": {
      "text/plain": [
       "RandomForestClassifier(max_depth=9, n_estimators=50)"
      ]
     },
     "execution_count": 95,
     "metadata": {},
     "output_type": "execute_result"
    }
   ],
   "source": [
    "estimator = RandomForestClassifier()\n",
    "parameters = {'max_depth': [1, 2, 3, 4, 5, 6, 7, 8, 9],\n",
    "              'criterion': ['gini', 'entropy'],\n",
    "              'n_estimators': [50, 100],\n",
    "              'min_samples_leaf': [1, 3] }\n",
    "scoring = ['accuracy', \n",
    "           'precision_micro']\n",
    "\n",
    "clf = RandomizedSearchCV(estimator=estimator, \n",
    "                   param_distributions=parameters,\n",
    "                   cv=10,\n",
    "                   scoring=scoring,\n",
    "                   refit='accuracy')\n",
    "search = clf.fit(X_train, y_train)\n",
    "\n",
    "\n",
    "print(search.best_estimator_)\n",
    "print(search.best_score_)\n",
    "print(search.best_params_)\n",
    "print(search.n_splits_)\n",
    "\n",
    "# list(ParameterGrid(parameters))\n",
    "search.best_estimator_"
   ]
  },
  {
   "cell_type": "code",
   "execution_count": null,
   "metadata": {},
   "outputs": [],
   "source": []
  }
 ],
 "metadata": {
  "kernelspec": {
   "display_name": "Python 3",
   "language": "python",
   "name": "python3"
  },
  "language_info": {
   "codemirror_mode": {
    "name": "ipython",
    "version": 3
   },
   "file_extension": ".py",
   "mimetype": "text/x-python",
   "name": "python",
   "nbconvert_exporter": "python",
   "pygments_lexer": "ipython3",
   "version": "3.8.4"
  }
 },
 "nbformat": 4,
 "nbformat_minor": 4
}
