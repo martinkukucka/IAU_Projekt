{
 "cells": [
  {
   "cell_type": "markdown",
   "metadata": {},
   "source": [
    "# Projekt IAU  \n",
    "## 3. časť - Strojové učenie\n",
    "### Vypracovali: Martin Kukučka, Martin Jankuliak\n",
    "### Číslo datasetu: 80\n",
    "### Podiel práce: 50/50"
   ]
  },
  {
   "cell_type": "markdown",
   "metadata": {},
   "source": [
    "https://github.com/FIIT-IAU/2020-2021/blob/master/cvicenia/project.md"
   ]
  },
  {
   "cell_type": "markdown",
   "metadata": {},
   "source": [
    "## Predspracovanie validačného datasetu a opis prípadných zmien"
   ]
  },
  {
   "cell_type": "code",
   "execution_count": 39,
   "metadata": {},
   "outputs": [],
   "source": [
    "import pandas as pd\n",
    "import numpy as np\n",
    "import matplotlib.pyplot as plt\n",
    "import seaborn as sns\n",
    "import scipy.stats as stats\n",
    "import statsmodels.api as sm\n",
    "import glob\n",
    "import re\n",
    "import datetime\n",
    "from datetime import datetime\n",
    "from numpy.random import seed \n",
    "from numpy.random import randn \n",
    "from numpy import mean\n",
    "from numpy import std\n",
    "from sklearn.impute import SimpleImputer\n",
    "from sklearn.pipeline import Pipeline\n",
    "from numpy import exp\n",
    "from sklearn.preprocessing import PowerTransformer\n",
    "from matplotlib import pyplot\n",
    "\n",
    "from numpy import isnan\n",
    "from pandas import read_csv\n",
    "from sklearn.impute import KNNImputer\n",
    "\n",
    "import category_encoders as ce\n",
    "\n",
    "from numpy import percentile\n",
    "\n",
    "import scipy as sc\n",
    "from pandas import read_csv\n",
    "\n",
    "\n",
    "from sklearn.preprocessing import PowerTransformer\n",
    "\n",
    "\n",
    "\n",
    "\n",
    "\n",
    "\n",
    "from sklearn.metrics import classification_report, confusion_matrix\n",
    "\n",
    "\n",
    "\n",
    "\n",
    "\n",
    "\n",
    "\n",
    "\n",
    "\n",
    "\n",
    "\n",
    "\n",
    "\n",
    "\n",
    "\n",
    "%matplotlib inline\n",
    "import pandas as pd\n",
    "import numpy as np\n",
    "from sklearn.neighbors import KNeighborsClassifier\n",
    "import matplotlib.pyplot as plt\n",
    "from sklearn import metrics\n",
    "import seaborn as sns\n",
    "from sklearn.model_selection import RandomizedSearchCV, GridSearchCV\n",
    "from scipy import stats\n",
    "from sklearn.model_selection import StratifiedKFold\n",
    "import scipy.stats as stats\n",
    "from sklearn.model_selection import RandomizedSearchCV\n",
    "import datetime\n",
    "from sklearn.model_selection import ParameterGrid\n",
    "from sklearn.model_selection import GridSearchCV\n",
    "from datetime import datetime,date\n",
    "from datetime import timedelta\n",
    "from dateutil.relativedelta import relativedelta\n",
    "import json\n",
    "import re\n",
    "from sklearn.feature_selection import SelectKBest\n",
    "from sklearn.feature_selection import chi2\n",
    "import dateutil.parser as parser\n",
    "import statsmodels.api as sm\n",
    "import sqlite3\n",
    "from sklearn.model_selection import cross_val_score\n",
    "from sklearn.metrics import accuracy_score\n",
    "import sklearn\n",
    "from sklearn.feature_selection import SelectFromModel\n",
    "from scipy.stats import uniform, randint\n",
    "from sklearn.model_selection import train_test_split\n",
    "import category_encoders as ce\n",
    "from sklearn import preprocessing\n",
    "from sklearn.pipeline import Pipeline\n",
    "from sklearn.pipeline import make_pipeline\n",
    "from sklearn.base import TransformerMixin,BaseEstimator\n",
    "\n",
    "from sklearn.metrics import classification_report, confusion_matrix\n",
    "from sklearn import tree\n",
    "from sklearn.tree import DecisionTreeClassifier\n",
    "from sklearn.ensemble import RandomForestClassifier\n",
    "from sklearn.datasets import make_classification\n",
    "\n",
    "from sklearn.model_selection import cross_val_score, GridSearchCV, KFold, RandomizedSearchCV, train_test_split\n",
    "\n",
    "from sklearn.metrics import f1_score\n",
    "from sklearn.metrics import fbeta_score\n",
    "\n",
    "import matplotlib.pyplot as plt\n",
    "from sklearn.metrics import ConfusionMatrixDisplay\n",
    "from sklearn.metrics import confusion_matrix\n",
    "from sklearn.datasets import load_iris"
   ]
  },
  {
   "cell_type": "markdown",
   "metadata": {},
   "source": [
    "Funkcia, ktorá nahradí chýbajúce hodnoty v stĺpci column modusom (najviac vyskytovaný element). Funkcia využíva SimpleImputer."
   ]
  },
  {
   "cell_type": "code",
   "execution_count": 40,
   "metadata": {},
   "outputs": [],
   "source": [
    "def get_mode(data_frame, column):\n",
    "    data = data_frame[column].values.reshape(-1, 1)\n",
    "    imp = SimpleImputer(missing_values=np.nan, strategy=\"most_frequent\")\n",
    "    data_frame[column] = imp.fit_transform(data)\n",
    "    return data_frame"
   ]
  },
  {
   "cell_type": "markdown",
   "metadata": {},
   "source": [
    "Funkcia, ktorá nahradí chýbajúce hodnoty v stĺpci column mediánom."
   ]
  },
  {
   "cell_type": "code",
   "execution_count": 41,
   "metadata": {},
   "outputs": [],
   "source": [
    "def get_median(data_frame, column):\n",
    "    median = data_frame[column].median()\n",
    "    data_frame[column].fillna(median, inplace = True)\n",
    "    return data_frame"
   ]
  },
  {
   "cell_type": "markdown",
   "metadata": {},
   "source": [
    "Funkcia, ktorá nahradí chýbajúce hodnoty v stĺpci column priemerom."
   ]
  },
  {
   "cell_type": "code",
   "execution_count": 42,
   "metadata": {},
   "outputs": [],
   "source": [
    "def get_mean(data_frame, column):\n",
    "    mean = data_frame[column].mean()\n",
    "    data_frame[column].fillna(mean, inplace = True)\n",
    "    return data_frame"
   ]
  },
  {
   "cell_type": "markdown",
   "metadata": {},
   "source": [
    "Naplnenie chýbajúcich hodnôt v stĺpci / stĺpcoch modusom."
   ]
  },
  {
   "cell_type": "code",
   "execution_count": 43,
   "metadata": {},
   "outputs": [],
   "source": [
    " def fill_mode(data_frame, columns):\n",
    "    for col in columns:\n",
    "        data_frame = get_mode(data_frame, col)\n",
    "    \n",
    "    return data_frame"
   ]
  },
  {
   "cell_type": "markdown",
   "metadata": {},
   "source": [
    "Naplnenie chýbajúcich hodnôt v stĺpci / stĺpcoch mediánom."
   ]
  },
  {
   "cell_type": "code",
   "execution_count": 44,
   "metadata": {},
   "outputs": [],
   "source": [
    " def fill_median(data_frame, columns):\n",
    "    for col in columns:\n",
    "        data_frame = get_median(data_frame, col)\n",
    "        \n",
    "    return data_frame"
   ]
  },
  {
   "cell_type": "markdown",
   "metadata": {},
   "source": [
    "Naplnenie chýbajúcich hodnôt v stĺpci / stĺpcoch priemerom."
   ]
  },
  {
   "cell_type": "code",
   "execution_count": 45,
   "metadata": {},
   "outputs": [],
   "source": [
    " def fill_mean(data_frame, columns):\n",
    "    for col in columns:\n",
    "        data_frame = get_mean(data_frame, col)\n",
    "        \n",
    "    return data_frame"
   ]
  },
  {
   "cell_type": "markdown",
   "metadata": {},
   "source": [
    "Pomocou tejto funkcie prevádzame adresu na numerickú hodnotu tak, že z danej adresy zistíme ZIP code / PSČ a uložíme ho do pôvodného záznamu."
   ]
  },
  {
   "cell_type": "code",
   "execution_count": 46,
   "metadata": {},
   "outputs": [],
   "source": [
    "def get_zip(data_frame, column):\n",
    "    for i in range(len(data_frame[column])):\n",
    "        zipcode = str(data_frame[column][i])\n",
    "        data_frame.loc[i, column] = zipcode[len(zipcode) - 5:len(zipcode)]\n",
    "    data_frame[column] = data_frame[column].astype('int')\n",
    "    return data_frame"
   ]
  },
  {
   "cell_type": "markdown",
   "metadata": {},
   "source": [
    "Funkcia ráta vek respondentov v záznamoch. Našou analýzou sme zistili, že záznamy sú robené v rokoch 2018 a 2019. Z každého záznamu vezmeme atribút age a ak je hodnota tohto atribútu záporná alebo trojciferná (uvažujeme ako outliery), tak pomocou atribútu date-of-birth vypočítame nový vek. Ak nový vek zostane naďalej záporný alebo trojciferný, tak jednoducho tieto záznamy vymažeme. "
   ]
  },
  {
   "cell_type": "code",
   "execution_count": 47,
   "metadata": {},
   "outputs": [],
   "source": [
    "def calculate_age(data_frame, date_of_birth, age):\n",
    "    for i in range(len(data_frame[date_of_birth])):\n",
    "        curr_age = int(data_frame[age][i])\n",
    "        \n",
    "        if curr_age < 0 or curr_age > 99:\n",
    "            year = data_frame[date_of_birth][i]\n",
    "            year = year[:4]            \n",
    "            new_age = 2019 - int(year)\n",
    "            \n",
    "            if new_age < 0 or new_age > 99:\n",
    "                data_frame = data_frame.drop(i)\n",
    "            else:\n",
    "                data_frame.loc[i, age] = str(new_age)\n",
    "                \n",
    "    data_frame = data_frame.reset_index()\n",
    "    data_frame = data_frame.drop('index', 1)        \n",
    "    return data_frame"
   ]
  },
  {
   "cell_type": "markdown",
   "metadata": {},
   "source": [
    "Funkcia, ktorá zjednotí duplikáty."
   ]
  },
  {
   "cell_type": "code",
   "execution_count": 48,
   "metadata": {},
   "outputs": [],
   "source": [
    "def unify_rows(data_frame):\n",
    "    aggregation_functions = {}\n",
    "    for col in data_frame.columns:\n",
    "        aggregation_functions[col] = \"first\" \n",
    "\n",
    "    return data_frame.groupby(data_frame['name'], as_index=False).aggregate(aggregation_functions)"
   ]
  },
  {
   "cell_type": "markdown",
   "metadata": {},
   "source": [
    "Pomocou tejto funkcie sme nahradzovali formáty hodnôt iba jednou hodnotou. Napr. hodnoty v atribúte pregnant (F, FALSE, f) sme nahradili hodnotou f."
   ]
  },
  {
   "cell_type": "code",
   "execution_count": 49,
   "metadata": {},
   "outputs": [],
   "source": [
    "def cleanse_some_values(data_frame, column, change_from, change_to):\n",
    "    for i in range(len(change_from)):\n",
    "        data_frame.loc[data_frame[column] == change_from[i], column] = change_to"
   ]
  },
  {
   "cell_type": "markdown",
   "metadata": {},
   "source": [
    "V tejto funkcií sme pre každý atribút, kde sme uznali, že by bolo vhodné, zjednotili dáta. Vyuzili sme pipeline-u."
   ]
  },
  {
   "cell_type": "code",
   "execution_count": 50,
   "metadata": {},
   "outputs": [],
   "source": [
    "def unify_values(data_frame):\n",
    "    unify_ppl = Pipeline([\n",
    "                    ('1. step',  cleanse_some_values(data_frame, 'pregnant', [\"F\", \"FALSE\"], \"f\")),\n",
    "                    ('2. step', cleanse_some_values(data_frame, 'pregnant', [\"T\", \"TRUE\"], \"t\")),\n",
    "\n",
    "                    ('3. step', cleanse_some_values(data_frame, 'marital-status', [\" Widowed\", \" Never-married\", \" Divorced\"], \"single\")),\n",
    "                    ('4. step',cleanse_some_values(data_frame, 'marital-status', [\" Married-civ-spouse\", \" Separated\", \" Married-AF-spouse\", \" Married-spouse-absent\"], \"married\")),\n",
    "\n",
    "                    ('5. step', cleanse_some_values(data_frame, 'education', [\" 1st-4th\", \" 5th-6th\", \" 7th-8th\", \" 9th\", \" 10th\", \" 11th\", \" 12th\"], \"Primary school\")),\n",
    "                    ('6. step', cleanse_some_values(data_frame, 'education', [\" Bachelors\", \" Masters\", \" Doctorate\"], \"College\")),\n",
    "                    ('7. step', cleanse_some_values(data_frame, 'education', [\" Assoc-voc\", \" HS-grad\", \" Prof-school\", \" Assoc-acdm\", \" Some-college\"], \"Highschool\")),\n",
    "                    ('8. step', cleanse_some_values(data_frame, 'education', [\" Preschool\"], \"Preschool\")),\n",
    "\n",
    "                    ('9. step', cleanse_some_values(data_frame, 'workclass', [\" Private\"], \"private\")),\n",
    "                    ('10. step', cleanse_some_values(data_frame, 'workclass', [\" Self-emp-not-inc\", \" Self-emp-inc\", \"self-emp-inc\", \"self-emp-not-inc\"], \"self-emp\")),\n",
    "                    ('11. step', cleanse_some_values(data_frame, 'workclass', [\" Never-worked\", \" Without-pay\"], \"not-working\")),\n",
    "                    ('12. step', cleanse_some_values(data_frame, 'workclass', [\" Local-gov\", \"local-gov\", \" State-gov\", \"state-gov\", \" Federal-gov\", \"federal-gov\"], \"government\")),\n",
    "                    ('13. step', cleanse_some_values(data_frame, 'workclass', [\" ?\", \"?\"], np.nan))\n",
    "                    ])\n",
    "    unify_ppl = unify_ppl.fit(data_frame)\n",
    "    data_frame = unify_ppl.transform(data_frame)\n",
    "    return data_frame"
   ]
  },
  {
   "cell_type": "markdown",
   "metadata": {},
   "source": [
    "Funkcia na zjednotenie formátu dátumov vo formáte YEAR-MONTH-DAY."
   ]
  },
  {
   "cell_type": "code",
   "execution_count": 51,
   "metadata": {},
   "outputs": [],
   "source": [
    "def change_date_format(data_frame, column):\n",
    "    for i in range(len(data_frame[column])):\n",
    "        date_format = str(data_frame[column][i])\n",
    "        date_format = date_format.replace('/', '-')\n",
    "        if date_format[2] == '-' and len(date_format) < 10:\n",
    "            temp_year = int(date_format[:2])\n",
    "            if(temp_year <= 20):\n",
    "                if(temp_year < 10):\n",
    "                    year = '200'+str(temp_year)\n",
    "                else:\n",
    "                    year = '20'+str(temp_year)\n",
    "            else:\n",
    "                year = '19'+str(temp_year)\n",
    "            data_frame.loc[i, column] = year+date_format[2:10]\n",
    "        elif date_format[2] == '-' and len(date_format) == 10:\n",
    "            day = date_format[:2]\n",
    "            month = date_format[3:5]\n",
    "            year = date_format[6:10]\n",
    "            data_frame.loc[i, column] = year+'-'+month+'-'+day\n",
    "        else:\n",
    "            data_frame.loc[i, column] = date_format[:10]\n",
    "    return data_frame"
   ]
  },
  {
   "cell_type": "markdown",
   "metadata": {},
   "source": [
    "Funkcia zmaže outliery (v našom zadaní sme sa snažili outliery radšej nahrádzať ako mazať, preto nebolo potrebné túto funkciu použiť)."
   ]
  },
  {
   "cell_type": "code",
   "execution_count": 52,
   "metadata": {},
   "outputs": [],
   "source": [
    "# def remove_outliers(data_frame, column):\n",
    "#     a = data_frame[column]\n",
    "#     lower = a.quantile(0.25) - 1.5 * stats.iqr(a)\n",
    "#     upper = a.quantile(0.75) + 1.5 * stats.iqr(a)\n",
    "    \n",
    "#     outliers = a[(a > upper) | (a < lower)]\n",
    "#     data_frame = data_frame.drop(outliers.index)\n",
    "    \n",
    "#     data_frame = data_frame.reset_index()\n",
    "#     data_frame = data_frame.drop('index', 1)\n",
    "    \n",
    "#     return data_frame"
   ]
  },
  {
   "cell_type": "markdown",
   "metadata": {},
   "source": [
    "Ďalšia funkcia na zmazanie outlierov (Interquartile Range Method)."
   ]
  },
  {
   "cell_type": "code",
   "execution_count": 53,
   "metadata": {},
   "outputs": [],
   "source": [
    "# def remove_outliers_iqr(data_frame, column):\n",
    "#     seed(1)\n",
    "#     data = data_frame[column]\n",
    "#     sns.distplot(data)\n",
    "\n",
    "#     # calculate interquartile range\n",
    "#     q25, q75 = percentile(data, 25), percentile(data, 75)\n",
    "#     iqr = q75 - q25\n",
    "#     print('Percentiles: 25th=%.3f, 75th=%.3f, IQR=%.3f' % (q25, q75, iqr)) \n",
    "\n",
    "#     # calculate the outlier cutoff\n",
    "#     cut_off = iqr * 1.5\n",
    "#     lower, upper = q25 - cut_off, q75 + cut_off\n",
    "#     print('cutoff=', cut_off, 'lower=', lower, 'upper=', upper)\n",
    "\n",
    "#     # identify outliers\n",
    "#     outliers = data[(data > upper) | (data < lower)]\n",
    "#     print('Identified outliers: %d' % len(outliers))\n",
    "\n",
    "#     # remove outliers\n",
    "#     outliers_removed = [x for x in data if x >= lower and x <= upper] \n",
    "#     print('Non-outlier observations: %d' % len(outliers_removed))\n",
    "\n",
    "#     sns.distplot(outliers_removed)\n",
    "    \n",
    "#     data_frame = data_frame.drop(outliers.index)\n",
    "    \n",
    "#     data_frame = data_frame.reset_index()\n",
    "#     data_frame = data_frame.drop('index', 1)\n",
    "\n",
    "#     return data_frame"
   ]
  },
  {
   "cell_type": "markdown",
   "metadata": {},
   "source": [
    "Funkcia slúži na zmenu hodnoty \"t\" atribútu pregnant na \"f\" pre mužov (\" Male\" z atribútu sex)."
   ]
  },
  {
   "cell_type": "code",
   "execution_count": 54,
   "metadata": {},
   "outputs": [],
   "source": [
    "def man_not_pregnant(data_frame, sex, pregnant):\n",
    "    for i in range(len(data_frame[sex])):\n",
    "        if(data_frame[sex][i] == \" Male\") and data_frame[pregnant][i] != \"f\":\n",
    "            data_frame.loc[i, pregnant] = \"f\"\n",
    "    return data_frame"
   ]
  },
  {
   "cell_type": "markdown",
   "metadata": {},
   "source": [
    "Funkcia transformácie numerických dát, aby boli dáta lepšie distribuované. Zvolili sme metódu yeo-johnson, pretože pracuje nielen s pozitívnymi ale aj s negatívnymi hodnotami."
   ]
  },
  {
   "cell_type": "code",
   "execution_count": 55,
   "metadata": {},
   "outputs": [],
   "source": [
    "def transform_data(data_frame, columns):\n",
    "    for col in columns:\n",
    "        data = data_frame[col].values.reshape(-1, 1)\n",
    "        power = PowerTransformer(method='yeo-johnson', standardize=True) \n",
    "        data_frame[col] = power.fit_transform(data)\n",
    "        \n",
    "    return data_frame"
   ]
  },
  {
   "cell_type": "markdown",
   "metadata": {},
   "source": [
    "Funkcia mení kategorické dáta na numerické. Typ udáva akou formou prebieha kódovanie."
   ]
  },
  {
   "cell_type": "code",
   "execution_count": 56,
   "metadata": {},
   "outputs": [],
   "source": [
    "def encoding(data_frame, column, typ):\n",
    "    data = data_frame[column]\n",
    "\n",
    "    if typ == 0:\n",
    "        ce_ordinal = ce.OneHotEncoder(cols=[column])\n",
    "        data_frame[column] = ce_ordinal.fit_transform(data)\n",
    "        \n",
    "    elif typ == 1:\n",
    "        ce_ordinal = ce.OrdinalEncoder(cols=[column])\n",
    "        data_frame[column] = ce_ordinal.fit_transform(data)\n",
    "    \n",
    "    return data_frame"
   ]
  },
  {
   "cell_type": "markdown",
   "metadata": {},
   "source": [
    "Funkcia mení kategorické dáta atribútu pregnant na numerické 0 - not pregnant, 1 - pregnant."
   ]
  },
  {
   "cell_type": "code",
   "execution_count": 57,
   "metadata": {},
   "outputs": [],
   "source": [
    "def encode_pregnant(data_frame):\n",
    "    cleanse_some_values(data_frame, 'pregnant', [\"f\"], 0)\n",
    "    cleanse_some_values(data_frame, 'pregnant', [\"t\"], 1)\n",
    "    data_frame['pregnant'] = data_frame['pregnant'].astype('int')\n",
    "    return data_frame"
   ]
  },
  {
   "cell_type": "markdown",
   "metadata": {},
   "source": [
    "Zakódovanie atribútov obsahujúcich kategorické hodnoty. "
   ]
  },
  {
   "cell_type": "code",
   "execution_count": 58,
   "metadata": {},
   "outputs": [],
   "source": [
    "def encode_objects(data_frame):\n",
    "    data_frame = encoding(data_frame, 'sex', 0)\n",
    "    data_frame = encoding(data_frame, 'race', 1)\n",
    "    data_frame = encoding(data_frame, 'marital-status', 1)\n",
    "    data_frame = encoding(data_frame, 'occupation', 1)\n",
    "    data_frame = encode_pregnant(data_frame)\n",
    "    data_frame = encoding(data_frame, 'relationship', 1)\n",
    "    data_frame = encoding(data_frame, 'education', 1)\n",
    "    data_frame = encoding(data_frame, 'income', 0)\n",
    "    data_frame = encoding(data_frame, 'native-country', 1)\n",
    "    data_frame = encoding(data_frame, 'workclass', 1)\n",
    "    \n",
    "    return data_frame"
   ]
  },
  {
   "cell_type": "markdown",
   "metadata": {},
   "source": [
    "Funkcia na načítanie .csv súborov, ich spojenie podľa atribútov name a address a vyhodenie nepotrebných atribútov."
   ]
  },
  {
   "cell_type": "code",
   "execution_count": 59,
   "metadata": {},
   "outputs": [],
   "source": [
    "def load_data(typ):\n",
    "    if(typ == 0):\n",
    "        df_other = read_csv(\"data/other_train.csv\")\n",
    "        df_personal = read_csv(\"data/personal_train.csv\")\n",
    "    elif(typ == 1):\n",
    "        df_other = read_csv(\"data/other_valid.csv\")\n",
    "        df_personal = read_csv(\"data/personal_valid.csv\")\n",
    "\n",
    "    data_frame1 = pd.merge(df_personal, df_other, on=['name', 'address'])\n",
    "\n",
    "    data_frame = unify_rows(data_frame1)\n",
    "\n",
    "    data_frame = data_frame.drop('Unnamed: 0_x', 1)\n",
    "    data_frame = data_frame.drop('Unnamed: 0_y', 1)\n",
    "\n",
    "    return data_frame"
   ]
  },
  {
   "cell_type": "markdown",
   "metadata": {},
   "source": [
    "Funkia detailnejšie rozďeluje atribút medical-info na ďalšie atribúty (do viacero stĺpcov), ktoré sa potom pretypujú na typ float."
   ]
  },
  {
   "cell_type": "code",
   "execution_count": 60,
   "metadata": {},
   "outputs": [],
   "source": [
    "def split_medical_info(data_frame):\n",
    "    medical_line = data_frame[\"medical_info\"].str.replace(':', ',').str.replace(\"'\", '').str.replace(\"{\", '').str.replace(\"}\", '')\n",
    "    medical_elements = medical_line.str.split(\",\", -1, expand = True)\n",
    "\n",
    "    diabetes_dataset = {}\n",
    "\n",
    "    for index in range(0, medical_elements.shape[1]):\n",
    "        i = medical_elements[0][0]\n",
    "        if(index % 2 == 0):\n",
    "            diabetes_dataset[medical_elements[index][0]] = medical_elements[index + 1]\n",
    "\n",
    "    diabetes_dataset = pd.DataFrame(diabetes_dataset)\n",
    "    data_frame = pd.concat([data_frame, diabetes_dataset.reindex(data_frame.index)], axis = 1)\n",
    "    data_frame = data_frame.drop(columns = ['medical_info'])\n",
    "    \n",
    "    data_frame['mean_glucose'] = data_frame['mean_glucose'].astype(float)\n",
    "    data_frame['std_glucose'] = data_frame['std_glucose'].astype(float)\n",
    "    data_frame['kurtosis_glucose'] = data_frame['kurtosis_glucose'].astype(float)\n",
    "    data_frame['skewness_glucose'] = data_frame['skewness_glucose'].astype(float)\n",
    "    data_frame['mean_oxygen'] = data_frame['mean_oxygen'].astype(float)\n",
    "    data_frame['std_oxygen'] = data_frame['std_oxygen'].astype(float)\n",
    "    data_frame['kurtosis_oxygen'] = data_frame['kurtosis_oxygen'].astype(float)\n",
    "    data_frame['skewness_oxygen'] = data_frame['skewness_oxygen'].astype(float)\n",
    "    \n",
    "    return data_frame"
   ]
  },
  {
   "cell_type": "markdown",
   "metadata": {},
   "source": [
    "Funkcia nahradzuje outliery hodnotami z 5% alebo 95% kvartilu. Použili sme Interquartile Range Method."
   ]
  },
  {
   "cell_type": "code",
   "execution_count": 61,
   "metadata": {},
   "outputs": [],
   "source": [
    "def replace_outliers(data_frame, columns):\n",
    "    \n",
    "    for i in range(len(columns)):\n",
    "#         sns.distplot(data_frame[columns[i]])\n",
    "\n",
    "        # calculate interquartile range\n",
    "        q5, q95 = percentile(data_frame[columns[i]], 5), percentile(data_frame[columns[i]], 95)\n",
    "        iqr = q95 - q5\n",
    "#         print('Percentiles: 5th=%.3f, 95th=%.3f, IQR=%.3f' % (q5, q95, iqr)) \n",
    "\n",
    "        # calculate the outlier cutoff\n",
    "        cut_off = iqr * 1.5\n",
    "        lower, upper = q5 - cut_off, q95 + cut_off\n",
    "#         print('cutoff=', cut_off, 'lower=', lower + cut_off, 'upper=', upper - cut_off)\n",
    "\n",
    "        # identify outliers\n",
    "        outliers = data_frame[columns[i]][(data_frame[columns[i]] > upper) | (data_frame[columns[i]] < lower)]\n",
    "#         print('Identified outliers: %d' % len(outliers))\n",
    "\n",
    "        # data without outliers\n",
    "        outliers_removed = data_frame[columns[i]][(data_frame[columns[i]] <= upper) & (data_frame[columns[i]] >= lower)]\n",
    "#         print('Non-outlier observations: %d' % len(outliers_removed))\n",
    "\n",
    "\n",
    "        for j, value in data_frame.iterrows():\n",
    "                    if value[columns[i]] < lower:\n",
    "                        data_frame.loc[j, columns[i]] = lower\n",
    "                    elif value[columns[i]] > upper:\n",
    "                        data_frame.loc[j, columns[i]] = upper\n",
    "\n",
    "#         sns.distplot(data_frame[columns[i]])\n",
    "    \n",
    "    return data_frame"
   ]
  },
  {
   "cell_type": "markdown",
   "metadata": {},
   "source": [
    "Kedže niektoré dáta nemôžu byť záporné (jedná sa o štandardnú odchýlku), tak záporné hodnoty tohto atribútu zmeníme na kladné."
   ]
  },
  {
   "cell_type": "code",
   "execution_count": 62,
   "metadata": {},
   "outputs": [],
   "source": [
    "def change_to_positive(data_frame, col):\n",
    "    for i in range(len(data_frame[col])):\n",
    "        data = data_frame[col][i]\n",
    "        if data < 0:\n",
    "            data_frame.loc[i, col] = abs(data)\n",
    "    return data_frame"
   ]
  },
  {
   "cell_type": "markdown",
   "metadata": {},
   "source": [
    "Využitie kNN imputácie na doplnenie chýbajúcich hodnôt."
   ]
  },
  {
   "cell_type": "code",
   "execution_count": 63,
   "metadata": {},
   "outputs": [],
   "source": [
    "def knn(data_frame, columns):\n",
    "    # summarize total missing\n",
    "#     print(\"Missing: \" + str(data_frame.isnull().sum().sum()))\n",
    "\n",
    "#     temp = [col for col in data_frame.columns if data_frame[col].dtypes != 'O']\n",
    "\n",
    "    temp = columns\n",
    "\n",
    "    # define imputer\n",
    "    imputer = KNNImputer()\n",
    "\n",
    "    # fit on the dataset\n",
    "    imputer.fit(data_frame[temp])\n",
    "\n",
    "    # transform the dataset\n",
    "    data_frame[temp] = imputer.transform(data_frame[temp])\n",
    "    Xtrans = imputer.transform(data_frame[temp])\n",
    "\n",
    "    # summarize total missing\n",
    "#     print(\"Missing: \" + str(sum(isnan(Xtrans).flatten())))\n",
    "    \n",
    "    return data_frame"
   ]
  },
  {
   "cell_type": "code",
   "execution_count": 64,
   "metadata": {},
   "outputs": [],
   "source": [
    "# def execute():\n",
    "#     for i in range(2):\n",
    "#         df_merged = load_data(i)\n",
    "#         df_merged = split_medical_info(df_merged)\n",
    "#         df_merged = unify_values(df_merged)\n",
    "#         df_merged = change_date_format(df_merged,'date_of_birth')\n",
    "#         df_merged = change_to_positive(df_merged, 'std_glucose')\n",
    "\n",
    "#         df_merged = knn(df_merged, ['mean_glucose', 'std_glucose', 'kurtosis_glucose', 'skewness_glucose', \n",
    "#                                 'mean_oxygen', 'std_oxygen', 'kurtosis_oxygen', 'skewness_oxygen'])\n",
    "#         df_merged = fill_median(df_merged, ['education-num', 'fnlwgt', 'hours-per-week'])\n",
    "#         df_merged = fill_mode(df_merged, ['class', 'race', 'marital-status', 'occupation', 'pregnant', 'relationship', \n",
    "#                                       'education', 'income', 'native-country', 'workclass'])\n",
    "#         df_merged = fill_mean(df_merged, ['capital-gain', 'capital-loss'])\n",
    "#         df_merged = man_not_pregnant(df_merged, 'sex', 'pregnant')\n",
    "#         df_merged = get_zip(df_merged,'address')\n",
    "#         df_merged = df_merged.drop('name', 1)\n",
    "#         df_merged = calculate_age(df_merged, 'date_of_birth', 'age')\n",
    "#         df_merged = df_merged.drop('date_of_birth', 1)\n",
    "#         df_merged = encode_objects(df_merged)\n",
    "#         df_merged = replace_outliers(df_merged, ['capital-gain', 'capital-loss', 'skewness_oxygen'])\n",
    "#     # # V analýze sme zistili, že v atribúte capital-loss sa všetky outliere nahradili rovnakou hodnotou, preto tento atribút \n",
    "#     # # nemá žiadnu výpovednú hodnotu a je vhodné ho zmazať (zakomentovať, ak atribút mazať nechceme).\n",
    "#         df_merged = df_merged.drop('capital-loss', 1)\n",
    "#         df_merged = transform_data(df_merged, ['mean_glucose', 'std_glucose', 'kurtosis_glucose', 'skewness_glucose', \n",
    "#                                 'mean_oxygen', 'std_oxygen', 'kurtosis_oxygen', 'skewness_oxygen'])\n",
    "#     # # Uloženie upravenej dátovej sady do .csv súboru\n",
    "#         if i == 0:\n",
    "#             df_merged.to_csv(r'data\\train.csv')\n",
    "#         elif i == 1:\n",
    "#             df_merged.to_csv(r'data\\valid.csv')"
   ]
  },
  {
   "cell_type": "markdown",
   "metadata": {},
   "source": [
    "Execute funkcia je hlavná funkcia, ktorá spúšťa všetky ostatné."
   ]
  },
  {
   "cell_type": "code",
   "execution_count": 65,
   "metadata": {},
   "outputs": [],
   "source": [
    "# def execute():\n",
    "#     for i in range(2):\n",
    "#         df_merged = load_data(i)\n",
    "#         df_merged = split_medical_info(df_merged)\n",
    "#         df_merged = unify_values(df_merged)\n",
    "#         df_merged = change_date_format(df_merged,'date_of_birth')\n",
    "#         df_merged = change_to_positive(df_merged, 'std_glucose')\n",
    "\n",
    "#         df_merged = knn(df_merged, ['mean_glucose', 'std_glucose', 'kurtosis_glucose', 'skewness_glucose', \n",
    "#                                 'mean_oxygen', 'std_oxygen', 'kurtosis_oxygen', 'skewness_oxygen'])\n",
    "#         df_merged = fill_median(df_merged, ['education-num', 'fnlwgt', 'hours-per-week'])\n",
    "#         df_merged = fill_mode(df_merged, ['class', 'race', 'marital-status', 'occupation', 'pregnant', 'relationship', \n",
    "#                                       'education', 'income', 'native-country', 'workclass'])\n",
    "#         df_merged = fill_mean(df_merged, ['capital-gain', 'capital-loss'])\n",
    "#         df_merged = man_not_pregnant(df_merged, 'sex', 'pregnant')\n",
    "#         df_merged = get_zip(df_merged,'address')\n",
    "#         df_merged = df_merged.drop('name', 1)\n",
    "#         df_merged = calculate_age(df_merged, 'date_of_birth', 'age')\n",
    "#         df_merged = df_merged.drop('date_of_birth', 1)\n",
    "#         df_merged = encode_objects(df_merged)\n",
    "#         df_merged = replace_outliers(df_merged, ['capital-gain', 'capital-loss', 'skewness_oxygen'])\n",
    "#     # # V analýze sme zistili, že v atribúte capital-loss sa všetky outliere nahradili rovnakou hodnotou, preto tento atribút \n",
    "#     # # nemá žiadnu výpovednú hodnotu a je vhodné ho zmazať (zakomentovať, ak atribút mazať nechceme).\n",
    "#         df_merged = df_merged.drop('capital-loss', 1)\n",
    "#         df_merged = transform_data(df_merged, ['mean_glucose', 'std_glucose', 'kurtosis_glucose', 'skewness_glucose', \n",
    "#                                 'mean_oxygen', 'std_oxygen', 'kurtosis_oxygen', 'skewness_oxygen'])\n",
    "#     # # Uloženie upravenej dátovej sady do .csv súboru\n",
    "#         if i == 0:\n",
    "#             df_merged.to_csv(r'data\\train.csv')\n",
    "#         elif i == 1:\n",
    "#             df_merged.to_csv(r'data\\valid.csv')"
   ]
  },
  {
   "cell_type": "markdown",
   "metadata": {},
   "source": [
    "Spustenie."
   ]
  },
  {
   "cell_type": "code",
   "execution_count": 66,
   "metadata": {
    "scrolled": true
   },
   "outputs": [
    {
     "name": "stderr",
     "output_type": "stream",
     "text": [
      "c:\\python38\\lib\\site-packages\\category_encoders\\utils.py:21: FutureWarning: is_categorical is deprecated and will be removed in a future version.  Use is_categorical_dtype instead\n",
      "  elif pd.api.types.is_categorical(cols):\n",
      "c:\\python38\\lib\\site-packages\\category_encoders\\utils.py:21: FutureWarning: is_categorical is deprecated and will be removed in a future version.  Use is_categorical_dtype instead\n",
      "  elif pd.api.types.is_categorical(cols):\n",
      "c:\\python38\\lib\\site-packages\\category_encoders\\utils.py:21: FutureWarning: is_categorical is deprecated and will be removed in a future version.  Use is_categorical_dtype instead\n",
      "  elif pd.api.types.is_categorical(cols):\n",
      "c:\\python38\\lib\\site-packages\\category_encoders\\utils.py:21: FutureWarning: is_categorical is deprecated and will be removed in a future version.  Use is_categorical_dtype instead\n",
      "  elif pd.api.types.is_categorical(cols):\n",
      "c:\\python38\\lib\\site-packages\\category_encoders\\utils.py:21: FutureWarning: is_categorical is deprecated and will be removed in a future version.  Use is_categorical_dtype instead\n",
      "  elif pd.api.types.is_categorical(cols):\n",
      "c:\\python38\\lib\\site-packages\\category_encoders\\utils.py:21: FutureWarning: is_categorical is deprecated and will be removed in a future version.  Use is_categorical_dtype instead\n",
      "  elif pd.api.types.is_categorical(cols):\n",
      "c:\\python38\\lib\\site-packages\\category_encoders\\utils.py:21: FutureWarning: is_categorical is deprecated and will be removed in a future version.  Use is_categorical_dtype instead\n",
      "  elif pd.api.types.is_categorical(cols):\n",
      "c:\\python38\\lib\\site-packages\\category_encoders\\utils.py:21: FutureWarning: is_categorical is deprecated and will be removed in a future version.  Use is_categorical_dtype instead\n",
      "  elif pd.api.types.is_categorical(cols):\n",
      "c:\\python38\\lib\\site-packages\\category_encoders\\utils.py:21: FutureWarning: is_categorical is deprecated and will be removed in a future version.  Use is_categorical_dtype instead\n",
      "  elif pd.api.types.is_categorical(cols):\n",
      "c:\\python38\\lib\\site-packages\\category_encoders\\utils.py:21: FutureWarning: is_categorical is deprecated and will be removed in a future version.  Use is_categorical_dtype instead\n",
      "  elif pd.api.types.is_categorical(cols):\n",
      "c:\\python38\\lib\\site-packages\\category_encoders\\utils.py:21: FutureWarning: is_categorical is deprecated and will be removed in a future version.  Use is_categorical_dtype instead\n",
      "  elif pd.api.types.is_categorical(cols):\n",
      "c:\\python38\\lib\\site-packages\\category_encoders\\utils.py:21: FutureWarning: is_categorical is deprecated and will be removed in a future version.  Use is_categorical_dtype instead\n",
      "  elif pd.api.types.is_categorical(cols):\n",
      "c:\\python38\\lib\\site-packages\\category_encoders\\utils.py:21: FutureWarning: is_categorical is deprecated and will be removed in a future version.  Use is_categorical_dtype instead\n",
      "  elif pd.api.types.is_categorical(cols):\n",
      "c:\\python38\\lib\\site-packages\\category_encoders\\utils.py:21: FutureWarning: is_categorical is deprecated and will be removed in a future version.  Use is_categorical_dtype instead\n",
      "  elif pd.api.types.is_categorical(cols):\n",
      "c:\\python38\\lib\\site-packages\\category_encoders\\utils.py:21: FutureWarning: is_categorical is deprecated and will be removed in a future version.  Use is_categorical_dtype instead\n",
      "  elif pd.api.types.is_categorical(cols):\n",
      "c:\\python38\\lib\\site-packages\\category_encoders\\utils.py:21: FutureWarning: is_categorical is deprecated and will be removed in a future version.  Use is_categorical_dtype instead\n",
      "  elif pd.api.types.is_categorical(cols):\n",
      "c:\\python38\\lib\\site-packages\\category_encoders\\utils.py:21: FutureWarning: is_categorical is deprecated and will be removed in a future version.  Use is_categorical_dtype instead\n",
      "  elif pd.api.types.is_categorical(cols):\n",
      "c:\\python38\\lib\\site-packages\\category_encoders\\utils.py:21: FutureWarning: is_categorical is deprecated and will be removed in a future version.  Use is_categorical_dtype instead\n",
      "  elif pd.api.types.is_categorical(cols):\n",
      "c:\\python38\\lib\\site-packages\\category_encoders\\utils.py:21: FutureWarning: is_categorical is deprecated and will be removed in a future version.  Use is_categorical_dtype instead\n",
      "  elif pd.api.types.is_categorical(cols):\n",
      "c:\\python38\\lib\\site-packages\\category_encoders\\utils.py:21: FutureWarning: is_categorical is deprecated and will be removed in a future version.  Use is_categorical_dtype instead\n",
      "  elif pd.api.types.is_categorical(cols):\n",
      "c:\\python38\\lib\\site-packages\\category_encoders\\utils.py:21: FutureWarning: is_categorical is deprecated and will be removed in a future version.  Use is_categorical_dtype instead\n",
      "  elif pd.api.types.is_categorical(cols):\n",
      "c:\\python38\\lib\\site-packages\\category_encoders\\utils.py:21: FutureWarning: is_categorical is deprecated and will be removed in a future version.  Use is_categorical_dtype instead\n",
      "  elif pd.api.types.is_categorical(cols):\n",
      "c:\\python38\\lib\\site-packages\\category_encoders\\utils.py:21: FutureWarning: is_categorical is deprecated and will be removed in a future version.  Use is_categorical_dtype instead\n",
      "  elif pd.api.types.is_categorical(cols):\n",
      "c:\\python38\\lib\\site-packages\\category_encoders\\utils.py:21: FutureWarning: is_categorical is deprecated and will be removed in a future version.  Use is_categorical_dtype instead\n",
      "  elif pd.api.types.is_categorical(cols):\n"
     ]
    }
   ],
   "source": [
    "for i in range(4):\n",
    "    execute(i)"
   ]
  },
  {
   "cell_type": "markdown",
   "metadata": {},
   "source": [
    "Potrebovali sme upraviť kód tak, aby sme pre trénovací aj validačný dataset vykonali rovnaké operácie. Pôvodná funkcia execute() sa vykonávala iba raz a do jedného .csv súboru sa uložil trénovací aj validačný dataset. Teraz sme túto funkciu upravili spoločne s funkciou load_data(), do ktorej sme pridali parameter, ktorý udáva, o ktorý dataset sa jedná. Funkcia execute sa teraz vykonáva dvakrát. Najprv sa spracuje trénovací dataset, uloží sa a rovnaký proces sa vykoná aj pre validačný dataset. Taktiež nová verzia funkcie execute() obsahuje parameter typ, ktorý udáva, akým spôsobom sa budú nahrádzať chýbajúce hodnoty. Využijeme to pri neskôr v zadaní, pri riešení vplyvu zvolenej stratégie na správnosť klasifikácie."
   ]
  },
  {
   "cell_type": "markdown",
   "metadata": {},
   "source": [
    "Načítanie predspracovaných dát."
   ]
  },
  {
   "cell_type": "code",
   "execution_count": 67,
   "metadata": {},
   "outputs": [],
   "source": [
    "df_train = read_csv(\"data/train.csv\")\n",
    "df_valid = read_csv(\"data/valid.csv\")"
   ]
  },
  {
   "cell_type": "code",
   "execution_count": 68,
   "metadata": {},
   "outputs": [
    {
     "name": "stdout",
     "output_type": "stream",
     "text": [
      "<class 'pandas.core.frame.DataFrame'>\n",
      "RangeIndex: 3931 entries, 0 to 3930\n",
      "Data columns (total 26 columns):\n",
      " #   Column            Non-Null Count  Dtype  \n",
      "---  ------            --------------  -----  \n",
      " 0   Unnamed: 0        3931 non-null   int64  \n",
      " 1   address           3931 non-null   int64  \n",
      " 2   age               3931 non-null   int64  \n",
      " 3   sex               3931 non-null   int64  \n",
      " 4   race              3931 non-null   int64  \n",
      " 5   marital-status    3931 non-null   int64  \n",
      " 6   occupation        3931 non-null   int64  \n",
      " 7   pregnant          3931 non-null   int64  \n",
      " 8   education-num     3931 non-null   float64\n",
      " 9   relationship      3931 non-null   int64  \n",
      " 10  capital-gain      3931 non-null   float64\n",
      " 11  education         3931 non-null   int64  \n",
      " 12  fnlwgt            3931 non-null   float64\n",
      " 13  class             3931 non-null   float64\n",
      " 14  income            3931 non-null   int64  \n",
      " 15  native-country    3931 non-null   int64  \n",
      " 16  hours-per-week    3931 non-null   float64\n",
      " 17  workclass         3931 non-null   int64  \n",
      " 18  mean_glucose      3931 non-null   float64\n",
      " 19  std_glucose       3931 non-null   float64\n",
      " 20  kurtosis_glucose  3931 non-null   float64\n",
      " 21  skewness_glucose  3931 non-null   float64\n",
      " 22  mean_oxygen       3931 non-null   float64\n",
      " 23  std_oxygen        3931 non-null   float64\n",
      " 24  kurtosis_oxygen   3931 non-null   float64\n",
      " 25  skewness_oxygen   3931 non-null   float64\n",
      "dtypes: float64(13), int64(13)\n",
      "memory usage: 798.6 KB\n"
     ]
    }
   ],
   "source": [
    "df_train.info()"
   ]
  },
  {
   "cell_type": "code",
   "execution_count": 69,
   "metadata": {},
   "outputs": [
    {
     "name": "stdout",
     "output_type": "stream",
     "text": [
      "<class 'pandas.core.frame.DataFrame'>\n",
      "RangeIndex: 1311 entries, 0 to 1310\n",
      "Data columns (total 26 columns):\n",
      " #   Column            Non-Null Count  Dtype  \n",
      "---  ------            --------------  -----  \n",
      " 0   Unnamed: 0        1311 non-null   int64  \n",
      " 1   address           1311 non-null   int64  \n",
      " 2   age               1311 non-null   int64  \n",
      " 3   sex               1311 non-null   int64  \n",
      " 4   race              1311 non-null   int64  \n",
      " 5   marital-status    1311 non-null   int64  \n",
      " 6   occupation        1311 non-null   int64  \n",
      " 7   pregnant          1311 non-null   int64  \n",
      " 8   education-num     1311 non-null   float64\n",
      " 9   relationship      1311 non-null   int64  \n",
      " 10  capital-gain      1311 non-null   float64\n",
      " 11  education         1311 non-null   int64  \n",
      " 12  fnlwgt            1311 non-null   float64\n",
      " 13  class             1311 non-null   float64\n",
      " 14  income            1311 non-null   int64  \n",
      " 15  native-country    1311 non-null   int64  \n",
      " 16  hours-per-week    1311 non-null   float64\n",
      " 17  workclass         1311 non-null   int64  \n",
      " 18  mean_glucose      1311 non-null   float64\n",
      " 19  std_glucose       1311 non-null   float64\n",
      " 20  kurtosis_glucose  1311 non-null   float64\n",
      " 21  skewness_glucose  1311 non-null   float64\n",
      " 22  mean_oxygen       1311 non-null   float64\n",
      " 23  std_oxygen        1311 non-null   float64\n",
      " 24  kurtosis_oxygen   1311 non-null   float64\n",
      " 25  skewness_oxygen   1311 non-null   float64\n",
      "dtypes: float64(13), int64(13)\n",
      "memory usage: 266.4 KB\n"
     ]
    }
   ],
   "source": [
    "df_valid.info()"
   ]
  },
  {
   "cell_type": "markdown",
   "metadata": {},
   "source": [
    "Úpravy, ktoré sme vykoanali nemali vplyv na výsledný dataset. Môžeme vidieť prvé 3 záznamy z pôvodného datasetu(train) a prvé 3 z upraveného. Vidíme, že hodnoty ako napr vek a psč z adresy sú nezmenené."
   ]
  },
  {
   "cell_type": "code",
   "execution_count": 113,
   "metadata": {},
   "outputs": [
    {
     "data": {
      "text/html": [
       "<div>\n",
       "<style scoped>\n",
       "    .dataframe tbody tr th:only-of-type {\n",
       "        vertical-align: middle;\n",
       "    }\n",
       "\n",
       "    .dataframe tbody tr th {\n",
       "        vertical-align: top;\n",
       "    }\n",
       "\n",
       "    .dataframe thead th {\n",
       "        text-align: right;\n",
       "    }\n",
       "</style>\n",
       "<table border=\"1\" class=\"dataframe\">\n",
       "  <thead>\n",
       "    <tr style=\"text-align: right;\">\n",
       "      <th></th>\n",
       "      <th>name</th>\n",
       "      <th>address</th>\n",
       "      <th>age</th>\n",
       "      <th>sex</th>\n",
       "      <th>date_of_birth</th>\n",
       "      <th>race</th>\n",
       "      <th>marital-status</th>\n",
       "      <th>occupation</th>\n",
       "      <th>pregnant</th>\n",
       "      <th>education-num</th>\n",
       "      <th>...</th>\n",
       "      <th>capital-gain</th>\n",
       "      <th>education</th>\n",
       "      <th>fnlwgt</th>\n",
       "      <th>class</th>\n",
       "      <th>income</th>\n",
       "      <th>medical_info</th>\n",
       "      <th>native-country</th>\n",
       "      <th>hours-per-week</th>\n",
       "      <th>capital-loss</th>\n",
       "      <th>workclass</th>\n",
       "    </tr>\n",
       "  </thead>\n",
       "  <tbody>\n",
       "    <tr>\n",
       "      <th>0</th>\n",
       "      <td>Aaron Davis</td>\n",
       "      <td>379 Rodriguez Inlet\\r\\nFisherbury, MD 83114</td>\n",
       "      <td>37</td>\n",
       "      <td>Female</td>\n",
       "      <td>1982/02/08</td>\n",
       "      <td>White</td>\n",
       "      <td>Divorced</td>\n",
       "      <td>Other-service</td>\n",
       "      <td>f</td>\n",
       "      <td>9.0</td>\n",
       "      <td>...</td>\n",
       "      <td>0.0</td>\n",
       "      <td>HS-grad</td>\n",
       "      <td>203463.0</td>\n",
       "      <td>0.0</td>\n",
       "      <td>&lt;=50K</td>\n",
       "      <td>{'mean_glucose':'130.640625','std_glucose':'na...</td>\n",
       "      <td>United-States</td>\n",
       "      <td>40.0</td>\n",
       "      <td>0.0</td>\n",
       "      <td>Private</td>\n",
       "    </tr>\n",
       "    <tr>\n",
       "      <th>1</th>\n",
       "      <td>Aaron Dini</td>\n",
       "      <td>105 Medina Springs Suite 462\\r\\nEmilyland, KS ...</td>\n",
       "      <td>58</td>\n",
       "      <td>Female</td>\n",
       "      <td>1961-05-04</td>\n",
       "      <td>White</td>\n",
       "      <td>Never-married</td>\n",
       "      <td>Other-service</td>\n",
       "      <td>f</td>\n",
       "      <td>9.0</td>\n",
       "      <td>...</td>\n",
       "      <td>0.0</td>\n",
       "      <td>HS-grad</td>\n",
       "      <td>166744.0</td>\n",
       "      <td>0.0</td>\n",
       "      <td>&lt;=50K</td>\n",
       "      <td>{'mean_glucose':'99.828125','std_glucose':'47....</td>\n",
       "      <td>United-States</td>\n",
       "      <td>38.0</td>\n",
       "      <td>0.0</td>\n",
       "      <td>Private</td>\n",
       "    </tr>\n",
       "    <tr>\n",
       "      <th>2</th>\n",
       "      <td>Aaron Gann</td>\n",
       "      <td>59685 Thomas Extension Apt. 142\\r\\nFieldsborou...</td>\n",
       "      <td>48</td>\n",
       "      <td>Male</td>\n",
       "      <td>1971-02-03 00 00 00</td>\n",
       "      <td>White</td>\n",
       "      <td>Married-civ-spouse</td>\n",
       "      <td>Handlers-cleaners</td>\n",
       "      <td>f</td>\n",
       "      <td>10.0</td>\n",
       "      <td>...</td>\n",
       "      <td>0.0</td>\n",
       "      <td>Some-college</td>\n",
       "      <td>165517.0</td>\n",
       "      <td>0.0</td>\n",
       "      <td>&lt;=50K</td>\n",
       "      <td>{'mean_glucose':'92.7734375','std_glucose':'34...</td>\n",
       "      <td>United-States</td>\n",
       "      <td>40.0</td>\n",
       "      <td>0.0</td>\n",
       "      <td>Private</td>\n",
       "    </tr>\n",
       "  </tbody>\n",
       "</table>\n",
       "<p>3 rows × 21 columns</p>\n",
       "</div>"
      ],
      "text/plain": [
       "          name                                            address  age  \\\n",
       "0  Aaron Davis        379 Rodriguez Inlet\\r\\nFisherbury, MD 83114   37   \n",
       "1   Aaron Dini  105 Medina Springs Suite 462\\r\\nEmilyland, KS ...   58   \n",
       "2   Aaron Gann  59685 Thomas Extension Apt. 142\\r\\nFieldsborou...   48   \n",
       "\n",
       "       sex        date_of_birth    race       marital-status  \\\n",
       "0   Female           1982/02/08   White             Divorced   \n",
       "1   Female           1961-05-04   White        Never-married   \n",
       "2     Male  1971-02-03 00 00 00   White   Married-civ-spouse   \n",
       "\n",
       "           occupation pregnant  education-num  ... capital-gain  \\\n",
       "0       Other-service        f            9.0  ...          0.0   \n",
       "1       Other-service        f            9.0  ...          0.0   \n",
       "2   Handlers-cleaners        f           10.0  ...          0.0   \n",
       "\n",
       "       education    fnlwgt  class  income  \\\n",
       "0        HS-grad  203463.0    0.0   <=50K   \n",
       "1        HS-grad  166744.0    0.0   <=50K   \n",
       "2   Some-college  165517.0    0.0   <=50K   \n",
       "\n",
       "                                        medical_info  native-country  \\\n",
       "0  {'mean_glucose':'130.640625','std_glucose':'na...   United-States   \n",
       "1  {'mean_glucose':'99.828125','std_glucose':'47....   United-States   \n",
       "2  {'mean_glucose':'92.7734375','std_glucose':'34...   United-States   \n",
       "\n",
       "  hours-per-week  capital-loss  workclass  \n",
       "0           40.0           0.0    Private  \n",
       "1           38.0           0.0    Private  \n",
       "2           40.0           0.0    Private  \n",
       "\n",
       "[3 rows x 21 columns]"
      ]
     },
     "execution_count": 113,
     "metadata": {},
     "output_type": "execute_result"
    }
   ],
   "source": [
    "df_merged = load_data(0)\n",
    "df_merged.head(3)"
   ]
  },
  {
   "cell_type": "code",
   "execution_count": 114,
   "metadata": {},
   "outputs": [
    {
     "data": {
      "text/html": [
       "<div>\n",
       "<style scoped>\n",
       "    .dataframe tbody tr th:only-of-type {\n",
       "        vertical-align: middle;\n",
       "    }\n",
       "\n",
       "    .dataframe tbody tr th {\n",
       "        vertical-align: top;\n",
       "    }\n",
       "\n",
       "    .dataframe thead th {\n",
       "        text-align: right;\n",
       "    }\n",
       "</style>\n",
       "<table border=\"1\" class=\"dataframe\">\n",
       "  <thead>\n",
       "    <tr style=\"text-align: right;\">\n",
       "      <th></th>\n",
       "      <th>Unnamed: 0</th>\n",
       "      <th>address</th>\n",
       "      <th>age</th>\n",
       "      <th>sex</th>\n",
       "      <th>race</th>\n",
       "      <th>marital-status</th>\n",
       "      <th>occupation</th>\n",
       "      <th>pregnant</th>\n",
       "      <th>education-num</th>\n",
       "      <th>relationship</th>\n",
       "      <th>...</th>\n",
       "      <th>hours-per-week</th>\n",
       "      <th>workclass</th>\n",
       "      <th>mean_glucose</th>\n",
       "      <th>std_glucose</th>\n",
       "      <th>kurtosis_glucose</th>\n",
       "      <th>skewness_glucose</th>\n",
       "      <th>mean_oxygen</th>\n",
       "      <th>std_oxygen</th>\n",
       "      <th>kurtosis_oxygen</th>\n",
       "      <th>skewness_oxygen</th>\n",
       "    </tr>\n",
       "  </thead>\n",
       "  <tbody>\n",
       "    <tr>\n",
       "      <th>0</th>\n",
       "      <td>0</td>\n",
       "      <td>83114</td>\n",
       "      <td>37</td>\n",
       "      <td>1</td>\n",
       "      <td>1</td>\n",
       "      <td>1</td>\n",
       "      <td>1</td>\n",
       "      <td>0</td>\n",
       "      <td>9.0</td>\n",
       "      <td>1</td>\n",
       "      <td>...</td>\n",
       "      <td>40.0</td>\n",
       "      <td>1</td>\n",
       "      <td>0.971782</td>\n",
       "      <td>-0.177371</td>\n",
       "      <td>-1.477747</td>\n",
       "      <td>-0.805981</td>\n",
       "      <td>0.816011</td>\n",
       "      <td>0.913108</td>\n",
       "      <td>-0.729608</td>\n",
       "      <td>-0.784771</td>\n",
       "    </tr>\n",
       "    <tr>\n",
       "      <th>1</th>\n",
       "      <td>1</td>\n",
       "      <td>59124</td>\n",
       "      <td>58</td>\n",
       "      <td>1</td>\n",
       "      <td>1</td>\n",
       "      <td>1</td>\n",
       "      <td>1</td>\n",
       "      <td>0</td>\n",
       "      <td>9.0</td>\n",
       "      <td>1</td>\n",
       "      <td>...</td>\n",
       "      <td>38.0</td>\n",
       "      <td>1</td>\n",
       "      <td>-0.212620</td>\n",
       "      <td>-0.121382</td>\n",
       "      <td>0.037301</td>\n",
       "      <td>0.119747</td>\n",
       "      <td>-0.398955</td>\n",
       "      <td>-0.577050</td>\n",
       "      <td>0.216249</td>\n",
       "      <td>0.278763</td>\n",
       "    </tr>\n",
       "    <tr>\n",
       "      <th>2</th>\n",
       "      <td>2</td>\n",
       "      <td>17996</td>\n",
       "      <td>48</td>\n",
       "      <td>0</td>\n",
       "      <td>1</td>\n",
       "      <td>2</td>\n",
       "      <td>2</td>\n",
       "      <td>0</td>\n",
       "      <td>10.0</td>\n",
       "      <td>2</td>\n",
       "      <td>...</td>\n",
       "      <td>40.0</td>\n",
       "      <td>1</td>\n",
       "      <td>-0.446499</td>\n",
       "      <td>-1.203093</td>\n",
       "      <td>0.190911</td>\n",
       "      <td>0.890403</td>\n",
       "      <td>-1.402856</td>\n",
       "      <td>-1.184648</td>\n",
       "      <td>1.316058</td>\n",
       "      <td>1.254803</td>\n",
       "    </tr>\n",
       "  </tbody>\n",
       "</table>\n",
       "<p>3 rows × 26 columns</p>\n",
       "</div>"
      ],
      "text/plain": [
       "   Unnamed: 0  address  age  sex  race  marital-status  occupation  pregnant  \\\n",
       "0           0    83114   37    1     1               1           1         0   \n",
       "1           1    59124   58    1     1               1           1         0   \n",
       "2           2    17996   48    0     1               2           2         0   \n",
       "\n",
       "   education-num  relationship  ...  hours-per-week  workclass  mean_glucose  \\\n",
       "0            9.0             1  ...            40.0          1      0.971782   \n",
       "1            9.0             1  ...            38.0          1     -0.212620   \n",
       "2           10.0             2  ...            40.0          1     -0.446499   \n",
       "\n",
       "   std_glucose  kurtosis_glucose  skewness_glucose  mean_oxygen  std_oxygen  \\\n",
       "0    -0.177371         -1.477747         -0.805981     0.816011    0.913108   \n",
       "1    -0.121382          0.037301          0.119747    -0.398955   -0.577050   \n",
       "2    -1.203093          0.190911          0.890403    -1.402856   -1.184648   \n",
       "\n",
       "   kurtosis_oxygen  skewness_oxygen  \n",
       "0        -0.729608        -0.784771  \n",
       "1         0.216249         0.278763  \n",
       "2         1.316058         1.254803  \n",
       "\n",
       "[3 rows x 26 columns]"
      ]
     },
     "execution_count": 114,
     "metadata": {},
     "output_type": "execute_result"
    }
   ],
   "source": [
    "df_train.head(3)"
   ]
  },
  {
   "cell_type": "markdown",
   "metadata": {},
   "source": [
    "Na druhý dataset sme použili rovnaké úpravy. Tiež neovplyvnili výsledné riešenie. Môžeme vidieť prvé 3 záznamy z pôvodného datasetu(valid) a prvé 3 z upraveného. Vidíme, že hodnoty ako napr vek a psč z adresy sú nezmenené."
   ]
  },
  {
   "cell_type": "code",
   "execution_count": 115,
   "metadata": {},
   "outputs": [
    {
     "data": {
      "text/html": [
       "<div>\n",
       "<style scoped>\n",
       "    .dataframe tbody tr th:only-of-type {\n",
       "        vertical-align: middle;\n",
       "    }\n",
       "\n",
       "    .dataframe tbody tr th {\n",
       "        vertical-align: top;\n",
       "    }\n",
       "\n",
       "    .dataframe thead th {\n",
       "        text-align: right;\n",
       "    }\n",
       "</style>\n",
       "<table border=\"1\" class=\"dataframe\">\n",
       "  <thead>\n",
       "    <tr style=\"text-align: right;\">\n",
       "      <th></th>\n",
       "      <th>name</th>\n",
       "      <th>address</th>\n",
       "      <th>age</th>\n",
       "      <th>sex</th>\n",
       "      <th>date_of_birth</th>\n",
       "      <th>race</th>\n",
       "      <th>marital-status</th>\n",
       "      <th>occupation</th>\n",
       "      <th>pregnant</th>\n",
       "      <th>education-num</th>\n",
       "      <th>...</th>\n",
       "      <th>capital-gain</th>\n",
       "      <th>education</th>\n",
       "      <th>fnlwgt</th>\n",
       "      <th>class</th>\n",
       "      <th>income</th>\n",
       "      <th>medical_info</th>\n",
       "      <th>native-country</th>\n",
       "      <th>hours-per-week</th>\n",
       "      <th>capital-loss</th>\n",
       "      <th>workclass</th>\n",
       "    </tr>\n",
       "  </thead>\n",
       "  <tbody>\n",
       "    <tr>\n",
       "      <th>0</th>\n",
       "      <td>Aaron Gann</td>\n",
       "      <td>1421 Bianca Divide\\r\\nEast Jeffrey, CO 21961</td>\n",
       "      <td>55</td>\n",
       "      <td>Male</td>\n",
       "      <td>1964/07/22</td>\n",
       "      <td>White</td>\n",
       "      <td>Divorced</td>\n",
       "      <td>Craft-repair</td>\n",
       "      <td>f</td>\n",
       "      <td>9.0</td>\n",
       "      <td>...</td>\n",
       "      <td>27828.0</td>\n",
       "      <td>HS-grad</td>\n",
       "      <td>124975.0</td>\n",
       "      <td>0.0</td>\n",
       "      <td>NaN</td>\n",
       "      <td>{'mean_glucose':'101.1328125','std_glucose':'4...</td>\n",
       "      <td>United-States</td>\n",
       "      <td>55.0</td>\n",
       "      <td>0.0</td>\n",
       "      <td>Self-emp-not-inc</td>\n",
       "    </tr>\n",
       "    <tr>\n",
       "      <th>1</th>\n",
       "      <td>Aaron Lindley</td>\n",
       "      <td>USCGC Turner\\r\\nFPO AE 67689</td>\n",
       "      <td>67</td>\n",
       "      <td>Male</td>\n",
       "      <td>1951-11-02 00:00:00</td>\n",
       "      <td>White</td>\n",
       "      <td>Divorced</td>\n",
       "      <td>Exec-managerial</td>\n",
       "      <td>f</td>\n",
       "      <td>9.0</td>\n",
       "      <td>...</td>\n",
       "      <td>0.0</td>\n",
       "      <td>HS-grad</td>\n",
       "      <td>152676.0</td>\n",
       "      <td>0.0</td>\n",
       "      <td>&lt;=50K</td>\n",
       "      <td>{'mean_glucose':'122.28125','std_glucose':'51....</td>\n",
       "      <td>United-States</td>\n",
       "      <td>40.0</td>\n",
       "      <td>0.0</td>\n",
       "      <td>Private</td>\n",
       "    </tr>\n",
       "    <tr>\n",
       "      <th>2</th>\n",
       "      <td>Aaron Moody</td>\n",
       "      <td>06315 James Way\\r\\nNorth Andrea, KS 75706</td>\n",
       "      <td>50</td>\n",
       "      <td>Male</td>\n",
       "      <td>1968-10-27</td>\n",
       "      <td>White</td>\n",
       "      <td>Married-civ-spouse</td>\n",
       "      <td>Exec-managerial</td>\n",
       "      <td>f</td>\n",
       "      <td>10.0</td>\n",
       "      <td>...</td>\n",
       "      <td>0.0</td>\n",
       "      <td>Some-college</td>\n",
       "      <td>449354.0</td>\n",
       "      <td>0.0</td>\n",
       "      <td>&lt;=50K</td>\n",
       "      <td>{'mean_glucose':'110.5','std_glucose':'48.3601...</td>\n",
       "      <td>United-States</td>\n",
       "      <td>40.0</td>\n",
       "      <td>0.0</td>\n",
       "      <td>Private</td>\n",
       "    </tr>\n",
       "  </tbody>\n",
       "</table>\n",
       "<p>3 rows × 21 columns</p>\n",
       "</div>"
      ],
      "text/plain": [
       "            name                                       address  age    sex  \\\n",
       "0     Aaron Gann  1421 Bianca Divide\\r\\nEast Jeffrey, CO 21961   55   Male   \n",
       "1  Aaron Lindley                  USCGC Turner\\r\\nFPO AE 67689   67   Male   \n",
       "2    Aaron Moody     06315 James Way\\r\\nNorth Andrea, KS 75706   50   Male   \n",
       "\n",
       "         date_of_birth    race       marital-status        occupation  \\\n",
       "0           1964/07/22   White             Divorced      Craft-repair   \n",
       "1  1951-11-02 00:00:00   White             Divorced   Exec-managerial   \n",
       "2           1968-10-27   White   Married-civ-spouse   Exec-managerial   \n",
       "\n",
       "  pregnant  education-num  ... capital-gain      education    fnlwgt  class  \\\n",
       "0        f            9.0  ...      27828.0        HS-grad  124975.0    0.0   \n",
       "1        f            9.0  ...          0.0        HS-grad  152676.0    0.0   \n",
       "2        f           10.0  ...          0.0   Some-college  449354.0    0.0   \n",
       "\n",
       "   income                                       medical_info  native-country  \\\n",
       "0     NaN  {'mean_glucose':'101.1328125','std_glucose':'4...   United-States   \n",
       "1   <=50K  {'mean_glucose':'122.28125','std_glucose':'51....   United-States   \n",
       "2   <=50K  {'mean_glucose':'110.5','std_glucose':'48.3601...   United-States   \n",
       "\n",
       "  hours-per-week  capital-loss          workclass  \n",
       "0           55.0           0.0   Self-emp-not-inc  \n",
       "1           40.0           0.0            Private  \n",
       "2           40.0           0.0            Private  \n",
       "\n",
       "[3 rows x 21 columns]"
      ]
     },
     "execution_count": 115,
     "metadata": {},
     "output_type": "execute_result"
    }
   ],
   "source": [
    "df_merged = load_data(1)\n",
    "df_merged.head(3)"
   ]
  },
  {
   "cell_type": "code",
   "execution_count": 116,
   "metadata": {},
   "outputs": [
    {
     "data": {
      "text/html": [
       "<div>\n",
       "<style scoped>\n",
       "    .dataframe tbody tr th:only-of-type {\n",
       "        vertical-align: middle;\n",
       "    }\n",
       "\n",
       "    .dataframe tbody tr th {\n",
       "        vertical-align: top;\n",
       "    }\n",
       "\n",
       "    .dataframe thead th {\n",
       "        text-align: right;\n",
       "    }\n",
       "</style>\n",
       "<table border=\"1\" class=\"dataframe\">\n",
       "  <thead>\n",
       "    <tr style=\"text-align: right;\">\n",
       "      <th></th>\n",
       "      <th>Unnamed: 0</th>\n",
       "      <th>address</th>\n",
       "      <th>age</th>\n",
       "      <th>sex</th>\n",
       "      <th>race</th>\n",
       "      <th>marital-status</th>\n",
       "      <th>occupation</th>\n",
       "      <th>pregnant</th>\n",
       "      <th>education-num</th>\n",
       "      <th>relationship</th>\n",
       "      <th>...</th>\n",
       "      <th>hours-per-week</th>\n",
       "      <th>workclass</th>\n",
       "      <th>mean_glucose</th>\n",
       "      <th>std_glucose</th>\n",
       "      <th>kurtosis_glucose</th>\n",
       "      <th>skewness_glucose</th>\n",
       "      <th>mean_oxygen</th>\n",
       "      <th>std_oxygen</th>\n",
       "      <th>kurtosis_oxygen</th>\n",
       "      <th>skewness_oxygen</th>\n",
       "    </tr>\n",
       "  </thead>\n",
       "  <tbody>\n",
       "    <tr>\n",
       "      <th>0</th>\n",
       "      <td>0</td>\n",
       "      <td>21961</td>\n",
       "      <td>55</td>\n",
       "      <td>1</td>\n",
       "      <td>1</td>\n",
       "      <td>1</td>\n",
       "      <td>1</td>\n",
       "      <td>0</td>\n",
       "      <td>9.0</td>\n",
       "      <td>1</td>\n",
       "      <td>...</td>\n",
       "      <td>55.0</td>\n",
       "      <td>1</td>\n",
       "      <td>-0.136710</td>\n",
       "      <td>2.207777</td>\n",
       "      <td>-0.251282</td>\n",
       "      <td>-0.440353</td>\n",
       "      <td>-0.156202</td>\n",
       "      <td>-0.352928</td>\n",
       "      <td>0.044893</td>\n",
       "      <td>0.097903</td>\n",
       "    </tr>\n",
       "    <tr>\n",
       "      <th>1</th>\n",
       "      <td>1</td>\n",
       "      <td>67689</td>\n",
       "      <td>67</td>\n",
       "      <td>1</td>\n",
       "      <td>1</td>\n",
       "      <td>1</td>\n",
       "      <td>2</td>\n",
       "      <td>0</td>\n",
       "      <td>9.0</td>\n",
       "      <td>2</td>\n",
       "      <td>...</td>\n",
       "      <td>40.0</td>\n",
       "      <td>2</td>\n",
       "      <td>0.624156</td>\n",
       "      <td>0.112668</td>\n",
       "      <td>-0.914676</td>\n",
       "      <td>-1.049064</td>\n",
       "      <td>0.989242</td>\n",
       "      <td>1.137361</td>\n",
       "      <td>-0.862155</td>\n",
       "      <td>-0.937852</td>\n",
       "    </tr>\n",
       "    <tr>\n",
       "      <th>2</th>\n",
       "      <td>2</td>\n",
       "      <td>75706</td>\n",
       "      <td>50</td>\n",
       "      <td>1</td>\n",
       "      <td>1</td>\n",
       "      <td>2</td>\n",
       "      <td>2</td>\n",
       "      <td>0</td>\n",
       "      <td>10.0</td>\n",
       "      <td>3</td>\n",
       "      <td>...</td>\n",
       "      <td>40.0</td>\n",
       "      <td>2</td>\n",
       "      <td>0.186718</td>\n",
       "      <td>-0.044836</td>\n",
       "      <td>-0.238799</td>\n",
       "      <td>-0.982710</td>\n",
       "      <td>-1.099439</td>\n",
       "      <td>-1.245721</td>\n",
       "      <td>0.904263</td>\n",
       "      <td>1.029914</td>\n",
       "    </tr>\n",
       "  </tbody>\n",
       "</table>\n",
       "<p>3 rows × 26 columns</p>\n",
       "</div>"
      ],
      "text/plain": [
       "   Unnamed: 0  address  age  sex  race  marital-status  occupation  pregnant  \\\n",
       "0           0    21961   55    1     1               1           1         0   \n",
       "1           1    67689   67    1     1               1           2         0   \n",
       "2           2    75706   50    1     1               2           2         0   \n",
       "\n",
       "   education-num  relationship  ...  hours-per-week  workclass  mean_glucose  \\\n",
       "0            9.0             1  ...            55.0          1     -0.136710   \n",
       "1            9.0             2  ...            40.0          2      0.624156   \n",
       "2           10.0             3  ...            40.0          2      0.186718   \n",
       "\n",
       "   std_glucose  kurtosis_glucose  skewness_glucose  mean_oxygen  std_oxygen  \\\n",
       "0     2.207777         -0.251282         -0.440353    -0.156202   -0.352928   \n",
       "1     0.112668         -0.914676         -1.049064     0.989242    1.137361   \n",
       "2    -0.044836         -0.238799         -0.982710    -1.099439   -1.245721   \n",
       "\n",
       "   kurtosis_oxygen  skewness_oxygen  \n",
       "0         0.044893         0.097903  \n",
       "1        -0.862155        -0.937852  \n",
       "2         0.904263         1.029914  \n",
       "\n",
       "[3 rows x 26 columns]"
      ]
     },
     "execution_count": 116,
     "metadata": {},
     "output_type": "execute_result"
    }
   ],
   "source": [
    "df_valid.head(3)"
   ]
  },
  {
   "cell_type": "markdown",
   "metadata": {},
   "source": [
    "Funkcia, ktorá nám rozdelí dataset na dve zložky. Rozdelenie prebieha na základe nejakého atribútu."
   ]
  },
  {
   "cell_type": "code",
   "execution_count": 70,
   "metadata": {},
   "outputs": [],
   "source": [
    "def split_df(data_frame, column):\n",
    "    X = data_frame.drop(columns=[column])\n",
    "    y = data_frame[column]\n",
    "    return X,y"
   ]
  },
  {
   "cell_type": "markdown",
   "metadata": {},
   "source": [
    "Zavolanie split_df funkcie na rozdelenie datasetu podľa atribútu class. Takto si rozdelíme trénovací aj validačný dataset, ktorý tiež voláme testovací."
   ]
  },
  {
   "cell_type": "code",
   "execution_count": 71,
   "metadata": {},
   "outputs": [],
   "source": [
    "X_train,y_train = split_df(df_train, \"class\")"
   ]
  },
  {
   "cell_type": "code",
   "execution_count": 72,
   "metadata": {},
   "outputs": [],
   "source": [
    "X_test,y_test = split_df(df_valid, \"class\")"
   ]
  },
  {
   "cell_type": "markdown",
   "metadata": {},
   "source": [
    "Informácie o trénovacom datasete."
   ]
  },
  {
   "cell_type": "code",
   "execution_count": 73,
   "metadata": {},
   "outputs": [
    {
     "name": "stdout",
     "output_type": "stream",
     "text": [
      "<class 'pandas.core.frame.DataFrame'>\n",
      "RangeIndex: 3931 entries, 0 to 3930\n",
      "Data columns (total 25 columns):\n",
      " #   Column            Non-Null Count  Dtype  \n",
      "---  ------            --------------  -----  \n",
      " 0   Unnamed: 0        3931 non-null   int64  \n",
      " 1   address           3931 non-null   int64  \n",
      " 2   age               3931 non-null   int64  \n",
      " 3   sex               3931 non-null   int64  \n",
      " 4   race              3931 non-null   int64  \n",
      " 5   marital-status    3931 non-null   int64  \n",
      " 6   occupation        3931 non-null   int64  \n",
      " 7   pregnant          3931 non-null   int64  \n",
      " 8   education-num     3931 non-null   float64\n",
      " 9   relationship      3931 non-null   int64  \n",
      " 10  capital-gain      3931 non-null   float64\n",
      " 11  education         3931 non-null   int64  \n",
      " 12  fnlwgt            3931 non-null   float64\n",
      " 13  income            3931 non-null   int64  \n",
      " 14  native-country    3931 non-null   int64  \n",
      " 15  hours-per-week    3931 non-null   float64\n",
      " 16  workclass         3931 non-null   int64  \n",
      " 17  mean_glucose      3931 non-null   float64\n",
      " 18  std_glucose       3931 non-null   float64\n",
      " 19  kurtosis_glucose  3931 non-null   float64\n",
      " 20  skewness_glucose  3931 non-null   float64\n",
      " 21  mean_oxygen       3931 non-null   float64\n",
      " 22  std_oxygen        3931 non-null   float64\n",
      " 23  kurtosis_oxygen   3931 non-null   float64\n",
      " 24  skewness_oxygen   3931 non-null   float64\n",
      "dtypes: float64(12), int64(13)\n",
      "memory usage: 767.9 KB\n"
     ]
    }
   ],
   "source": [
    "X_train.info()"
   ]
  },
  {
   "cell_type": "markdown",
   "metadata": {},
   "source": [
    "## Manuálne vytvorenie a vyhodnotenie rozhodovacích pravidiel pre klasifikáciu"
   ]
  },
  {
   "cell_type": "markdown",
   "metadata": {},
   "source": [
    "V tejto fáze vytvárame pravidlá, podľa ktorých sa budú predikovať hodnoty. Predikujeme hodnoty pre atribút class. Pravidlá sú vytvorené aj pre jeden aj pre viacero atribútov. Pre sprehľadnenie sme vytvorili list target_names, takže presne vieme, či je človek na cukrovku pozitívny alebo negatívny."
   ]
  },
  {
   "cell_type": "code",
   "execution_count": 74,
   "metadata": {},
   "outputs": [],
   "source": [
    "target_names = ['0 - negatívny', '1 - pozitívny']"
   ]
  },
  {
   "cell_type": "markdown",
   "metadata": {},
   "source": [
    "#### mean_glucose\n",
    "Budeme vytvárať pravidlo pre atribút mean_glucose. Boxplot nám pomôže pri určovaní hodnoty, ktorá má rozdeliť pozitívnych a negatívnych ľudí na cukrovku. Vidíme, že táto hodnota bude niekde medzi -0,9 a 0."
   ]
  },
  {
   "cell_type": "code",
   "execution_count": 75,
   "metadata": {},
   "outputs": [
    {
     "data": {
      "text/plain": [
       "<AxesSubplot:xlabel='class', ylabel='mean_glucose'>"
      ]
     },
     "execution_count": 75,
     "metadata": {},
     "output_type": "execute_result"
    },
    {
     "data": {
      "image/png": "[encoded data removed]",
      "text/plain": [
       "<Figure size 432x288 with 1 Axes>"
      ]
     },
     "metadata": {
      "needs_background": "light"
     },
     "output_type": "display_data"
    }
   ],
   "source": [
    "sns.boxplot(x = 'class', y = 'mean_glucose', data = df_valid)"
   ]
  },
  {
   "cell_type": "markdown",
   "metadata": {},
   "source": [
    "Vykonanie samotnej predikcie na základe jedného atribútu mean_glucose. Dole je výpis úspešnosti predikcií. Hodnota, ktorú sme zvolili < -0,77 mala najväčšiu úspešnosť."
   ]
  },
  {
   "cell_type": "code",
   "execution_count": 76,
   "metadata": {},
   "outputs": [
    {
     "name": "stdout",
     "output_type": "stream",
     "text": [
      "               precision    recall  f1-score   support\n",
      "\n",
      "0 - negatívny      0.930     0.974     0.951       965\n",
      "1 - pozitívny      0.917     0.795     0.851       346\n",
      "\n",
      "     accuracy                          0.927      1311\n",
      "    macro avg      0.923     0.884     0.901      1311\n",
      " weighted avg      0.926     0.927     0.925      1311\n",
      "\n"
     ]
    }
   ],
   "source": [
    "predictions = []\n",
    "\n",
    "for index,row in X_test.iterrows():\n",
    "    if row.mean_glucose < -0.77:\n",
    "        predictions.append(1)\n",
    "    else:\n",
    "        predictions.append(0)\n",
    "        \n",
    "print(classification_report(y_test, predictions, digits = 3, target_names=target_names))"
   ]
  },
  {
   "cell_type": "markdown",
   "metadata": {},
   "source": [
    "Na vizualizácii pomocou confusion matrix môžeme bližšie pozorovať, aké úspešné bolo naše rozhodovacie pravidlo pri vykonávaní predikcií. Vidíme, že drvivú väčšinu hodnôt sme trafili takú, aká bola v pôvodnom datasete. Napríklad v prvom riadku je vidieť, že sme 940 hodnôt priradili správne a iba 25 zle."
   ]
  },
  {
   "cell_type": "code",
   "execution_count": 77,
   "metadata": {
    "scrolled": false
   },
   "outputs": [
    {
     "data": {
      "text/plain": [
       "<sklearn.metrics._plot.confusion_matrix.ConfusionMatrixDisplay at 0x1d54bc8a820>"
      ]
     },
     "execution_count": 77,
     "metadata": {},
     "output_type": "execute_result"
    },
    {
     "data": {
      "image/png": "[encoded data removed]",
      "text/plain": [
       "<Figure size 432x288 with 2 Axes>"
      ]
     },
     "metadata": {
      "needs_background": "light"
     },
     "output_type": "display_data"
    }
   ],
   "source": [
    "ConfusionMatrixDisplay(confusion_matrix(y_test, predictions)).plot()"
   ]
  },
  {
   "cell_type": "markdown",
   "metadata": {},
   "source": [
    "#### skewness_glucose\n",
    "Budeme vytvárať pravidlo pre atribút skewness_glucose. Boxplot nám pomôže pri určovaní hodnoty, ktorá má rozdeliť pozitívnych a negatívnych ľudí na cukrovku. Vidíme, že táto hodnota bude niekde medzi 0 a 1."
   ]
  },
  {
   "cell_type": "code",
   "execution_count": 78,
   "metadata": {},
   "outputs": [
    {
     "data": {
      "text/plain": [
       "<AxesSubplot:xlabel='class', ylabel='skewness_glucose'>"
      ]
     },
     "execution_count": 78,
     "metadata": {},
     "output_type": "execute_result"
    },
    {
     "data": {
      "image/png": "[encoded data removed]",
      "text/plain": [
       "<Figure size 432x288 with 1 Axes>"
      ]
     },
     "metadata": {
      "needs_background": "light"
     },
     "output_type": "display_data"
    }
   ],
   "source": [
    "sns.boxplot(x = 'class', y = 'skewness_glucose', data = df_valid)"
   ]
  },
  {
   "cell_type": "markdown",
   "metadata": {},
   "source": [
    "Vykonanie samotnej predikcie na základe jedného atribútu skewness_glucose. Dole je výpis úspešnosti predikcií. Hodnota, ktorú sme zvolili > 0,88 mala najväčšiu úspešnosť."
   ]
  },
  {
   "cell_type": "code",
   "execution_count": 79,
   "metadata": {},
   "outputs": [
    {
     "name": "stdout",
     "output_type": "stream",
     "text": [
      "               precision    recall  f1-score   support\n",
      "\n",
      "0 - negatívny      0.927     0.987     0.956       965\n",
      "1 - pozitívny      0.954     0.783     0.860       346\n",
      "\n",
      "     accuracy                          0.933      1311\n",
      "    macro avg      0.941     0.885     0.908      1311\n",
      " weighted avg      0.934     0.933     0.931      1311\n",
      "\n"
     ]
    }
   ],
   "source": [
    "predictions = []\n",
    "\n",
    "for index,row in X_test.iterrows():\n",
    "    if row.skewness_glucose > 0.88:\n",
    "        predictions.append(1)\n",
    "    else:\n",
    "        predictions.append(0)\n",
    "        \n",
    "print(classification_report(y_test, predictions, digits = 3, target_names=target_names))"
   ]
  },
  {
   "cell_type": "markdown",
   "metadata": {},
   "source": [
    "Na vizualizácii pomocou confusion matrix môžeme bližšie pozorovať, aké úspešné bolo naše rozhodovacie pravidlo pri vykonávaní predikcií. Vidíme, že väčšinu hodnôt sme trafili takú, aká bola v pôvodnom datasete. Napríklad v druhom riadku je vidieť, že sme 271 hodnôt priradili správne a 75 zle."
   ]
  },
  {
   "cell_type": "code",
   "execution_count": 80,
   "metadata": {
    "scrolled": false
   },
   "outputs": [
    {
     "data": {
      "text/plain": [
       "<sklearn.metrics._plot.confusion_matrix.ConfusionMatrixDisplay at 0x1d54bea9a60>"
      ]
     },
     "execution_count": 80,
     "metadata": {},
     "output_type": "execute_result"
    },
    {
     "data": {
      "image/png": "[encoded data removed]",
      "text/plain": [
       "<Figure size 432x288 with 2 Axes>"
      ]
     },
     "metadata": {
      "needs_background": "light"
     },
     "output_type": "display_data"
    }
   ],
   "source": [
    "ConfusionMatrixDisplay(confusion_matrix(y_test, predictions)).plot()"
   ]
  },
  {
   "cell_type": "markdown",
   "metadata": {},
   "source": [
    "#### kurtosis_glucose\n",
    "Budeme vytvárať pravidlo pre atribút kurtosis_glucose. Boxplot nám pomôže pri určovaní hodnoty, ktorá má rozdeliť pozitívnych a negatívnych ľudí na cukrovku. Vidíme, že táto hodnota bude niekde medzi 0 a 1."
   ]
  },
  {
   "cell_type": "code",
   "execution_count": 81,
   "metadata": {},
   "outputs": [
    {
     "data": {
      "text/plain": [
       "<AxesSubplot:xlabel='class', ylabel='kurtosis_glucose'>"
      ]
     },
     "execution_count": 81,
     "metadata": {},
     "output_type": "execute_result"
    },
    {
     "data": {
      "image/png": "[encoded data removed]",
      "text/plain": [
       "<Figure size 432x288 with 1 Axes>"
      ]
     },
     "metadata": {
      "needs_background": "light"
     },
     "output_type": "display_data"
    }
   ],
   "source": [
    "sns.boxplot(x = 'class', y = 'kurtosis_glucose', data = df_valid)"
   ]
  },
  {
   "cell_type": "markdown",
   "metadata": {},
   "source": [
    "Vykonanie samotnej predikcie na základe jedného atribútu kurtosis_glucose. Dole je výpis úspešnosti predikcií. Hodnota, ktorú sme zvolili > 0,65 mala najväčšiu úspešnosť."
   ]
  },
  {
   "cell_type": "code",
   "execution_count": 82,
   "metadata": {},
   "outputs": [
    {
     "name": "stdout",
     "output_type": "stream",
     "text": [
      "               precision    recall  f1-score   support\n",
      "\n",
      "0 - negatívny      0.958     0.981     0.969       965\n",
      "1 - pozitívny      0.944     0.879     0.910       346\n",
      "\n",
      "     accuracy                          0.954      1311\n",
      "    macro avg      0.951     0.930     0.940      1311\n",
      " weighted avg      0.954     0.954     0.954      1311\n",
      "\n"
     ]
    }
   ],
   "source": [
    "predictions = []\n",
    "\n",
    "for index,row in X_test.iterrows():\n",
    "    if row.kurtosis_glucose > 0.65:\n",
    "        predictions.append(1)\n",
    "    else:\n",
    "        predictions.append(0)\n",
    "\n",
    "print(classification_report(y_test, predictions, digits = 3, target_names=target_names))"
   ]
  },
  {
   "cell_type": "markdown",
   "metadata": {},
   "source": [
    "Na vizualizácii pomocou confusion matrix môžeme bližšie pozorovať, aké úspešné bolo naše rozhodovacie pravidlo pri vykonávaní predikcií. Vidíme, že drvivú väčšinu hodnôt sme trafili takú, aká bola v pôvodnom datasete. Napríklad v prvom riadku je vidieť, že sme 947 hodnôt priradili správne a iba 18 zle."
   ]
  },
  {
   "cell_type": "code",
   "execution_count": 83,
   "metadata": {
    "scrolled": true
   },
   "outputs": [
    {
     "data": {
      "text/plain": [
       "<sklearn.metrics._plot.confusion_matrix.ConfusionMatrixDisplay at 0x1d54c6a25b0>"
      ]
     },
     "execution_count": 83,
     "metadata": {},
     "output_type": "execute_result"
    },
    {
     "data": {
      "image/png": "[encoded data removed]",
      "text/plain": [
       "<Figure size 432x288 with 2 Axes>"
      ]
     },
     "metadata": {
      "needs_background": "light"
     },
     "output_type": "display_data"
    }
   ],
   "source": [
    "ConfusionMatrixDisplay(confusion_matrix(y_test, predictions)).plot()"
   ]
  },
  {
   "cell_type": "markdown",
   "metadata": {},
   "source": [
    "#### std_glucose, skewness_glucose\n",
    "Teraz budeme vytvárať pravidlo pre dva atribúty a to konkrétne pre std_glucose a skewness_glucose. Scatterplot nám pomôže pri určovaní hodnôt, ktoré majú rozdeliť pozitívnych a negatívnych ľudí na cukrovku. Vidíme že pre pozitívnych ľudí bude hodnota std_glucose niekde na škále od -0,5 do 0,5 a hodnota skewness_glucose na škále od 0,8 po 2."
   ]
  },
  {
   "cell_type": "code",
   "execution_count": 84,
   "metadata": {},
   "outputs": [
    {
     "data": {
      "text/plain": [
       "<AxesSubplot:xlabel='std_glucose', ylabel='skewness_glucose'>"
      ]
     },
     "execution_count": 84,
     "metadata": {},
     "output_type": "execute_result"
    },
    {
     "data": {
      "image/png": "[encoded data removed]",
      "text/plain": [
       "<Figure size 432x288 with 1 Axes>"
      ]
     },
     "metadata": {
      "needs_background": "light"
     },
     "output_type": "display_data"
    }
   ],
   "source": [
    "sns.scatterplot(x = 'std_glucose', y = 'skewness_glucose',hue=\"class\", data = df_valid)"
   ]
  },
  {
   "cell_type": "markdown",
   "metadata": {},
   "source": [
    "Vykonanie samotnej predikcie na základe atribútov std_glucose a skewness_glucose. Dole je výpis úspešnosti predikcií. Hodnoty, ktoré sme zvolili, < 0,2 pre std_glucose a > 1 pre skewness_glucose mali najväčšiu úspešnosť.\n"
   ]
  },
  {
   "cell_type": "code",
   "execution_count": 85,
   "metadata": {},
   "outputs": [
    {
     "name": "stdout",
     "output_type": "stream",
     "text": [
      "               precision    recall  f1-score   support\n",
      "\n",
      "0 - negatívny      0.879     0.993     0.932       965\n",
      "1 - pozitívny      0.968     0.618     0.755       346\n",
      "\n",
      "     accuracy                          0.894      1311\n",
      "    macro avg      0.924     0.806     0.844      1311\n",
      " weighted avg      0.903     0.894     0.886      1311\n",
      "\n"
     ]
    }
   ],
   "source": [
    "predictions = []\n",
    "\n",
    "for index,row in X_test.iterrows():\n",
    "    if row.std_glucose < 0.2 and row.skewness_glucose > 1.0:\n",
    "        predictions.append(1)\n",
    "    else:\n",
    "        predictions.append(0)\n",
    "        \n",
    "print(classification_report(y_test, predictions, digits = 3, target_names=target_names))"
   ]
  },
  {
   "cell_type": "markdown",
   "metadata": {},
   "source": [
    "Na vizualizácii pomocou confusion matrix môžeme bližšie pozorovať, aké úspešné bolo naše rozhodovacie pravidlo pri vykonávaní predikcií. Vidíme, že sa pravidlu darilo najmä pri určovaní negatívnych ľudí. Tam má takmer 100 percentnú úspešnosť. Pri určovaní pozitívnych je úspešnosť o dosř nižšia."
   ]
  },
  {
   "cell_type": "code",
   "execution_count": 86,
   "metadata": {
    "scrolled": true
   },
   "outputs": [
    {
     "data": {
      "text/plain": [
       "<sklearn.metrics._plot.confusion_matrix.ConfusionMatrixDisplay at 0x1d54dbf98e0>"
      ]
     },
     "execution_count": 86,
     "metadata": {},
     "output_type": "execute_result"
    },
    {
     "data": {
      "image/png": "[encoded data removed]",
      "text/plain": [
       "<Figure size 432x288 with 2 Axes>"
      ]
     },
     "metadata": {
      "needs_background": "light"
     },
     "output_type": "display_data"
    }
   ],
   "source": [
    "ConfusionMatrixDisplay(confusion_matrix(y_test, predictions)).plot()"
   ]
  },
  {
   "cell_type": "markdown",
   "metadata": {},
   "source": [
    "#### mean_glucose, skewness_glucose, kurtosis_glucose\n",
    "Vyskúšame vytvoriť aj pravidlo na základe troch artibútov."
   ]
  },
  {
   "cell_type": "code",
   "execution_count": 87,
   "metadata": {},
   "outputs": [
    {
     "name": "stdout",
     "output_type": "stream",
     "text": [
      "               precision    recall  f1-score   support\n",
      "\n",
      "0 - negatívny      0.921     0.997     0.957       965\n",
      "1 - pozitívny      0.989     0.760     0.859       346\n",
      "\n",
      "     accuracy                          0.934      1311\n",
      "    macro avg      0.955     0.879     0.908      1311\n",
      " weighted avg      0.939     0.934     0.931      1311\n",
      "\n"
     ]
    }
   ],
   "source": [
    "predictions = []\n",
    "\n",
    "for index,row in X_test.iterrows():\n",
    "    if row.mean_glucose < -0.77 and row.skewness_glucose > 0.88 and row.kurtosis_glucose > 0.8:\n",
    "        predictions.append(1)\n",
    "    else:\n",
    "        predictions.append(0)\n",
    "        \n",
    "print(classification_report(y_test, predictions, digits = 3, target_names=target_names))"
   ]
  },
  {
   "cell_type": "markdown",
   "metadata": {},
   "source": [
    "Aj keď je pravidlo založené až na troch atribútoch tak jeho úspešnosť je prekvapivo vysoká."
   ]
  },
  {
   "cell_type": "code",
   "execution_count": 88,
   "metadata": {
    "scrolled": true
   },
   "outputs": [
    {
     "data": {
      "text/plain": [
       "<sklearn.metrics._plot.confusion_matrix.ConfusionMatrixDisplay at 0x1d54dbfa0a0>"
      ]
     },
     "execution_count": 88,
     "metadata": {},
     "output_type": "execute_result"
    },
    {
     "data": {
      "image/png": "[encoded data removed]",
      "text/plain": [
       "<Figure size 432x288 with 2 Axes>"
      ]
     },
     "metadata": {
      "needs_background": "light"
     },
     "output_type": "display_data"
    }
   ],
   "source": [
    "ConfusionMatrixDisplay(confusion_matrix(y_test, predictions)).plot()"
   ]
  },
  {
   "cell_type": "markdown",
   "metadata": {},
   "source": [
    "#### mean_oxygen\n",
    "Budeme vytvárať pravidlo pre atribút mean_oxygen. Boxplot nám pomôže pri určovaní hodnoty, ktorá má rozdeliť pozitívnych a negatívnych ľudí na cukrovku. Vidíme, že táto hodnota bude niekde medzi 0 a 1."
   ]
  },
  {
   "cell_type": "code",
   "execution_count": 89,
   "metadata": {},
   "outputs": [
    {
     "data": {
      "text/plain": [
       "<AxesSubplot:xlabel='class', ylabel='mean_oxygen'>"
      ]
     },
     "execution_count": 89,
     "metadata": {},
     "output_type": "execute_result"
    },
    {
     "data": {
      "image/png": "[encoded data removed]",
      "text/plain": [
       "<Figure size 432x288 with 1 Axes>"
      ]
     },
     "metadata": {
      "needs_background": "light"
     },
     "output_type": "display_data"
    }
   ],
   "source": [
    "sns.boxplot(x = 'class', y = 'mean_oxygen', data = df_valid)"
   ]
  },
  {
   "cell_type": "markdown",
   "metadata": {},
   "source": [
    "Vykonanie samotnej predikcie na základe jedného atribútu mean_oxygen. Dole je výpis úspešnosti predikcií. Hodnota, ktorú sme zvolili > 0,7 mala najväčšiu úspešnosť."
   ]
  },
  {
   "cell_type": "code",
   "execution_count": 90,
   "metadata": {},
   "outputs": [
    {
     "name": "stdout",
     "output_type": "stream",
     "text": [
      "               precision    recall  f1-score   support\n",
      "\n",
      "0 - negatívny      0.928     0.905     0.916       965\n",
      "1 - pozitívny      0.751     0.803     0.777       346\n",
      "\n",
      "     accuracy                          0.878      1311\n",
      "    macro avg      0.840     0.854     0.846      1311\n",
      " weighted avg      0.881     0.878     0.879      1311\n",
      "\n"
     ]
    }
   ],
   "source": [
    "predictions = []\n",
    "\n",
    "for index,row in X_test.iterrows():\n",
    "    if row.mean_oxygen > 0.7:\n",
    "        predictions.append(1)\n",
    "    else:\n",
    "        predictions.append(0)\n",
    "        \n",
    "print(classification_report(y_test, predictions, digits = 3, target_names=target_names))"
   ]
  },
  {
   "cell_type": "markdown",
   "metadata": {},
   "source": [
    "Na vizualizácii pomocou confusion matrix môžeme bližšie pozorovať, aké úspešné bolo naše rozhodovacie pravidlo pri vykonávaní predikcií. Vidíme, že väčšinu hodnôt sme trafili takú, aká bola v pôvodnom datasete. Napríklad v prvom riadku je vidieť, že sme 873 hodnôt priradili správne a 92 zle."
   ]
  },
  {
   "cell_type": "code",
   "execution_count": 91,
   "metadata": {
    "scrolled": false
   },
   "outputs": [
    {
     "data": {
      "text/plain": [
       "<sklearn.metrics._plot.confusion_matrix.ConfusionMatrixDisplay at 0x1d550bb3880>"
      ]
     },
     "execution_count": 91,
     "metadata": {},
     "output_type": "execute_result"
    },
    {
     "data": {
      "image/png": "[encoded data removed]",
      "text/plain": [
       "<Figure size 432x288 with 2 Axes>"
      ]
     },
     "metadata": {
      "needs_background": "light"
     },
     "output_type": "display_data"
    }
   ],
   "source": [
    "ConfusionMatrixDisplay(confusion_matrix(y_test, predictions)).plot()"
   ]
  },
  {
   "cell_type": "markdown",
   "metadata": {},
   "source": [
    "#### skewness_oxygen\n",
    "Budeme vytvárať pravidlo pre atribút skewness_oxygen. Boxplot nám pomôže pri určovaní hodnoty, ktorá má rozdeliť pozitívnych a negatívnych ľudí na cukrovku. Vidíme, že táto hodnota bude niekde medzi -1 a 0."
   ]
  },
  {
   "cell_type": "code",
   "execution_count": 92,
   "metadata": {},
   "outputs": [
    {
     "data": {
      "text/plain": [
       "<AxesSubplot:xlabel='class', ylabel='skewness_oxygen'>"
      ]
     },
     "execution_count": 92,
     "metadata": {},
     "output_type": "execute_result"
    },
    {
     "data": {
      "image/png": "[encoded data removed]",
      "text/plain": [
       "<Figure size 432x288 with 1 Axes>"
      ]
     },
     "metadata": {
      "needs_background": "light"
     },
     "output_type": "display_data"
    }
   ],
   "source": [
    "sns.boxplot(x = 'class', y = 'skewness_oxygen', data = df_valid)"
   ]
  },
  {
   "cell_type": "markdown",
   "metadata": {},
   "source": [
    "Vykonanie samotnej predikcie na základe jedného atribútu skewness_oxygen. Dole je výpis úspešnosti predikcií. Hodnota, ktorú sme zvolili < -0,61 mala najväčšiu úspešnosť."
   ]
  },
  {
   "cell_type": "code",
   "execution_count": 93,
   "metadata": {},
   "outputs": [
    {
     "name": "stdout",
     "output_type": "stream",
     "text": [
      "               precision    recall  f1-score   support\n",
      "\n",
      "0 - negatívny      0.925     0.898     0.912       965\n",
      "1 - pozitívny      0.738     0.798     0.767       346\n",
      "\n",
      "     accuracy                          0.872      1311\n",
      "    macro avg      0.832     0.848     0.839      1311\n",
      " weighted avg      0.876     0.872     0.873      1311\n",
      "\n"
     ]
    }
   ],
   "source": [
    "predictions = []\n",
    "\n",
    "for index,row in X_test.iterrows():\n",
    "    if row.skewness_oxygen < -0.61:\n",
    "        predictions.append(1)\n",
    "    else:\n",
    "        predictions.append(0)\n",
    "        \n",
    "print(classification_report(y_test, predictions, digits = 3, target_names=target_names))"
   ]
  },
  {
   "cell_type": "markdown",
   "metadata": {},
   "source": [
    "Na vizualizácii pomocou confusion matrix môžeme bližšie pozorovať, aké úspešné bolo naše rozhodovacie pravidlo pri vykonávaní predikcií. Vidíme, že väčšinu hodnôt sme trafili takú, aká bola v pôvodnom datasete. Napríklad v druhom riadku je vidieť, že sme 276 hodnôt priradili správne a 70 zle."
   ]
  },
  {
   "cell_type": "code",
   "execution_count": 94,
   "metadata": {
    "scrolled": false
   },
   "outputs": [
    {
     "data": {
      "text/plain": [
       "<sklearn.metrics._plot.confusion_matrix.ConfusionMatrixDisplay at 0x1d54cb9d880>"
      ]
     },
     "execution_count": 94,
     "metadata": {},
     "output_type": "execute_result"
    },
    {
     "data": {
      "image/png": "[encoded data removed]",
      "text/plain": [
       "<Figure size 432x288 with 2 Axes>"
      ]
     },
     "metadata": {
      "needs_background": "light"
     },
     "output_type": "display_data"
    }
   ],
   "source": [
    "ConfusionMatrixDisplay(confusion_matrix(y_test, predictions)).plot()"
   ]
  },
  {
   "cell_type": "markdown",
   "metadata": {},
   "source": [
    "#### std_oxygen\n",
    "Budeme vytvárať pravidlo pre atribút std_oxygen. Boxplot nám pomôže pri určovaní hodnoty, ktorá má rozdeliť pozitívnych a negatívnych ľudí na cukrovku. Vidíme, že táto hodnota bude niekde medzi -1 a 0."
   ]
  },
  {
   "cell_type": "code",
   "execution_count": 95,
   "metadata": {},
   "outputs": [
    {
     "data": {
      "text/plain": [
       "<AxesSubplot:xlabel='class', ylabel='std_oxygen'>"
      ]
     },
     "execution_count": 95,
     "metadata": {},
     "output_type": "execute_result"
    },
    {
     "data": {
      "image/png": "[encoded data removed]",
      "text/plain": [
       "<Figure size 432x288 with 1 Axes>"
      ]
     },
     "metadata": {
      "needs_background": "light"
     },
     "output_type": "display_data"
    }
   ],
   "source": [
    "sns.boxplot(x = 'class', y = 'std_oxygen', data = df_valid)"
   ]
  },
  {
   "cell_type": "markdown",
   "metadata": {},
   "source": [
    "Vykonanie samotnej predikcie na základe jedného atribútu std_oxygen. Dole je výpis úspešnosti predikcií. Hodnota, ktorú sme zvolili > 0,81 mala najväčšiu úspešnosť."
   ]
  },
  {
   "cell_type": "code",
   "execution_count": 96,
   "metadata": {},
   "outputs": [
    {
     "name": "stdout",
     "output_type": "stream",
     "text": [
      "               precision    recall  f1-score   support\n",
      "\n",
      "0 - negatívny      0.923     0.905     0.914       965\n",
      "1 - pozitívny      0.748     0.789     0.768       346\n",
      "\n",
      "     accuracy                          0.874      1311\n",
      "    macro avg      0.835     0.847     0.841      1311\n",
      " weighted avg      0.877     0.874     0.875      1311\n",
      "\n"
     ]
    }
   ],
   "source": [
    "predictions = []\n",
    "\n",
    "for index,row in X_test.iterrows():\n",
    "    if row.std_oxygen > 0.81:\n",
    "        predictions.append(1)\n",
    "    else:\n",
    "        predictions.append(0)\n",
    "        \n",
    "print(classification_report(y_test, predictions, digits = 3, target_names=target_names))"
   ]
  },
  {
   "cell_type": "markdown",
   "metadata": {},
   "source": [
    "Na vizualizácii pomocou confusion matrix môžeme bližšie pozorovať, aké úspešné bolo naše rozhodovacie pravidlo pri vykonávaní predikcií. Vidíme, že väčšinu hodnôt sme trafili takú, aká bola v pôvodnom datasete. Napríklad v prvom riadku je vidieť, že sme 873 hodnôt priradili správne a 92 zle."
   ]
  },
  {
   "cell_type": "code",
   "execution_count": 97,
   "metadata": {
    "scrolled": false
   },
   "outputs": [
    {
     "data": {
      "text/plain": [
       "<sklearn.metrics._plot.confusion_matrix.ConfusionMatrixDisplay at 0x1d54ea40d90>"
      ]
     },
     "execution_count": 97,
     "metadata": {},
     "output_type": "execute_result"
    },
    {
     "data": {
      "image/png": "[encoded data removed]",
      "text/plain": [
       "<Figure size 432x288 with 2 Axes>"
      ]
     },
     "metadata": {
      "needs_background": "light"
     },
     "output_type": "display_data"
    }
   ],
   "source": [
    "ConfusionMatrixDisplay(confusion_matrix(y_test, predictions)).plot()"
   ]
  },
  {
   "cell_type": "markdown",
   "metadata": {},
   "source": [
    "#### skewness_oxygen, kurtosis_oxygen\n",
    "Teraz budeme vytvárať pravidlo pre dva atribúty a to konkrétne pre skewness_oxygen a kurtosis_oxygen. Scatterplot nám pomôže pri určovaní hodnôt, ktoré majú rozdeliť pozitívnych a negatívnych ľudí na cukrovku. Vidíme že pre pozitívnych ľudí bude hodnota skewness_oxygen niekde na škále od -2 do -1 a hodnota kurtosis_oxygen na škále od -2 po -0,5."
   ]
  },
  {
   "cell_type": "code",
   "execution_count": 98,
   "metadata": {},
   "outputs": [
    {
     "data": {
      "text/plain": [
       "<AxesSubplot:xlabel='skewness_oxygen', ylabel='kurtosis_oxygen'>"
      ]
     },
     "execution_count": 98,
     "metadata": {},
     "output_type": "execute_result"
    },
    {
     "data": {
      "image/png": "[encoded data removed]",
      "text/plain": [
       "<Figure size 432x288 with 1 Axes>"
      ]
     },
     "metadata": {
      "needs_background": "light"
     },
     "output_type": "display_data"
    }
   ],
   "source": [
    "sns.scatterplot(x = 'skewness_oxygen', y = 'kurtosis_oxygen',hue=\"class\", data = df_valid)"
   ]
  },
  {
   "cell_type": "markdown",
   "metadata": {},
   "source": [
    "Vykonanie samotnej predikcie na základe atribútov skewness_oxygen a kurtosis_oxygen. Dole je výpis úspešnosti predikcií. Hodnoty, ktoré sme zvolili, < -0,61 pre skewness_oxygen a < -0,61 pre kurtosis_oxygen mali najväčšiu úspešnosť."
   ]
  },
  {
   "cell_type": "code",
   "execution_count": 99,
   "metadata": {},
   "outputs": [
    {
     "name": "stdout",
     "output_type": "stream",
     "text": [
      "               precision    recall  f1-score   support\n",
      "\n",
      "0 - negatívny      0.924     0.903     0.913       965\n",
      "1 - pozitívny      0.745     0.792     0.768       346\n",
      "\n",
      "     accuracy                          0.873      1311\n",
      "    macro avg      0.834     0.847     0.840      1311\n",
      " weighted avg      0.876     0.873     0.875      1311\n",
      "\n"
     ]
    }
   ],
   "source": [
    "predictions = []\n",
    "\n",
    "for index,row in X_test.iterrows():\n",
    "    if row.skewness_oxygen < -0.61 and row.kurtosis_oxygen < -0.61:\n",
    "        predictions.append(1)\n",
    "    else:\n",
    "        predictions.append(0)\n",
    "        \n",
    "print(classification_report(y_test, predictions, digits = 3, target_names=target_names))"
   ]
  },
  {
   "cell_type": "markdown",
   "metadata": {},
   "source": [
    "Na vizualizácii pomocou confusion matrix môžeme bližšie pozorovať, aké úspešné bolo naše rozhodovacie pravidlo pri vykonávaní predikcií. Vidíme, že väčšinu hodnôt sme trafili takú, aká bola v pôvodnom datasete. Napríklad v druhom riadku je vidieť, že sme 274 hodnôt priradili správne a 72 zle."
   ]
  },
  {
   "cell_type": "code",
   "execution_count": 100,
   "metadata": {
    "scrolled": true
   },
   "outputs": [
    {
     "data": {
      "text/plain": [
       "<sklearn.metrics._plot.confusion_matrix.ConfusionMatrixDisplay at 0x1d54eab2490>"
      ]
     },
     "execution_count": 100,
     "metadata": {},
     "output_type": "execute_result"
    },
    {
     "data": {
      "image/png": "[encoded data removed]",
      "text/plain": [
       "<Figure size 432x288 with 2 Axes>"
      ]
     },
     "metadata": {
      "needs_background": "light"
     },
     "output_type": "display_data"
    }
   ],
   "source": [
    "ConfusionMatrixDisplay(confusion_matrix(y_test, predictions)).plot()"
   ]
  },
  {
   "cell_type": "markdown",
   "metadata": {},
   "source": [
    "#### std_oxygen, mean_oxygen\n",
    "Teraz budeme vytvárať pravidlo pre dva atribúty a to konkrétne pre std_oxygen a mean_oxygen. Scatterplot nám pomôže pri určovaní hodnôt, ktoré majú rozdeliť pozitívnych a negatívnych ľudí na cukrovku. Vidíme že pre pozitívnych ľudí bude hodnota std_oxygen niekde na škále od 0,8 do 1,8 a hodnota mean_oxygen na škále od 0,6 po 2."
   ]
  },
  {
   "cell_type": "code",
   "execution_count": 101,
   "metadata": {},
   "outputs": [
    {
     "data": {
      "text/plain": [
       "<AxesSubplot:xlabel='std_oxygen', ylabel='mean_oxygen'>"
      ]
     },
     "execution_count": 101,
     "metadata": {},
     "output_type": "execute_result"
    },
    {
     "data": {
      "image/png": "[encoded data removed]",
      "text/plain": [
       "<Figure size 432x288 with 1 Axes>"
      ]
     },
     "metadata": {
      "needs_background": "light"
     },
     "output_type": "display_data"
    }
   ],
   "source": [
    "sns.scatterplot(x = 'std_oxygen', y = 'mean_oxygen',hue=\"class\", data = df_train )"
   ]
  },
  {
   "cell_type": "markdown",
   "metadata": {},
   "source": [
    "Vykonanie samotnej predikcie na základe atribútov std_oxygen a mean_oxygen. Dole je výpis úspešnosti predikcií. Hodnoty, ktoré sme zvolili, > 0,81 pre std_oxygen a > 0,7 pre mean_oxygen mali najväčšiu úspešnosť."
   ]
  },
  {
   "cell_type": "code",
   "execution_count": 102,
   "metadata": {},
   "outputs": [
    {
     "name": "stdout",
     "output_type": "stream",
     "text": [
      "               precision    recall  f1-score   support\n",
      "\n",
      "0 - negatívny      0.921     0.908     0.914       965\n",
      "1 - pozitívny      0.753     0.783     0.768       346\n",
      "\n",
      "     accuracy                          0.875      1311\n",
      "    macro avg      0.837     0.846     0.841      1311\n",
      " weighted avg      0.877     0.875     0.876      1311\n",
      "\n"
     ]
    }
   ],
   "source": [
    "predictions = []\n",
    "\n",
    "for index,row in X_test.iterrows():\n",
    "    if row.std_oxygen > 0.81 and row.mean_oxygen > 0.7:\n",
    "        predictions.append(1)\n",
    "    else:\n",
    "        predictions.append(0)\n",
    "        \n",
    "print(classification_report(y_test, predictions, digits = 3, target_names=target_names))"
   ]
  },
  {
   "cell_type": "markdown",
   "metadata": {},
   "source": [
    "Na vizualizácii pomocou confusion matrix môžeme bližšie pozorovať, aké úspešné bolo naše rozhodovacie pravidlo pri vykonávaní predikcií. Vidíme, že väčšinu hodnôt sme trafili takú, aká bola v pôvodnom datasete. Napríklad v prvom riadku je vidieť, že sme 876 hodnôt priradili správne a 89 zle."
   ]
  },
  {
   "cell_type": "code",
   "execution_count": 103,
   "metadata": {},
   "outputs": [
    {
     "data": {
      "text/plain": [
       "<sklearn.metrics._plot.confusion_matrix.ConfusionMatrixDisplay at 0x1d54e6f3730>"
      ]
     },
     "execution_count": 103,
     "metadata": {},
     "output_type": "execute_result"
    },
    {
     "data": {
      "image/png": "[encoded data removed]",
      "text/plain": [
       "<Figure size 432x288 with 2 Axes>"
      ]
     },
     "metadata": {
      "needs_background": "light"
     },
     "output_type": "display_data"
    }
   ],
   "source": [
    "ConfusionMatrixDisplay(confusion_matrix(y_test, predictions)).plot()"
   ]
  },
  {
   "cell_type": "markdown",
   "metadata": {},
   "source": [
    "#### mean_oxygen, skewness_oxygen, kurtosis_oxygen\n",
    "Vyskúšame vytvoriť aj pravidlo na základe troch artibútov."
   ]
  },
  {
   "cell_type": "code",
   "execution_count": 104,
   "metadata": {},
   "outputs": [
    {
     "name": "stdout",
     "output_type": "stream",
     "text": [
      "               precision    recall  f1-score   support\n",
      "\n",
      "0 - negatívny      0.924     0.907     0.915       965\n",
      "1 - pozitívny      0.753     0.792     0.772       346\n",
      "\n",
      "     accuracy                          0.876      1311\n",
      "    macro avg      0.838     0.849     0.844      1311\n",
      " weighted avg      0.879     0.876     0.877      1311\n",
      "\n"
     ]
    }
   ],
   "source": [
    "predictions = []\n",
    "\n",
    "for index,row in X_test.iterrows():\n",
    "    if row.mean_oxygen > 0.7 and row.skewness_oxygen < -0.61 and row.kurtosis_oxygen < -0.61:\n",
    "        predictions.append(1)\n",
    "    else:\n",
    "        predictions.append(0)\n",
    "        \n",
    "print(classification_report(y_test, predictions, digits = 3, target_names=target_names))"
   ]
  },
  {
   "cell_type": "markdown",
   "metadata": {},
   "source": [
    "Úspešnosť pravidla s tromi atribútmi je celkom vysoká i keď treba povedať, že je o niečo nižšia od ostatných pravidiel."
   ]
  },
  {
   "cell_type": "code",
   "execution_count": 105,
   "metadata": {
    "scrolled": true
   },
   "outputs": [
    {
     "data": {
      "text/plain": [
       "<sklearn.metrics._plot.confusion_matrix.ConfusionMatrixDisplay at 0x1d54e57d7c0>"
      ]
     },
     "execution_count": 105,
     "metadata": {},
     "output_type": "execute_result"
    },
    {
     "data": {
      "image/png": "[encoded data removed]",
      "text/plain": [
       "<Figure size 432x288 with 2 Axes>"
      ]
     },
     "metadata": {
      "needs_background": "light"
     },
     "output_type": "display_data"
    }
   ],
   "source": [
    "ConfusionMatrixDisplay(confusion_matrix(y_test, predictions)).plot()"
   ]
  },
  {
   "cell_type": "markdown",
   "metadata": {},
   "source": [
    "#### mean_oxygen, skewness_oxygen, kurtosis_oxygen, std_oxygen, kurtosis_glucose\n",
    "Vyskúšame vytvoriť aj pravidlo na základe piatich artibútov. Atribúty sa týkajú najmä oxygenu a použili sme jeden atribút pre glucose."
   ]
  },
  {
   "cell_type": "code",
   "execution_count": 106,
   "metadata": {},
   "outputs": [
    {
     "name": "stdout",
     "output_type": "stream",
     "text": [
      "               precision    recall  f1-score   support\n",
      "\n",
      "0 - negatívny      0.909     0.995     0.950       965\n",
      "1 - pozitívny      0.980     0.723     0.832       346\n",
      "\n",
      "     accuracy                          0.923      1311\n",
      "    macro avg      0.945     0.859     0.891      1311\n",
      " weighted avg      0.928     0.923     0.919      1311\n",
      "\n"
     ]
    }
   ],
   "source": [
    "predictions = []\n",
    "\n",
    "for index,row in X_test.iterrows():\n",
    "    if row.mean_oxygen > 0.7 and row.skewness_oxygen < -0.61 and row.kurtosis_oxygen < -0.61 and row.std_oxygen > 0.81 and row.kurtosis_glucose > 0.65:\n",
    "        predictions.append(1)\n",
    "    else:\n",
    "        predictions.append(0)\n",
    "        \n",
    "print(classification_report(y_test, predictions, digits = 3, target_names=target_names))"
   ]
  },
  {
   "cell_type": "markdown",
   "metadata": {},
   "source": [
    "Na vizualizácii pomocou confusion matrix môžeme bližšie pozorovať, aké úspešné bolo naše rozhodovacie pravidlo pri vykonávaní predikcií. Vidíme, že väčšinu hodnôt sme trafili takú, aká bola v pôvodnom datasete. Napríklad v prvom riadku je vidieť, že sme 922 hodnôt priradili správne a 43 zle. Pravidlo s piatimi atribútmi má aj vyššiu úspešnosť pri určovaní pozitívnych ľudí ako pravidlá s jedným atribútom."
   ]
  },
  {
   "cell_type": "code",
   "execution_count": 107,
   "metadata": {},
   "outputs": [
    {
     "data": {
      "text/plain": [
       "<sklearn.metrics._plot.confusion_matrix.ConfusionMatrixDisplay at 0x1d54dc70670>"
      ]
     },
     "execution_count": 107,
     "metadata": {},
     "output_type": "execute_result"
    },
    {
     "data": {
      "image/png": "[encoded data removed]",
      "text/plain": [
       "<Figure size 432x288 with 2 Axes>"
      ]
     },
     "metadata": {
      "needs_background": "light"
     },
     "output_type": "display_data"
    }
   ],
   "source": [
    "ConfusionMatrixDisplay(confusion_matrix(y_test, predictions)).plot()"
   ]
  },
  {
   "cell_type": "markdown",
   "metadata": {},
   "source": [
    "## Natrénovanie a vyhodnotenie klasifikátora s využitím rozhodovacích stromov"
   ]
  },
  {
   "cell_type": "markdown",
   "metadata": {},
   "source": [
    "Namiesto manuálnych pravidiel teraz necháme predickiu vykonať pomocou decision tree. Použijeme na to klasifikátor DecisionTreeClassifier(). Nižšie vidíme úspešnosť, ktorá je veľmi vysoká. Je vyššia ako takmer všetky naše manuálne pravidlá, takže určite sa oplatí použiť decision tree oproti manuálnym parvidlám."
   ]
  },
  {
   "cell_type": "code",
   "execution_count": 108,
   "metadata": {},
   "outputs": [
    {
     "name": "stdout",
     "output_type": "stream",
     "text": [
      "               precision    recall  f1-score   support\n",
      "\n",
      "0 - negatívny      0.973     0.956     0.964       965\n",
      "1 - pozitívny      0.884     0.925     0.904       346\n",
      "\n",
      "     accuracy                          0.948      1311\n",
      "    macro avg      0.928     0.941     0.934      1311\n",
      " weighted avg      0.949     0.948     0.949      1311\n",
      "\n"
     ]
    }
   ],
   "source": [
    "clf = tree.DecisionTreeClassifier()\n",
    "clf = clf.fit(X_train, y_train)\n",
    "predictions = clf.predict(X_test)\n",
    "print(classification_report(y_test, predictions, digits = 3, target_names=target_names))"
   ]
  },
  {
   "cell_type": "markdown",
   "metadata": {},
   "source": [
    "Na vizualizácii pomocou confusion matrix môžeme bližšie pozorovať, aké úspešné bolo rozhodovanie rozhodovacieho stromu pri vykonávaní predikcií. Vidíme, že drvivú väčšinu hodnôt decision tree vybral takú, aká bola v pôvodnom datasete. Manuálne pravidlá mali problém s určovaním pozitívnych ľudí. Decision tree to zvládol omnoho lepšie. "
   ]
  },
  {
   "cell_type": "code",
   "execution_count": 109,
   "metadata": {},
   "outputs": [
    {
     "data": {
      "text/plain": [
       "<sklearn.metrics._plot.confusion_matrix.ConfusionMatrixDisplay at 0x1d54c7d2220>"
      ]
     },
     "execution_count": 109,
     "metadata": {},
     "output_type": "execute_result"
    },
    {
     "data": {
      "image/png": "[encoded data removed]",
      "text/plain": [
       "<Figure size 432x288 with 2 Axes>"
      ]
     },
     "metadata": {
      "needs_background": "light"
     },
     "output_type": "display_data"
    }
   ],
   "source": [
    "ConfusionMatrixDisplay(confusion_matrix(y_test, predictions)).plot()"
   ]
  },
  {
   "cell_type": "markdown",
   "metadata": {},
   "source": [
    "Vizualizácia samotného stromu."
   ]
  },
  {
   "cell_type": "code",
   "execution_count": 110,
   "metadata": {},
   "outputs": [
    {
     "data": {
      "text/plain": [
       "[Text(222.99038293815042, 211.7178947368421, 'X[19] <= 0.499\\ngini = 0.38\\nsamples = 3931\\nvalue = [2928, 1003]'),\n",
       " Text(156.79211876182592, 200.2736842105263, 'X[2] <= 77.5\\ngini = 0.086\\nsamples = 3025\\nvalue = [2889, 136]'),\n",
       " Text(124.25208579706717, 188.82947368421054, 'X[19] <= -0.12\\ngini = 0.08\\nsamples = 3013\\nvalue = [2888, 125]'),\n",
       " Text(66.77391201513718, 177.38526315789474, 'X[6] <= 12.5\\ngini = 0.021\\nsamples = 2102\\nvalue = [2080, 22]'),\n",
       " Text(35.039971617786186, 165.94105263157894, 'X[19] <= -0.426\\ngini = 0.017\\nsamples = 2048\\nvalue = [2030, 18]'),\n",
       " Text(12.669820245979187, 154.49684210526317, 'X[20] <= -2.952\\ngini = 0.005\\nsamples = 1305\\nvalue = [1302, 3]'),\n",
       " Text(5.067928098391675, 143.05263157894737, 'X[6] <= 7.5\\ngini = 0.278\\nsamples = 6\\nvalue = [5, 1]'),\n",
       " Text(2.5339640491958373, 131.60842105263157, 'gini = 0.0\\nsamples = 5\\nvalue = [5, 0]'),\n",
       " Text(7.601892147587511, 131.60842105263157, 'gini = 0.0\\nsamples = 1\\nvalue = [0, 1]'),\n",
       " Text(20.2717123935667, 143.05263157894737, 'X[14] <= 22.5\\ngini = 0.003\\nsamples = 1299\\nvalue = [1297, 2]'),\n",
       " Text(12.669820245979187, 131.60842105263157, 'X[17] <= 1.349\\ngini = 0.002\\nsamples = 1279\\nvalue = [1278, 1]'),\n",
       " Text(10.13585619678335, 120.16421052631578, 'gini = 0.0\\nsamples = 1055\\nvalue = [1055, 0]'),\n",
       " Text(15.203784295175023, 120.16421052631578, 'X[17] <= 1.35\\ngini = 0.009\\nsamples = 224\\nvalue = [223, 1]'),\n",
       " Text(12.669820245979187, 108.72, 'gini = 0.0\\nsamples = 1\\nvalue = [0, 1]'),\n",
       " Text(17.73774834437086, 108.72, 'gini = 0.0\\nsamples = 223\\nvalue = [223, 0]'),\n",
       " Text(27.87360454115421, 131.60842105263157, 'X[14] <= 24.0\\ngini = 0.095\\nsamples = 20\\nvalue = [19, 1]'),\n",
       " Text(25.339640491958374, 120.16421052631578, 'X[20] <= -1.059\\ngini = 0.444\\nsamples = 3\\nvalue = [2, 1]'),\n",
       " Text(22.805676442762536, 108.72, 'gini = 0.0\\nsamples = 1\\nvalue = [0, 1]'),\n",
       " Text(27.87360454115421, 108.72, 'gini = 0.0\\nsamples = 2\\nvalue = [2, 0]'),\n",
       " Text(30.407568590350046, 120.16421052631578, 'gini = 0.0\\nsamples = 17\\nvalue = [17, 0]'),\n",
       " Text(57.41012298959319, 154.49684210526317, 'X[19] <= -0.426\\ngini = 0.04\\nsamples = 743\\nvalue = [728, 15]'),\n",
       " Text(54.87615894039735, 143.05263157894737, 'gini = 0.0\\nsamples = 1\\nvalue = [0, 1]'),\n",
       " Text(59.94408703878903, 143.05263157894737, 'X[2] <= 61.5\\ngini = 0.037\\nsamples = 742\\nvalue = [728, 14]'),\n",
       " Text(42.9190160832545, 131.60842105263157, 'X[24] <= 0.082\\ngini = 0.022\\nsamples = 639\\nvalue = [632, 7]'),\n",
       " Text(35.47549668874172, 120.16421052631578, 'X[22] <= -0.434\\ngini = 0.068\\nsamples = 169\\nvalue = [163, 6]'),\n",
       " Text(32.94153263954588, 108.72, 'gini = 0.0\\nsamples = 1\\nvalue = [0, 1]'),\n",
       " Text(38.00946073793756, 108.72, 'X[17] <= -0.364\\ngini = 0.058\\nsamples = 168\\nvalue = [163, 5]'),\n",
       " Text(30.724314096499526, 97.27578947368421, 'X[13] <= 0.5\\ngini = 0.5\\nsamples = 2\\nvalue = [1, 1]'),\n",
       " Text(28.19035004730369, 85.83157894736843, 'gini = 0.0\\nsamples = 1\\nvalue = [0, 1]'),\n",
       " Text(33.258278145695364, 85.83157894736843, 'gini = 0.0\\nsamples = 1\\nvalue = [1, 0]'),\n",
       " Text(45.29460737937559, 97.27578947368421, 'X[18] <= 2.22\\ngini = 0.047\\nsamples = 166\\nvalue = [162, 4]'),\n",
       " Text(38.32620624408704, 85.83157894736843, 'X[10] <= 10785.0\\ngini = 0.037\\nsamples = 160\\nvalue = [157, 3]'),\n",
       " Text(31.991296121097445, 74.38736842105263, 'X[21] <= -0.194\\ngini = 0.026\\nsamples = 154\\nvalue = [152, 2]'),\n",
       " Text(26.92336802270577, 62.943157894736856, 'X[9] <= 4.5\\ngini = 0.245\\nsamples = 7\\nvalue = [6, 1]'),\n",
       " Text(24.389403973509935, 51.49894736842106, 'gini = 0.0\\nsamples = 6\\nvalue = [6, 0]'),\n",
       " Text(29.457332071901607, 51.49894736842106, 'gini = 0.0\\nsamples = 1\\nvalue = [0, 1]'),\n",
       " Text(37.05922421948912, 62.943157894736856, 'X[20] <= -1.461\\ngini = 0.014\\nsamples = 147\\nvalue = [146, 1]'),\n",
       " Text(34.525260170293286, 51.49894736842106, 'X[17] <= 0.186\\ngini = 0.198\\nsamples = 9\\nvalue = [8, 1]'),\n",
       " Text(31.991296121097445, 40.05473684210526, 'gini = 0.0\\nsamples = 1\\nvalue = [0, 1]'),\n",
       " Text(37.05922421948912, 40.05473684210526, 'gini = 0.0\\nsamples = 8\\nvalue = [8, 0]'),\n",
       " Text(39.593188268684955, 51.49894736842106, 'gini = 0.0\\nsamples = 138\\nvalue = [138, 0]'),\n",
       " Text(44.66111636707663, 74.38736842105263, 'X[17] <= -0.006\\ngini = 0.278\\nsamples = 6\\nvalue = [5, 1]'),\n",
       " Text(42.12715231788079, 62.943157894736856, 'gini = 0.0\\nsamples = 1\\nvalue = [0, 1]'),\n",
       " Text(47.19508041627247, 62.943157894736856, 'gini = 0.0\\nsamples = 5\\nvalue = [5, 0]'),\n",
       " Text(52.26300851466414, 85.83157894736843, 'X[2] <= 38.5\\ngini = 0.278\\nsamples = 6\\nvalue = [5, 1]'),\n",
       " Text(49.729044465468306, 74.38736842105263, 'gini = 0.0\\nsamples = 1\\nvalue = [0, 1]'),\n",
       " Text(54.79697256385998, 74.38736842105263, 'gini = 0.0\\nsamples = 5\\nvalue = [5, 0]'),\n",
       " Text(50.36253547776727, 120.16421052631578, 'X[0] <= 3715.0\\ngini = 0.004\\nsamples = 470\\nvalue = [469, 1]'),\n",
       " Text(47.82857142857143, 108.72, 'gini = 0.0\\nsamples = 447\\nvalue = [447, 0]'),\n",
       " Text(52.896499526963105, 108.72, 'X[0] <= 3722.5\\ngini = 0.083\\nsamples = 23\\nvalue = [22, 1]'),\n",
       " Text(50.36253547776727, 97.27578947368421, 'gini = 0.0\\nsamples = 1\\nvalue = [0, 1]'),\n",
       " Text(55.43046357615894, 97.27578947368421, 'gini = 0.0\\nsamples = 22\\nvalue = [22, 0]'),\n",
       " Text(76.96915799432355, 131.60842105263157, 'X[16] <= 2.5\\ngini = 0.127\\nsamples = 103\\nvalue = [96, 7]'),\n",
       " Text(68.10028382213812, 120.16421052631578, 'X[1] <= 13527.5\\ngini = 0.064\\nsamples = 91\\nvalue = [88, 3]'),\n",
       " Text(63.032355723746456, 108.72, 'X[8] <= 8.0\\ngini = 0.26\\nsamples = 13\\nvalue = [11, 2]'),\n",
       " Text(60.49839167455062, 97.27578947368421, 'gini = 0.0\\nsamples = 1\\nvalue = [0, 1]'),\n",
       " Text(65.5663197729423, 97.27578947368421, 'X[1] <= 13202.0\\ngini = 0.153\\nsamples = 12\\nvalue = [11, 1]'),\n",
       " Text(63.032355723746456, 85.83157894736843, 'gini = 0.0\\nsamples = 11\\nvalue = [11, 0]'),\n",
       " Text(68.10028382213812, 85.83157894736843, 'gini = 0.0\\nsamples = 1\\nvalue = [0, 1]'),\n",
       " Text(73.1682119205298, 108.72, 'X[20] <= 0.476\\ngini = 0.025\\nsamples = 78\\nvalue = [77, 1]'),\n",
       " Text(70.63424787133397, 97.27578947368421, 'gini = 0.0\\nsamples = 74\\nvalue = [74, 0]'),\n",
       " Text(75.70217596972564, 97.27578947368421, 'X[17] <= 0.236\\ngini = 0.375\\nsamples = 4\\nvalue = [3, 1]'),\n",
       " Text(73.1682119205298, 85.83157894736843, 'gini = 0.0\\nsamples = 3\\nvalue = [3, 0]'),\n",
       " Text(78.23614001892147, 85.83157894736843, 'gini = 0.0\\nsamples = 1\\nvalue = [0, 1]'),\n",
       " Text(85.838032166509, 120.16421052631578, 'X[12] <= 143121.0\\ngini = 0.444\\nsamples = 12\\nvalue = [8, 4]'),\n",
       " Text(83.30406811731315, 108.72, 'X[22] <= -0.337\\ngini = 0.444\\nsamples = 6\\nvalue = [2, 4]'),\n",
       " Text(80.77010406811732, 97.27578947368421, 'gini = 0.0\\nsamples = 2\\nvalue = [2, 0]'),\n",
       " Text(85.838032166509, 97.27578947368421, 'gini = 0.0\\nsamples = 4\\nvalue = [0, 4]'),\n",
       " Text(88.37199621570483, 108.72, 'gini = 0.0\\nsamples = 6\\nvalue = [6, 0]'),\n",
       " Text(98.50785241248818, 165.94105263157894, 'X[20] <= 0.444\\ngini = 0.137\\nsamples = 54\\nvalue = [50, 4]'),\n",
       " Text(95.97388836329233, 154.49684210526317, 'X[12] <= 51766.0\\ngini = 0.107\\nsamples = 53\\nvalue = [50, 3]'),\n",
       " Text(90.90596026490066, 143.05263157894737, 'X[24] <= 0.363\\ngini = 0.444\\nsamples = 6\\nvalue = [4, 2]'),\n",
       " Text(88.37199621570483, 131.60842105263157, 'gini = 0.0\\nsamples = 3\\nvalue = [3, 0]'),\n",
       " Text(93.4399243140965, 131.60842105263157, 'X[0] <= 3342.0\\ngini = 0.444\\nsamples = 3\\nvalue = [1, 2]'),\n",
       " Text(90.90596026490066, 120.16421052631578, 'gini = 0.0\\nsamples = 2\\nvalue = [0, 2]'),\n",
       " Text(95.97388836329233, 120.16421052631578, 'gini = 0.0\\nsamples = 1\\nvalue = [1, 0]'),\n",
       " Text(101.04181646168401, 143.05263157894737, 'X[18] <= 2.213\\ngini = 0.042\\nsamples = 47\\nvalue = [46, 1]'),\n",
       " Text(98.50785241248818, 131.60842105263157, 'gini = 0.0\\nsamples = 43\\nvalue = [43, 0]'),\n",
       " Text(103.57578051087985, 131.60842105263157, 'X[17] <= 0.394\\ngini = 0.375\\nsamples = 4\\nvalue = [3, 1]'),\n",
       " Text(101.04181646168401, 120.16421052631578, 'gini = 0.0\\nsamples = 1\\nvalue = [0, 1]'),\n",
       " Text(106.10974456007568, 120.16421052631578, 'gini = 0.0\\nsamples = 3\\nvalue = [3, 0]'),\n",
       " Text(101.04181646168401, 154.49684210526317, 'gini = 0.0\\nsamples = 1\\nvalue = [0, 1]'),\n",
       " Text(181.73025957899716, 177.38526315789474, 'X[23] <= -0.161\\ngini = 0.201\\nsamples = 911\\nvalue = [808, 103]'),\n",
       " Text(147.167880794702, 165.94105263157894, 'X[19] <= 0.378\\ngini = 0.45\\nsamples = 170\\nvalue = [112, 58]'),\n",
       " Text(130.57833491012298, 154.49684210526317, 'X[17] <= -0.396\\ngini = 0.403\\nsamples = 150\\nvalue = [108, 42]'),\n",
       " Text(116.24560075685903, 143.05263157894737, 'X[7] <= 0.5\\ngini = 0.111\\nsamples = 34\\nvalue = [32, 2]'),\n",
       " Text(113.7116367076632, 131.60842105263157, 'X[2] <= 73.0\\ngini = 0.059\\nsamples = 33\\nvalue = [32, 1]'),\n",
       " Text(111.17767265846736, 120.16421052631578, 'gini = 0.0\\nsamples = 32\\nvalue = [32, 0]'),\n",
       " Text(116.24560075685903, 120.16421052631578, 'gini = 0.0\\nsamples = 1\\nvalue = [0, 1]'),\n",
       " Text(118.77956480605488, 131.60842105263157, 'gini = 0.0\\nsamples = 1\\nvalue = [0, 1]'),\n",
       " Text(144.91106906338695, 143.05263157894737, 'X[19] <= 0.123\\ngini = 0.452\\nsamples = 116\\nvalue = [76, 40]'),\n",
       " Text(131.1326395458846, 131.60842105263157, 'X[18] <= 2.221\\ngini = 0.352\\nsamples = 79\\nvalue = [61, 18]'),\n",
       " Text(121.31352885525071, 120.16421052631578, 'X[23] <= -0.224\\ngini = 0.287\\nsamples = 69\\nvalue = [57, 12]'),\n",
       " Text(109.27719962157049, 108.72, 'X[12] <= 147183.5\\ngini = 0.191\\nsamples = 56\\nvalue = [50, 6]'),\n",
       " Text(100.40832544938505, 97.27578947368421, 'X[2] <= 48.0\\ngini = 0.408\\nsamples = 14\\nvalue = [10, 4]'),\n",
       " Text(97.87436140018922, 85.83157894736843, 'gini = 0.0\\nsamples = 7\\nvalue = [7, 0]'),\n",
       " Text(102.94228949858089, 85.83157894736843, 'X[1] <= 29388.0\\ngini = 0.49\\nsamples = 7\\nvalue = [3, 4]'),\n",
       " Text(100.40832544938505, 74.38736842105263, 'gini = 0.0\\nsamples = 3\\nvalue = [3, 0]'),\n",
       " Text(105.47625354777672, 74.38736842105263, 'gini = 0.0\\nsamples = 4\\nvalue = [0, 4]'),\n",
       " Text(118.14607379375592, 97.27578947368421, 'X[19] <= 0.111\\ngini = 0.091\\nsamples = 42\\nvalue = [40, 2]'),\n",
       " Text(113.07814569536424, 85.83157894736843, 'X[15] <= 32.5\\ngini = 0.05\\nsamples = 39\\nvalue = [38, 1]'),\n",
       " Text(110.5441816461684, 74.38736842105263, 'X[10] <= 1732.0\\ngini = 0.278\\nsamples = 6\\nvalue = [5, 1]'),\n",
       " Text(108.01021759697257, 62.943157894736856, 'gini = 0.0\\nsamples = 5\\nvalue = [5, 0]'),\n",
       " Text(113.07814569536424, 62.943157894736856, 'gini = 0.0\\nsamples = 1\\nvalue = [0, 1]'),\n",
       " Text(115.61210974456007, 74.38736842105263, 'gini = 0.0\\nsamples = 33\\nvalue = [33, 0]'),\n",
       " Text(123.21400189214759, 85.83157894736843, 'X[19] <= 0.117\\ngini = 0.444\\nsamples = 3\\nvalue = [2, 1]'),\n",
       " Text(120.68003784295175, 74.38736842105263, 'gini = 0.0\\nsamples = 1\\nvalue = [0, 1]'),\n",
       " Text(125.74796594134342, 74.38736842105263, 'gini = 0.0\\nsamples = 2\\nvalue = [2, 0]'),\n",
       " Text(133.34985808893094, 108.72, 'X[15] <= 32.0\\ngini = 0.497\\nsamples = 13\\nvalue = [7, 6]'),\n",
       " Text(130.8158940397351, 97.27578947368421, 'gini = 0.0\\nsamples = 3\\nvalue = [0, 3]'),\n",
       " Text(135.8838221381268, 97.27578947368421, 'X[12] <= 153486.5\\ngini = 0.42\\nsamples = 10\\nvalue = [7, 3]'),\n",
       " Text(133.34985808893094, 85.83157894736843, 'X[22] <= 0.543\\ngini = 0.48\\nsamples = 5\\nvalue = [2, 3]'),\n",
       " Text(130.8158940397351, 74.38736842105263, 'gini = 0.0\\nsamples = 3\\nvalue = [0, 3]'),\n",
       " Text(135.8838221381268, 74.38736842105263, 'gini = 0.0\\nsamples = 2\\nvalue = [2, 0]'),\n",
       " Text(138.4177861873226, 85.83157894736843, 'gini = 0.0\\nsamples = 5\\nvalue = [5, 0]'),\n",
       " Text(140.95175023651845, 120.16421052631578, 'X[6] <= 6.0\\ngini = 0.48\\nsamples = 10\\nvalue = [4, 6]'),\n",
       " Text(138.4177861873226, 108.72, 'gini = 0.0\\nsamples = 3\\nvalue = [3, 0]'),\n",
       " Text(143.4857142857143, 108.72, 'X[23] <= -1.101\\ngini = 0.245\\nsamples = 7\\nvalue = [1, 6]'),\n",
       " Text(140.95175023651845, 97.27578947368421, 'gini = 0.0\\nsamples = 1\\nvalue = [1, 0]'),\n",
       " Text(146.0196783349101, 97.27578947368421, 'gini = 0.0\\nsamples = 6\\nvalue = [0, 6]'),\n",
       " Text(158.6894985808893, 131.60842105263157, 'X[18] <= -0.383\\ngini = 0.482\\nsamples = 37\\nvalue = [15, 22]'),\n",
       " Text(151.0876064333018, 120.16421052631578, 'X[12] <= 157171.5\\ngini = 0.278\\nsamples = 6\\nvalue = [5, 1]'),\n",
       " Text(148.55364238410596, 108.72, 'gini = 0.0\\nsamples = 1\\nvalue = [0, 1]'),\n",
       " Text(153.62157048249765, 108.72, 'gini = 0.0\\nsamples = 5\\nvalue = [5, 0]'),\n",
       " Text(166.2913907284768, 120.16421052631578, 'X[12] <= 140658.0\\ngini = 0.437\\nsamples = 31\\nvalue = [10, 21]'),\n",
       " Text(158.6894985808893, 108.72, 'X[2] <= 54.5\\ngini = 0.42\\nsamples = 10\\nvalue = [7, 3]'),\n",
       " Text(156.15553453169346, 97.27578947368421, 'gini = 0.0\\nsamples = 6\\nvalue = [6, 0]'),\n",
       " Text(161.22346263008515, 97.27578947368421, 'X[2] <= 65.0\\ngini = 0.375\\nsamples = 4\\nvalue = [1, 3]'),\n",
       " Text(158.6894985808893, 85.83157894736843, 'gini = 0.0\\nsamples = 3\\nvalue = [0, 3]'),\n",
       " Text(163.757426679281, 85.83157894736843, 'gini = 0.0\\nsamples = 1\\nvalue = [1, 0]'),\n",
       " Text(173.89328287606435, 108.72, 'X[19] <= 0.357\\ngini = 0.245\\nsamples = 21\\nvalue = [3, 18]'),\n",
       " Text(171.3593188268685, 97.27578947368421, 'X[2] <= 38.0\\ngini = 0.18\\nsamples = 20\\nvalue = [2, 18]'),\n",
       " Text(168.82535477767266, 85.83157894736843, 'gini = 0.0\\nsamples = 1\\nvalue = [1, 0]'),\n",
       " Text(173.89328287606435, 85.83157894736843, 'X[0] <= 3405.5\\ngini = 0.1\\nsamples = 19\\nvalue = [1, 18]'),\n",
       " Text(171.3593188268685, 74.38736842105263, 'gini = 0.0\\nsamples = 16\\nvalue = [0, 16]'),\n",
       " Text(176.42724692526016, 74.38736842105263, 'X[18] <= -0.076\\ngini = 0.444\\nsamples = 3\\nvalue = [1, 2]'),\n",
       " Text(173.89328287606435, 62.943157894736856, 'gini = 0.0\\nsamples = 2\\nvalue = [0, 2]'),\n",
       " Text(178.961210974456, 62.943157894736856, 'gini = 0.0\\nsamples = 1\\nvalue = [1, 0]'),\n",
       " Text(176.42724692526016, 97.27578947368421, 'gini = 0.0\\nsamples = 1\\nvalue = [1, 0]'),\n",
       " Text(163.757426679281, 154.49684210526317, 'X[24] <= -1.819\\ngini = 0.32\\nsamples = 20\\nvalue = [4, 16]'),\n",
       " Text(161.22346263008515, 143.05263157894737, 'gini = 0.0\\nsamples = 2\\nvalue = [2, 0]'),\n",
       " Text(166.2913907284768, 143.05263157894737, 'X[18] <= -0.715\\ngini = 0.198\\nsamples = 18\\nvalue = [2, 16]'),\n",
       " Text(163.757426679281, 131.60842105263157, 'gini = 0.0\\nsamples = 2\\nvalue = [2, 0]'),\n",
       " Text(168.82535477767266, 131.60842105263157, 'gini = 0.0\\nsamples = 16\\nvalue = [0, 16]'),\n",
       " Text(216.29263836329233, 165.94105263157894, 'X[2] <= 70.5\\ngini = 0.114\\nsamples = 741\\nvalue = [696, 45]'),\n",
       " Text(203.00417455061495, 154.49684210526317, 'X[2] <= 47.5\\ngini = 0.099\\nsamples = 727\\nvalue = [689, 38]'),\n",
       " Text(184.02913907284767, 143.05263157894737, 'X[17] <= 0.515\\ngini = 0.02\\nsamples = 297\\nvalue = [294, 3]'),\n",
       " Text(178.961210974456, 131.60842105263157, 'X[19] <= 0.445\\ngini = 0.007\\nsamples = 283\\nvalue = [282, 1]'),\n",
       " Text(176.42724692526016, 120.16421052631578, 'gini = 0.0\\nsamples = 271\\nvalue = [271, 0]'),\n",
       " Text(181.49517502365185, 120.16421052631578, 'X[17] <= -0.198\\ngini = 0.153\\nsamples = 12\\nvalue = [11, 1]'),\n",
       " Text(178.961210974456, 108.72, 'gini = 0.0\\nsamples = 11\\nvalue = [11, 0]'),\n",
       " Text(184.02913907284767, 108.72, 'gini = 0.0\\nsamples = 1\\nvalue = [0, 1]'),\n",
       " Text(189.09706717123936, 131.60842105263157, 'X[6] <= 10.5\\ngini = 0.245\\nsamples = 14\\nvalue = [12, 2]'),\n",
       " Text(186.56310312204351, 120.16421052631578, 'gini = 0.0\\nsamples = 12\\nvalue = [12, 0]'),\n",
       " Text(191.6310312204352, 120.16421052631578, 'gini = 0.0\\nsamples = 2\\nvalue = [0, 2]'),\n",
       " Text(221.97921002838223, 143.05263157894737, 'X[20] <= 0.962\\ngini = 0.15\\nsamples = 430\\nvalue = [395, 35]'),\n",
       " Text(219.44524597918638, 131.60842105263157, 'X[15] <= 22.5\\ngini = 0.146\\nsamples = 429\\nvalue = [395, 34]'),\n",
       " Text(196.69895931882687, 120.16421052631578, 'X[10] <= 1615.5\\ngini = 0.32\\nsamples = 45\\nvalue = [36, 9]'),\n",
       " Text(194.16499526963102, 108.72, 'X[8] <= 4.5\\ngini = 0.273\\nsamples = 43\\nvalue = [36, 7]'),\n",
       " Text(191.6310312204352, 97.27578947368421, 'gini = 0.0\\nsamples = 2\\nvalue = [0, 2]'),\n",
       " Text(196.69895931882687, 97.27578947368421, 'X[12] <= 429285.5\\ngini = 0.214\\nsamples = 41\\nvalue = [36, 5]'),\n",
       " Text(194.16499526963102, 85.83157894736843, 'X[15] <= 21.0\\ngini = 0.18\\nsamples = 40\\nvalue = [36, 4]'),\n",
       " Text(191.6310312204352, 74.38736842105263, 'X[19] <= 0.358\\ngini = 0.142\\nsamples = 39\\nvalue = [36, 3]'),\n",
       " Text(186.56310312204351, 62.943157894736856, 'X[12] <= 138789.0\\ngini = 0.102\\nsamples = 37\\nvalue = [35, 2]'),\n",
       " Text(184.02913907284767, 51.49894736842106, 'X[12] <= 132262.0\\ngini = 0.245\\nsamples = 14\\nvalue = [12, 2]'),\n",
       " Text(181.49517502365185, 40.05473684210526, 'X[15] <= 19.0\\ngini = 0.142\\nsamples = 13\\nvalue = [12, 1]'),\n",
       " Text(178.961210974456, 28.610526315789485, 'gini = 0.0\\nsamples = 9\\nvalue = [9, 0]'),\n",
       " Text(184.02913907284767, 28.610526315789485, 'X[3] <= 0.5\\ngini = 0.375\\nsamples = 4\\nvalue = [3, 1]'),\n",
       " Text(181.49517502365185, 17.166315789473686, 'gini = 0.0\\nsamples = 3\\nvalue = [3, 0]'),\n",
       " Text(186.56310312204351, 17.166315789473686, 'gini = 0.0\\nsamples = 1\\nvalue = [0, 1]'),\n",
       " Text(186.56310312204351, 40.05473684210526, 'gini = 0.0\\nsamples = 1\\nvalue = [0, 1]'),\n",
       " Text(189.09706717123936, 51.49894736842106, 'gini = 0.0\\nsamples = 23\\nvalue = [23, 0]'),\n",
       " Text(196.69895931882687, 62.943157894736856, 'X[12] <= 198811.5\\ngini = 0.5\\nsamples = 2\\nvalue = [1, 1]'),\n",
       " Text(194.16499526963102, 51.49894736842106, 'gini = 0.0\\nsamples = 1\\nvalue = [1, 0]'),\n",
       " Text(199.2329233680227, 51.49894736842106, 'gini = 0.0\\nsamples = 1\\nvalue = [0, 1]'),\n",
       " Text(196.69895931882687, 74.38736842105263, 'gini = 0.0\\nsamples = 1\\nvalue = [0, 1]'),\n",
       " Text(199.2329233680227, 85.83157894736843, 'gini = 0.0\\nsamples = 1\\nvalue = [0, 1]'),\n",
       " Text(199.2329233680227, 108.72, 'gini = 0.0\\nsamples = 2\\nvalue = [0, 2]'),\n",
       " Text(242.1915326395459, 120.16421052631578, 'X[2] <= 63.5\\ngini = 0.122\\nsamples = 384\\nvalue = [359, 25]'),\n",
       " Text(220.5340586565752, 108.72, 'X[19] <= -0.093\\ngini = 0.096\\nsamples = 335\\nvalue = [318, 17]'),\n",
       " Text(206.83481551561022, 97.27578947368421, 'X[1] <= 78861.0\\ngini = 0.308\\nsamples = 21\\nvalue = [17, 4]'),\n",
       " Text(204.30085146641437, 85.83157894736843, 'X[22] <= 0.302\\ngini = 0.105\\nsamples = 18\\nvalue = [17, 1]'),\n",
       " Text(201.76688741721856, 74.38736842105263, 'gini = 0.0\\nsamples = 17\\nvalue = [17, 0]'),\n",
       " Text(206.83481551561022, 74.38736842105263, 'gini = 0.0\\nsamples = 1\\nvalue = [0, 1]'),\n",
       " Text(209.36877956480606, 85.83157894736843, 'gini = 0.0\\nsamples = 3\\nvalue = [0, 3]'),\n",
       " Text(234.2333017975402, 97.27578947368421, 'X[10] <= 6238.0\\ngini = 0.079\\nsamples = 314\\nvalue = [301, 13]'),\n",
       " Text(219.82138126773887, 85.83157894736843, 'X[1] <= 1520.5\\ngini = 0.064\\nsamples = 302\\nvalue = [292, 10]'),\n",
       " Text(211.9027436140019, 74.38736842105263, 'X[20] <= 0.232\\ngini = 0.5\\nsamples = 2\\nvalue = [1, 1]'),\n",
       " Text(209.36877956480606, 62.943157894736856, 'gini = 0.0\\nsamples = 1\\nvalue = [1, 0]'),\n",
       " Text(214.43670766319772, 62.943157894736856, 'gini = 0.0\\nsamples = 1\\nvalue = [0, 1]'),\n",
       " Text(227.74001892147587, 74.38736842105263, 'X[20] <= 0.812\\ngini = 0.058\\nsamples = 300\\nvalue = [291, 9]'),\n",
       " Text(219.5046357615894, 62.943157894736856, 'X[12] <= 339418.5\\ngini = 0.048\\nsamples = 286\\nvalue = [279, 7]'),\n",
       " Text(210.63576158940398, 51.49894736842106, 'X[21] <= -1.562\\ngini = 0.03\\nsamples = 259\\nvalue = [255, 4]'),\n",
       " Text(205.5678334910123, 40.05473684210526, 'X[24] <= 1.418\\ngini = 0.188\\nsamples = 19\\nvalue = [17, 2]'),\n",
       " Text(203.03386944181645, 28.610526315789485, 'gini = 0.0\\nsamples = 1\\nvalue = [0, 1]'),\n",
       " Text(208.10179754020814, 28.610526315789485, 'X[21] <= -1.583\\ngini = 0.105\\nsamples = 18\\nvalue = [17, 1]'),\n",
       " Text(205.5678334910123, 17.166315789473686, 'gini = 0.0\\nsamples = 17\\nvalue = [17, 0]'),\n",
       " Text(210.63576158940398, 17.166315789473686, 'gini = 0.0\\nsamples = 1\\nvalue = [0, 1]'),\n",
       " Text(215.70368968779565, 40.05473684210526, 'X[22] <= -0.182\\ngini = 0.017\\nsamples = 240\\nvalue = [238, 2]'),\n",
       " Text(213.1697256385998, 28.610526315789485, 'gini = 0.0\\nsamples = 200\\nvalue = [200, 0]'),\n",
       " Text(218.2376537369915, 28.610526315789485, 'X[21] <= -0.47\\ngini = 0.095\\nsamples = 40\\nvalue = [38, 2]'),\n",
       " Text(215.70368968779565, 17.166315789473686, 'gini = 0.0\\nsamples = 2\\nvalue = [0, 2]'),\n",
       " Text(220.77161778618733, 17.166315789473686, 'gini = 0.0\\nsamples = 38\\nvalue = [38, 0]'),\n",
       " Text(228.37350993377484, 51.49894736842106, 'X[12] <= 340491.5\\ngini = 0.198\\nsamples = 27\\nvalue = [24, 3]'),\n",
       " Text(225.839545884579, 40.05473684210526, 'gini = 0.0\\nsamples = 1\\nvalue = [0, 1]'),\n",
       " Text(230.90747398297069, 40.05473684210526, 'X[19] <= -0.028\\ngini = 0.142\\nsamples = 26\\nvalue = [24, 2]'),\n",
       " Text(228.37350993377484, 28.610526315789485, 'X[9] <= 2.5\\ngini = 0.408\\nsamples = 7\\nvalue = [5, 2]'),\n",
       " Text(225.839545884579, 17.166315789473686, 'gini = 0.0\\nsamples = 4\\nvalue = [4, 0]'),\n",
       " Text(230.90747398297069, 17.166315789473686, 'X[0] <= 2525.0\\ngini = 0.444\\nsamples = 3\\nvalue = [1, 2]'),\n",
       " Text(228.37350993377484, 5.722105263157886, 'gini = 0.0\\nsamples = 1\\nvalue = [1, 0]'),\n",
       " Text(233.4414380321665, 5.722105263157886, 'gini = 0.0\\nsamples = 2\\nvalue = [0, 2]'),\n",
       " Text(233.4414380321665, 28.610526315789485, 'gini = 0.0\\nsamples = 19\\nvalue = [19, 0]'),\n",
       " Text(235.97540208136235, 62.943157894736856, 'X[6] <= 1.5\\ngini = 0.245\\nsamples = 14\\nvalue = [12, 2]'),\n",
       " Text(233.4414380321665, 51.49894736842106, 'gini = 0.0\\nsamples = 2\\nvalue = [0, 2]'),\n",
       " Text(238.5093661305582, 51.49894736842106, 'gini = 0.0\\nsamples = 12\\nvalue = [12, 0]'),\n",
       " Text(248.64522232734154, 85.83157894736843, 'X[8] <= 10.5\\ngini = 0.375\\nsamples = 12\\nvalue = [9, 3]'),\n",
       " Text(243.57729422894985, 74.38736842105263, 'X[17] <= -0.306\\ngini = 0.444\\nsamples = 3\\nvalue = [1, 2]'),\n",
       " Text(241.043330179754, 62.943157894736856, 'gini = 0.0\\nsamples = 1\\nvalue = [1, 0]'),\n",
       " Text(246.1112582781457, 62.943157894736856, 'gini = 0.0\\nsamples = 2\\nvalue = [0, 2]'),\n",
       " Text(253.7131504257332, 74.38736842105263, 'X[2] <= 59.0\\ngini = 0.198\\nsamples = 9\\nvalue = [8, 1]'),\n",
       " Text(251.17918637653736, 62.943157894736856, 'gini = 0.0\\nsamples = 8\\nvalue = [8, 0]'),\n",
       " Text(256.24711447492905, 62.943157894736856, 'gini = 0.0\\nsamples = 1\\nvalue = [0, 1]'),\n",
       " Text(263.8490066225166, 108.72, 'X[24] <= 0.211\\ngini = 0.273\\nsamples = 49\\nvalue = [41, 8]'),\n",
       " Text(258.7810785241249, 97.27578947368421, 'X[1] <= 43341.0\\ngini = 0.5\\nsamples = 8\\nvalue = [4, 4]'),\n",
       " Text(256.24711447492905, 85.83157894736843, 'gini = 0.0\\nsamples = 3\\nvalue = [3, 0]'),\n",
       " Text(261.31504257332074, 85.83157894736843, 'X[24] <= -0.075\\ngini = 0.32\\nsamples = 5\\nvalue = [1, 4]'),\n",
       " Text(258.7810785241249, 74.38736842105263, 'gini = 0.0\\nsamples = 1\\nvalue = [1, 0]'),\n",
       " Text(263.8490066225166, 74.38736842105263, 'gini = 0.0\\nsamples = 4\\nvalue = [0, 4]'),\n",
       " Text(268.9169347209082, 97.27578947368421, 'X[12] <= 31203.5\\ngini = 0.176\\nsamples = 41\\nvalue = [37, 4]'),\n",
       " Text(266.38297067171237, 85.83157894736843, 'gini = 0.0\\nsamples = 1\\nvalue = [0, 1]'),\n",
       " Text(271.45089877010406, 85.83157894736843, 'X[22] <= -0.094\\ngini = 0.139\\nsamples = 40\\nvalue = [37, 3]'),\n",
       " Text(268.9169347209082, 74.38736842105263, 'X[0] <= 3280.5\\ngini = 0.097\\nsamples = 39\\nvalue = [37, 2]'),\n",
       " Text(266.38297067171237, 62.943157894736856, 'gini = 0.0\\nsamples = 28\\nvalue = [28, 0]'),\n",
       " Text(271.45089877010406, 62.943157894736856, 'X[0] <= 3413.0\\ngini = 0.298\\nsamples = 11\\nvalue = [9, 2]'),\n",
       " Text(268.9169347209082, 51.49894736842106, 'X[17] <= -0.33\\ngini = 0.444\\nsamples = 3\\nvalue = [1, 2]'),\n",
       " Text(266.38297067171237, 40.05473684210526, 'gini = 0.0\\nsamples = 1\\nvalue = [1, 0]'),\n",
       " Text(271.45089877010406, 40.05473684210526, 'gini = 0.0\\nsamples = 2\\nvalue = [0, 2]'),\n",
       " Text(273.9848628192999, 51.49894736842106, 'gini = 0.0\\nsamples = 8\\nvalue = [8, 0]'),\n",
       " Text(273.9848628192999, 74.38736842105263, 'gini = 0.0\\nsamples = 1\\nvalue = [0, 1]'),\n",
       " Text(224.51317407757804, 131.60842105263157, 'gini = 0.0\\nsamples = 1\\nvalue = [0, 1]'),\n",
       " Text(229.58110217596973, 154.49684210526317, 'X[12] <= 112754.5\\ngini = 0.5\\nsamples = 14\\nvalue = [7, 7]'),\n",
       " Text(227.0471381267739, 143.05263157894737, 'gini = 0.0\\nsamples = 4\\nvalue = [4, 0]'),\n",
       " Text(232.11506622516558, 143.05263157894737, 'X[0] <= 860.5\\ngini = 0.42\\nsamples = 10\\nvalue = [3, 7]'),\n",
       " Text(229.58110217596973, 131.60842105263157, 'gini = 0.0\\nsamples = 3\\nvalue = [3, 0]'),\n",
       " Text(234.6490302743614, 131.60842105263157, 'gini = 0.0\\nsamples = 7\\nvalue = [0, 7]'),\n",
       " Text(189.33215172658467, 188.82947368421054, 'X[19] <= -0.76\\ngini = 0.153\\nsamples = 12\\nvalue = [1, 11]'),\n",
       " Text(186.79818767738882, 177.38526315789474, 'gini = 0.0\\nsamples = 1\\nvalue = [1, 0]'),\n",
       " Text(191.86611577578051, 177.38526315789474, 'gini = 0.0\\nsamples = 11\\nvalue = [0, 11]'),\n",
       " Text(289.1886471144749, 200.2736842105263, 'X[19] <= 0.619\\ngini = 0.082\\nsamples = 906\\nvalue = [39, 867]'),\n",
       " Text(277.78580889309364, 188.82947368421054, 'X[20] <= 0.558\\ngini = 0.495\\nsamples = 49\\nvalue = [22, 27]'),\n",
       " Text(272.717880794702, 177.38526315789474, 'X[2] <= 56.5\\ngini = 0.245\\nsamples = 28\\nvalue = [4, 24]'),\n",
       " Text(270.18391674550617, 165.94105263157894, 'X[0] <= 1597.5\\ngini = 0.48\\nsamples = 10\\nvalue = [4, 6]'),\n",
       " Text(267.6499526963103, 154.49684210526317, 'X[20] <= -0.001\\ngini = 0.32\\nsamples = 5\\nvalue = [4, 1]'),\n",
       " Text(265.1159886471145, 143.05263157894737, 'gini = 0.0\\nsamples = 1\\nvalue = [0, 1]'),\n",
       " Text(270.18391674550617, 143.05263157894737, 'gini = 0.0\\nsamples = 4\\nvalue = [4, 0]'),\n",
       " Text(272.717880794702, 154.49684210526317, 'gini = 0.0\\nsamples = 5\\nvalue = [0, 5]'),\n",
       " Text(275.2518448438978, 165.94105263157894, 'gini = 0.0\\nsamples = 18\\nvalue = [0, 18]'),\n",
       " Text(282.85373699148533, 177.38526315789474, 'X[22] <= 0.473\\ngini = 0.245\\nsamples = 21\\nvalue = [18, 3]'),\n",
       " Text(280.3197729422895, 165.94105263157894, 'gini = 0.0\\nsamples = 17\\nvalue = [17, 0]'),\n",
       " Text(285.3877010406812, 165.94105263157894, 'X[15] <= 37.5\\ngini = 0.375\\nsamples = 4\\nvalue = [1, 3]'),\n",
       " Text(282.85373699148533, 154.49684210526317, 'gini = 0.0\\nsamples = 1\\nvalue = [1, 0]'),\n",
       " Text(287.921665089877, 154.49684210526317, 'gini = 0.0\\nsamples = 3\\nvalue = [0, 3]'),\n",
       " Text(300.5914853358562, 188.82947368421054, 'X[23] <= 2.16\\ngini = 0.039\\nsamples = 857\\nvalue = [17, 840]'),\n",
       " Text(295.5235572374645, 177.38526315789474, 'X[2] <= 29.5\\ngini = 0.035\\nsamples = 854\\nvalue = [15, 839]'),\n",
       " Text(292.9895931882687, 165.94105263157894, 'gini = 0.0\\nsamples = 1\\nvalue = [1, 0]'),\n",
       " Text(298.05752128666035, 165.94105263157894, 'X[22] <= 1.733\\ngini = 0.032\\nsamples = 853\\nvalue = [14, 839]'),\n",
       " Text(292.9895931882687, 154.49684210526317, 'X[24] <= -1.998\\ngini = 0.028\\nsamples = 847\\nvalue = [12, 835]'),\n",
       " Text(290.45562913907287, 143.05263157894737, 'gini = 0.0\\nsamples = 1\\nvalue = [1, 0]'),\n",
       " Text(295.5235572374645, 143.05263157894737, 'X[22] <= 0.034\\ngini = 0.026\\nsamples = 846\\nvalue = [11, 835]'),\n",
       " Text(276.51882686849575, 131.60842105263157, 'X[19] <= 0.817\\ngini = 0.26\\nsamples = 26\\nvalue = [4, 22]'),\n",
       " Text(271.45089877010406, 120.16421052631578, 'X[21] <= -0.575\\ngini = 0.48\\nsamples = 5\\nvalue = [3, 2]'),\n",
       " Text(268.9169347209082, 108.72, 'gini = 0.0\\nsamples = 2\\nvalue = [0, 2]'),\n",
       " Text(273.9848628192999, 108.72, 'gini = 0.0\\nsamples = 3\\nvalue = [3, 0]'),\n",
       " Text(281.58675496688744, 120.16421052631578, 'X[0] <= 3797.0\\ngini = 0.091\\nsamples = 21\\nvalue = [1, 20]'),\n",
       " Text(279.0527909176916, 108.72, 'gini = 0.0\\nsamples = 19\\nvalue = [0, 19]'),\n",
       " Text(284.1207190160832, 108.72, 'X[19] <= 1.372\\ngini = 0.5\\nsamples = 2\\nvalue = [1, 1]'),\n",
       " Text(281.58675496688744, 97.27578947368421, 'gini = 0.0\\nsamples = 1\\nvalue = [1, 0]'),\n",
       " Text(286.6546830652791, 97.27578947368421, 'gini = 0.0\\nsamples = 1\\nvalue = [0, 1]'),\n",
       " Text(314.5282876064333, 131.60842105263157, 'X[1] <= 94683.5\\ngini = 0.017\\nsamples = 820\\nvalue = [7, 813]'),\n",
       " Text(301.85846736045414, 120.16421052631578, 'X[20] <= 0.447\\ngini = 0.008\\nsamples = 774\\nvalue = [3, 771]'),\n",
       " Text(294.2565752128666, 108.72, 'X[20] <= 0.442\\ngini = 0.153\\nsamples = 12\\nvalue = [1, 11]'),\n",
       " Text(291.72261116367076, 97.27578947368421, 'gini = 0.0\\nsamples = 11\\nvalue = [0, 11]'),\n",
       " Text(296.79053926206245, 97.27578947368421, 'gini = 0.0\\nsamples = 1\\nvalue = [1, 0]'),\n",
       " Text(309.4603595080416, 108.72, 'X[8] <= 5.5\\ngini = 0.005\\nsamples = 762\\nvalue = [2, 760]'),\n",
       " Text(301.85846736045414, 97.27578947368421, 'X[21] <= 1.734\\ngini = 0.059\\nsamples = 33\\nvalue = [1, 32]'),\n",
       " Text(299.3245033112583, 85.83157894736843, 'gini = 0.0\\nsamples = 30\\nvalue = [0, 30]'),\n",
       " Text(304.39243140964993, 85.83157894736843, 'X[24] <= -1.764\\ngini = 0.444\\nsamples = 3\\nvalue = [1, 2]'),\n",
       " Text(301.85846736045414, 74.38736842105263, 'gini = 0.0\\nsamples = 2\\nvalue = [0, 2]'),\n",
       " Text(306.9263954588458, 74.38736842105263, 'gini = 0.0\\nsamples = 1\\nvalue = [1, 0]'),\n",
       " Text(317.06225165562915, 97.27578947368421, 'X[20] <= 0.884\\ngini = 0.003\\nsamples = 729\\nvalue = [1, 728]'),\n",
       " Text(314.5282876064333, 85.83157894736843, 'X[20] <= 0.881\\ngini = 0.036\\nsamples = 55\\nvalue = [1, 54]'),\n",
       " Text(311.99432355723746, 74.38736842105263, 'gini = 0.0\\nsamples = 54\\nvalue = [0, 54]'),\n",
       " Text(317.06225165562915, 74.38736842105263, 'gini = 0.0\\nsamples = 1\\nvalue = [1, 0]'),\n",
       " Text(319.596215704825, 85.83157894736843, 'gini = 0.0\\nsamples = 674\\nvalue = [0, 674]'),\n",
       " Text(327.1981078524125, 120.16421052631578, 'X[1] <= 94781.5\\ngini = 0.159\\nsamples = 46\\nvalue = [4, 42]'),\n",
       " Text(324.66414380321663, 108.72, 'gini = 0.0\\nsamples = 2\\nvalue = [2, 0]'),\n",
       " Text(329.7320719016083, 108.72, 'X[2] <= 42.5\\ngini = 0.087\\nsamples = 44\\nvalue = [2, 42]'),\n",
       " Text(327.1981078524125, 97.27578947368421, 'X[2] <= 38.5\\ngini = 0.444\\nsamples = 3\\nvalue = [2, 1]'),\n",
       " Text(324.66414380321663, 85.83157894736843, 'gini = 0.0\\nsamples = 1\\nvalue = [0, 1]'),\n",
       " Text(329.7320719016083, 85.83157894736843, 'gini = 0.0\\nsamples = 2\\nvalue = [2, 0]'),\n",
       " Text(332.26603595080417, 97.27578947368421, 'gini = 0.0\\nsamples = 41\\nvalue = [0, 41]'),\n",
       " Text(303.12544938505204, 154.49684210526317, 'X[24] <= -1.936\\ngini = 0.444\\nsamples = 6\\nvalue = [2, 4]'),\n",
       " Text(300.5914853358562, 143.05263157894737, 'gini = 0.0\\nsamples = 4\\nvalue = [0, 4]'),\n",
       " Text(305.6594134342479, 143.05263157894737, 'gini = 0.0\\nsamples = 2\\nvalue = [2, 0]'),\n",
       " Text(305.6594134342479, 177.38526315789474, 'X[6] <= 6.5\\ngini = 0.444\\nsamples = 3\\nvalue = [2, 1]'),\n",
       " Text(303.12544938505204, 165.94105263157894, 'gini = 0.0\\nsamples = 1\\nvalue = [0, 1]'),\n",
       " Text(308.1933774834437, 165.94105263157894, 'gini = 0.0\\nsamples = 2\\nvalue = [2, 0]')]"
      ]
     },
     "execution_count": 110,
     "metadata": {},
     "output_type": "execute_result"
    },
    {
     "data": {
      "image/png": "[encoded data removed]",
      "text/plain": [
       "<Figure size 432x288 with 1 Axes>"
      ]
     },
     "metadata": {
      "needs_background": "light"
     },
     "output_type": "display_data"
    }
   ],
   "source": [
    "tree.plot_tree(clf) "
   ]
  },
  {
   "cell_type": "code",
   "execution_count": 111,
   "metadata": {
    "scrolled": false
   },
   "outputs": [
    {
     "ename": "ExecutableNotFound",
     "evalue": "failed to execute ['dot', '-Tsvg'], make sure the Graphviz executables are on your systems' PATH",
     "output_type": "error",
     "traceback": [
      "\u001b[1;31m---------------------------------------------------------------------------\u001b[0m",
      "\u001b[1;31mFileNotFoundError\u001b[0m                         Traceback (most recent call last)",
      "\u001b[1;32mc:\\python38\\lib\\site-packages\\graphviz\\backend.py\u001b[0m in \u001b[0;36mrun\u001b[1;34m(cmd, input, capture_output, check, encoding, quiet, **kwargs)\u001b[0m\n\u001b[0;32m    163\u001b[0m     \u001b[1;32mtry\u001b[0m\u001b[1;33m:\u001b[0m\u001b[1;33m\u001b[0m\u001b[1;33m\u001b[0m\u001b[0m\n\u001b[1;32m--> 164\u001b[1;33m         \u001b[0mproc\u001b[0m \u001b[1;33m=\u001b[0m \u001b[0msubprocess\u001b[0m\u001b[1;33m.\u001b[0m\u001b[0mPopen\u001b[0m\u001b[1;33m(\u001b[0m\u001b[0mcmd\u001b[0m\u001b[1;33m,\u001b[0m \u001b[0mstartupinfo\u001b[0m\u001b[1;33m=\u001b[0m\u001b[0mget_startupinfo\u001b[0m\u001b[1;33m(\u001b[0m\u001b[1;33m)\u001b[0m\u001b[1;33m,\u001b[0m \u001b[1;33m**\u001b[0m\u001b[0mkwargs\u001b[0m\u001b[1;33m)\u001b[0m\u001b[1;33m\u001b[0m\u001b[1;33m\u001b[0m\u001b[0m\n\u001b[0m\u001b[0;32m    165\u001b[0m     \u001b[1;32mexcept\u001b[0m \u001b[0mOSError\u001b[0m \u001b[1;32mas\u001b[0m \u001b[0me\u001b[0m\u001b[1;33m:\u001b[0m\u001b[1;33m\u001b[0m\u001b[1;33m\u001b[0m\u001b[0m\n",
      "\u001b[1;32mc:\\python38\\lib\\subprocess.py\u001b[0m in \u001b[0;36m__init__\u001b[1;34m(self, args, bufsize, executable, stdin, stdout, stderr, preexec_fn, close_fds, shell, cwd, env, universal_newlines, startupinfo, creationflags, restore_signals, start_new_session, pass_fds, encoding, errors, text)\u001b[0m\n\u001b[0;32m    853\u001b[0m \u001b[1;33m\u001b[0m\u001b[0m\n\u001b[1;32m--> 854\u001b[1;33m             self._execute_child(args, executable, preexec_fn, close_fds,\n\u001b[0m\u001b[0;32m    855\u001b[0m                                 \u001b[0mpass_fds\u001b[0m\u001b[1;33m,\u001b[0m \u001b[0mcwd\u001b[0m\u001b[1;33m,\u001b[0m \u001b[0menv\u001b[0m\u001b[1;33m,\u001b[0m\u001b[1;33m\u001b[0m\u001b[1;33m\u001b[0m\u001b[0m\n",
      "\u001b[1;32mc:\\python38\\lib\\subprocess.py\u001b[0m in \u001b[0;36m_execute_child\u001b[1;34m(self, args, executable, preexec_fn, close_fds, pass_fds, cwd, env, startupinfo, creationflags, shell, p2cread, p2cwrite, c2pread, c2pwrite, errread, errwrite, unused_restore_signals, unused_start_new_session)\u001b[0m\n\u001b[0;32m   1306\u001b[0m             \u001b[1;32mtry\u001b[0m\u001b[1;33m:\u001b[0m\u001b[1;33m\u001b[0m\u001b[1;33m\u001b[0m\u001b[0m\n\u001b[1;32m-> 1307\u001b[1;33m                 hp, ht, pid, tid = _winapi.CreateProcess(executable, args,\n\u001b[0m\u001b[0;32m   1308\u001b[0m                                          \u001b[1;31m# no special security\u001b[0m\u001b[1;33m\u001b[0m\u001b[1;33m\u001b[0m\u001b[1;33m\u001b[0m\u001b[0m\n",
      "\u001b[1;31mFileNotFoundError\u001b[0m: [WinError 2] The system cannot find the file specified",
      "\nDuring handling of the above exception, another exception occurred:\n",
      "\u001b[1;31mExecutableNotFound\u001b[0m                        Traceback (most recent call last)",
      "\u001b[1;32m<ipython-input-111-854d7171033c>\u001b[0m in \u001b[0;36m<module>\u001b[1;34m\u001b[0m\n\u001b[0;32m     12\u001b[0m                                filled = True))\n\u001b[0;32m     13\u001b[0m \u001b[1;33m\u001b[0m\u001b[0m\n\u001b[1;32m---> 14\u001b[1;33m \u001b[0mdisplay\u001b[0m\u001b[1;33m(\u001b[0m\u001b[0mSVG\u001b[0m\u001b[1;33m(\u001b[0m\u001b[0mgraph\u001b[0m\u001b[1;33m.\u001b[0m\u001b[0mpipe\u001b[0m\u001b[1;33m(\u001b[0m\u001b[0mformat\u001b[0m\u001b[1;33m=\u001b[0m\u001b[1;34m'svg'\u001b[0m\u001b[1;33m)\u001b[0m\u001b[1;33m)\u001b[0m\u001b[1;33m)\u001b[0m\u001b[1;33m\u001b[0m\u001b[1;33m\u001b[0m\u001b[0m\n\u001b[0m\u001b[0;32m     15\u001b[0m \u001b[1;32mfrom\u001b[0m \u001b[0mIPython\u001b[0m\u001b[1;33m.\u001b[0m\u001b[0mdisplay\u001b[0m \u001b[1;32mimport\u001b[0m \u001b[0mHTML\u001b[0m \u001b[1;31m# toto je tu len pre to aby sa mi obrazok zmestil na obrazovku\u001b[0m\u001b[1;33m\u001b[0m\u001b[1;33m\u001b[0m\u001b[0m\n\u001b[0;32m     16\u001b[0m \u001b[0mstyle\u001b[0m \u001b[1;33m=\u001b[0m \u001b[1;34m\"<style>svg{width:60% !important;height:60% !important;}</style>\"\u001b[0m\u001b[1;33m\u001b[0m\u001b[1;33m\u001b[0m\u001b[0m\n",
      "\u001b[1;32mc:\\python38\\lib\\site-packages\\graphviz\\files.py\u001b[0m in \u001b[0;36mpipe\u001b[1;34m(self, format, renderer, formatter, quiet)\u001b[0m\n\u001b[0;32m    134\u001b[0m         \u001b[0mdata\u001b[0m \u001b[1;33m=\u001b[0m \u001b[0mtext_type\u001b[0m\u001b[1;33m(\u001b[0m\u001b[0mself\u001b[0m\u001b[1;33m.\u001b[0m\u001b[0msource\u001b[0m\u001b[1;33m)\u001b[0m\u001b[1;33m.\u001b[0m\u001b[0mencode\u001b[0m\u001b[1;33m(\u001b[0m\u001b[0mself\u001b[0m\u001b[1;33m.\u001b[0m\u001b[0m_encoding\u001b[0m\u001b[1;33m)\u001b[0m\u001b[1;33m\u001b[0m\u001b[1;33m\u001b[0m\u001b[0m\n\u001b[0;32m    135\u001b[0m \u001b[1;33m\u001b[0m\u001b[0m\n\u001b[1;32m--> 136\u001b[1;33m         out = backend.pipe(self._engine, format, data,\n\u001b[0m\u001b[0;32m    137\u001b[0m                            \u001b[0mrenderer\u001b[0m\u001b[1;33m=\u001b[0m\u001b[0mrenderer\u001b[0m\u001b[1;33m,\u001b[0m \u001b[0mformatter\u001b[0m\u001b[1;33m=\u001b[0m\u001b[0mformatter\u001b[0m\u001b[1;33m,\u001b[0m\u001b[1;33m\u001b[0m\u001b[1;33m\u001b[0m\u001b[0m\n\u001b[0;32m    138\u001b[0m                            quiet=quiet)\n",
      "\u001b[1;32mc:\\python38\\lib\\site-packages\\graphviz\\backend.py\u001b[0m in \u001b[0;36mpipe\u001b[1;34m(engine, format, data, renderer, formatter, quiet)\u001b[0m\n\u001b[0;32m    242\u001b[0m     \"\"\"\n\u001b[0;32m    243\u001b[0m     \u001b[0mcmd\u001b[0m\u001b[1;33m,\u001b[0m \u001b[0m_\u001b[0m \u001b[1;33m=\u001b[0m \u001b[0mcommand\u001b[0m\u001b[1;33m(\u001b[0m\u001b[0mengine\u001b[0m\u001b[1;33m,\u001b[0m \u001b[0mformat\u001b[0m\u001b[1;33m,\u001b[0m \u001b[1;32mNone\u001b[0m\u001b[1;33m,\u001b[0m \u001b[0mrenderer\u001b[0m\u001b[1;33m,\u001b[0m \u001b[0mformatter\u001b[0m\u001b[1;33m)\u001b[0m\u001b[1;33m\u001b[0m\u001b[1;33m\u001b[0m\u001b[0m\n\u001b[1;32m--> 244\u001b[1;33m     \u001b[0mout\u001b[0m\u001b[1;33m,\u001b[0m \u001b[0m_\u001b[0m \u001b[1;33m=\u001b[0m \u001b[0mrun\u001b[0m\u001b[1;33m(\u001b[0m\u001b[0mcmd\u001b[0m\u001b[1;33m,\u001b[0m \u001b[0minput\u001b[0m\u001b[1;33m=\u001b[0m\u001b[0mdata\u001b[0m\u001b[1;33m,\u001b[0m \u001b[0mcapture_output\u001b[0m\u001b[1;33m=\u001b[0m\u001b[1;32mTrue\u001b[0m\u001b[1;33m,\u001b[0m \u001b[0mcheck\u001b[0m\u001b[1;33m=\u001b[0m\u001b[1;32mTrue\u001b[0m\u001b[1;33m,\u001b[0m \u001b[0mquiet\u001b[0m\u001b[1;33m=\u001b[0m\u001b[0mquiet\u001b[0m\u001b[1;33m)\u001b[0m\u001b[1;33m\u001b[0m\u001b[1;33m\u001b[0m\u001b[0m\n\u001b[0m\u001b[0;32m    245\u001b[0m     \u001b[1;32mreturn\u001b[0m \u001b[0mout\u001b[0m\u001b[1;33m\u001b[0m\u001b[1;33m\u001b[0m\u001b[0m\n\u001b[0;32m    246\u001b[0m \u001b[1;33m\u001b[0m\u001b[0m\n",
      "\u001b[1;32mc:\\python38\\lib\\site-packages\\graphviz\\backend.py\u001b[0m in \u001b[0;36mrun\u001b[1;34m(cmd, input, capture_output, check, encoding, quiet, **kwargs)\u001b[0m\n\u001b[0;32m    165\u001b[0m     \u001b[1;32mexcept\u001b[0m \u001b[0mOSError\u001b[0m \u001b[1;32mas\u001b[0m \u001b[0me\u001b[0m\u001b[1;33m:\u001b[0m\u001b[1;33m\u001b[0m\u001b[1;33m\u001b[0m\u001b[0m\n\u001b[0;32m    166\u001b[0m         \u001b[1;32mif\u001b[0m \u001b[0me\u001b[0m\u001b[1;33m.\u001b[0m\u001b[0merrno\u001b[0m \u001b[1;33m==\u001b[0m \u001b[0merrno\u001b[0m\u001b[1;33m.\u001b[0m\u001b[0mENOENT\u001b[0m\u001b[1;33m:\u001b[0m\u001b[1;33m\u001b[0m\u001b[1;33m\u001b[0m\u001b[0m\n\u001b[1;32m--> 167\u001b[1;33m             \u001b[1;32mraise\u001b[0m \u001b[0mExecutableNotFound\u001b[0m\u001b[1;33m(\u001b[0m\u001b[0mcmd\u001b[0m\u001b[1;33m)\u001b[0m\u001b[1;33m\u001b[0m\u001b[1;33m\u001b[0m\u001b[0m\n\u001b[0m\u001b[0;32m    168\u001b[0m         \u001b[1;32melse\u001b[0m\u001b[1;33m:\u001b[0m\u001b[1;33m\u001b[0m\u001b[1;33m\u001b[0m\u001b[0m\n\u001b[0;32m    169\u001b[0m             \u001b[1;32mraise\u001b[0m\u001b[1;33m\u001b[0m\u001b[1;33m\u001b[0m\u001b[0m\n",
      "\u001b[1;31mExecutableNotFound\u001b[0m: failed to execute ['dot', '-Tsvg'], make sure the Graphviz executables are on your systems' PATH"
     ]
    }
   ],
   "source": [
    "from sklearn.tree import export_graphviz\n",
    "from graphviz import Source\n",
    "from IPython.display import SVG\n",
    "\n",
    "import os\n",
    "os.environ[\"PATH\"] += os.pathsep + 'C:/Users/matto/miniconda3/Library/bin/graphviz'\n",
    "\n",
    "graph = Source(export_graphviz(clf, \n",
    "                               out_file=None,\n",
    "                               feature_names=X_test.columns,\n",
    "                               class_names=['0', '1'],\n",
    "                               filled = True))\n",
    "\n",
    "display(SVG(graph.pipe(format='svg')))\n",
    "from IPython.display import HTML # toto je tu len pre to aby sa mi obrazok zmestil na obrazovku\n",
    "style = \"<style>svg{width:60% !important;height:60% !important;}</style>\"\n",
    "HTML(style)"
   ]
  },
  {
   "cell_type": "markdown",
   "metadata": {},
   "source": [
    "Namiesto manuálnych pravidiel teraz necháme predickiu vykonať pomocou random forest. Použijeme na to klasifikátor RandomForestClassifier(). Nižšie vidíme úspešnosť, ktorá je taktiež veľmi vysoká. Je vyššia ako takmer všetky naše manuálne pravidlá, takže rovnako ako decision tree tak aj random forest sa oplatí použiť oproti manuálnym parvidlám."
   ]
  },
  {
   "cell_type": "code",
   "execution_count": null,
   "metadata": {},
   "outputs": [],
   "source": [
    "clf = RandomForestClassifier()\n",
    "clf.fit(X_train, y_train)\n",
    "predictions = clf.predict(X_test)\n",
    "print(classification_report(y_test, predictions, digits = 3, target_names=target_names))"
   ]
  },
  {
   "cell_type": "markdown",
   "metadata": {},
   "source": [
    "Na vizualizácii pomocou confusion matrix môžeme bližšie pozorovať, aké úspešné bolo rozhodovanie random forestu pri vykonávaní predikcií. Vidíme, že drvivú väčšinu hodnôt random forest vybral takú, aká bola v pôvodnom datasete. Manuálne pravidlá mali problém s určovaním pozitívnych ľudí. Random forest to zvládol omnoho lepšie, dokonca lepšie aj ako decision tree. "
   ]
  },
  {
   "cell_type": "code",
   "execution_count": null,
   "metadata": {
    "scrolled": true
   },
   "outputs": [],
   "source": [
    "ConfusionMatrixDisplay(confusion_matrix(y_test, predictions)).plot()"
   ]
  },
  {
   "cell_type": "markdown",
   "metadata": {},
   "source": [
    "## Hyperparametre"
   ]
  },
  {
   "cell_type": "markdown",
   "metadata": {},
   "source": [
    "https://scikit-learn.org/stable/modules/generated/sklearn.ensemble.RandomForestClassifier.html\n",
    "\n",
    "Preskúmali sme si hyperparametre pre rôzne klasifikačné algoritmy. Využili sme grid search aj random search pre decision tree a aj pre random forest. Maximálnu hĺbku sme volili od 1 po 10. Okrem defaulných parametrov sme zvolili aj iné ako napríklad entropy pri criterion a random pri splitter. Vyhodnocujeme pomocou metrík accuracy, precision_micro, recall. Pri nastavovaní hyperparametrov algoritmu sme využili 10-násobnú krížovú validáciu na trénovacej množine."
   ]
  },
  {
   "cell_type": "markdown",
   "metadata": {},
   "source": [
    "#### GridSearchCV pre DecisionTreeClassifier\n",
    "Hodnota min_samples_leaf hovorí o tom, aký je minimálny počet vzoriek aby sa rozdelil prvok stromu. Tú sme okrem defaultnej 2 skúsili nastaviť aj na hodnotu 3. Nižšie je vidno najlepší estimator, úspešnosť a najlepšie parametre."
   ]
  },
  {
   "cell_type": "code",
   "execution_count": null,
   "metadata": {},
   "outputs": [],
   "source": [
    "estimator = DecisionTreeClassifier(random_state=0)\n",
    "parameters = {'max_depth': [1, 2, 3, 4, 5, 6, 7, 8, 9, 10],\n",
    "              'criterion': ['gini', 'entropy'],\n",
    "              'splitter': ['best', 'random'],\n",
    "              'min_samples_leaf': [2, 3] }\n",
    "scoring = ['accuracy',\n",
    "           'precision_micro',\n",
    "           'recall']\n",
    "\n",
    "clf = GridSearchCV(estimator=estimator, \n",
    "                   param_grid=parameters,\n",
    "                   cv=10,\n",
    "                   scoring=scoring,\n",
    "                   refit='accuracy')\n",
    "search = clf.fit(X_train, y_train)\n",
    "\n",
    "\n",
    "print(search.best_estimator_)\n",
    "print(search.best_score_)\n",
    "print(search.best_params_)\n",
    "\n",
    "# list(ParameterGrid(parameters))\n",
    "# search.best_estimator_"
   ]
  },
  {
   "cell_type": "markdown",
   "metadata": {},
   "source": [
    "#### GridSearchCV pre RandomForestClassifier\n",
    "Hodnota n_estimators nám hovorí, koľko stromov sa v lese vytvorí. Defaultná hodnota je 100. Okrem tejto defaultnej hodnoty sme vyskúšali použiť aj jednu nižšiu hodnotu 50 a vyššie hodnoty ako 200 a 500. Nižšie je vidno najlepší estimator, úspešnosť a najlepšie parametre."
   ]
  },
  {
   "cell_type": "code",
   "execution_count": null,
   "metadata": {},
   "outputs": [],
   "source": [
    "estimator = RandomForestClassifier()\n",
    "parameters = {'max_depth': [1, 2, 3, 4, 5, 6, 7, 8, 9, 10],\n",
    "              'n_estimators': [50, 100, 200, 500],\n",
    "              'criterion': ['gini', 'entropy'],\n",
    "              'min_samples_leaf': [2, 3] }\n",
    "scoring = ['accuracy',\n",
    "           'precision_micro',\n",
    "           'recall']\n",
    "\n",
    "clf = GridSearchCV(estimator=estimator, \n",
    "                   param_grid=parameters,\n",
    "                   cv=10,\n",
    "                   scoring=scoring,\n",
    "                   refit='accuracy')\n",
    "search = clf.fit(X_train, y_train)\n",
    "\n",
    "\n",
    "print(search.best_estimator_)\n",
    "print(search.best_score_)\n",
    "print(search.best_params_)\n",
    "\n",
    "# list(ParameterGrid(parameters))"
   ]
  },
  {
   "cell_type": "markdown",
   "metadata": {},
   "source": [
    "#### RandomizedSearchCV pre DecisionTreeClassifier\n",
    "Hodnota min_samples_leaf hovorí o tom, aký je minimálny počet vzoriek aby sa rozdelil prvok stromu. Tú sme okrem defaultnej 2 skúsili nastaviť aj na hodnotu 3. Nižšie je vidno najlepší estimator, úspešnosť a najlepšie parametre."
   ]
  },
  {
   "cell_type": "code",
   "execution_count": null,
   "metadata": {},
   "outputs": [],
   "source": [
    "estimator = DecisionTreeClassifier(random_state=0)\n",
    "parameters = {'max_depth': [1, 2, 3, 4, 5, 6, 7, 8, 9, 10],\n",
    "              'criterion': ['gini', 'entropy'],\n",
    "              'splitter': ['best', 'random'],\n",
    "              'min_samples_leaf': [2, 3] }\n",
    "scoring = ['accuracy',\n",
    "           'precision_micro',\n",
    "           'recall']\n",
    "\n",
    "clf = RandomizedSearchCV(estimator=estimator, \n",
    "                   param_distributions=parameters,\n",
    "                   cv=10,\n",
    "                   scoring=scoring,\n",
    "                   refit='accuracy')\n",
    "search = clf.fit(X_train, y_train)\n",
    "\n",
    "\n",
    "print(search.best_estimator_)\n",
    "print(search.best_score_)\n",
    "print(search.best_params_)\n",
    "\n",
    "# list(ParameterGrid(parameters))\n",
    "search.best_estimator_"
   ]
  },
  {
   "cell_type": "markdown",
   "metadata": {},
   "source": [
    "#### RandomizedSearchCV pre RandomForestClassifier\n",
    "Hodnota n_estimators nám hovorí, koľko stromov sa v lese vytvorí. Defaultná hodnota je 100. Okrem tejto defaultnej hodnoty sme vyskúšali použiť aj jednu nižšiu hodnotu 50 a vyššie hodnoty ako 200 a 500. Nižšie je vidno najlepší estimator, úspešnosť a najlepšie parametre."
   ]
  },
  {
   "cell_type": "code",
   "execution_count": null,
   "metadata": {},
   "outputs": [],
   "source": [
    "estimator = RandomForestClassifier()\n",
    "parameters = {'max_depth': [1, 2, 3, 4, 5, 6, 7, 8, 9, 10],\n",
    "              'criterion': ['gini', 'entropy'],\n",
    "              'n_estimators': [50, 100, 200, 500],\n",
    "              'min_samples_leaf': [2, 3] }\n",
    "scoring = ['accuracy',\n",
    "           'precision_micro',\n",
    "           'recall']\n",
    "\n",
    "clf = RandomizedSearchCV(estimator=estimator, \n",
    "                   param_distributions=parameters,\n",
    "                   cv=10,\n",
    "                   scoring=scoring,\n",
    "                   refit='accuracy')\n",
    "search = clf.fit(X_train, y_train)\n",
    "\n",
    "\n",
    "print(search.best_estimator_)\n",
    "print(search.best_score_)\n",
    "print(search.best_params_)\n",
    "\n",
    "# list(ParameterGrid(parameters))\n",
    "search.best_estimator_"
   ]
  },
  {
   "cell_type": "markdown",
   "metadata": {},
   "source": [
    "Ako najlepší klasifikačný algoritmus, s najlepšou úspešnosťou nám vyššiel ....."
   ]
  },
  {
   "cell_type": "markdown",
   "metadata": {},
   "source": [
    "## Vyhodnotenie vplyvu zvolenej stratégie riešenia na správnosť klasifikácie\n",
    "V tejto časti dopĺňame hodnoty pomocou rôznych stratégií. Je to dopĺňanie pomocou KNN, priemerom, mediánom a modusom. Potom spustíme predikovanie pomocou klasifikátorov DecisionTreeClassifier() a RandomForestClassifier(). Môžeme tak pozorovať ako každá stratégia vplýva na accuracy klasifikácie."
   ]
  },
  {
   "cell_type": "markdown",
   "metadata": {},
   "source": [
    "Doplnenie hodnoty KNN."
   ]
  },
  {
   "cell_type": "code",
   "execution_count": null,
   "metadata": {},
   "outputs": [],
   "source": [
    "df_train = read_csv(\"data/train.csv\")\n",
    "df_valid = read_csv(\"data/valid.csv\")\n",
    "X_train,y_train = split_df(df_train, \"class\")\n",
    "X_test,y_test = split_df(df_valid, \"class\")"
   ]
  },
  {
   "cell_type": "code",
   "execution_count": null,
   "metadata": {},
   "outputs": [],
   "source": [
    "clf = tree.DecisionTreeClassifier()\n",
    "clf = clf.fit(X_train, y_train)\n",
    "predictions = clf.predict(X_test)\n",
    "print(classification_report(y_test, predictions, digits = 3, target_names=target_names))"
   ]
  },
  {
   "cell_type": "code",
   "execution_count": null,
   "metadata": {},
   "outputs": [],
   "source": [
    "clf = RandomForestClassifier()\n",
    "clf.fit(X_train, y_train)\n",
    "predictions = clf.predict(X_test)\n",
    "print(classification_report(y_test, predictions, digits = 3, target_names=target_names))"
   ]
  },
  {
   "cell_type": "markdown",
   "metadata": {},
   "source": [
    "Doplnenie hodnoty priemerom."
   ]
  },
  {
   "cell_type": "code",
   "execution_count": null,
   "metadata": {},
   "outputs": [],
   "source": [
    "df_train = read_csv(\"data/train1.csv\")\n",
    "df_valid = read_csv(\"data/valid1.csv\")\n",
    "X_train,y_train = split_df(df_train, \"class\")\n",
    "X_test,y_test = split_df(df_valid, \"class\")"
   ]
  },
  {
   "cell_type": "code",
   "execution_count": null,
   "metadata": {},
   "outputs": [],
   "source": [
    "clf = tree.DecisionTreeClassifier()\n",
    "clf = clf.fit(X_train, y_train)\n",
    "predictions = clf.predict(X_test)\n",
    "print(classification_report(y_test, predictions, digits = 3, target_names=target_names))"
   ]
  },
  {
   "cell_type": "code",
   "execution_count": null,
   "metadata": {},
   "outputs": [],
   "source": [
    "clf = RandomForestClassifier()\n",
    "clf.fit(X_train, y_train)\n",
    "predictions = clf.predict(X_test)\n",
    "print(classification_report(y_test, predictions, digits = 3, target_names=target_names))"
   ]
  },
  {
   "cell_type": "markdown",
   "metadata": {},
   "source": [
    "Doplnenie hodnoty mediánom."
   ]
  },
  {
   "cell_type": "code",
   "execution_count": null,
   "metadata": {},
   "outputs": [],
   "source": [
    "df_train = read_csv(\"data/train2.csv\")\n",
    "df_valid = read_csv(\"data/valid2.csv\")\n",
    "X_train,y_train = split_df(df_train, \"class\")\n",
    "X_test,y_test = split_df(df_valid, \"class\")"
   ]
  },
  {
   "cell_type": "code",
   "execution_count": null,
   "metadata": {},
   "outputs": [],
   "source": [
    "clf = tree.DecisionTreeClassifier()\n",
    "clf = clf.fit(X_train, y_train)\n",
    "predictions = clf.predict(X_test)\n",
    "print(classification_report(y_test, predictions, digits = 3, target_names=target_names))"
   ]
  },
  {
   "cell_type": "code",
   "execution_count": null,
   "metadata": {},
   "outputs": [],
   "source": [
    "clf = RandomForestClassifier()\n",
    "clf.fit(X_train, y_train)\n",
    "predictions = clf.predict(X_test)\n",
    "print(classification_report(y_test, predictions, digits = 3, target_names=target_names))"
   ]
  },
  {
   "cell_type": "markdown",
   "metadata": {},
   "source": [
    "Doplnenie hodnoty modusom."
   ]
  },
  {
   "cell_type": "code",
   "execution_count": null,
   "metadata": {},
   "outputs": [],
   "source": [
    "df_train = read_csv(\"data/train3.csv\")\n",
    "df_valid = read_csv(\"data/valid3.csv\")\n",
    "X_train,y_train = split_df(df_train, \"class\")\n",
    "X_test,y_test = split_df(df_valid, \"class\")"
   ]
  },
  {
   "cell_type": "code",
   "execution_count": null,
   "metadata": {},
   "outputs": [],
   "source": [
    "clf = tree.DecisionTreeClassifier()\n",
    "clf = clf.fit(X_train, y_train)\n",
    "predictions = clf.predict(X_test)\n",
    "print(classification_report(y_test, predictions, digits = 3, target_names=target_names))"
   ]
  },
  {
   "cell_type": "code",
   "execution_count": null,
   "metadata": {},
   "outputs": [],
   "source": [
    "clf = RandomForestClassifier()\n",
    "clf.fit(X_train, y_train)\n",
    "predictions = clf.predict(X_test)\n",
    "print(classification_report(y_test, predictions, digits = 3, target_names=target_names))"
   ]
  },
  {
   "cell_type": "markdown",
   "metadata": {},
   "source": [
    "## Zhodnotenie"
   ]
  },
  {
   "cell_type": "markdown",
   "metadata": {},
   "source": [
    "V tejto fáze sme si najskôr spracovali validačný dataset podľa zmien, ktoré sme vykonali v minulej fáze. Museli sme mierne upraviť kód. Validačný aj trénovací dataset museli vykonať rovnaké funkcie. Funkcia execute sa teraz vykonáva dvakrát. Spracuje oba datasety rovnako, ako trénovací tak validačný. Taktiež nová verzia funkcie execute() obsahuje parameter typ, ktorý udáva, akým spôsobom sa budú nahrádzať chýbajúce hodnoty. Je to potrebné na posledný bod tejto fázy odovzdania. \n",
    "\n",
    "Ďalej sme vytvorili manuálne pravidlá, ktoré mali predikovať hodnoty 1 pre ľudí, ktorí boli pozitívny na cukrovku a 0 pre negatívnych. Vytvorené sú pre atribúty, ktoré boli v medical_info. Vytvorili sme ich pomocou pozorovania a podľa nášho intuitívneho odhadu. Pred každým pravidlom sme si zobrazili graf, ktorý nám pomohol pri vytváraní pravidla. Pavidlá sme volili tak aby nám vyšla čo najvyššia úspešnosť pri každej metrike accuracy, precision a recall. Ich úspešnosť bola celkom vysoká najmä čo sa týka určovania negatívnych ľudí. Najskôr sme vytvárali pravidlá s jedným artibútom, ptom s dvomi a vyskúšali sme aj s tromi. Najlepšie na tom ale boli pravidlá s jedným atribútom. Úplne najvyšiu úspešnosť malo pravidlo s atribútom kurtosis_glucose ked accuracy vyšla až 0.954.\n",
    "\n",
    "Následne sme predikovali dáta pomocou klasifikátorov s využitím rozhodovacích stromov. Využili sme decision tree a random forest. Samozejme klasifikátor dokázal predikovať hodnoty omnoho lepšie ako manuálne pravidlá. V našom prípade sa ako najlepší ukázal random forest. Natrénované pravidlá sme aj vizualizovali pomocou stromov.\n",
    "\n",
    "Hyperparametre sme preskúmali všetkými možnosťami. Využili sme na to grid search a random search. Zistili sme si pri tom aký je najlepší estimator a najlepšie parametre.\n",
    "\n",
    "Na koniec sme vyhodnotili vplyv zvolených stratégií riešenia chýbajúcich hodnôt na accuracy klasifikácie. Pre každú stratégiu sme spustili decision tree aj random forest. Accuracy sa pre rôzne stratégie líši takže stratégia na dopĺňanie chýbajúcich hodnôt má vplyv na accuracy. Najlepšie sa ukázalo pri random foreste doplniť hodnoty pomocou KNN. Najlepšie pre decision tree boli dve stratégie s rovnakou accuracy, dopĺňanie pomocou KNN a dopĺňanie modusom. Najhoršie pre random forest boli dve strategie s rovnakou accuracy, dopĺňanie priemerom a dopĺňanie medianom. A pre decision tree sa ako najhoršie ukázalo dopĺňanie priemerom."
   ]
  }
 ],
 "metadata": {
  "kernelspec": {
   "display_name": "Python 3",
   "language": "python",
   "name": "python3"
  },
  "language_info": {
   "codemirror_mode": {
    "name": "ipython",
    "version": 3
   },
   "file_extension": ".py",
   "mimetype": "text/x-python",
   "name": "python",
   "nbconvert_exporter": "python",
   "pygments_lexer": "ipython3",
   "version": "3.8.4"
  }
 },
 "nbformat": 4,
 "nbformat_minor": 4
}
