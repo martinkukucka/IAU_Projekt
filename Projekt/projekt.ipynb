{
 "cells": [
  {
   "cell_type": "markdown",
   "metadata": {},
   "source": [
    "# Projekt IAU  \n",
    "## 1. časť - Prieskumná analýza \n",
    "### Vypracovali: Martin Kukučka, Martin Jankuliak"
   ]
  },
  {
   "cell_type": "code",
   "execution_count": 2,
   "metadata": {},
   "outputs": [],
   "source": [
    "import pandas as pd\n",
    "import numpy as np\n",
    "import matplotlib.pyplot as plt\n",
    "import seaborn as sns\n",
    "import scipy.stats as stats\n",
    "import glob\n",
    "\n",
    "import datetime\n",
    "from datetime import datetime,date\n",
    "from datetime import timedelta\n",
    "from dateutil.relativedelta import relativedelta\n",
    "\n",
    "import json\n",
    "import re\n",
    "import dateutil.parser as parser\n",
    "import statsmodels.api as sm\n",
    "\n",
    "import scipy as sc\n",
    "from pandas import read_csv\n"
   ]
  },
  {
   "cell_type": "markdown",
   "metadata": {},
   "source": [
    "### Načítanie dát"
   ]
  },
  {
   "cell_type": "code",
   "execution_count": 3,
   "metadata": {},
   "outputs": [],
   "source": [
    "df_other_train = read_csv(\"data/other_train.csv\")\n",
    "df_personal_train = read_csv(\"data/personal_train.csv\")"
   ]
  },
  {
   "cell_type": "markdown",
   "metadata": {},
   "source": [
    "## Základný opis dát spolu s ich charakteristikami "
   ]
  },
  {
   "cell_type": "markdown",
   "metadata": {},
   "source": [
    "### Dataset other_train.csv"
   ]
  },
  {
   "cell_type": "markdown",
   "metadata": {},
   "source": [
    "Pre predstavu tu je ukážka datasetu"
   ]
  },
  {
   "cell_type": "code",
   "execution_count": 4,
   "metadata": {},
   "outputs": [
    {
     "data": {
      "text/html": [
       "<div>\n",
       "<style scoped>\n",
       "    .dataframe tbody tr th:only-of-type {\n",
       "        vertical-align: middle;\n",
       "    }\n",
       "\n",
       "    .dataframe tbody tr th {\n",
       "        vertical-align: top;\n",
       "    }\n",
       "\n",
       "    .dataframe thead th {\n",
       "        text-align: right;\n",
       "    }\n",
       "</style>\n",
       "<table border=\"1\" class=\"dataframe\">\n",
       "  <thead>\n",
       "    <tr style=\"text-align: right;\">\n",
       "      <th></th>\n",
       "      <th>Unnamed: 0</th>\n",
       "      <th>name</th>\n",
       "      <th>address</th>\n",
       "      <th>race</th>\n",
       "      <th>marital-status</th>\n",
       "      <th>occupation</th>\n",
       "      <th>pregnant</th>\n",
       "      <th>education-num</th>\n",
       "      <th>relationship</th>\n",
       "      <th>capital-gain</th>\n",
       "      <th>education</th>\n",
       "      <th>fnlwgt</th>\n",
       "      <th>class</th>\n",
       "      <th>income</th>\n",
       "      <th>medical_info</th>\n",
       "      <th>native-country</th>\n",
       "      <th>hours-per-week</th>\n",
       "      <th>capital-loss</th>\n",
       "      <th>workclass</th>\n",
       "    </tr>\n",
       "  </thead>\n",
       "  <tbody>\n",
       "    <tr>\n",
       "      <th>0</th>\n",
       "      <td>0</td>\n",
       "      <td>Robert Plante</td>\n",
       "      <td>3594 Johnson Green Suite 277\\r\\nJohnsonport, V...</td>\n",
       "      <td>White</td>\n",
       "      <td>Widowed</td>\n",
       "      <td>Other-service</td>\n",
       "      <td>f</td>\n",
       "      <td>5.0</td>\n",
       "      <td>Unmarried</td>\n",
       "      <td>0.0</td>\n",
       "      <td>9th</td>\n",
       "      <td>220019.0</td>\n",
       "      <td>1.0</td>\n",
       "      <td>&lt;=50K</td>\n",
       "      <td>{'mean_glucose':'106.71875','std_glucose':'48....</td>\n",
       "      <td>United-States</td>\n",
       "      <td>9.0</td>\n",
       "      <td>0.0</td>\n",
       "      <td>Private</td>\n",
       "    </tr>\n",
       "    <tr>\n",
       "      <th>1</th>\n",
       "      <td>1</td>\n",
       "      <td>Richard Huey</td>\n",
       "      <td>350 Lewis Haven\\r\\nAngelaton, IN 39486</td>\n",
       "      <td>Asian-Pac-Islander</td>\n",
       "      <td>Never-married</td>\n",
       "      <td>Handlers-cleaners</td>\n",
       "      <td>f</td>\n",
       "      <td>13.0</td>\n",
       "      <td>Not-in-family</td>\n",
       "      <td>0.0</td>\n",
       "      <td>Bachelors</td>\n",
       "      <td>196899.0</td>\n",
       "      <td>0.0</td>\n",
       "      <td>&lt;=50K</td>\n",
       "      <td>{'mean_glucose':'118.609375','std_glucose':'na...</td>\n",
       "      <td>Haiti</td>\n",
       "      <td>50.0</td>\n",
       "      <td>0.0</td>\n",
       "      <td>Private</td>\n",
       "    </tr>\n",
       "    <tr>\n",
       "      <th>2</th>\n",
       "      <td>2</td>\n",
       "      <td>Joseph Sable</td>\n",
       "      <td>22509 Adrian Canyon Suite 799\\r\\nEast Timothyt...</td>\n",
       "      <td>White</td>\n",
       "      <td>Never-married</td>\n",
       "      <td>Exec-managerial</td>\n",
       "      <td>f</td>\n",
       "      <td>9.0</td>\n",
       "      <td>Unmarried</td>\n",
       "      <td>0.0</td>\n",
       "      <td>HS-grad</td>\n",
       "      <td>301591.0</td>\n",
       "      <td>0.0</td>\n",
       "      <td>&lt;=50K</td>\n",
       "      <td>{'mean_glucose':'129.4609375','std_glucose':'5...</td>\n",
       "      <td>United-States</td>\n",
       "      <td>35.0</td>\n",
       "      <td>0.0</td>\n",
       "      <td>Private</td>\n",
       "    </tr>\n",
       "    <tr>\n",
       "      <th>3</th>\n",
       "      <td>3</td>\n",
       "      <td>Gregory Preston</td>\n",
       "      <td>2674 Daryl Island\\r\\nLake Sean, TN 89363</td>\n",
       "      <td>White</td>\n",
       "      <td>Married-civ-spouse</td>\n",
       "      <td>Exec-managerial</td>\n",
       "      <td>f</td>\n",
       "      <td>13.0</td>\n",
       "      <td>Husband</td>\n",
       "      <td>0.0</td>\n",
       "      <td>Bachelors</td>\n",
       "      <td>310320.0</td>\n",
       "      <td>1.0</td>\n",
       "      <td>&gt;50K</td>\n",
       "      <td>{'mean_glucose':'30.1015625','std_glucose':'37...</td>\n",
       "      <td>United-States</td>\n",
       "      <td>40.0</td>\n",
       "      <td>0.0</td>\n",
       "      <td>Private</td>\n",
       "    </tr>\n",
       "    <tr>\n",
       "      <th>4</th>\n",
       "      <td>4</td>\n",
       "      <td>Mike Riley</td>\n",
       "      <td>023 Joseph Estate Suite 799\\r\\nLake Andrewvill...</td>\n",
       "      <td>White</td>\n",
       "      <td>Married-civ-spouse</td>\n",
       "      <td>Handlers-cleaners</td>\n",
       "      <td>f</td>\n",
       "      <td>9.0</td>\n",
       "      <td>Husband</td>\n",
       "      <td>0.0</td>\n",
       "      <td>HS-grad</td>\n",
       "      <td>237943.0</td>\n",
       "      <td>0.0</td>\n",
       "      <td>&lt;=50K</td>\n",
       "      <td>{'mean_glucose':'124.0390625','std_glucose':'4...</td>\n",
       "      <td>United-States</td>\n",
       "      <td>60.0</td>\n",
       "      <td>0.0</td>\n",
       "      <td>private</td>\n",
       "    </tr>\n",
       "  </tbody>\n",
       "</table>\n",
       "</div>"
      ],
      "text/plain": [
       "   Unnamed: 0             name  \\\n",
       "0           0    Robert Plante   \n",
       "1           1     Richard Huey   \n",
       "2           2     Joseph Sable   \n",
       "3           3  Gregory Preston   \n",
       "4           4       Mike Riley   \n",
       "\n",
       "                                             address                 race  \\\n",
       "0  3594 Johnson Green Suite 277\\r\\nJohnsonport, V...                White   \n",
       "1             350 Lewis Haven\\r\\nAngelaton, IN 39486   Asian-Pac-Islander   \n",
       "2  22509 Adrian Canyon Suite 799\\r\\nEast Timothyt...                White   \n",
       "3           2674 Daryl Island\\r\\nLake Sean, TN 89363                White   \n",
       "4  023 Joseph Estate Suite 799\\r\\nLake Andrewvill...                White   \n",
       "\n",
       "        marital-status          occupation pregnant  education-num  \\\n",
       "0              Widowed       Other-service        f            5.0   \n",
       "1        Never-married   Handlers-cleaners        f           13.0   \n",
       "2        Never-married     Exec-managerial        f            9.0   \n",
       "3   Married-civ-spouse     Exec-managerial        f           13.0   \n",
       "4   Married-civ-spouse   Handlers-cleaners        f            9.0   \n",
       "\n",
       "     relationship  capital-gain   education    fnlwgt  class  income  \\\n",
       "0       Unmarried           0.0         9th  220019.0    1.0   <=50K   \n",
       "1   Not-in-family           0.0   Bachelors  196899.0    0.0   <=50K   \n",
       "2       Unmarried           0.0     HS-grad  301591.0    0.0   <=50K   \n",
       "3         Husband           0.0   Bachelors  310320.0    1.0    >50K   \n",
       "4         Husband           0.0     HS-grad  237943.0    0.0   <=50K   \n",
       "\n",
       "                                        medical_info  native-country  \\\n",
       "0  {'mean_glucose':'106.71875','std_glucose':'48....   United-States   \n",
       "1  {'mean_glucose':'118.609375','std_glucose':'na...           Haiti   \n",
       "2  {'mean_glucose':'129.4609375','std_glucose':'5...   United-States   \n",
       "3  {'mean_glucose':'30.1015625','std_glucose':'37...   United-States   \n",
       "4  {'mean_glucose':'124.0390625','std_glucose':'4...   United-States   \n",
       "\n",
       "   hours-per-week  capital-loss workclass  \n",
       "0             9.0           0.0   Private  \n",
       "1            50.0           0.0   Private  \n",
       "2            35.0           0.0   Private  \n",
       "3            40.0           0.0   Private  \n",
       "4            60.0           0.0   private  "
      ]
     },
     "execution_count": 4,
     "metadata": {},
     "output_type": "execute_result"
    }
   ],
   "source": [
    "df_other_train.head()"
   ]
  },
  {
   "cell_type": "markdown",
   "metadata": {},
   "source": [
    "Pomocou tohto príkazu zistíme počet riadkov"
   ]
  },
  {
   "cell_type": "code",
   "execution_count": 5,
   "metadata": {},
   "outputs": [
    {
     "data": {
      "text/plain": [
       "3983"
      ]
     },
     "execution_count": 5,
     "metadata": {},
     "output_type": "execute_result"
    }
   ],
   "source": [
    "df_other_train.shape[0]"
   ]
  },
  {
   "cell_type": "markdown",
   "metadata": {},
   "source": [
    "A teraz počet atribútov pre tento dataset"
   ]
  },
  {
   "cell_type": "code",
   "execution_count": 6,
   "metadata": {},
   "outputs": [
    {
     "data": {
      "text/plain": [
       "19"
      ]
     },
     "execution_count": 6,
     "metadata": {},
     "output_type": "execute_result"
    }
   ],
   "source": [
    "df_other_train.shape[1]"
   ]
  },
  {
   "cell_type": "markdown",
   "metadata": {},
   "source": [
    "Typy atribútov zistíme týmto príkazom"
   ]
  },
  {
   "cell_type": "code",
   "execution_count": 7,
   "metadata": {},
   "outputs": [
    {
     "name": "stdout",
     "output_type": "stream",
     "text": [
      "<class 'pandas.core.frame.DataFrame'>\n",
      "RangeIndex: 3983 entries, 0 to 3982\n",
      "Data columns (total 19 columns):\n",
      " #   Column          Non-Null Count  Dtype  \n",
      "---  ------          --------------  -----  \n",
      " 0   Unnamed: 0      3983 non-null   int64  \n",
      " 1   name            3983 non-null   object \n",
      " 2   address         3983 non-null   object \n",
      " 3   race            3691 non-null   object \n",
      " 4   marital-status  3970 non-null   object \n",
      " 5   occupation      3961 non-null   object \n",
      " 6   pregnant        3969 non-null   object \n",
      " 7   education-num   3961 non-null   float64\n",
      " 8   relationship    3954 non-null   object \n",
      " 9   capital-gain    3969 non-null   float64\n",
      " 10  education       3972 non-null   object \n",
      " 11  fnlwgt          3968 non-null   float64\n",
      " 12  class           3960 non-null   float64\n",
      " 13  income          3972 non-null   object \n",
      " 14  medical_info    3966 non-null   object \n",
      " 15  native-country  3966 non-null   object \n",
      " 16  hours-per-week  3966 non-null   float64\n",
      " 17  capital-loss    3973 non-null   float64\n",
      " 18  workclass       3966 non-null   object \n",
      "dtypes: float64(6), int64(1), object(12)\n",
      "memory usage: 591.4+ KB\n"
     ]
    }
   ],
   "source": [
    "df_other_train.info()"
   ]
  },
  {
   "cell_type": "markdown",
   "metadata": {},
   "source": [
    "Zistile sme, že tento dataset je zložený z atribútov:\n",
    "- 6x float\n",
    "- 1x int\n",
    "- 12x object\n",
    "\n",
    "Ďalej tu vidíme aj počet riadkov: 3983 (\"RangeIndex: 3983 entries\"),\n",
    "a počet stĺpcov: 19 (\"Data columns (total 19 columns)\")"
   ]
  },
  {
   "cell_type": "markdown",
   "metadata": {},
   "source": [
    "Nakoniec sa pozrieme na desktiptívne štatistiky."
   ]
  },
  {
   "cell_type": "code",
   "execution_count": 8,
   "metadata": {},
   "outputs": [
    {
     "data": {
      "text/html": [
       "<div>\n",
       "<style scoped>\n",
       "    .dataframe tbody tr th:only-of-type {\n",
       "        vertical-align: middle;\n",
       "    }\n",
       "\n",
       "    .dataframe tbody tr th {\n",
       "        vertical-align: top;\n",
       "    }\n",
       "\n",
       "    .dataframe thead th {\n",
       "        text-align: right;\n",
       "    }\n",
       "</style>\n",
       "<table border=\"1\" class=\"dataframe\">\n",
       "  <thead>\n",
       "    <tr style=\"text-align: right;\">\n",
       "      <th></th>\n",
       "      <th>Unnamed: 0</th>\n",
       "      <th>education-num</th>\n",
       "      <th>capital-gain</th>\n",
       "      <th>fnlwgt</th>\n",
       "      <th>class</th>\n",
       "      <th>hours-per-week</th>\n",
       "      <th>capital-loss</th>\n",
       "    </tr>\n",
       "  </thead>\n",
       "  <tbody>\n",
       "    <tr>\n",
       "      <th>count</th>\n",
       "      <td>3983.00000</td>\n",
       "      <td>3961.000000</td>\n",
       "      <td>3969.000000</td>\n",
       "      <td>3968.000000</td>\n",
       "      <td>3960.000000</td>\n",
       "      <td>3966.000000</td>\n",
       "      <td>3973.000000</td>\n",
       "    </tr>\n",
       "    <tr>\n",
       "      <th>mean</th>\n",
       "      <td>1991.00000</td>\n",
       "      <td>10.052764</td>\n",
       "      <td>1134.530108</td>\n",
       "      <td>189963.996976</td>\n",
       "      <td>0.256313</td>\n",
       "      <td>40.203984</td>\n",
       "      <td>72.926252</td>\n",
       "    </tr>\n",
       "    <tr>\n",
       "      <th>std</th>\n",
       "      <td>1149.93739</td>\n",
       "      <td>2.520019</td>\n",
       "      <td>8067.028170</td>\n",
       "      <td>102327.438172</td>\n",
       "      <td>0.436652</td>\n",
       "      <td>12.317838</td>\n",
       "      <td>360.910859</td>\n",
       "    </tr>\n",
       "    <tr>\n",
       "      <th>min</th>\n",
       "      <td>0.00000</td>\n",
       "      <td>1.000000</td>\n",
       "      <td>0.000000</td>\n",
       "      <td>20308.000000</td>\n",
       "      <td>0.000000</td>\n",
       "      <td>1.000000</td>\n",
       "      <td>0.000000</td>\n",
       "    </tr>\n",
       "    <tr>\n",
       "      <th>25%</th>\n",
       "      <td>995.50000</td>\n",
       "      <td>9.000000</td>\n",
       "      <td>0.000000</td>\n",
       "      <td>119475.250000</td>\n",
       "      <td>0.000000</td>\n",
       "      <td>40.000000</td>\n",
       "      <td>0.000000</td>\n",
       "    </tr>\n",
       "    <tr>\n",
       "      <th>50%</th>\n",
       "      <td>1991.00000</td>\n",
       "      <td>10.000000</td>\n",
       "      <td>0.000000</td>\n",
       "      <td>180585.500000</td>\n",
       "      <td>0.000000</td>\n",
       "      <td>40.000000</td>\n",
       "      <td>0.000000</td>\n",
       "    </tr>\n",
       "    <tr>\n",
       "      <th>75%</th>\n",
       "      <td>2986.50000</td>\n",
       "      <td>12.000000</td>\n",
       "      <td>0.000000</td>\n",
       "      <td>236173.000000</td>\n",
       "      <td>1.000000</td>\n",
       "      <td>45.000000</td>\n",
       "      <td>0.000000</td>\n",
       "    </tr>\n",
       "    <tr>\n",
       "      <th>max</th>\n",
       "      <td>3982.00000</td>\n",
       "      <td>16.000000</td>\n",
       "      <td>99999.000000</td>\n",
       "      <td>795830.000000</td>\n",
       "      <td>1.000000</td>\n",
       "      <td>99.000000</td>\n",
       "      <td>2824.000000</td>\n",
       "    </tr>\n",
       "  </tbody>\n",
       "</table>\n",
       "</div>"
      ],
      "text/plain": [
       "       Unnamed: 0  education-num  capital-gain         fnlwgt        class  \\\n",
       "count  3983.00000    3961.000000   3969.000000    3968.000000  3960.000000   \n",
       "mean   1991.00000      10.052764   1134.530108  189963.996976     0.256313   \n",
       "std    1149.93739       2.520019   8067.028170  102327.438172     0.436652   \n",
       "min       0.00000       1.000000      0.000000   20308.000000     0.000000   \n",
       "25%     995.50000       9.000000      0.000000  119475.250000     0.000000   \n",
       "50%    1991.00000      10.000000      0.000000  180585.500000     0.000000   \n",
       "75%    2986.50000      12.000000      0.000000  236173.000000     1.000000   \n",
       "max    3982.00000      16.000000  99999.000000  795830.000000     1.000000   \n",
       "\n",
       "       hours-per-week  capital-loss  \n",
       "count     3966.000000   3973.000000  \n",
       "mean        40.203984     72.926252  \n",
       "std         12.317838    360.910859  \n",
       "min          1.000000      0.000000  \n",
       "25%         40.000000      0.000000  \n",
       "50%         40.000000      0.000000  \n",
       "75%         45.000000      0.000000  \n",
       "max         99.000000   2824.000000  "
      ]
     },
     "execution_count": 8,
     "metadata": {},
     "output_type": "execute_result"
    }
   ],
   "source": [
    "df_other_train.describe()"
   ]
  },
  {
   "cell_type": "markdown",
   "metadata": {},
   "source": [
    "V tejto tabuľke vidíme ako sú: počet záznamov, priemer, štandardnú odchýlku, minimum, prvý kvartil, druhý kvartil (medián), tretí kvartil, maximum, pre všetky atribúty, ktoré obsahujú numerické hodnoty."
   ]
  },
  {
   "cell_type": "markdown",
   "metadata": {},
   "source": [
    "### Dataset personal_train.csv"
   ]
  },
  {
   "cell_type": "markdown",
   "metadata": {},
   "source": [
    "Rovnako vykonáme opis dát aj pre druhý dataset"
   ]
  },
  {
   "cell_type": "markdown",
   "metadata": {},
   "source": [
    "Ukážka datasetu"
   ]
  },
  {
   "cell_type": "code",
   "execution_count": 9,
   "metadata": {},
   "outputs": [
    {
     "data": {
      "text/html": [
       "<div>\n",
       "<style scoped>\n",
       "    .dataframe tbody tr th:only-of-type {\n",
       "        vertical-align: middle;\n",
       "    }\n",
       "\n",
       "    .dataframe tbody tr th {\n",
       "        vertical-align: top;\n",
       "    }\n",
       "\n",
       "    .dataframe thead th {\n",
       "        text-align: right;\n",
       "    }\n",
       "</style>\n",
       "<table border=\"1\" class=\"dataframe\">\n",
       "  <thead>\n",
       "    <tr style=\"text-align: right;\">\n",
       "      <th></th>\n",
       "      <th>Unnamed: 0</th>\n",
       "      <th>name</th>\n",
       "      <th>address</th>\n",
       "      <th>age</th>\n",
       "      <th>sex</th>\n",
       "      <th>date_of_birth</th>\n",
       "    </tr>\n",
       "  </thead>\n",
       "  <tbody>\n",
       "    <tr>\n",
       "      <th>0</th>\n",
       "      <td>0</td>\n",
       "      <td>Roscoe Bohannon</td>\n",
       "      <td>7183 Osborne Ways Apt. 651\\r\\nEast Andrew, OH ...</td>\n",
       "      <td>58</td>\n",
       "      <td>Male</td>\n",
       "      <td>1961-04-27</td>\n",
       "    </tr>\n",
       "    <tr>\n",
       "      <th>1</th>\n",
       "      <td>1</td>\n",
       "      <td>Ernest Kline</td>\n",
       "      <td>391 Ball Road Suite 961\\r\\nFlowersborough, IN ...</td>\n",
       "      <td>43</td>\n",
       "      <td>Female</td>\n",
       "      <td>1976-09-12</td>\n",
       "    </tr>\n",
       "    <tr>\n",
       "      <th>2</th>\n",
       "      <td>2</td>\n",
       "      <td>Harold Hendriks</td>\n",
       "      <td>8702 Vincent Square\\r\\nNew Jerryfurt, CO 30614</td>\n",
       "      <td>51</td>\n",
       "      <td>Male</td>\n",
       "      <td>1967-11-12</td>\n",
       "    </tr>\n",
       "    <tr>\n",
       "      <th>3</th>\n",
       "      <td>3</td>\n",
       "      <td>Randy Baptiste</td>\n",
       "      <td>2751 Harris Crossroad\\r\\nWest Ashley, CA 30311</td>\n",
       "      <td>66</td>\n",
       "      <td>Male</td>\n",
       "      <td>1953-06-02</td>\n",
       "    </tr>\n",
       "    <tr>\n",
       "      <th>4</th>\n",
       "      <td>4</td>\n",
       "      <td>Anthony Colucci</td>\n",
       "      <td>904 Robert Cliffs Suite 186\\r\\nWest Kyle, CO 7...</td>\n",
       "      <td>45</td>\n",
       "      <td>Female</td>\n",
       "      <td>1974/09/11</td>\n",
       "    </tr>\n",
       "  </tbody>\n",
       "</table>\n",
       "</div>"
      ],
      "text/plain": [
       "   Unnamed: 0             name  \\\n",
       "0           0  Roscoe Bohannon   \n",
       "1           1     Ernest Kline   \n",
       "2           2  Harold Hendriks   \n",
       "3           3   Randy Baptiste   \n",
       "4           4  Anthony Colucci   \n",
       "\n",
       "                                             address  age      sex  \\\n",
       "0  7183 Osborne Ways Apt. 651\\r\\nEast Andrew, OH ...   58     Male   \n",
       "1  391 Ball Road Suite 961\\r\\nFlowersborough, IN ...   43   Female   \n",
       "2     8702 Vincent Square\\r\\nNew Jerryfurt, CO 30614   51     Male   \n",
       "3     2751 Harris Crossroad\\r\\nWest Ashley, CA 30311   66     Male   \n",
       "4  904 Robert Cliffs Suite 186\\r\\nWest Kyle, CO 7...   45   Female   \n",
       "\n",
       "  date_of_birth  \n",
       "0    1961-04-27  \n",
       "1    1976-09-12  \n",
       "2    1967-11-12  \n",
       "3    1953-06-02  \n",
       "4    1974/09/11  "
      ]
     },
     "execution_count": 9,
     "metadata": {},
     "output_type": "execute_result"
    }
   ],
   "source": [
    "df_personal_train.head()"
   ]
  },
  {
   "cell_type": "markdown",
   "metadata": {},
   "source": [
    "Počet riadkov"
   ]
  },
  {
   "cell_type": "code",
   "execution_count": 10,
   "metadata": {},
   "outputs": [
    {
     "data": {
      "text/plain": [
       "3933"
      ]
     },
     "execution_count": 10,
     "metadata": {},
     "output_type": "execute_result"
    }
   ],
   "source": [
    "df_personal_train.shape[0]"
   ]
  },
  {
   "cell_type": "markdown",
   "metadata": {},
   "source": [
    "Počet atribútov"
   ]
  },
  {
   "cell_type": "code",
   "execution_count": 11,
   "metadata": {},
   "outputs": [
    {
     "data": {
      "text/plain": [
       "6"
      ]
     },
     "execution_count": 11,
     "metadata": {},
     "output_type": "execute_result"
    }
   ],
   "source": [
    "df_personal_train.shape[1]"
   ]
  },
  {
   "cell_type": "markdown",
   "metadata": {},
   "source": [
    "Typy atribútov"
   ]
  },
  {
   "cell_type": "code",
   "execution_count": 12,
   "metadata": {},
   "outputs": [
    {
     "name": "stdout",
     "output_type": "stream",
     "text": [
      "<class 'pandas.core.frame.DataFrame'>\n",
      "RangeIndex: 3933 entries, 0 to 3932\n",
      "Data columns (total 6 columns):\n",
      " #   Column         Non-Null Count  Dtype \n",
      "---  ------         --------------  ----- \n",
      " 0   Unnamed: 0     3933 non-null   int64 \n",
      " 1   name           3933 non-null   object\n",
      " 2   address        3933 non-null   object\n",
      " 3   age            3933 non-null   int64 \n",
      " 4   sex            3933 non-null   object\n",
      " 5   date_of_birth  3933 non-null   object\n",
      "dtypes: int64(2), object(4)\n",
      "memory usage: 184.5+ KB\n"
     ]
    }
   ],
   "source": [
    "df_personal_train.info()"
   ]
  },
  {
   "cell_type": "markdown",
   "metadata": {},
   "source": [
    "Zistile sme, že tento dataset je zložený z atribútov:\n",
    "- 2x int\n",
    "- 4x object\n",
    "\n",
    "Ďalej tu vidíme aj počet riadkov: 3933 (\"RangeIndex: 3933 entries\"),\n",
    "a počet stĺpcov: 6 (\"Data columns (total 6 columns)\")"
   ]
  },
  {
   "cell_type": "markdown",
   "metadata": {},
   "source": [
    "A Nakoniec desktiptívne štatistiky."
   ]
  },
  {
   "cell_type": "code",
   "execution_count": 13,
   "metadata": {},
   "outputs": [
    {
     "data": {
      "text/html": [
       "<div>\n",
       "<style scoped>\n",
       "    .dataframe tbody tr th:only-of-type {\n",
       "        vertical-align: middle;\n",
       "    }\n",
       "\n",
       "    .dataframe tbody tr th {\n",
       "        vertical-align: top;\n",
       "    }\n",
       "\n",
       "    .dataframe thead th {\n",
       "        text-align: right;\n",
       "    }\n",
       "</style>\n",
       "<table border=\"1\" class=\"dataframe\">\n",
       "  <thead>\n",
       "    <tr style=\"text-align: right;\">\n",
       "      <th></th>\n",
       "      <th>Unnamed: 0</th>\n",
       "      <th>age</th>\n",
       "    </tr>\n",
       "  </thead>\n",
       "  <tbody>\n",
       "    <tr>\n",
       "      <th>count</th>\n",
       "      <td>3933.000000</td>\n",
       "      <td>3933.000000</td>\n",
       "    </tr>\n",
       "    <tr>\n",
       "      <th>mean</th>\n",
       "      <td>1966.000000</td>\n",
       "      <td>51.816934</td>\n",
       "    </tr>\n",
       "    <tr>\n",
       "      <th>std</th>\n",
       "      <td>1135.503633</td>\n",
       "      <td>11.814803</td>\n",
       "    </tr>\n",
       "    <tr>\n",
       "      <th>min</th>\n",
       "      <td>0.000000</td>\n",
       "      <td>-1.000000</td>\n",
       "    </tr>\n",
       "    <tr>\n",
       "      <th>25%</th>\n",
       "      <td>983.000000</td>\n",
       "      <td>44.000000</td>\n",
       "    </tr>\n",
       "    <tr>\n",
       "      <th>50%</th>\n",
       "      <td>1966.000000</td>\n",
       "      <td>52.000000</td>\n",
       "    </tr>\n",
       "    <tr>\n",
       "      <th>75%</th>\n",
       "      <td>2949.000000</td>\n",
       "      <td>60.000000</td>\n",
       "    </tr>\n",
       "    <tr>\n",
       "      <th>max</th>\n",
       "      <td>3932.000000</td>\n",
       "      <td>113.000000</td>\n",
       "    </tr>\n",
       "  </tbody>\n",
       "</table>\n",
       "</div>"
      ],
      "text/plain": [
       "        Unnamed: 0          age\n",
       "count  3933.000000  3933.000000\n",
       "mean   1966.000000    51.816934\n",
       "std    1135.503633    11.814803\n",
       "min       0.000000    -1.000000\n",
       "25%     983.000000    44.000000\n",
       "50%    1966.000000    52.000000\n",
       "75%    2949.000000    60.000000\n",
       "max    3932.000000   113.000000"
      ]
     },
     "execution_count": 13,
     "metadata": {},
     "output_type": "execute_result"
    }
   ],
   "source": [
    "df_personal_train.describe()"
   ]
  },
  {
   "cell_type": "markdown",
   "metadata": {},
   "source": [
    "## Párová analýza dát"
   ]
  },
  {
   "cell_type": "code",
   "execution_count": null,
   "metadata": {},
   "outputs": [],
   "source": []
  },
  {
   "cell_type": "code",
   "execution_count": null,
   "metadata": {},
   "outputs": [],
   "source": []
  },
  {
   "cell_type": "markdown",
   "metadata": {},
   "source": [
    "## Identifikácia problémov v dátach spolu s predpokladaným scenárom riešenia v ďalšej fáze"
   ]
  },
  {
   "cell_type": "markdown",
   "metadata": {},
   "source": [
    "Nevhodná štruktúra dát sa nachádza v atribúte medical_info v datasete other_train.csv, kde je atribút zložený z viacero zložiek (mean_glucose, std_glucose, kurtosis_glucose, skewness_glucose, mean_oxygen, std_oxygen, kurtosis_oxygen, skewness_oxygen), tento atribút chceme rozdeliť do viacero stĺpcov. Taktiež aj atribút address v datasete personal_train.csv obsahuje viac zložiek, ale nepredpokladáme, že by to ovplyvnilo naše riešenie, preto počítame s tým, že tento atribút nebudeme podrobnejšie deliť."
   ]
  },
  {
   "cell_type": "markdown",
   "metadata": {},
   "source": [
    "Teraz ideme zistiť či sa v datasete nenachádzajú duplicitné riadky."
   ]
  },
  {
   "cell_type": "code",
   "execution_count": 66,
   "metadata": {},
   "outputs": [
    {
     "data": {
      "text/plain": [
       "0"
      ]
     },
     "execution_count": 66,
     "metadata": {},
     "output_type": "execute_result"
    }
   ],
   "source": [
    "df_other_train.duplicated().sum()"
   ]
  },
  {
   "cell_type": "markdown",
   "metadata": {},
   "source": [
    "Duplicitné riadky sme nanašli, ale ešte nás zaujíma atribút name, pretože predpokladáme, že každý participant ma unikátne meno a nemáme viac záznamov daného človeka."
   ]
  },
  {
   "cell_type": "code",
   "execution_count": 58,
   "metadata": {},
   "outputs": [
    {
     "data": {
      "text/plain": [
       "50"
      ]
     },
     "execution_count": 58,
     "metadata": {},
     "output_type": "execute_result"
    }
   ],
   "source": [
    "df_other_train.name.duplicated().sum()"
   ]
  },
  {
   "cell_type": "markdown",
   "metadata": {},
   "source": [
    "Našli sme 50 duplicít, vypíšeme si pár z nich."
   ]
  },
  {
   "cell_type": "code",
   "execution_count": 68,
   "metadata": {},
   "outputs": [
    {
     "data": {
      "text/html": [
       "<div>\n",
       "<style scoped>\n",
       "    .dataframe tbody tr th:only-of-type {\n",
       "        vertical-align: middle;\n",
       "    }\n",
       "\n",
       "    .dataframe tbody tr th {\n",
       "        vertical-align: top;\n",
       "    }\n",
       "\n",
       "    .dataframe thead th {\n",
       "        text-align: right;\n",
       "    }\n",
       "</style>\n",
       "<table border=\"1\" class=\"dataframe\">\n",
       "  <thead>\n",
       "    <tr style=\"text-align: right;\">\n",
       "      <th></th>\n",
       "      <th>Unnamed: 0</th>\n",
       "      <th>name</th>\n",
       "      <th>address</th>\n",
       "      <th>race</th>\n",
       "      <th>marital-status</th>\n",
       "      <th>occupation</th>\n",
       "      <th>pregnant</th>\n",
       "      <th>education-num</th>\n",
       "      <th>relationship</th>\n",
       "      <th>capital-gain</th>\n",
       "      <th>education</th>\n",
       "      <th>fnlwgt</th>\n",
       "      <th>class</th>\n",
       "      <th>income</th>\n",
       "      <th>medical_info</th>\n",
       "      <th>native-country</th>\n",
       "      <th>hours-per-week</th>\n",
       "      <th>capital-loss</th>\n",
       "      <th>workclass</th>\n",
       "    </tr>\n",
       "  </thead>\n",
       "  <tbody>\n",
       "    <tr>\n",
       "      <th>2078</th>\n",
       "      <td>2078</td>\n",
       "      <td>Alex Stubblefield</td>\n",
       "      <td>PSC 1476, Box 5156\\r\\nAPO AE 20184</td>\n",
       "      <td>White</td>\n",
       "      <td>Married-civ-spouse</td>\n",
       "      <td>Protective-serv</td>\n",
       "      <td>FALSE</td>\n",
       "      <td>10.0</td>\n",
       "      <td>Husband</td>\n",
       "      <td>0.0</td>\n",
       "      <td>Some-college</td>\n",
       "      <td>194417.0</td>\n",
       "      <td>NaN</td>\n",
       "      <td>&gt;50K</td>\n",
       "      <td>{'mean_glucose':'39.3046875','std_glucose':'42...</td>\n",
       "      <td>United-States</td>\n",
       "      <td>40.0</td>\n",
       "      <td>0.0</td>\n",
       "      <td>Local-gov</td>\n",
       "    </tr>\n",
       "    <tr>\n",
       "      <th>2682</th>\n",
       "      <td>2682</td>\n",
       "      <td>Alex Stubblefield</td>\n",
       "      <td>PSC 1476, Box 5156\\r\\nAPO AE 20184</td>\n",
       "      <td>NaN</td>\n",
       "      <td>Married-civ-spouse</td>\n",
       "      <td>NaN</td>\n",
       "      <td>FALSE</td>\n",
       "      <td>10.0</td>\n",
       "      <td>Husband</td>\n",
       "      <td>0.0</td>\n",
       "      <td>Some-college</td>\n",
       "      <td>NaN</td>\n",
       "      <td>1.0</td>\n",
       "      <td>&gt;50K</td>\n",
       "      <td>{'mean_glucose':'39.3046875','std_glucose':'42...</td>\n",
       "      <td>United-States</td>\n",
       "      <td>40.0</td>\n",
       "      <td>0.0</td>\n",
       "      <td>Local-gov</td>\n",
       "    </tr>\n",
       "    <tr>\n",
       "      <th>2416</th>\n",
       "      <td>2416</td>\n",
       "      <td>Ashley Lyons</td>\n",
       "      <td>4166 Sara Points\\r\\nHernandezview, WY 62853</td>\n",
       "      <td>White</td>\n",
       "      <td>Married-civ-spouse</td>\n",
       "      <td>Handlers-cleaners</td>\n",
       "      <td>f</td>\n",
       "      <td>9.0</td>\n",
       "      <td>Husband</td>\n",
       "      <td>NaN</td>\n",
       "      <td>HS-grad</td>\n",
       "      <td>155972.0</td>\n",
       "      <td>NaN</td>\n",
       "      <td>&gt;50K</td>\n",
       "      <td>NaN</td>\n",
       "      <td>United-States</td>\n",
       "      <td>40.0</td>\n",
       "      <td>0.0</td>\n",
       "      <td>Private</td>\n",
       "    </tr>\n",
       "    <tr>\n",
       "      <th>467</th>\n",
       "      <td>467</td>\n",
       "      <td>Ashley Lyons</td>\n",
       "      <td>4166 Sara Points\\r\\nHernandezview, WY 62853</td>\n",
       "      <td>White</td>\n",
       "      <td>Married-civ-spouse</td>\n",
       "      <td>NaN</td>\n",
       "      <td>f</td>\n",
       "      <td>9.0</td>\n",
       "      <td>Husband</td>\n",
       "      <td>0.0</td>\n",
       "      <td>HS-grad</td>\n",
       "      <td>NaN</td>\n",
       "      <td>0.0</td>\n",
       "      <td>&gt;50K</td>\n",
       "      <td>{'mean_glucose':'111.1953125','std_glucose':'4...</td>\n",
       "      <td>United-States</td>\n",
       "      <td>NaN</td>\n",
       "      <td>0.0</td>\n",
       "      <td>Private</td>\n",
       "    </tr>\n",
       "    <tr>\n",
       "      <th>2553</th>\n",
       "      <td>2553</td>\n",
       "      <td>Billy Clark</td>\n",
       "      <td>3859 Melissa Bridge Apt. 723\\r\\nShawnfurt, GA ...</td>\n",
       "      <td>White</td>\n",
       "      <td>Divorced</td>\n",
       "      <td>Exec-managerial</td>\n",
       "      <td>f</td>\n",
       "      <td>9.0</td>\n",
       "      <td>Not-in-family</td>\n",
       "      <td>NaN</td>\n",
       "      <td>HS-grad</td>\n",
       "      <td>195516.0</td>\n",
       "      <td>0.0</td>\n",
       "      <td>&lt;=50K</td>\n",
       "      <td>{'mean_glucose':'103.8046875','std_glucose':'4...</td>\n",
       "      <td>United-States</td>\n",
       "      <td>40.0</td>\n",
       "      <td>0.0</td>\n",
       "      <td>Local-gov</td>\n",
       "    </tr>\n",
       "    <tr>\n",
       "      <th>3408</th>\n",
       "      <td>3408</td>\n",
       "      <td>Billy Clark</td>\n",
       "      <td>3859 Melissa Bridge Apt. 723\\r\\nShawnfurt, GA ...</td>\n",
       "      <td>White</td>\n",
       "      <td>Divorced</td>\n",
       "      <td>Exec-managerial</td>\n",
       "      <td>f</td>\n",
       "      <td>9.0</td>\n",
       "      <td>Not-in-family</td>\n",
       "      <td>0.0</td>\n",
       "      <td>NaN</td>\n",
       "      <td>NaN</td>\n",
       "      <td>0.0</td>\n",
       "      <td>&lt;=50K</td>\n",
       "      <td>NaN</td>\n",
       "      <td>United-States</td>\n",
       "      <td>NaN</td>\n",
       "      <td>0.0</td>\n",
       "      <td>Local-gov</td>\n",
       "    </tr>\n",
       "  </tbody>\n",
       "</table>\n",
       "</div>"
      ],
      "text/plain": [
       "      Unnamed: 0               name  \\\n",
       "2078        2078  Alex Stubblefield   \n",
       "2682        2682  Alex Stubblefield   \n",
       "2416        2416       Ashley Lyons   \n",
       "467          467       Ashley Lyons   \n",
       "2553        2553        Billy Clark   \n",
       "3408        3408        Billy Clark   \n",
       "\n",
       "                                                address    race  \\\n",
       "2078                 PSC 1476, Box 5156\\r\\nAPO AE 20184   White   \n",
       "2682                 PSC 1476, Box 5156\\r\\nAPO AE 20184     NaN   \n",
       "2416        4166 Sara Points\\r\\nHernandezview, WY 62853   White   \n",
       "467         4166 Sara Points\\r\\nHernandezview, WY 62853   White   \n",
       "2553  3859 Melissa Bridge Apt. 723\\r\\nShawnfurt, GA ...   White   \n",
       "3408  3859 Melissa Bridge Apt. 723\\r\\nShawnfurt, GA ...   White   \n",
       "\n",
       "           marital-status          occupation pregnant  education-num  \\\n",
       "2078   Married-civ-spouse     Protective-serv    FALSE           10.0   \n",
       "2682   Married-civ-spouse                 NaN    FALSE           10.0   \n",
       "2416   Married-civ-spouse   Handlers-cleaners        f            9.0   \n",
       "467    Married-civ-spouse                 NaN        f            9.0   \n",
       "2553             Divorced     Exec-managerial        f            9.0   \n",
       "3408             Divorced     Exec-managerial        f            9.0   \n",
       "\n",
       "        relationship  capital-gain      education    fnlwgt  class  income  \\\n",
       "2078         Husband           0.0   Some-college  194417.0    NaN    >50K   \n",
       "2682         Husband           0.0   Some-college       NaN    1.0    >50K   \n",
       "2416         Husband           NaN        HS-grad  155972.0    NaN    >50K   \n",
       "467          Husband           0.0        HS-grad       NaN    0.0    >50K   \n",
       "2553   Not-in-family           NaN        HS-grad  195516.0    0.0   <=50K   \n",
       "3408   Not-in-family           0.0            NaN       NaN    0.0   <=50K   \n",
       "\n",
       "                                           medical_info  native-country  \\\n",
       "2078  {'mean_glucose':'39.3046875','std_glucose':'42...   United-States   \n",
       "2682  {'mean_glucose':'39.3046875','std_glucose':'42...   United-States   \n",
       "2416                                                NaN   United-States   \n",
       "467   {'mean_glucose':'111.1953125','std_glucose':'4...   United-States   \n",
       "2553  {'mean_glucose':'103.8046875','std_glucose':'4...   United-States   \n",
       "3408                                                NaN   United-States   \n",
       "\n",
       "      hours-per-week  capital-loss   workclass  \n",
       "2078            40.0           0.0   Local-gov  \n",
       "2682            40.0           0.0   Local-gov  \n",
       "2416            40.0           0.0     Private  \n",
       "467              NaN           0.0     Private  \n",
       "2553            40.0           0.0   Local-gov  \n",
       "3408             NaN           0.0   Local-gov  "
      ]
     },
     "execution_count": 68,
     "metadata": {},
     "output_type": "execute_result"
    }
   ],
   "source": [
    "df_other_train[df_other_train.name.isin(df_other_train.name[df_other_train.name.duplicated()])].sort_values(by=['name']).head(6)"
   ]
  },
  {
   "cell_type": "markdown",
   "metadata": {},
   "source": [
    "Rovnaký postup zvolíme aj pre druhý dataset"
   ]
  },
  {
   "cell_type": "code",
   "execution_count": 63,
   "metadata": {},
   "outputs": [
    {
     "data": {
      "text/plain": [
       "0"
      ]
     },
     "execution_count": 63,
     "metadata": {},
     "output_type": "execute_result"
    }
   ],
   "source": [
    "df_personal_train.duplicated().sum()"
   ]
  },
  {
   "cell_type": "code",
   "execution_count": 64,
   "metadata": {},
   "outputs": [
    {
     "data": {
      "text/plain": [
       "0"
      ]
     },
     "execution_count": 64,
     "metadata": {},
     "output_type": "execute_result"
    }
   ],
   "source": [
    "df_personal_train.name.duplicated().sum()"
   ]
  },
  {
   "cell_type": "markdown",
   "metadata": {},
   "source": [
    "Zistili sme, že v druhom datasete sa žiadne duplicity nenachádzajú."
   ]
  },
  {
   "cell_type": "markdown",
   "metadata": {},
   "source": [
    "Duplicitné záznamy chceme nahradiť len 1 záznamom a v prípade chýbajúcich hodnôt doplníme tieto hodnoty z druhého záznamu."
   ]
  },
  {
   "cell_type": "markdown",
   "metadata": {},
   "source": [
    "Nejednotné formáty dát sme našli v atribúte pregnant, kde to nadobúda hodnoty: FALSE, f, alebo TRUE, t, tak tieto hodnoty chceme zjednotiť. Ďalšie nejednotné hodnoty sme našli v atribúte date_of_birth, kde existuje viacero typov (\"1976-08-29\", \"1974/09/11\", \"1955-01-04 00:00:00\")."
   ]
  },
  {
   "cell_type": "code",
   "execution_count": 77,
   "metadata": {},
   "outputs": [
    {
     "name": "stdout",
     "output_type": "stream",
     "text": [
      "<class 'pandas.core.frame.DataFrame'>\n",
      "RangeIndex: 3983 entries, 0 to 3982\n",
      "Data columns (total 19 columns):\n",
      " #   Column          Non-Null Count  Dtype  \n",
      "---  ------          --------------  -----  \n",
      " 0   Unnamed: 0      3983 non-null   int64  \n",
      " 1   name            3983 non-null   object \n",
      " 2   address         3983 non-null   object \n",
      " 3   race            3691 non-null   object \n",
      " 4   marital-status  3970 non-null   object \n",
      " 5   occupation      3961 non-null   object \n",
      " 6   pregnant        3969 non-null   object \n",
      " 7   education-num   3961 non-null   float64\n",
      " 8   relationship    3954 non-null   object \n",
      " 9   capital-gain    3969 non-null   float64\n",
      " 10  education       3972 non-null   object \n",
      " 11  fnlwgt          3968 non-null   float64\n",
      " 12  class           3960 non-null   float64\n",
      " 13  income          3972 non-null   object \n",
      " 14  medical_info    3966 non-null   object \n",
      " 15  native-country  3966 non-null   object \n",
      " 16  hours-per-week  3966 non-null   float64\n",
      " 17  capital-loss    3973 non-null   float64\n",
      " 18  workclass       3966 non-null   object \n",
      "dtypes: float64(6), int64(1), object(12)\n",
      "memory usage: 591.4+ KB\n"
     ]
    }
   ],
   "source": [
    "df_other_train.info()"
   ]
  },
  {
   "cell_type": "markdown",
   "metadata": {},
   "source": [
    "Ako vidíme, chýbajú nám hodnoty v atribútoch 3-18, tieto hodnoty chceme doplniť mediánom alebo priemerom."
   ]
  },
  {
   "cell_type": "code",
   "execution_count": 76,
   "metadata": {},
   "outputs": [
    {
     "name": "stdout",
     "output_type": "stream",
     "text": [
      "<class 'pandas.core.frame.DataFrame'>\n",
      "RangeIndex: 3933 entries, 0 to 3932\n",
      "Data columns (total 6 columns):\n",
      " #   Column         Non-Null Count  Dtype \n",
      "---  ------         --------------  ----- \n",
      " 0   Unnamed: 0     3933 non-null   int64 \n",
      " 1   name           3933 non-null   object\n",
      " 2   address        3933 non-null   object\n",
      " 3   age            3933 non-null   int64 \n",
      " 4   sex            3933 non-null   object\n",
      " 5   date_of_birth  3933 non-null   object\n",
      "dtypes: int64(2), object(4)\n",
      "memory usage: 184.5+ KB\n"
     ]
    }
   ],
   "source": [
    "df_personal_train.info()"
   ]
  },
  {
   "cell_type": "markdown",
   "metadata": {},
   "source": [
    "V tomto datasete nechýbajú žiadne hodnoty."
   ]
  },
  {
   "cell_type": "markdown",
   "metadata": {},
   "source": [
    "Vychýlené hodnoty plánujeme nahradiť mediánom alebo priemerom."
   ]
  }
 ],
 "metadata": {
  "kernelspec": {
   "display_name": "Python 3",
   "language": "python",
   "name": "python3"
  },
  "language_info": {
   "codemirror_mode": {
    "name": "ipython",
    "version": 3
   },
   "file_extension": ".py",
   "mimetype": "text/x-python",
   "name": "python",
   "nbconvert_exporter": "python",
   "pygments_lexer": "ipython3",
   "version": "3.8.0"
  }
 },
 "nbformat": 4,
 "nbformat_minor": 4
}
