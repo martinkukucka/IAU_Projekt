{
 "cells": [
  {
   "cell_type": "code",
   "execution_count": 2,
   "metadata": {},
   "outputs": [],
   "source": [
    "# -*- coding: utf-8 -*-\n",
    "#\n",
    "# Licensed under the Apache License, Version 2.0 (the \"License\");\n",
    "# you may not use this file except in compliance with the License.\n",
    "# You may obtain a copy of the License at\n",
    "#\n",
    "#    http://www.apache.org/licenses/LICENSE-2.0\n",
    "#\n",
    "# Unless required by applicable law or agreed to in writing, software\n",
    "# distributed under the License is distributed on an \"AS IS\" BASIS,\n",
    "# WITHOUT WARRANTIES OR CONDITIONS OF ANY KIND, either express or\n",
    "# implied.\n",
    "# See the License for the specific language governing permissions and\n",
    "# limitations under the License.\n",
    "#"
   ]
  },
  {
   "cell_type": "markdown",
   "metadata": {},
   "source": [
    "# Ensemble learning\n",
    "\n",
    "- Data https://archive.ics.uci.edu/ml/datasets/letter+recognition\n",
    "- URL https://www.pluralsight.com/guides/ensemble-modeling-scikit-learn"
   ]
  },
  {
   "cell_type": "code",
   "execution_count": 14,
   "metadata": {},
   "outputs": [],
   "source": [
    "import pandas as pd\n",
    "import numpy as np\n",
    "from sklearn.linear_model import LogisticRegression\n",
    "from sklearn.model_selection import train_test_split \n",
    "from sklearn.metrics import confusion_matrix, classification_report\n",
    "from sklearn.tree import DecisionTreeClassifier\n",
    "from sklearn.svm import SVC\n",
    "from sklearn.ensemble import VotingClassifier\n",
    "from sklearn import model_selection\n",
    "from sklearn.ensemble import BaggingClassifier\n",
    "from sklearn.ensemble import RandomForestClassifier\n",
    "from sklearn.ensemble import AdaBoostClassifier\n",
    "from sklearn.ensemble import GradientBoostingClassifier"
   ]
  },
  {
   "cell_type": "markdown",
   "metadata": {},
   "source": [
    "### Load data"
   ]
  },
  {
   "cell_type": "code",
   "execution_count": 15,
   "metadata": {},
   "outputs": [
    {
     "name": "stdout",
     "output_type": "stream",
     "text": [
      "(19999, 17)\n"
     ]
    },
    {
     "data": {
      "text/html": [
       "<div>\n",
       "<style scoped>\n",
       "    .dataframe tbody tr th:only-of-type {\n",
       "        vertical-align: middle;\n",
       "    }\n",
       "\n",
       "    .dataframe tbody tr th {\n",
       "        vertical-align: top;\n",
       "    }\n",
       "\n",
       "    .dataframe thead th {\n",
       "        text-align: right;\n",
       "    }\n",
       "</style>\n",
       "<table border=\"1\" class=\"dataframe\">\n",
       "  <thead>\n",
       "    <tr style=\"text-align: right;\">\n",
       "      <th></th>\n",
       "      <th>T</th>\n",
       "      <th>2</th>\n",
       "      <th>8</th>\n",
       "      <th>3</th>\n",
       "      <th>5</th>\n",
       "      <th>1</th>\n",
       "      <th>8.1</th>\n",
       "      <th>13</th>\n",
       "      <th>0</th>\n",
       "      <th>6</th>\n",
       "      <th>6.1</th>\n",
       "      <th>10</th>\n",
       "      <th>8.2</th>\n",
       "      <th>0.1</th>\n",
       "      <th>8.3</th>\n",
       "      <th>0.2</th>\n",
       "      <th>8.4</th>\n",
       "    </tr>\n",
       "  </thead>\n",
       "  <tbody>\n",
       "    <tr>\n",
       "      <th>0</th>\n",
       "      <td>I</td>\n",
       "      <td>5</td>\n",
       "      <td>12</td>\n",
       "      <td>3</td>\n",
       "      <td>7</td>\n",
       "      <td>2</td>\n",
       "      <td>10</td>\n",
       "      <td>5</td>\n",
       "      <td>5</td>\n",
       "      <td>4</td>\n",
       "      <td>13</td>\n",
       "      <td>3</td>\n",
       "      <td>9</td>\n",
       "      <td>2</td>\n",
       "      <td>8</td>\n",
       "      <td>4</td>\n",
       "      <td>10</td>\n",
       "    </tr>\n",
       "    <tr>\n",
       "      <th>1</th>\n",
       "      <td>D</td>\n",
       "      <td>4</td>\n",
       "      <td>11</td>\n",
       "      <td>6</td>\n",
       "      <td>8</td>\n",
       "      <td>6</td>\n",
       "      <td>10</td>\n",
       "      <td>6</td>\n",
       "      <td>2</td>\n",
       "      <td>6</td>\n",
       "      <td>10</td>\n",
       "      <td>3</td>\n",
       "      <td>7</td>\n",
       "      <td>3</td>\n",
       "      <td>7</td>\n",
       "      <td>3</td>\n",
       "      <td>9</td>\n",
       "    </tr>\n",
       "    <tr>\n",
       "      <th>2</th>\n",
       "      <td>N</td>\n",
       "      <td>7</td>\n",
       "      <td>11</td>\n",
       "      <td>6</td>\n",
       "      <td>6</td>\n",
       "      <td>3</td>\n",
       "      <td>5</td>\n",
       "      <td>9</td>\n",
       "      <td>4</td>\n",
       "      <td>6</td>\n",
       "      <td>4</td>\n",
       "      <td>4</td>\n",
       "      <td>10</td>\n",
       "      <td>6</td>\n",
       "      <td>10</td>\n",
       "      <td>2</td>\n",
       "      <td>8</td>\n",
       "    </tr>\n",
       "    <tr>\n",
       "      <th>3</th>\n",
       "      <td>G</td>\n",
       "      <td>2</td>\n",
       "      <td>1</td>\n",
       "      <td>3</td>\n",
       "      <td>1</td>\n",
       "      <td>1</td>\n",
       "      <td>8</td>\n",
       "      <td>6</td>\n",
       "      <td>6</td>\n",
       "      <td>6</td>\n",
       "      <td>6</td>\n",
       "      <td>5</td>\n",
       "      <td>9</td>\n",
       "      <td>1</td>\n",
       "      <td>7</td>\n",
       "      <td>5</td>\n",
       "      <td>10</td>\n",
       "    </tr>\n",
       "    <tr>\n",
       "      <th>4</th>\n",
       "      <td>S</td>\n",
       "      <td>4</td>\n",
       "      <td>11</td>\n",
       "      <td>5</td>\n",
       "      <td>8</td>\n",
       "      <td>3</td>\n",
       "      <td>8</td>\n",
       "      <td>8</td>\n",
       "      <td>6</td>\n",
       "      <td>9</td>\n",
       "      <td>5</td>\n",
       "      <td>6</td>\n",
       "      <td>6</td>\n",
       "      <td>0</td>\n",
       "      <td>8</td>\n",
       "      <td>9</td>\n",
       "      <td>7</td>\n",
       "    </tr>\n",
       "    <tr>\n",
       "      <th>5</th>\n",
       "      <td>B</td>\n",
       "      <td>4</td>\n",
       "      <td>2</td>\n",
       "      <td>5</td>\n",
       "      <td>4</td>\n",
       "      <td>4</td>\n",
       "      <td>8</td>\n",
       "      <td>7</td>\n",
       "      <td>6</td>\n",
       "      <td>6</td>\n",
       "      <td>7</td>\n",
       "      <td>6</td>\n",
       "      <td>6</td>\n",
       "      <td>2</td>\n",
       "      <td>8</td>\n",
       "      <td>7</td>\n",
       "      <td>10</td>\n",
       "    </tr>\n",
       "    <tr>\n",
       "      <th>6</th>\n",
       "      <td>A</td>\n",
       "      <td>1</td>\n",
       "      <td>1</td>\n",
       "      <td>3</td>\n",
       "      <td>2</td>\n",
       "      <td>1</td>\n",
       "      <td>8</td>\n",
       "      <td>2</td>\n",
       "      <td>2</td>\n",
       "      <td>2</td>\n",
       "      <td>8</td>\n",
       "      <td>2</td>\n",
       "      <td>8</td>\n",
       "      <td>1</td>\n",
       "      <td>6</td>\n",
       "      <td>2</td>\n",
       "      <td>7</td>\n",
       "    </tr>\n",
       "    <tr>\n",
       "      <th>7</th>\n",
       "      <td>J</td>\n",
       "      <td>2</td>\n",
       "      <td>2</td>\n",
       "      <td>4</td>\n",
       "      <td>4</td>\n",
       "      <td>2</td>\n",
       "      <td>10</td>\n",
       "      <td>6</td>\n",
       "      <td>2</td>\n",
       "      <td>6</td>\n",
       "      <td>12</td>\n",
       "      <td>4</td>\n",
       "      <td>8</td>\n",
       "      <td>1</td>\n",
       "      <td>6</td>\n",
       "      <td>1</td>\n",
       "      <td>7</td>\n",
       "    </tr>\n",
       "    <tr>\n",
       "      <th>8</th>\n",
       "      <td>M</td>\n",
       "      <td>11</td>\n",
       "      <td>15</td>\n",
       "      <td>13</td>\n",
       "      <td>9</td>\n",
       "      <td>7</td>\n",
       "      <td>13</td>\n",
       "      <td>2</td>\n",
       "      <td>6</td>\n",
       "      <td>2</td>\n",
       "      <td>12</td>\n",
       "      <td>1</td>\n",
       "      <td>9</td>\n",
       "      <td>8</td>\n",
       "      <td>1</td>\n",
       "      <td>1</td>\n",
       "      <td>8</td>\n",
       "    </tr>\n",
       "    <tr>\n",
       "      <th>9</th>\n",
       "      <td>X</td>\n",
       "      <td>3</td>\n",
       "      <td>9</td>\n",
       "      <td>5</td>\n",
       "      <td>7</td>\n",
       "      <td>4</td>\n",
       "      <td>8</td>\n",
       "      <td>7</td>\n",
       "      <td>3</td>\n",
       "      <td>8</td>\n",
       "      <td>5</td>\n",
       "      <td>6</td>\n",
       "      <td>8</td>\n",
       "      <td>2</td>\n",
       "      <td>8</td>\n",
       "      <td>6</td>\n",
       "      <td>7</td>\n",
       "    </tr>\n",
       "  </tbody>\n",
       "</table>\n",
       "</div>"
      ],
      "text/plain": [
       "   T   2   8   3  5  1  8.1  13  0  6  6.1  10  8.2  0.1  8.3  0.2  8.4\n",
       "0  I   5  12   3  7  2   10   5  5  4   13   3    9    2    8    4   10\n",
       "1  D   4  11   6  8  6   10   6  2  6   10   3    7    3    7    3    9\n",
       "2  N   7  11   6  6  3    5   9  4  6    4   4   10    6   10    2    8\n",
       "3  G   2   1   3  1  1    8   6  6  6    6   5    9    1    7    5   10\n",
       "4  S   4  11   5  8  3    8   8  6  9    5   6    6    0    8    9    7\n",
       "5  B   4   2   5  4  4    8   7  6  6    7   6    6    2    8    7   10\n",
       "6  A   1   1   3  2  1    8   2  2  2    8   2    8    1    6    2    7\n",
       "7  J   2   2   4  4  2   10   6  2  6   12   4    8    1    6    1    7\n",
       "8  M  11  15  13  9  7   13   2  6  2   12   1    9    8    1    1    8\n",
       "9  X   3   9   5  7  4    8   7  3  8    5   6    8    2    8    6    7"
      ]
     },
     "execution_count": 15,
     "metadata": {},
     "output_type": "execute_result"
    }
   ],
   "source": [
    "df = pd.read_csv('data/letter-recognition.data')\n",
    "print(df.shape)\n",
    "df.head(10)"
   ]
  },
  {
   "cell_type": "markdown",
   "metadata": {},
   "source": [
    "### Create arrays for the features and the response variable"
   ]
  },
  {
   "cell_type": "code",
   "execution_count": 16,
   "metadata": {},
   "outputs": [],
   "source": [
    "y = df['T'].values\n",
    "x = df.drop('T', axis=1).values"
   ]
  },
  {
   "cell_type": "markdown",
   "metadata": {},
   "source": [
    "### Logistic Regression"
   ]
  },
  {
   "cell_type": "code",
   "execution_count": 17,
   "metadata": {},
   "outputs": [
    {
     "name": "stdout",
     "output_type": "stream",
     "text": [
      "[[200   0   0   0   0   0   0   0   0   2   6   0   0   0   0   0   2   3\n",
      "    7   1   1   0   0   2   2   0]\n",
      " [  1 154   0   4   2   2   1   2   4   0   1   1   0   0   3   1   1  10\n",
      "   11   0   0   1   0   1   3   1]\n",
      " [  0   1 169   1  10   1   9   4   0   0   9   0   2   0   8   0   0   0\n",
      "    0   4   4   0   0   0   0   0]\n",
      " [  1  10   0 184   0   0   0   4   0   2   1   0   1   4   3   2   2   5\n",
      "    0   0   1   0   0   0   0   1]\n",
      " [  0   6   0   0 181   2   4   0   0   0   2   1   0   0   0   0   3   1\n",
      "    9   5   0   0   0   5   0   2]\n",
      " [  1   1   0   2   6 191   3   0   2   1   0   0   0   2   0   6   0   0\n",
      "    7  10   1   0   0   3   4   0]\n",
      " [  0   2  26   2   4   1 122   2   1   0   8   2   1   0   2   3  25   3\n",
      "    9   0   0   8   0   0   0   0]\n",
      " [  2   6   0  13   0   7   3 100   0   1  16   1   1  13  24   1   2  20\n",
      "    0   1   9  11   0   3   2   0]\n",
      " [  1   2   0   1   1   2   0   0 184   5   1   0   0   0   0   1   0   0\n",
      "    1   1   0   0   0   2   6   3]\n",
      " [  5   0   0   1   0   6   0   0  15 202   0   0   0   1   0   1   0   0\n",
      "    7   0   0   0   0   2   0   5]\n",
      " [  2   3   5   0   3   0   1   2   0   0 159   4   1   1   0   0   0  20\n",
      "    1   1   3   1   0   5   0   0]\n",
      " [  1   1   2   2   6   0   6   0   0   0   5 171   0   1   1   0   8   1\n",
      "    5   2   0   0   0   6   0   0]\n",
      " [  5   2   1   1   0   0   0   3   0   0   0   0 220   3   0   0   0   4\n",
      "    0   0   0   0   5   0   0   0]\n",
      " [  1   0   0   2   0   0   0  10   0   0   3   0   2 207   2   0   0   0\n",
      "    0   1   1   0   6   0   0   0]\n",
      " [  6   0   2   6   0   0   4  29   0   0   0   3   0   1 153   2   7   8\n",
      "    1   0   2   2  10   1   0   0]\n",
      " [  0   1   0   3   0  12   7   1   1   0   0   0   0   0   3 214   1   0\n",
      "    0   2   1   3   3   0   6   0]\n",
      " [  5   6   8   2   5   0   5   0   0   1   0   8   0   0  11   3 158   0\n",
      "   12   0   0   2   1   1   3   1]\n",
      " [  2  13   0   9   2   2   0   6   0   0  10   1   1   1   4   0   1 169\n",
      "    0   1   1   0   0   4   0   0]\n",
      " [  0  19   0   4  10   5   1   0   3   2   0  13   0   0   4   1   6   1\n",
      "  120   3   0   0   0   2   1  20]\n",
      " [  0   0   0   2   6   6   2   2   5   1   3   0   0   0   1   0   1   1\n",
      "    2 202   7   0   0   1   7   6]\n",
      " [  1   1   1   1   0   0   1   4   0   0   2   0   3   3   5   0   0   0\n",
      "    0   0 221   0   2   0   0   0]\n",
      " [  1   2   0   0   1   1   1   2   0   0   0   0   0   0   1   2   0   2\n",
      "    0   0   1 206   5   0   6   0]\n",
      " [  2   1   0   2   0   0   0   8   0   0   0   0   7   2   1   0   0   0\n",
      "    0   0   3   6 204   0   0   0]\n",
      " [  2   3   1   3   6   0   0   1   2   0   3   1   0   0   2   0   5   1\n",
      "    4   5   3   0   0 191   6   2]\n",
      " [  4   0   0   2   0   5   0   2   0   0   0   1   0   0   0   0   4   0\n",
      "    0  12   1  11   0   2 191   0]\n",
      " [  0   1   0   1  15   1   1   0   0   7   0   2   0   0   0   0   1   0\n",
      "   21   4   0   0   0   3   0 175]]\n",
      "              precision    recall  f1-score   support\n",
      "\n",
      "           A       0.82      0.88      0.85       226\n",
      "           B       0.66      0.75      0.70       204\n",
      "           C       0.79      0.76      0.77       222\n",
      "           D       0.74      0.83      0.78       221\n",
      "           E       0.70      0.82      0.76       221\n",
      "           F       0.78      0.80      0.79       240\n",
      "           G       0.71      0.55      0.62       221\n",
      "           H       0.55      0.42      0.48       236\n",
      "           I       0.85      0.87      0.86       211\n",
      "           J       0.90      0.82      0.86       245\n",
      "           K       0.69      0.75      0.72       212\n",
      "           L       0.82      0.78      0.80       218\n",
      "           M       0.92      0.90      0.91       244\n",
      "           N       0.87      0.88      0.87       235\n",
      "           O       0.67      0.65      0.66       237\n",
      "           P       0.90      0.83      0.86       258\n",
      "           Q       0.70      0.68      0.69       232\n",
      "           R       0.68      0.74      0.71       227\n",
      "           S       0.55      0.56      0.56       215\n",
      "           T       0.79      0.79      0.79       255\n",
      "           U       0.85      0.90      0.88       245\n",
      "           V       0.82      0.89      0.85       231\n",
      "           W       0.86      0.86      0.86       236\n",
      "           X       0.82      0.79      0.80       241\n",
      "           Y       0.81      0.81      0.81       235\n",
      "           Z       0.81      0.75      0.78       232\n",
      "\n",
      "    accuracy                           0.77      6000\n",
      "   macro avg       0.77      0.77      0.77      6000\n",
      "weighted avg       0.77      0.77      0.77      6000\n",
      "\n"
     ]
    }
   ],
   "source": [
    "X_train, X_test, y_train, y_test = train_test_split(x, y, test_size = 0.3)\n",
    "\n",
    "logreg = LogisticRegression(max_iter=10000)\n",
    "logreg.fit(X_train, y_train)\n",
    "y_pred = logreg.predict(X_test)\n",
    " \n",
    "print(confusion_matrix(y_test, y_pred))\n",
    "print(classification_report(y_test, y_pred))"
   ]
  },
  {
   "cell_type": "markdown",
   "metadata": {},
   "source": [
    "### Bagged Decision Trees for Classification"
   ]
  },
  {
   "cell_type": "code",
   "execution_count": 18,
   "metadata": {},
   "outputs": [
    {
     "name": "stdout",
     "output_type": "stream",
     "text": [
      "0.9484472736368185\n"
     ]
    }
   ],
   "source": [
    "kfold = model_selection.KFold(n_splits=10, shuffle=True)\n",
    "model_1 = BaggingClassifier(base_estimator=DecisionTreeClassifier(), n_estimators=100, random_state=10)\n",
    "results_1 = model_selection.cross_val_score(model_1, x, y, cv=kfold)\n",
    "print(results_1.mean())"
   ]
  },
  {
   "cell_type": "markdown",
   "metadata": {},
   "source": [
    "### Random Forest Classification"
   ]
  },
  {
   "cell_type": "code",
   "execution_count": 19,
   "metadata": {},
   "outputs": [
    {
     "name": "stdout",
     "output_type": "stream",
     "text": [
      "0.9646976488244121\n"
     ]
    }
   ],
   "source": [
    "kfold_rf = model_selection.KFold(n_splits=10, shuffle=True)\n",
    "model_rf = RandomForestClassifier(n_estimators=100, max_features=5)\n",
    "results_rf = model_selection.cross_val_score(model_rf, x, y, cv=kfold_rf)\n",
    "print(results_rf.mean())"
   ]
  },
  {
   "cell_type": "markdown",
   "metadata": {},
   "source": [
    "### Adaptive Boosting or AdaBoost"
   ]
  },
  {
   "cell_type": "code",
   "execution_count": 20,
   "metadata": {},
   "outputs": [
    {
     "name": "stdout",
     "output_type": "stream",
     "text": [
      "0.29751710855427715\n"
     ]
    }
   ],
   "source": [
    "kfold_ada = model_selection.KFold(n_splits=10, shuffle=True)\n",
    "model_ada = AdaBoostClassifier(n_estimators=30, random_state=10)\n",
    "results_ada = model_selection.cross_val_score(model_ada, x, y, cv=kfold_ada)\n",
    "print(results_ada.mean())"
   ]
  },
  {
   "cell_type": "markdown",
   "metadata": {},
   "source": [
    "### Stochastic Gradient Boosting"
   ]
  },
  {
   "cell_type": "code",
   "execution_count": null,
   "metadata": {},
   "outputs": [],
   "source": [
    "kfold_sgb = model_selection.KFold(n_splits=10, shuffle=True)\n",
    "model_sgb = GradientBoostingClassifier(n_estimators=100, random_state=10)\n",
    "results_sgb = model_selection.cross_val_score(model_sgb, x, y, cv=kfold_sgb)\n",
    "print(results_sgb.mean())"
   ]
  },
  {
   "cell_type": "markdown",
   "metadata": {},
   "source": [
    "### Stacking/Voting Ensemble"
   ]
  },
  {
   "cell_type": "code",
   "execution_count": null,
   "metadata": {},
   "outputs": [],
   "source": [
    "kfold_vc = model_selection.KFold(n_splits=10, shuffle=True)\n",
    " \n",
    "estimators = []\n",
    "mod_lr = LogisticRegression(max_iter=1000)\n",
    "estimators.append(('logistic', mod_lr))\n",
    "mod_dt = DecisionTreeClassifier()\n",
    "estimators.append(('cart', mod_dt))\n",
    "mod_sv = SVC()\n",
    "estimators.append(('svm', mod_sv))\n",
    " \n",
    "ensemble = VotingClassifier(estimators)\n",
    "results_vc = model_selection.cross_val_score(ensemble, x, y, cv=kfold_vc)\n",
    "print(results_vc.mean())"
   ]
  },
  {
   "cell_type": "code",
   "execution_count": null,
   "metadata": {},
   "outputs": [],
   "source": []
  }
 ],
 "metadata": {
  "kernelspec": {
   "display_name": "Python 3",
   "language": "python",
   "name": "python3"
  },
  "language_info": {
   "codemirror_mode": {
    "name": "ipython",
    "version": 3
   },
   "file_extension": ".py",
   "mimetype": "text/x-python",
   "name": "python",
   "nbconvert_exporter": "python",
   "pygments_lexer": "ipython3",
   "version": "3.8.0"
  }
 },
 "nbformat": 4,
 "nbformat_minor": 4
}
