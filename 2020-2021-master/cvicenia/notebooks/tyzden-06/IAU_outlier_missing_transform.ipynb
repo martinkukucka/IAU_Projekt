{
 "cells": [
  {
   "cell_type": "code",
   "execution_count": null,
   "metadata": {},
   "outputs": [],
   "source": [
    "# -*- coding: utf-8 -*-\n",
    "#\n",
    "# Licensed under the Apache License, Version 2.0 (the \"License\");\n",
    "# you may not use this file except in compliance with the License.\n",
    "# You may obtain a copy of the License at\n",
    "#\n",
    "#    http://www.apache.org/licenses/LICENSE-2.0\n",
    "#\n",
    "# Unless required by applicable law or agreed to in writing, software\n",
    "# distributed under the License is distributed on an \"AS IS\" BASIS,\n",
    "# WITHOUT WARRANTIES OR CONDITIONS OF ANY KIND, either express or\n",
    "# implied.\n",
    "# See the License for the specific language governing permissions and\n",
    "# limitations under the License.\n",
    "#"
   ]
  },
  {
   "cell_type": "markdown",
   "metadata": {},
   "source": [
    "# 1. Outlier detection\n",
    "\n",
    "- An outlier is an observation that is unlike the other observations. \n",
    "- They are rare, distinct, or do not fit in some way\n",
    "- Outliers can be measurement or input error, data corruption ot true outlier observation\n",
    "\n",
    "Identifying outliers and bad data one of the most difficult parts of data cleanup, and it takes time to get right.\n",
    "\n",
    "**This task need to be done cautiously**.\n",
    "\n",
    "\n",
    "## 1.1 Standard Deviation Method\n",
    "**3x standard deviations ($\\sigma$) from the mean ($\\mu$)** is a common cut-off in practice for identifying outliers in a Gaussian or Gaussian-like distribution."
   ]
  },
  {
   "cell_type": "code",
   "execution_count": 1,
   "metadata": {},
   "outputs": [
    {
     "name": "stderr",
     "output_type": "stream",
     "text": [
      "c:\\python38\\lib\\site-packages\\seaborn\\distributions.py:2551: FutureWarning: `distplot` is a deprecated function and will be removed in a future version. Please adapt your code to use either `displot` (a figure-level function with similar flexibility) or `histplot` (an axes-level function for histograms).\n",
      "  warnings.warn(msg, FutureWarning)\n"
     ]
    },
    {
     "name": "stdout",
     "output_type": "stream",
     "text": [
      "len= 1000 mean= 50.194062380798016 std= 4.9050206696610585\n",
      "cutoff= 14.715062008983175 lower= 35.47900037181484 upper= 64.9091243897812\n",
      "Identified outliers: 4\n",
      "Non-outlier observations: 996\n"
     ]
    },
    {
     "data": {
      "image/png": "[encoded data removed]",
      "text/plain": [
       "<Figure size 432x288 with 1 Axes>"
      ]
     },
     "metadata": {
      "needs_background": "light"
     },
     "output_type": "display_data"
    }
   ],
   "source": [
    "from numpy.random import seed \n",
    "from numpy.random import randn \n",
    "from numpy import mean\n",
    "from numpy import std\n",
    "import seaborn as sns\n",
    "\n",
    "seed(1)\n",
    "data = 5 * randn(1000) + 50\n",
    "sns.distplot(data)\n",
    "\n",
    "# calculate summary statistics\n",
    "data_mean, data_std = mean(data), std(data)\n",
    "print('len=', len(data), 'mean=', data_mean, 'std=', data_std)\n",
    "\n",
    "# define outliers\n",
    "cut_off = data_std * 3\n",
    "lower, upper = data_mean - cut_off, data_mean + cut_off \n",
    "print('cutoff=', cut_off, 'lower=', lower, 'upper=', upper)\n",
    "\n",
    "# identify outliers\n",
    "outliers = [x for x in data if x < lower or x > upper] \n",
    "print('Identified outliers: %d' % len(outliers))\n",
    "\n",
    "# remove outliers\n",
    "outliers_removed = [x for x in data if x >= lower and x <= upper]\n",
    "print('Non-outlier observations: %d' % len(outliers_removed))"
   ]
  },
  {
   "cell_type": "markdown",
   "metadata": {},
   "source": [
    "## 1.2 Interquartile Range Method\n",
    "Limits on the sample values that are a factor $k=1.5$ of the $IQR$ below the $25$ percentile or above $75$ percentile."
   ]
  },
  {
   "cell_type": "code",
   "execution_count": 20,
   "metadata": {},
   "outputs": [
    {
     "name": "stdout",
     "output_type": "stream",
     "text": [
      "len= 1000\n",
      "Percentiles: 25th=46.999, 75th=53.520, IQR=6.521\n",
      "cutoff= 9.781194643044664 lower= 37.21800319685014 upper= 63.30118891163591\n",
      "Identified outliers: 9\n",
      "Non-outlier observations: 991\n"
     ]
    },
    {
     "name": "stderr",
     "output_type": "stream",
     "text": [
      "c:\\python38\\lib\\site-packages\\seaborn\\distributions.py:2551: FutureWarning: `distplot` is a deprecated function and will be removed in a future version. Please adapt your code to use either `displot` (a figure-level function with similar flexibility) or `histplot` (an axes-level function for histograms).\n",
      "  warnings.warn(msg, FutureWarning)\n",
      "c:\\python38\\lib\\site-packages\\seaborn\\distributions.py:2551: FutureWarning: `distplot` is a deprecated function and will be removed in a future version. Please adapt your code to use either `displot` (a figure-level function with similar flexibility) or `histplot` (an axes-level function for histograms).\n",
      "  warnings.warn(msg, FutureWarning)\n"
     ]
    },
    {
     "data": {
      "text/plain": [
       "<AxesSubplot:ylabel='Density'>"
      ]
     },
     "execution_count": 20,
     "metadata": {},
     "output_type": "execute_result"
    },
    {
     "data": {
      "image/png": "[encoded data removed]",
      "text/plain": [
       "<Figure size 432x288 with 1 Axes>"
      ]
     },
     "metadata": {
      "needs_background": "light"
     },
     "output_type": "display_data"
    }
   ],
   "source": [
    "from numpy.random import seed\n",
    "from numpy.random import randn \n",
    "from numpy import percentile\n",
    "\n",
    "seed(1)\n",
    "data = 5 * randn(1000) + 50\n",
    "sns.distplot(data)\n",
    "print('len=', len(data))\n",
    "      \n",
    "# calculate interquartile range\n",
    "q25, q75 = percentile(data, 25), percentile(data, 75)\n",
    "iqr = q75 - q25\n",
    "print('Percentiles: 25th=%.3f, 75th=%.3f, IQR=%.3f' % (q25, q75, iqr)) \n",
    "\n",
    "# calculate the outlier cutoff\n",
    "cut_off = iqr * 1.5\n",
    "lower, upper = q25 - cut_off, q75 + cut_off\n",
    "print('cutoff=', cut_off, 'lower=', lower, 'upper=', upper)\n",
    "\n",
    "# identify outliers\n",
    "outliers = [x for x in data if x < lower or x > upper] \n",
    "print('Identified outliers: %d' % len(outliers))\n",
    "\n",
    "# remove outliers\n",
    "outliers_removed = [x for x in data if x >= lower and x <= upper] \n",
    "print('Non-outlier observations: %d' % len(outliers_removed))\n",
    "\n",
    "sns.distplot(outliers_removed)"
   ]
  },
  {
   "cell_type": "markdown",
   "metadata": {},
   "source": [
    "# 2. Imputation of missing values"
   ]
  },
  {
   "cell_type": "markdown",
   "metadata": {},
   "source": [
    "### Replace 0 by numpy NaN in several columns"
   ]
  },
  {
   "cell_type": "code",
   "execution_count": 3,
   "metadata": {},
   "outputs": [
    {
     "name": "stdout",
     "output_type": "stream",
     "text": [
      "     0    1   2   3    4     5      6   7  8\n",
      "0    6  148  72  35    0  33.6  0.627  50  1\n",
      "1    1   85  66  29    0  26.6  0.351  31  0\n",
      "2    8  183  64   0    0  23.3  0.672  32  1\n",
      "3    1   89  66  23   94  28.1  0.167  21  0\n",
      "4    0  137  40  35  168  43.1  2.288  33  1\n",
      "5    5  116  74   0    0  25.6  0.201  30  0\n",
      "6    3   78  50  32   88  31.0  0.248  26  1\n",
      "7   10  115   0   0    0  35.3  0.134  29  0\n",
      "8    2  197  70  45  543  30.5  0.158  53  1\n",
      "9    8  125  96   0    0   0.0  0.232  54  1\n",
      "10   4  110  92   0    0  37.6  0.191  30  0\n",
      "11  10  168  74   0    0  38.0  0.537  34  1\n",
      "12  10  139  80   0    0  27.1  1.441  57  0\n",
      "13   1  189  60  23  846  30.1  0.398  59  1\n",
      "14   5  166  72  19  175  25.8  0.587  51  1\n",
      "15   7  100   0   0    0  30.0  0.484  32  1\n",
      "16   0  118  84  47  230  45.8  0.551  31  1\n",
      "17   7  107  74   0    0  29.6  0.254  31  1\n",
      "18   1  103  30  38   83  43.3  0.183  33  0\n",
      "19   1  115  70  30   96  34.6  0.529  32  1\n",
      "1      5\n",
      "2     35\n",
      "3    227\n",
      "4    374\n",
      "5     11\n",
      "6      0\n",
      "7      0\n",
      "dtype: int64\n",
      "0      0\n",
      "1      5\n",
      "2     35\n",
      "3    227\n",
      "4    374\n",
      "5     11\n",
      "6      0\n",
      "7      0\n",
      "8      0\n",
      "dtype: int64\n",
      "     0      1     2     3      4     5      6   7  8\n",
      "0    6  148.0  72.0  35.0    NaN  33.6  0.627  50  1\n",
      "1    1   85.0  66.0  29.0    NaN  26.6  0.351  31  0\n",
      "2    8  183.0  64.0   NaN    NaN  23.3  0.672  32  1\n",
      "3    1   89.0  66.0  23.0   94.0  28.1  0.167  21  0\n",
      "4    0  137.0  40.0  35.0  168.0  43.1  2.288  33  1\n",
      "5    5  116.0  74.0   NaN    NaN  25.6  0.201  30  0\n",
      "6    3   78.0  50.0  32.0   88.0  31.0  0.248  26  1\n",
      "7   10  115.0   NaN   NaN    NaN  35.3  0.134  29  0\n",
      "8    2  197.0  70.0  45.0  543.0  30.5  0.158  53  1\n",
      "9    8  125.0  96.0   NaN    NaN   NaN  0.232  54  1\n",
      "10   4  110.0  92.0   NaN    NaN  37.6  0.191  30  0\n",
      "11  10  168.0  74.0   NaN    NaN  38.0  0.537  34  1\n",
      "12  10  139.0  80.0   NaN    NaN  27.1  1.441  57  0\n",
      "13   1  189.0  60.0  23.0  846.0  30.1  0.398  59  1\n",
      "14   5  166.0  72.0  19.0  175.0  25.8  0.587  51  1\n",
      "15   7  100.0   NaN   NaN    NaN  30.0  0.484  32  1\n",
      "16   0  118.0  84.0  47.0  230.0  45.8  0.551  31  1\n",
      "17   7  107.0  74.0   NaN    NaN  29.6  0.254  31  1\n",
      "18   1  103.0  30.0  38.0   83.0  43.3  0.183  33  0\n",
      "19   1  115.0  70.0  30.0   96.0  34.6  0.529  32  1\n",
      "(768, 9)\n"
     ]
    }
   ],
   "source": [
    "import numpy as np\n",
    "from pandas import read_csv\n",
    "\n",
    "dataset = read_csv('data/pima-indians-diabetes.csv', header=None) \n",
    "print(dataset.head(20))\n",
    "\n",
    "num_missing = (dataset[[1,2,3,4,5,6,7]] == 0).sum()\n",
    "print(num_missing)\n",
    "\n",
    "dataset[[1,2,3,4,5]] = dataset[[1,2,3,4,5]].replace(0, np.nan)\n",
    "print(dataset.isnull().sum())\n",
    "print(dataset.head(20))\n",
    "print(dataset.shape)"
   ]
  },
  {
   "cell_type": "markdown",
   "metadata": {},
   "source": [
    "## 3.1 Remove rows with empty values"
   ]
  },
  {
   "cell_type": "code",
   "execution_count": 4,
   "metadata": {},
   "outputs": [
    {
     "name": "stdout",
     "output_type": "stream",
     "text": [
      "(392, 9)\n"
     ]
    }
   ],
   "source": [
    "dataset.dropna(inplace=True)\n",
    "print(dataset.shape)"
   ]
  },
  {
   "cell_type": "markdown",
   "metadata": {},
   "source": [
    "## 3.2 Statistical Imputation"
   ]
  },
  {
   "cell_type": "markdown",
   "metadata": {},
   "source": [
    "**Simple imputer**"
   ]
  },
  {
   "cell_type": "code",
   "execution_count": 23,
   "metadata": {},
   "outputs": [
    {
     "name": "stdout",
     "output_type": "stream",
     "text": [
      "[[7, 2, 3], [4, nan, 6], [10, 5, 9]]\n"
     ]
    },
    {
     "ename": "AttributeError",
     "evalue": "'list' object has no attribute 'isnull'",
     "output_type": "error",
     "traceback": [
      "\u001b[1;31m---------------------------------------------------------------------------\u001b[0m",
      "\u001b[1;31mAttributeError\u001b[0m                            Traceback (most recent call last)",
      "\u001b[1;32m<ipython-input-23-155ba5ddba66>\u001b[0m in \u001b[0;36m<module>\u001b[1;34m\u001b[0m\n\u001b[0;32m      3\u001b[0m \u001b[0mdata\u001b[0m \u001b[1;33m=\u001b[0m \u001b[1;33m[\u001b[0m\u001b[1;33m[\u001b[0m\u001b[1;36m7\u001b[0m\u001b[1;33m,\u001b[0m \u001b[1;36m2\u001b[0m\u001b[1;33m,\u001b[0m \u001b[1;36m3\u001b[0m\u001b[1;33m]\u001b[0m\u001b[1;33m,\u001b[0m \u001b[1;33m[\u001b[0m\u001b[1;36m4\u001b[0m\u001b[1;33m,\u001b[0m \u001b[0mnp\u001b[0m\u001b[1;33m.\u001b[0m\u001b[0mnan\u001b[0m\u001b[1;33m,\u001b[0m \u001b[1;36m6\u001b[0m\u001b[1;33m]\u001b[0m\u001b[1;33m,\u001b[0m \u001b[1;33m[\u001b[0m\u001b[1;36m10\u001b[0m\u001b[1;33m,\u001b[0m \u001b[1;36m5\u001b[0m\u001b[1;33m,\u001b[0m \u001b[1;36m9\u001b[0m\u001b[1;33m]\u001b[0m\u001b[1;33m]\u001b[0m\u001b[1;33m\u001b[0m\u001b[1;33m\u001b[0m\u001b[0m\n\u001b[0;32m      4\u001b[0m \u001b[0mprint\u001b[0m\u001b[1;33m(\u001b[0m\u001b[0mdata\u001b[0m\u001b[1;33m)\u001b[0m\u001b[1;33m\u001b[0m\u001b[1;33m\u001b[0m\u001b[0m\n\u001b[1;32m----> 5\u001b[1;33m \u001b[0mdata\u001b[0m\u001b[1;33m.\u001b[0m\u001b[0misnull\u001b[0m\u001b[1;33m(\u001b[0m\u001b[1;33m)\u001b[0m\u001b[1;33m.\u001b[0m\u001b[0msum\u001b[0m\u001b[1;33m(\u001b[0m\u001b[1;33m)\u001b[0m\u001b[1;33m\u001b[0m\u001b[1;33m\u001b[0m\u001b[0m\n\u001b[0m\u001b[0;32m      6\u001b[0m \u001b[1;33m\u001b[0m\u001b[0m\n\u001b[0;32m      7\u001b[0m \u001b[0mimp_mean\u001b[0m \u001b[1;33m=\u001b[0m \u001b[0mSimpleImputer\u001b[0m\u001b[1;33m(\u001b[0m\u001b[0mmissing_values\u001b[0m\u001b[1;33m=\u001b[0m\u001b[0mnp\u001b[0m\u001b[1;33m.\u001b[0m\u001b[0mnan\u001b[0m\u001b[1;33m,\u001b[0m \u001b[0mstrategy\u001b[0m\u001b[1;33m=\u001b[0m\u001b[1;34m'mean'\u001b[0m\u001b[1;33m)\u001b[0m\u001b[1;33m\u001b[0m\u001b[1;33m\u001b[0m\u001b[0m\n",
      "\u001b[1;31mAttributeError\u001b[0m: 'list' object has no attribute 'isnull'"
     ]
    }
   ],
   "source": [
    "import numpy as np\n",
    "from sklearn.impute import SimpleImputer\n",
    "data = [[7, 2, 3], [4, np.nan, 6], [10, 5, 9]]\n",
    "print(data)\n",
    "data.isnull().sum()\n",
    "\n",
    "imp_mean = SimpleImputer(missing_values=np.nan, strategy='mean')\n",
    "imp_mean.fit(data)\n",
    "\n",
    "X = [[np.nan, 2, 3], [4, np.nan, 6], [10, np.nan, 9]]\n",
    "\n",
    "print(imp_mean.transform(X))"
   ]
  },
  {
   "cell_type": "markdown",
   "metadata": {},
   "source": [
    "**Simple imputer with horse-colic dataset**"
   ]
  },
  {
   "cell_type": "code",
   "execution_count": 21,
   "metadata": {},
   "outputs": [
    {
     "name": "stdout",
     "output_type": "stream",
     "text": [
      "Missing: 1605\n",
      "Missing: 0\n"
     ]
    }
   ],
   "source": [
    "import numpy as np\n",
    "from numpy import isnan\n",
    "from pandas import read_csv\n",
    "from sklearn.impute import SimpleImputer\n",
    "\n",
    "# load dataset\n",
    "dataframe = read_csv('data/horse-colic.csv', header=None, na_values='?') \n",
    "\n",
    "# split into input and output elements\n",
    "data = dataframe.values\n",
    "ix = [i for i in range(data.shape[1]) if i != 23]\n",
    "X, y = data[:, ix], data[:, 23]\n",
    "\n",
    "# summarize total missing\n",
    "print('Missing: %d' % sum(isnan(X).flatten())) \n",
    "\n",
    "# define imputer\n",
    "imputer = SimpleImputer(strategy='mean')\n",
    "\n",
    "# fit on the dataset\n",
    "imputer.fit(X)\n",
    "\n",
    "# transform the dataset\n",
    "X_trans = imputer.transform(X)\n",
    "\n",
    "# summarize total missing\n",
    "print('Missing: %d' % sum(isnan(X_trans).flatten()))"
   ]
  },
  {
   "cell_type": "markdown",
   "metadata": {},
   "source": [
    "**kNN imputation**"
   ]
  },
  {
   "cell_type": "code",
   "execution_count": 22,
   "metadata": {},
   "outputs": [
    {
     "name": "stdout",
     "output_type": "stream",
     "text": [
      "Missing: 1605\n",
      "Missing: 0\n"
     ]
    }
   ],
   "source": [
    "from numpy import isnan\n",
    "from pandas import read_csv\n",
    "from sklearn.impute import KNNImputer\n",
    "\n",
    "# load dataset\n",
    "dataframe = read_csv('data/horse-colic.csv', header=None, na_values='?') \n",
    "\n",
    "# split into input and output elements\n",
    "data = dataframe.values\n",
    "ix = [i for i in range(data.shape[1]) if i != 23]\n",
    "X, y = data[:, ix], data[:, 23]\n",
    "\n",
    "# summarize total missing\n",
    "print('Missing: %d' % sum(isnan(X).flatten()))\n",
    "\n",
    "# define imputer\n",
    "imputer = KNNImputer()\n",
    "\n",
    "# fit on the dataset\n",
    "imputer.fit(X)\n",
    "\n",
    "# transform the dataset\n",
    "Xtrans = imputer.transform(X)\n",
    "\n",
    "# summarize total missing\n",
    "print('Missing: %d' % sum(isnan(Xtrans).flatten()))"
   ]
  },
  {
   "cell_type": "markdown",
   "metadata": {},
   "source": [
    "# 3. Data Transformations\n",
    "**ML models learn a mapping from input variables to an output variable**\n",
    "\n",
    "\n",
    "## 3.1 Encoding\n",
    "\n",
    "URL https://contrib.scikit-learn.org/category_encoders/\n",
    "\n",
    "**Poznamka: Python 3.8 FutureWarning is OK for the library category_encoders**"
   ]
  },
  {
   "cell_type": "markdown",
   "metadata": {},
   "source": [
    "### 3.1.1 Ordinal Encoding or Label Encoding"
   ]
  },
  {
   "cell_type": "code",
   "execution_count": null,
   "metadata": {},
   "outputs": [],
   "source": [
    "import pandas as pd\n",
    "import category_encoders as ce\n",
    "\n",
    "data = pd.DataFrame({\n",
    "    'city' : ['delhi', 'hyderabad', 'delhi', 'delhi', 'gurgaon', 'hyderabad']\n",
    "})\n",
    "\n",
    "# create an object of the OrdinalEncoding\n",
    "ce_ordinal = ce.OrdinalEncoder(cols=['city'])\n",
    "\n",
    "# fit and transform and you will get the encoded data\n",
    "ce_ordinal.fit_transform(data)"
   ]
  },
  {
   "cell_type": "markdown",
   "metadata": {},
   "source": [
    "### 3.1.2 One Hot Encoding"
   ]
  },
  {
   "cell_type": "code",
   "execution_count": null,
   "metadata": {},
   "outputs": [],
   "source": [
    "import pandas as pd\n",
    "import category_encoders as ce\n",
    "\n",
    "data = pd.DataFrame({\n",
    "    'gender' : ['M', 'F', 'M', 'F', 'F']\n",
    "})\n",
    "\n",
    "# create an object of the OneHotEncoder\n",
    "ce_OHE = ce.OneHotEncoder(cols=['gender'])\n",
    "\n",
    "# fit and transform and you will get the encoded data\n",
    "ce_OHE.fit_transform(data)"
   ]
  },
  {
   "cell_type": "markdown",
   "metadata": {},
   "source": [
    "### 3.1.3 Binary Encoding"
   ]
  },
  {
   "cell_type": "code",
   "execution_count": null,
   "metadata": {},
   "outputs": [],
   "source": [
    "import pandas as pd\n",
    "import category_encoders as ce\n",
    "\n",
    "# make some data\n",
    "data = pd.DataFrame({\n",
    "    'class' : ['a', 'b', 'a', 'b', 'd', 'e', 'd', 'f', 'g', 'h', 'h', 'k', 'h', 'i', 's', 'p', 'z']})\n",
    "\n",
    "# create object of BinaryEncoder\n",
    "ce_binary = ce.BinaryEncoder(cols = ['class'])\n",
    "\n",
    "# fit and transform and you will get the encoded data\n",
    "ce_binary.fit_transform(data)"
   ]
  },
  {
   "cell_type": "markdown",
   "metadata": {},
   "source": [
    "### 3.1.4 BaseN Encoding"
   ]
  },
  {
   "cell_type": "code",
   "execution_count": null,
   "metadata": {},
   "outputs": [],
   "source": [
    "import pandas as pd\n",
    "import category_encoders as ce\n",
    "\n",
    "# make some data\n",
    "data = pd.DataFrame({\n",
    "    'class' : ['a', 'b', 'a', 'b', 'd', 'e', 'd', 'f', 'g', 'h', 'h', 'k', 'h', 'i', 's', 'p', 'z']})\n",
    "\n",
    "# create an object of the BaseNEncoder\n",
    "ce_baseN4 = ce.BaseNEncoder(cols=['class'], base=4)\n",
    "\n",
    "# fit and transform and you will get the encoded data\n",
    "ce_baseN4.fit_transform(data)"
   ]
  },
  {
   "cell_type": "markdown",
   "metadata": {},
   "source": [
    "### 3.1.5 Hashing (md5)"
   ]
  },
  {
   "cell_type": "code",
   "execution_count": null,
   "metadata": {},
   "outputs": [],
   "source": [
    "import pandas as pd\n",
    "import category_encoders as ce\n",
    "\n",
    "data = pd.DataFrame({\n",
    "    'color' : ['Yellow', 'Black', 'Green', 'Blue', 'Blue', 'Green', 'Black', 'Blue']\n",
    "})\n",
    "\n",
    "# create an object of the HashingEncoder\n",
    "ce_HE = ce.HashingEncoder(cols=['color'],n_components=5)\n",
    "\n",
    "# fit and transform and you will get the encoded data\n",
    "ce_HE.fit_transform(data)"
   ]
  },
  {
   "cell_type": "markdown",
   "metadata": {},
   "source": [
    "### 3.1.6 Target Encoding"
   ]
  },
  {
   "cell_type": "code",
   "execution_count": null,
   "metadata": {},
   "outputs": [],
   "source": [
    "import pandas as pd\n",
    "import category_encoders as ce\n",
    "\n",
    "data = pd.DataFrame({\n",
    "    'color' : ['Blue', 'Black', 'Black','Blue', 'Blue'],\n",
    "    'outcome' : [1,      2,        1,     1,      2,]\n",
    "})\n",
    "\n",
    "# column to perform encoding\n",
    "X = data['color']\n",
    "Y = data['outcome']\n",
    "\n",
    "# create an object of the TargetEncoder\n",
    "ce_TE = ce.TargetEncoder(cols=['color'])\n",
    "\n",
    "# fit and transform and you will get the encoded data\n",
    "ce_TE.fit_transform(X,Y)"
   ]
  },
  {
   "cell_type": "markdown",
   "metadata": {},
   "source": [
    "### 3.1.7 Leave One Out"
   ]
  },
  {
   "cell_type": "code",
   "execution_count": null,
   "metadata": {},
   "outputs": [],
   "source": [
    "import pandas as pd\n",
    "import category_encoders as ce\n",
    "\n",
    "data = pd.DataFrame({\n",
    "    'color' : ['Blue', 'Black', 'Black','Blue', 'Blue'],\n",
    "    'outcome' : [2,      1,        1,     1,      2]\n",
    "})\n",
    "\n",
    "# column to perform encoding\n",
    "X = data['color']\n",
    "Y = data['outcome']\n",
    "\n",
    "# create an object of the TargetEncoder\n",
    "ce_TE = ce.LeaveOneOutEncoder(cols=['color'])\n",
    "\n",
    "# fit and transform and you will get the encoded data\n",
    "ce_TE.fit_transform(X,Y)"
   ]
  },
  {
   "cell_type": "markdown",
   "metadata": {},
   "source": [
    "## 3.2 Data scaling\n",
    "\n",
    "- The scale and distribution of the data drawn from the domain may be different for each variable\n",
    "- This can lead to unstable or poor performance of models\n",
    "- This can lead to increasing sensitivity to inputs\n",
    "- This can lead to higher generalization error\n",
    "\n",
    "\n",
    "**3.2.1 Data Normalization**\n",
    "\n",
    "## $x_{normalization}=\\frac{x-x_{min}}{x_{max} - x_{min}}$\n",
    "\n",
    "URL https://scikit-learn.org/stable/modules/generated/sklearn.preprocessing.MinMaxScaler.html"
   ]
  },
  {
   "cell_type": "code",
   "execution_count": null,
   "metadata": {},
   "outputs": [],
   "source": [
    "from numpy import asarray\n",
    "from sklearn.preprocessing import MinMaxScaler \n",
    "\n",
    "# define data\n",
    "data = asarray([[100, 0.001],\n",
    "[8, 0.05], [50, 0.005], [88, 0.07], [4, 0.1]])\n",
    "print(data)\n",
    "\n",
    "# define min max scaler\n",
    "scaler = MinMaxScaler()\n",
    "\n",
    "# transform data\n",
    "scaled = scaler.fit_transform(data) \n",
    "print(scaled)"
   ]
  },
  {
   "cell_type": "markdown",
   "metadata": {},
   "source": [
    "**3.2.2 Data Standardization**\n",
    "## $x_{standardized} = \\frac{x -\\mu}{\\sigma}$\n",
    "where \n",
    "- $\\mu$ is the mean  of $x$\n",
    "- $\\sigma$ is the standard deviation of $x$\n",
    "\n",
    "URL https://scikit-learn.org/stable/modules/generated/sklearn.preprocessing.StandardScaler.html"
   ]
  },
  {
   "cell_type": "code",
   "execution_count": null,
   "metadata": {},
   "outputs": [],
   "source": [
    "from numpy import asarray\n",
    "from sklearn.preprocessing import StandardScaler \n",
    "\n",
    "# define data\n",
    "data = asarray([[100, 0.001], [8, 0.05], [50, 0.005], [88, 0.07], [4, 0.1]])\n",
    "print(data)\n",
    "\n",
    "# define standard scaler\n",
    "scaler = StandardScaler()\n",
    "\n",
    "# transform data\n",
    "scaled = scaler.fit_transform(data) \n",
    "print(scaled)"
   ]
  },
  {
   "cell_type": "markdown",
   "metadata": {},
   "source": [
    "**3.2.3 Robust Scaling**\n",
    "\n",
    "Robust scaler removes the median and scales the data according to the quantile range (defaults to IQR: Interquartile Range). The IQR is the range between the 1st quartile (25th quantile) and the 3rd quartile (75th quantile).\n",
    "\n",
    "## $x_{robust} = \\frac{x - median}{p_{75} - p_{25}}$\n",
    "\n",
    "where \n",
    "- $median$ is the median of $x$\n",
    "- $p_{25}$ and $p_{75}$ are 25th and 75th interquartile range values (IQR).\n",
    "\n",
    "URL https://scikit-learn.org/stable/modules/generated/sklearn.preprocessing.RobustScaler.html"
   ]
  },
  {
   "cell_type": "code",
   "execution_count": null,
   "metadata": {},
   "outputs": [],
   "source": [
    "from sklearn.preprocessing import RobustScaler\n",
    "\n",
    "# define data\n",
    "X = [[ 1., -2.,  2.],\n",
    "     [ -2.,  1.,  3.],\n",
    "     [ 4.,  1., -2.]]\n",
    "print(X)\n",
    "\n",
    "# define robust scaler\n",
    "scaler = RobustScaler()\n",
    "\n",
    "# transform data\n",
    "scaled = RobustScaler().fit_transform(X)\n",
    "print(scaled)"
   ]
  },
  {
   "cell_type": "markdown",
   "metadata": {},
   "source": [
    "## 3.3 Making data distributions more Gaussian (normal)\n",
    "\n",
    "Many ML algorithms perform better or when features are on a relatively similar to normally (Gaussian) distributed.\n",
    "\n",
    "### 3.3.1 Power Transformer \n",
    "- Replacing the data with the log, square root, or inverse to remove skew\n",
    "- Yeo-Johnson transform (default): works with positive and negative values\n",
    "- Box-Cox transform: only works with strictly positive values\n",
    "- λ = −1.0 is a reciprocal transform.\n",
    "- λ = −0.5 is a reciprocal square root transform.  \n",
    "- λ = 0.0 is a log transform.\n",
    "- λ = 0.5 is a square root transform.\n",
    "- λ = 1.0 is no transform.\n",
    "\n",
    "**Random data**"
   ]
  },
  {
   "cell_type": "code",
   "execution_count": null,
   "metadata": {},
   "outputs": [],
   "source": [
    "from numpy import exp\n",
    "from numpy.random import randn\n",
    "from sklearn.preprocessing import PowerTransformer\n",
    "from matplotlib import pyplot\n",
    "\n",
    "# generate gaussian data sample\n",
    "data = randn(1000)\n",
    "\n",
    "# add a skew to the data distribution\n",
    "data = exp(data)\n",
    "\n",
    "# histogram of the raw data with a skew\n",
    "pyplot.hist(data, bins=25)\n",
    "\n",
    "# reshape data to have rows and columns\n",
    "data = data.reshape((len(data),1))\n",
    "\n",
    "# power transform the raw data\n",
    "power = PowerTransformer(method='yeo-johnson', standardize=True) \n",
    "data_trans = power.fit_transform(data)\n",
    " \n",
    "# histogram of the transformed data\n",
    "pyplot.hist(data_trans, bins=25) "
   ]
  },
  {
   "cell_type": "markdown",
   "metadata": {},
   "source": [
    "**Sonar data**"
   ]
  },
  {
   "cell_type": "code",
   "execution_count": null,
   "metadata": {},
   "outputs": [],
   "source": [
    "from matplotlib import pyplot as plt\n",
    "from pandas import read_csv\n",
    "from pandas import DataFrame\n",
    "from sklearn.preprocessing import PowerTransformer \n",
    "\n",
    "plt.rcParams['figure.figsize'] = [15, 10]\n",
    "\n",
    "# Load dataset\n",
    "dataset = read_csv('data/sonar.csv', header=None)\n",
    "\n",
    "# retrieve just the numeric input values\n",
    "data = dataset.values[:, :-1]\n",
    "\n",
    "# perform a yeo-johnson transform of the dataset \n",
    "pt = PowerTransformer(method='yeo-johnson')\n",
    "data = pt.fit_transform(data)\n",
    "\n",
    "# convert the array back to a dataframe\n",
    "dataset = DataFrame(data)\n",
    "\n",
    "# histograms of the variables\n",
    "fig = dataset.hist() "
   ]
  },
  {
   "cell_type": "markdown",
   "metadata": {},
   "source": [
    "### 3.3.2 Quantile Transformer\n",
    "\n",
    "- Transform features using quantiles information.\n",
    "- This method transforms the features to follow a uniform or a normal distribution. \n",
    "- Therefore, for a given feature, this transformation tends to spread out the most frequent values. \n",
    "- It also reduces the impact of (marginal) outliers"
   ]
  },
  {
   "cell_type": "code",
   "execution_count": null,
   "metadata": {},
   "outputs": [],
   "source": [
    "from matplotlib import pyplot\n",
    "import numpy as np\n",
    "from sklearn.preprocessing import QuantileTransformer\n",
    "\n",
    "rng = np.random.RandomState(0)\n",
    "X = np.sort(rng.normal(loc=0.5, scale=0.25, size=(100, 1)), axis=0)\n",
    "pyplot.hist(X, bins=10)\n",
    "\n",
    "qt = QuantileTransformer(n_quantiles=10, random_state=0)\n",
    "X_t = qt.fit_transform(X)\n",
    "pyplot.hist(X_t, bins=10)"
   ]
  },
  {
   "cell_type": "markdown",
   "metadata": {},
   "source": [
    "# References\n",
    "- [Data Preparation for Machine Learning](https://machinelearningmastery.com/data-preparation-for-machine-learning/)\n",
    "- https://scikit-learn.org/stable/modules/classes.html#module-sklearn.preprocessing"
   ]
  }
 ],
 "metadata": {
  "kernelspec": {
   "display_name": "Python 3",
   "language": "python",
   "name": "python3"
  },
  "language_info": {
   "codemirror_mode": {
    "name": "ipython",
    "version": 3
   },
   "file_extension": ".py",
   "mimetype": "text/x-python",
   "name": "python",
   "nbconvert_exporter": "python",
   "pygments_lexer": "ipython3",
   "version": "3.8.4"
  }
 },
 "nbformat": 4,
 "nbformat_minor": 4
}
